{
 "cells": [
  {
   "cell_type": "raw",
   "id": "96025254",
   "metadata": {},
   "source": [
    "1.for loop is used for n number execution with same code.\n",
    "\n",
    "for items in collection:\n",
    "    print(items)\n",
    "\n",
    "for i in l:\n",
    "    print(i)\n",
    "    \n",
    "for list_samples in list:\n",
    "    print(list_samples)"
   ]
  },
  {
   "cell_type": "code",
   "execution_count": 2,
   "id": "a6ccc080",
   "metadata": {},
   "outputs": [],
   "source": [
    "l=[12,1,58,154,9,2,3,6,7,99,601]"
   ]
  },
  {
   "cell_type": "code",
   "execution_count": 3,
   "id": "57a97706",
   "metadata": {},
   "outputs": [
    {
     "data": {
      "text/plain": [
       "2"
      ]
     },
     "execution_count": 3,
     "metadata": {},
     "output_type": "execute_result"
    }
   ],
   "source": [
    "l[5]"
   ]
  },
  {
   "cell_type": "code",
   "execution_count": 4,
   "id": "9293d016",
   "metadata": {},
   "outputs": [],
   "source": [
    "l[5]=101"
   ]
  },
  {
   "cell_type": "code",
   "execution_count": 5,
   "id": "ff7e9ec4",
   "metadata": {},
   "outputs": [
    {
     "data": {
      "text/plain": [
       "[12, 1, 58, 154, 9, 101, 3, 6, 7, 99, 601]"
      ]
     },
     "execution_count": 5,
     "metadata": {},
     "output_type": "execute_result"
    }
   ],
   "source": [
    "l"
   ]
  },
  {
   "cell_type": "code",
   "execution_count": 6,
   "id": "a67247a5",
   "metadata": {},
   "outputs": [
    {
     "name": "stdout",
     "output_type": "stream",
     "text": [
      "{0, 1, 2}\n",
      "{0, 1, 2}\n",
      "{0, 1, 2}\n"
     ]
    }
   ],
   "source": [
    "d={0,1,2}\n",
    "for i in d:\n",
    "    print(d)\n"
   ]
  },
  {
   "cell_type": "raw",
   "id": "9efeec19",
   "metadata": {},
   "source": [
    "1.for loop using fuction"
   ]
  },
  {
   "cell_type": "code",
   "execution_count": 7,
   "id": "b802aa43",
   "metadata": {},
   "outputs": [
    {
     "name": "stdout",
     "output_type": "stream",
     "text": [
      "12 1 58 154 9 101 3 6 7 99 601 "
     ]
    }
   ],
   "source": [
    "for i in l:\n",
    "    print(i,end=' ')"
   ]
  },
  {
   "cell_type": "code",
   "execution_count": 1,
   "id": "c453a6ee",
   "metadata": {
    "scrolled": true
   },
   "outputs": [
    {
     "name": "stdout",
     "output_type": "stream",
     "text": [
      "1 2 3 4 5 6 "
     ]
    }
   ],
   "source": [
    "l = [1,2,3,4,5,6]\n",
    "def returns_list(sample,*i):\n",
    "    \"function returns the list\"\n",
    "    for i in sample:\n",
    "        try:\n",
    "            print(i, end=' ')\n",
    "        except Exception as e:\n",
    "            print(e)\n",
    "returns_list(l)"
   ]
  },
  {
   "cell_type": "code",
   "execution_count": 64,
   "id": "5ca1bdea",
   "metadata": {},
   "outputs": [
    {
     "name": "stdout",
     "output_type": "stream",
     "text": [
      "[1] [2] [3] [4] [5] "
     ]
    }
   ],
   "source": [
    "def returns_list(List,*i):\n",
    "    \"function returns the list\"\n",
    "    for i in List:\n",
    "        try:\n",
    "            print([i],end=' ')\n",
    "        except Exception as e:\n",
    "            print(e)\n",
    "returns_list(List=[1,2,3,4,5])"
   ]
  },
  {
   "cell_type": "code",
   "execution_count": 68,
   "id": "c1140381",
   "metadata": {},
   "outputs": [
    {
     "name": "stdout",
     "output_type": "stream",
     "text": [
      "1 2 3 hello 5.2 "
     ]
    }
   ],
   "source": [
    "def returns_list(List,*i):\n",
    "    \"function returns the list\"\n",
    "    for i in List:\n",
    "        try:\n",
    "            print(i,end=' ')\n",
    "        except Exception as e:\n",
    "            print(e)\n",
    "returns_list(List=[1,2,3,\"hello\",5.2])"
   ]
  },
  {
   "cell_type": "code",
   "execution_count": 69,
   "id": "7c37e91d",
   "metadata": {},
   "outputs": [
    {
     "ename": "TypeError",
     "evalue": "returns_list() got an unexpected keyword argument 'name'",
     "output_type": "error",
     "traceback": [
      "\u001b[1;31m---------------------------------------------------------------------------\u001b[0m",
      "\u001b[1;31mTypeError\u001b[0m                                 Traceback (most recent call last)",
      "Input \u001b[1;32mIn [69]\u001b[0m, in \u001b[0;36m<cell line: 1>\u001b[1;34m()\u001b[0m\n\u001b[1;32m----> 1\u001b[0m \u001b[43mreturns_list\u001b[49m\u001b[43m(\u001b[49m\u001b[43mname\u001b[49m\u001b[38;5;241;43m=\u001b[39;49m\u001b[43m[\u001b[49m\u001b[38;5;241;43m15\u001b[39;49m\u001b[43m,\u001b[49m\u001b[38;5;241;43m6\u001b[39;49m\u001b[43m,\u001b[49m\u001b[38;5;241;43m8\u001b[39;49m\u001b[43m,\u001b[49m\u001b[38;5;241;43m6\u001b[39;49m\u001b[43m]\u001b[49m\u001b[43m)\u001b[49m\n",
      "\u001b[1;31mTypeError\u001b[0m: returns_list() got an unexpected keyword argument 'name'"
     ]
    }
   ],
   "source": [
    "returns_list(name=[15,6,8,6])"
   ]
  },
  {
   "cell_type": "raw",
   "id": "36a87f51",
   "metadata": {},
   "source": [
    "2.Break continue is used in 'for loop'"
   ]
  },
  {
   "cell_type": "code",
   "execution_count": 70,
   "id": "79279d79",
   "metadata": {},
   "outputs": [
    {
     "data": {
      "text/plain": [
       "[12, 1, 58, 154, 9, 101, 3, 6, 7, 99, 601]"
      ]
     },
     "execution_count": 70,
     "metadata": {},
     "output_type": "execute_result"
    }
   ],
   "source": [
    "l"
   ]
  },
  {
   "cell_type": "code",
   "execution_count": 74,
   "id": "bca0834f",
   "metadata": {},
   "outputs": [
    {
     "name": "stdout",
     "output_type": "stream",
     "text": [
      "12 1 58 154 9 101 3 6 7 99 601 "
     ]
    }
   ],
   "source": [
    "for i in l:\n",
    "    \"function return list upto value 2 only\"\n",
    "    print(i,end=' ')\n",
    "    if i == 2:\n",
    "        break"
   ]
  },
  {
   "cell_type": "code",
   "execution_count": 83,
   "id": "f47131a5",
   "metadata": {},
   "outputs": [
    {
     "name": "stdout",
     "output_type": "stream",
     "text": [
      "1 2 bye hello "
     ]
    }
   ],
   "source": [
    "def items(list,*items):    \n",
    "    \"function return list upto value 2 only\"\n",
    "    for i in list:\n",
    "        try:\n",
    "            print(i,end=' ')\n",
    "            if i ==\"hello\" :            \n",
    "                break\n",
    "        except Exception as e:\n",
    "             print(e) \n",
    "    \n",
    "items(list=[1,2,\"bye\",\"hello\",5.2])"
   ]
  },
  {
   "cell_type": "code",
   "execution_count": 84,
   "id": "7e64b274",
   "metadata": {},
   "outputs": [
    {
     "ename": "TypeError",
     "evalue": "items() got an unexpected keyword argument 'lis'",
     "output_type": "error",
     "traceback": [
      "\u001b[1;31m---------------------------------------------------------------------------\u001b[0m",
      "\u001b[1;31mTypeError\u001b[0m                                 Traceback (most recent call last)",
      "Input \u001b[1;32mIn [84]\u001b[0m, in \u001b[0;36m<cell line: 1>\u001b[1;34m()\u001b[0m\n\u001b[1;32m----> 1\u001b[0m \u001b[43mitems\u001b[49m\u001b[43m(\u001b[49m\u001b[43mlis\u001b[49m\u001b[38;5;241;43m=\u001b[39;49m\u001b[43m[\u001b[49m\u001b[38;5;241;43m1\u001b[39;49m\u001b[43m,\u001b[49m\u001b[38;5;124;43m\"\u001b[39;49m\u001b[38;5;124;43mbye\u001b[39;49m\u001b[38;5;124;43m\"\u001b[39;49m\u001b[43m,\u001b[49m\u001b[38;5;124;43m\"\u001b[39;49m\u001b[38;5;124;43mhello\u001b[39;49m\u001b[38;5;124;43m\"\u001b[39;49m\u001b[43m,\u001b[49m\u001b[38;5;241;43m5.2\u001b[39;49m\u001b[43m]\u001b[49m\u001b[43m)\u001b[49m\n",
      "\u001b[1;31mTypeError\u001b[0m: items() got an unexpected keyword argument 'lis'"
     ]
    }
   ],
   "source": [
    "items(lis=[1,\"bye\",\"hello\",5.2])"
   ]
  },
  {
   "cell_type": "code",
   "execution_count": null,
   "id": "b44aea17",
   "metadata": {},
   "outputs": [],
   "source": []
  }
 ],
 "metadata": {
  "kernelspec": {
   "display_name": "Python 3.11.0 64-bit",
   "language": "python",
   "name": "python3"
  },
  "language_info": {
   "codemirror_mode": {
    "name": "ipython",
    "version": 3
   },
   "file_extension": ".py",
   "mimetype": "text/x-python",
   "name": "python",
   "nbconvert_exporter": "python",
   "pygments_lexer": "ipython3",
   "version": "3.11.0"
  },
  "vscode": {
   "interpreter": {
    "hash": "edbdea8d1ce63b4da6b42a663b31f068b3e5f2a8e9628512d9624ef21f90c848"
   }
  }
 },
 "nbformat": 4,
 "nbformat_minor": 5
}

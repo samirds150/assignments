{
 "cells": [
  {
   "cell_type": "markdown",
   "id": "febd4441",
   "metadata": {},
   "source": [
    "importing libraries"
   ]
  },
  {
   "cell_type": "code",
   "execution_count": 1,
   "id": "488c567c",
   "metadata": {},
   "outputs": [],
   "source": [
    "import pandas as pd \n",
    "import numpy as np\n",
    "import matplotlib.pyplot as plt"
   ]
  },
  {
   "cell_type": "code",
   "execution_count": 2,
   "id": "a59adc4c",
   "metadata": {},
   "outputs": [
    {
     "ename": "FileNotFoundError",
     "evalue": "[Errno 2] No such file or directory: 'C:\\\\Users\\\\LENOVO\\\\CAR DETAILS FROM CAR DEKHO.csv'",
     "output_type": "error",
     "traceback": [
      "\u001b[1;31m---------------------------------------------------------------------------\u001b[0m",
      "\u001b[1;31mFileNotFoundError\u001b[0m                         Traceback (most recent call last)",
      "Cell \u001b[1;32mIn [2], line 1\u001b[0m\n\u001b[1;32m----> 1\u001b[0m car \u001b[39m=\u001b[39m pd\u001b[39m.\u001b[39;49mread_csv(\u001b[39m'\u001b[39;49m\u001b[39mC:\u001b[39;49m\u001b[39m\\\\\u001b[39;49;00m\u001b[39mUsers\u001b[39;49m\u001b[39m\\\\\u001b[39;49;00m\u001b[39mLENOVO\u001b[39;49m\u001b[39m\\\\\u001b[39;49;00m\u001b[39mCAR DETAILS FROM CAR DEKHO.csv\u001b[39;49m\u001b[39m'\u001b[39;49m)\n",
      "File \u001b[1;32mc:\\Users\\SAMIR\\AppData\\Local\\Programs\\Python\\Python311\\Lib\\site-packages\\pandas\\util\\_decorators.py:211\u001b[0m, in \u001b[0;36mdeprecate_kwarg.<locals>._deprecate_kwarg.<locals>.wrapper\u001b[1;34m(*args, **kwargs)\u001b[0m\n\u001b[0;32m    209\u001b[0m     \u001b[39melse\u001b[39;00m:\n\u001b[0;32m    210\u001b[0m         kwargs[new_arg_name] \u001b[39m=\u001b[39m new_arg_value\n\u001b[1;32m--> 211\u001b[0m \u001b[39mreturn\u001b[39;00m func(\u001b[39m*\u001b[39;49margs, \u001b[39m*\u001b[39;49m\u001b[39m*\u001b[39;49mkwargs)\n",
      "File \u001b[1;32mc:\\Users\\SAMIR\\AppData\\Local\\Programs\\Python\\Python311\\Lib\\site-packages\\pandas\\util\\_decorators.py:331\u001b[0m, in \u001b[0;36mdeprecate_nonkeyword_arguments.<locals>.decorate.<locals>.wrapper\u001b[1;34m(*args, **kwargs)\u001b[0m\n\u001b[0;32m    325\u001b[0m \u001b[39mif\u001b[39;00m \u001b[39mlen\u001b[39m(args) \u001b[39m>\u001b[39m num_allow_args:\n\u001b[0;32m    326\u001b[0m     warnings\u001b[39m.\u001b[39mwarn(\n\u001b[0;32m    327\u001b[0m         msg\u001b[39m.\u001b[39mformat(arguments\u001b[39m=\u001b[39m_format_argument_list(allow_args)),\n\u001b[0;32m    328\u001b[0m         \u001b[39mFutureWarning\u001b[39;00m,\n\u001b[0;32m    329\u001b[0m         stacklevel\u001b[39m=\u001b[39mfind_stack_level(),\n\u001b[0;32m    330\u001b[0m     )\n\u001b[1;32m--> 331\u001b[0m \u001b[39mreturn\u001b[39;00m func(\u001b[39m*\u001b[39;49margs, \u001b[39m*\u001b[39;49m\u001b[39m*\u001b[39;49mkwargs)\n",
      "File \u001b[1;32mc:\\Users\\SAMIR\\AppData\\Local\\Programs\\Python\\Python311\\Lib\\site-packages\\pandas\\io\\parsers\\readers.py:950\u001b[0m, in \u001b[0;36mread_csv\u001b[1;34m(filepath_or_buffer, sep, delimiter, header, names, index_col, usecols, squeeze, prefix, mangle_dupe_cols, dtype, engine, converters, true_values, false_values, skipinitialspace, skiprows, skipfooter, nrows, na_values, keep_default_na, na_filter, verbose, skip_blank_lines, parse_dates, infer_datetime_format, keep_date_col, date_parser, dayfirst, cache_dates, iterator, chunksize, compression, thousands, decimal, lineterminator, quotechar, quoting, doublequote, escapechar, comment, encoding, encoding_errors, dialect, error_bad_lines, warn_bad_lines, on_bad_lines, delim_whitespace, low_memory, memory_map, float_precision, storage_options)\u001b[0m\n\u001b[0;32m    935\u001b[0m kwds_defaults \u001b[39m=\u001b[39m _refine_defaults_read(\n\u001b[0;32m    936\u001b[0m     dialect,\n\u001b[0;32m    937\u001b[0m     delimiter,\n\u001b[1;32m   (...)\u001b[0m\n\u001b[0;32m    946\u001b[0m     defaults\u001b[39m=\u001b[39m{\u001b[39m\"\u001b[39m\u001b[39mdelimiter\u001b[39m\u001b[39m\"\u001b[39m: \u001b[39m\"\u001b[39m\u001b[39m,\u001b[39m\u001b[39m\"\u001b[39m},\n\u001b[0;32m    947\u001b[0m )\n\u001b[0;32m    948\u001b[0m kwds\u001b[39m.\u001b[39mupdate(kwds_defaults)\n\u001b[1;32m--> 950\u001b[0m \u001b[39mreturn\u001b[39;00m _read(filepath_or_buffer, kwds)\n",
      "File \u001b[1;32mc:\\Users\\SAMIR\\AppData\\Local\\Programs\\Python\\Python311\\Lib\\site-packages\\pandas\\io\\parsers\\readers.py:605\u001b[0m, in \u001b[0;36m_read\u001b[1;34m(filepath_or_buffer, kwds)\u001b[0m\n\u001b[0;32m    602\u001b[0m _validate_names(kwds\u001b[39m.\u001b[39mget(\u001b[39m\"\u001b[39m\u001b[39mnames\u001b[39m\u001b[39m\"\u001b[39m, \u001b[39mNone\u001b[39;00m))\n\u001b[0;32m    604\u001b[0m \u001b[39m# Create the parser.\u001b[39;00m\n\u001b[1;32m--> 605\u001b[0m parser \u001b[39m=\u001b[39m TextFileReader(filepath_or_buffer, \u001b[39m*\u001b[39;49m\u001b[39m*\u001b[39;49mkwds)\n\u001b[0;32m    607\u001b[0m \u001b[39mif\u001b[39;00m chunksize \u001b[39mor\u001b[39;00m iterator:\n\u001b[0;32m    608\u001b[0m     \u001b[39mreturn\u001b[39;00m parser\n",
      "File \u001b[1;32mc:\\Users\\SAMIR\\AppData\\Local\\Programs\\Python\\Python311\\Lib\\site-packages\\pandas\\io\\parsers\\readers.py:1442\u001b[0m, in \u001b[0;36mTextFileReader.__init__\u001b[1;34m(self, f, engine, **kwds)\u001b[0m\n\u001b[0;32m   1439\u001b[0m     \u001b[39mself\u001b[39m\u001b[39m.\u001b[39moptions[\u001b[39m\"\u001b[39m\u001b[39mhas_index_names\u001b[39m\u001b[39m\"\u001b[39m] \u001b[39m=\u001b[39m kwds[\u001b[39m\"\u001b[39m\u001b[39mhas_index_names\u001b[39m\u001b[39m\"\u001b[39m]\n\u001b[0;32m   1441\u001b[0m \u001b[39mself\u001b[39m\u001b[39m.\u001b[39mhandles: IOHandles \u001b[39m|\u001b[39m \u001b[39mNone\u001b[39;00m \u001b[39m=\u001b[39m \u001b[39mNone\u001b[39;00m\n\u001b[1;32m-> 1442\u001b[0m \u001b[39mself\u001b[39m\u001b[39m.\u001b[39m_engine \u001b[39m=\u001b[39m \u001b[39mself\u001b[39;49m\u001b[39m.\u001b[39;49m_make_engine(f, \u001b[39mself\u001b[39;49m\u001b[39m.\u001b[39;49mengine)\n",
      "File \u001b[1;32mc:\\Users\\SAMIR\\AppData\\Local\\Programs\\Python\\Python311\\Lib\\site-packages\\pandas\\io\\parsers\\readers.py:1735\u001b[0m, in \u001b[0;36mTextFileReader._make_engine\u001b[1;34m(self, f, engine)\u001b[0m\n\u001b[0;32m   1733\u001b[0m     \u001b[39mif\u001b[39;00m \u001b[39m\"\u001b[39m\u001b[39mb\u001b[39m\u001b[39m\"\u001b[39m \u001b[39mnot\u001b[39;00m \u001b[39min\u001b[39;00m mode:\n\u001b[0;32m   1734\u001b[0m         mode \u001b[39m+\u001b[39m\u001b[39m=\u001b[39m \u001b[39m\"\u001b[39m\u001b[39mb\u001b[39m\u001b[39m\"\u001b[39m\n\u001b[1;32m-> 1735\u001b[0m \u001b[39mself\u001b[39m\u001b[39m.\u001b[39mhandles \u001b[39m=\u001b[39m get_handle(\n\u001b[0;32m   1736\u001b[0m     f,\n\u001b[0;32m   1737\u001b[0m     mode,\n\u001b[0;32m   1738\u001b[0m     encoding\u001b[39m=\u001b[39;49m\u001b[39mself\u001b[39;49m\u001b[39m.\u001b[39;49moptions\u001b[39m.\u001b[39;49mget(\u001b[39m\"\u001b[39;49m\u001b[39mencoding\u001b[39;49m\u001b[39m\"\u001b[39;49m, \u001b[39mNone\u001b[39;49;00m),\n\u001b[0;32m   1739\u001b[0m     compression\u001b[39m=\u001b[39;49m\u001b[39mself\u001b[39;49m\u001b[39m.\u001b[39;49moptions\u001b[39m.\u001b[39;49mget(\u001b[39m\"\u001b[39;49m\u001b[39mcompression\u001b[39;49m\u001b[39m\"\u001b[39;49m, \u001b[39mNone\u001b[39;49;00m),\n\u001b[0;32m   1740\u001b[0m     memory_map\u001b[39m=\u001b[39;49m\u001b[39mself\u001b[39;49m\u001b[39m.\u001b[39;49moptions\u001b[39m.\u001b[39;49mget(\u001b[39m\"\u001b[39;49m\u001b[39mmemory_map\u001b[39;49m\u001b[39m\"\u001b[39;49m, \u001b[39mFalse\u001b[39;49;00m),\n\u001b[0;32m   1741\u001b[0m     is_text\u001b[39m=\u001b[39;49mis_text,\n\u001b[0;32m   1742\u001b[0m     errors\u001b[39m=\u001b[39;49m\u001b[39mself\u001b[39;49m\u001b[39m.\u001b[39;49moptions\u001b[39m.\u001b[39;49mget(\u001b[39m\"\u001b[39;49m\u001b[39mencoding_errors\u001b[39;49m\u001b[39m\"\u001b[39;49m, \u001b[39m\"\u001b[39;49m\u001b[39mstrict\u001b[39;49m\u001b[39m\"\u001b[39;49m),\n\u001b[0;32m   1743\u001b[0m     storage_options\u001b[39m=\u001b[39;49m\u001b[39mself\u001b[39;49m\u001b[39m.\u001b[39;49moptions\u001b[39m.\u001b[39;49mget(\u001b[39m\"\u001b[39;49m\u001b[39mstorage_options\u001b[39;49m\u001b[39m\"\u001b[39;49m, \u001b[39mNone\u001b[39;49;00m),\n\u001b[0;32m   1744\u001b[0m )\n\u001b[0;32m   1745\u001b[0m \u001b[39massert\u001b[39;00m \u001b[39mself\u001b[39m\u001b[39m.\u001b[39mhandles \u001b[39mis\u001b[39;00m \u001b[39mnot\u001b[39;00m \u001b[39mNone\u001b[39;00m\n\u001b[0;32m   1746\u001b[0m f \u001b[39m=\u001b[39m \u001b[39mself\u001b[39m\u001b[39m.\u001b[39mhandles\u001b[39m.\u001b[39mhandle\n",
      "File \u001b[1;32mc:\\Users\\SAMIR\\AppData\\Local\\Programs\\Python\\Python311\\Lib\\site-packages\\pandas\\io\\common.py:856\u001b[0m, in \u001b[0;36mget_handle\u001b[1;34m(path_or_buf, mode, encoding, compression, memory_map, is_text, errors, storage_options)\u001b[0m\n\u001b[0;32m    851\u001b[0m \u001b[39melif\u001b[39;00m \u001b[39misinstance\u001b[39m(handle, \u001b[39mstr\u001b[39m):\n\u001b[0;32m    852\u001b[0m     \u001b[39m# Check whether the filename is to be opened in binary mode.\u001b[39;00m\n\u001b[0;32m    853\u001b[0m     \u001b[39m# Binary mode does not support 'encoding' and 'newline'.\u001b[39;00m\n\u001b[0;32m    854\u001b[0m     \u001b[39mif\u001b[39;00m ioargs\u001b[39m.\u001b[39mencoding \u001b[39mand\u001b[39;00m \u001b[39m\"\u001b[39m\u001b[39mb\u001b[39m\u001b[39m\"\u001b[39m \u001b[39mnot\u001b[39;00m \u001b[39min\u001b[39;00m ioargs\u001b[39m.\u001b[39mmode:\n\u001b[0;32m    855\u001b[0m         \u001b[39m# Encoding\u001b[39;00m\n\u001b[1;32m--> 856\u001b[0m         handle \u001b[39m=\u001b[39m \u001b[39mopen\u001b[39;49m(\n\u001b[0;32m    857\u001b[0m             handle,\n\u001b[0;32m    858\u001b[0m             ioargs\u001b[39m.\u001b[39;49mmode,\n\u001b[0;32m    859\u001b[0m             encoding\u001b[39m=\u001b[39;49mioargs\u001b[39m.\u001b[39;49mencoding,\n\u001b[0;32m    860\u001b[0m             errors\u001b[39m=\u001b[39;49merrors,\n\u001b[0;32m    861\u001b[0m             newline\u001b[39m=\u001b[39;49m\u001b[39m\"\u001b[39;49m\u001b[39m\"\u001b[39;49m,\n\u001b[0;32m    862\u001b[0m         )\n\u001b[0;32m    863\u001b[0m     \u001b[39melse\u001b[39;00m:\n\u001b[0;32m    864\u001b[0m         \u001b[39m# Binary mode\u001b[39;00m\n\u001b[0;32m    865\u001b[0m         handle \u001b[39m=\u001b[39m \u001b[39mopen\u001b[39m(handle, ioargs\u001b[39m.\u001b[39mmode)\n",
      "\u001b[1;31mFileNotFoundError\u001b[0m: [Errno 2] No such file or directory: 'C:\\\\Users\\\\LENOVO\\\\CAR DETAILS FROM CAR DEKHO.csv'"
     ]
    }
   ],
   "source": [
    "car = pd.read_csv('C:\\\\Users\\\\LENOVO\\\\CAR DETAILS FROM CAR DEKHO.csv')"
   ]
  },
  {
   "cell_type": "code",
   "execution_count": 299,
   "id": "4615dc50",
   "metadata": {},
   "outputs": [],
   "source": [
    "car1 = pd.read_csv('C:\\\\Users\\\\LENOVO\\\\CAR DETAILS FROM CAR DEKHO.csv')"
   ]
  },
  {
   "cell_type": "code",
   "execution_count": 300,
   "id": "10c398ef",
   "metadata": {},
   "outputs": [],
   "source": [
    "car2 = pd.read_csv('C:\\\\Users\\\\LENOVO\\\\CAR DETAILS FROM CAR DEKHO.csv')"
   ]
  },
  {
   "cell_type": "code",
   "execution_count": 301,
   "id": "8139b42e",
   "metadata": {},
   "outputs": [
    {
     "data": {
      "text/html": [
       "<div>\n",
       "<style scoped>\n",
       "    .dataframe tbody tr th:only-of-type {\n",
       "        vertical-align: middle;\n",
       "    }\n",
       "\n",
       "    .dataframe tbody tr th {\n",
       "        vertical-align: top;\n",
       "    }\n",
       "\n",
       "    .dataframe thead th {\n",
       "        text-align: right;\n",
       "    }\n",
       "</style>\n",
       "<table border=\"1\" class=\"dataframe\">\n",
       "  <thead>\n",
       "    <tr style=\"text-align: right;\">\n",
       "      <th></th>\n",
       "      <th>name</th>\n",
       "      <th>year</th>\n",
       "      <th>km_driven</th>\n",
       "      <th>fuel</th>\n",
       "      <th>seller_type</th>\n",
       "      <th>transmission</th>\n",
       "      <th>owner</th>\n",
       "      <th>selling_price</th>\n",
       "    </tr>\n",
       "  </thead>\n",
       "  <tbody>\n",
       "    <tr>\n",
       "      <th>0</th>\n",
       "      <td>Maruti 800 AC</td>\n",
       "      <td>2007</td>\n",
       "      <td>70000</td>\n",
       "      <td>Petrol</td>\n",
       "      <td>Individual</td>\n",
       "      <td>Manual</td>\n",
       "      <td>First Owner</td>\n",
       "      <td>60000</td>\n",
       "    </tr>\n",
       "    <tr>\n",
       "      <th>1</th>\n",
       "      <td>Maruti Wagon R LXI Minor</td>\n",
       "      <td>2007</td>\n",
       "      <td>50000</td>\n",
       "      <td>Petrol</td>\n",
       "      <td>Individual</td>\n",
       "      <td>Manual</td>\n",
       "      <td>First Owner</td>\n",
       "      <td>135000</td>\n",
       "    </tr>\n",
       "    <tr>\n",
       "      <th>2</th>\n",
       "      <td>Hyundai Verna 1.6 SX</td>\n",
       "      <td>2012</td>\n",
       "      <td>100000</td>\n",
       "      <td>Diesel</td>\n",
       "      <td>Individual</td>\n",
       "      <td>Manual</td>\n",
       "      <td>First Owner</td>\n",
       "      <td>600000</td>\n",
       "    </tr>\n",
       "    <tr>\n",
       "      <th>3</th>\n",
       "      <td>Datsun RediGO T Option</td>\n",
       "      <td>2017</td>\n",
       "      <td>46000</td>\n",
       "      <td>Petrol</td>\n",
       "      <td>Individual</td>\n",
       "      <td>Manual</td>\n",
       "      <td>First Owner</td>\n",
       "      <td>250000</td>\n",
       "    </tr>\n",
       "    <tr>\n",
       "      <th>4</th>\n",
       "      <td>Honda Amaze VX i-DTEC</td>\n",
       "      <td>2014</td>\n",
       "      <td>141000</td>\n",
       "      <td>Diesel</td>\n",
       "      <td>Individual</td>\n",
       "      <td>Manual</td>\n",
       "      <td>Second Owner</td>\n",
       "      <td>450000</td>\n",
       "    </tr>\n",
       "  </tbody>\n",
       "</table>\n",
       "</div>"
      ],
      "text/plain": [
       "                       name  year  km_driven    fuel seller_type transmission  \\\n",
       "0             Maruti 800 AC  2007      70000  Petrol  Individual       Manual   \n",
       "1  Maruti Wagon R LXI Minor  2007      50000  Petrol  Individual       Manual   \n",
       "2      Hyundai Verna 1.6 SX  2012     100000  Diesel  Individual       Manual   \n",
       "3    Datsun RediGO T Option  2017      46000  Petrol  Individual       Manual   \n",
       "4     Honda Amaze VX i-DTEC  2014     141000  Diesel  Individual       Manual   \n",
       "\n",
       "          owner  selling_price  \n",
       "0   First Owner          60000  \n",
       "1   First Owner         135000  \n",
       "2   First Owner         600000  \n",
       "3   First Owner         250000  \n",
       "4  Second Owner         450000  "
      ]
     },
     "execution_count": 301,
     "metadata": {},
     "output_type": "execute_result"
    }
   ],
   "source": [
    "car1.head()"
   ]
  },
  {
   "cell_type": "code",
   "execution_count": 302,
   "id": "12d7f266",
   "metadata": {},
   "outputs": [
    {
     "data": {
      "text/html": [
       "<div>\n",
       "<style scoped>\n",
       "    .dataframe tbody tr th:only-of-type {\n",
       "        vertical-align: middle;\n",
       "    }\n",
       "\n",
       "    .dataframe tbody tr th {\n",
       "        vertical-align: top;\n",
       "    }\n",
       "\n",
       "    .dataframe thead th {\n",
       "        text-align: right;\n",
       "    }\n",
       "</style>\n",
       "<table border=\"1\" class=\"dataframe\">\n",
       "  <thead>\n",
       "    <tr style=\"text-align: right;\">\n",
       "      <th></th>\n",
       "      <th>name</th>\n",
       "      <th>year</th>\n",
       "      <th>km_driven</th>\n",
       "      <th>fuel</th>\n",
       "      <th>seller_type</th>\n",
       "      <th>transmission</th>\n",
       "      <th>owner</th>\n",
       "      <th>selling_price</th>\n",
       "    </tr>\n",
       "  </thead>\n",
       "  <tbody>\n",
       "    <tr>\n",
       "      <th>0</th>\n",
       "      <td>Maruti 800 AC</td>\n",
       "      <td>2007</td>\n",
       "      <td>70000</td>\n",
       "      <td>Petrol</td>\n",
       "      <td>Individual</td>\n",
       "      <td>Manual</td>\n",
       "      <td>First Owner</td>\n",
       "      <td>60000</td>\n",
       "    </tr>\n",
       "    <tr>\n",
       "      <th>1</th>\n",
       "      <td>Maruti Wagon R LXI Minor</td>\n",
       "      <td>2007</td>\n",
       "      <td>50000</td>\n",
       "      <td>Petrol</td>\n",
       "      <td>Individual</td>\n",
       "      <td>Manual</td>\n",
       "      <td>First Owner</td>\n",
       "      <td>135000</td>\n",
       "    </tr>\n",
       "    <tr>\n",
       "      <th>2</th>\n",
       "      <td>Hyundai Verna 1.6 SX</td>\n",
       "      <td>2012</td>\n",
       "      <td>100000</td>\n",
       "      <td>Diesel</td>\n",
       "      <td>Individual</td>\n",
       "      <td>Manual</td>\n",
       "      <td>First Owner</td>\n",
       "      <td>600000</td>\n",
       "    </tr>\n",
       "    <tr>\n",
       "      <th>3</th>\n",
       "      <td>Datsun RediGO T Option</td>\n",
       "      <td>2017</td>\n",
       "      <td>46000</td>\n",
       "      <td>Petrol</td>\n",
       "      <td>Individual</td>\n",
       "      <td>Manual</td>\n",
       "      <td>First Owner</td>\n",
       "      <td>250000</td>\n",
       "    </tr>\n",
       "    <tr>\n",
       "      <th>4</th>\n",
       "      <td>Honda Amaze VX i-DTEC</td>\n",
       "      <td>2014</td>\n",
       "      <td>141000</td>\n",
       "      <td>Diesel</td>\n",
       "      <td>Individual</td>\n",
       "      <td>Manual</td>\n",
       "      <td>Second Owner</td>\n",
       "      <td>450000</td>\n",
       "    </tr>\n",
       "    <tr>\n",
       "      <th>...</th>\n",
       "      <td>...</td>\n",
       "      <td>...</td>\n",
       "      <td>...</td>\n",
       "      <td>...</td>\n",
       "      <td>...</td>\n",
       "      <td>...</td>\n",
       "      <td>...</td>\n",
       "      <td>...</td>\n",
       "    </tr>\n",
       "    <tr>\n",
       "      <th>4335</th>\n",
       "      <td>Hyundai i20 Magna 1.4 CRDi (Diesel)</td>\n",
       "      <td>2014</td>\n",
       "      <td>80000</td>\n",
       "      <td>Diesel</td>\n",
       "      <td>Individual</td>\n",
       "      <td>Manual</td>\n",
       "      <td>Second Owner</td>\n",
       "      <td>409999</td>\n",
       "    </tr>\n",
       "    <tr>\n",
       "      <th>4336</th>\n",
       "      <td>Hyundai i20 Magna 1.4 CRDi</td>\n",
       "      <td>2014</td>\n",
       "      <td>80000</td>\n",
       "      <td>Diesel</td>\n",
       "      <td>Individual</td>\n",
       "      <td>Manual</td>\n",
       "      <td>Second Owner</td>\n",
       "      <td>409999</td>\n",
       "    </tr>\n",
       "    <tr>\n",
       "      <th>4337</th>\n",
       "      <td>Maruti 800 AC BSIII</td>\n",
       "      <td>2009</td>\n",
       "      <td>83000</td>\n",
       "      <td>Petrol</td>\n",
       "      <td>Individual</td>\n",
       "      <td>Manual</td>\n",
       "      <td>Second Owner</td>\n",
       "      <td>110000</td>\n",
       "    </tr>\n",
       "    <tr>\n",
       "      <th>4338</th>\n",
       "      <td>Hyundai Creta 1.6 CRDi SX Option</td>\n",
       "      <td>2016</td>\n",
       "      <td>90000</td>\n",
       "      <td>Diesel</td>\n",
       "      <td>Individual</td>\n",
       "      <td>Manual</td>\n",
       "      <td>First Owner</td>\n",
       "      <td>865000</td>\n",
       "    </tr>\n",
       "    <tr>\n",
       "      <th>4339</th>\n",
       "      <td>Renault KWID RXT</td>\n",
       "      <td>2016</td>\n",
       "      <td>40000</td>\n",
       "      <td>Petrol</td>\n",
       "      <td>Individual</td>\n",
       "      <td>Manual</td>\n",
       "      <td>First Owner</td>\n",
       "      <td>225000</td>\n",
       "    </tr>\n",
       "  </tbody>\n",
       "</table>\n",
       "<p>4340 rows × 8 columns</p>\n",
       "</div>"
      ],
      "text/plain": [
       "                                     name  year  km_driven    fuel  \\\n",
       "0                           Maruti 800 AC  2007      70000  Petrol   \n",
       "1                Maruti Wagon R LXI Minor  2007      50000  Petrol   \n",
       "2                    Hyundai Verna 1.6 SX  2012     100000  Diesel   \n",
       "3                  Datsun RediGO T Option  2017      46000  Petrol   \n",
       "4                   Honda Amaze VX i-DTEC  2014     141000  Diesel   \n",
       "...                                   ...   ...        ...     ...   \n",
       "4335  Hyundai i20 Magna 1.4 CRDi (Diesel)  2014      80000  Diesel   \n",
       "4336           Hyundai i20 Magna 1.4 CRDi  2014      80000  Diesel   \n",
       "4337                  Maruti 800 AC BSIII  2009      83000  Petrol   \n",
       "4338     Hyundai Creta 1.6 CRDi SX Option  2016      90000  Diesel   \n",
       "4339                     Renault KWID RXT  2016      40000  Petrol   \n",
       "\n",
       "     seller_type transmission         owner  selling_price  \n",
       "0     Individual       Manual   First Owner          60000  \n",
       "1     Individual       Manual   First Owner         135000  \n",
       "2     Individual       Manual   First Owner         600000  \n",
       "3     Individual       Manual   First Owner         250000  \n",
       "4     Individual       Manual  Second Owner         450000  \n",
       "...          ...          ...           ...            ...  \n",
       "4335  Individual       Manual  Second Owner         409999  \n",
       "4336  Individual       Manual  Second Owner         409999  \n",
       "4337  Individual       Manual  Second Owner         110000  \n",
       "4338  Individual       Manual   First Owner         865000  \n",
       "4339  Individual       Manual   First Owner         225000  \n",
       "\n",
       "[4340 rows x 8 columns]"
      ]
     },
     "execution_count": 302,
     "metadata": {},
     "output_type": "execute_result"
    }
   ],
   "source": [
    "car1"
   ]
  },
  {
   "cell_type": "code",
   "execution_count": 303,
   "id": "176d1f73",
   "metadata": {},
   "outputs": [
    {
     "name": "stdout",
     "output_type": "stream",
     "text": [
      "<class 'pandas.core.frame.DataFrame'>\n",
      "RangeIndex: 4340 entries, 0 to 4339\n",
      "Data columns (total 8 columns):\n",
      " #   Column         Non-Null Count  Dtype \n",
      "---  ------         --------------  ----- \n",
      " 0   name           4340 non-null   object\n",
      " 1   year           4340 non-null   int64 \n",
      " 2   km_driven      4340 non-null   int64 \n",
      " 3   fuel           4340 non-null   object\n",
      " 4   seller_type    4340 non-null   object\n",
      " 5   transmission   4340 non-null   object\n",
      " 6   owner          4340 non-null   object\n",
      " 7   selling_price  4340 non-null   int64 \n",
      "dtypes: int64(3), object(5)\n",
      "memory usage: 271.4+ KB\n"
     ]
    }
   ],
   "source": [
    "car1.info()"
   ]
  },
  {
   "cell_type": "code",
   "execution_count": 304,
   "id": "32ada78a",
   "metadata": {},
   "outputs": [
    {
     "data": {
      "text/plain": [
       "763"
      ]
     },
     "execution_count": 304,
     "metadata": {},
     "output_type": "execute_result"
    }
   ],
   "source": [
    "car1.duplicated().sum()"
   ]
  },
  {
   "cell_type": "code",
   "execution_count": 305,
   "id": "44c43018",
   "metadata": {},
   "outputs": [],
   "source": [
    "car1.drop_duplicates(inplace=True)"
   ]
  },
  {
   "cell_type": "code",
   "execution_count": 306,
   "id": "da5781dc",
   "metadata": {},
   "outputs": [
    {
     "data": {
      "text/html": [
       "<div>\n",
       "<style scoped>\n",
       "    .dataframe tbody tr th:only-of-type {\n",
       "        vertical-align: middle;\n",
       "    }\n",
       "\n",
       "    .dataframe tbody tr th {\n",
       "        vertical-align: top;\n",
       "    }\n",
       "\n",
       "    .dataframe thead th {\n",
       "        text-align: right;\n",
       "    }\n",
       "</style>\n",
       "<table border=\"1\" class=\"dataframe\">\n",
       "  <thead>\n",
       "    <tr style=\"text-align: right;\">\n",
       "      <th></th>\n",
       "      <th>name</th>\n",
       "      <th>year</th>\n",
       "      <th>km_driven</th>\n",
       "      <th>fuel</th>\n",
       "      <th>seller_type</th>\n",
       "      <th>transmission</th>\n",
       "      <th>owner</th>\n",
       "      <th>selling_price</th>\n",
       "    </tr>\n",
       "  </thead>\n",
       "  <tbody>\n",
       "    <tr>\n",
       "      <th>0</th>\n",
       "      <td>Maruti 800 AC</td>\n",
       "      <td>2007</td>\n",
       "      <td>70000</td>\n",
       "      <td>Petrol</td>\n",
       "      <td>Individual</td>\n",
       "      <td>Manual</td>\n",
       "      <td>First Owner</td>\n",
       "      <td>60000</td>\n",
       "    </tr>\n",
       "    <tr>\n",
       "      <th>1</th>\n",
       "      <td>Maruti Wagon R LXI Minor</td>\n",
       "      <td>2007</td>\n",
       "      <td>50000</td>\n",
       "      <td>Petrol</td>\n",
       "      <td>Individual</td>\n",
       "      <td>Manual</td>\n",
       "      <td>First Owner</td>\n",
       "      <td>135000</td>\n",
       "    </tr>\n",
       "    <tr>\n",
       "      <th>2</th>\n",
       "      <td>Hyundai Verna 1.6 SX</td>\n",
       "      <td>2012</td>\n",
       "      <td>100000</td>\n",
       "      <td>Diesel</td>\n",
       "      <td>Individual</td>\n",
       "      <td>Manual</td>\n",
       "      <td>First Owner</td>\n",
       "      <td>600000</td>\n",
       "    </tr>\n",
       "    <tr>\n",
       "      <th>3</th>\n",
       "      <td>Datsun RediGO T Option</td>\n",
       "      <td>2017</td>\n",
       "      <td>46000</td>\n",
       "      <td>Petrol</td>\n",
       "      <td>Individual</td>\n",
       "      <td>Manual</td>\n",
       "      <td>First Owner</td>\n",
       "      <td>250000</td>\n",
       "    </tr>\n",
       "    <tr>\n",
       "      <th>4</th>\n",
       "      <td>Honda Amaze VX i-DTEC</td>\n",
       "      <td>2014</td>\n",
       "      <td>141000</td>\n",
       "      <td>Diesel</td>\n",
       "      <td>Individual</td>\n",
       "      <td>Manual</td>\n",
       "      <td>Second Owner</td>\n",
       "      <td>450000</td>\n",
       "    </tr>\n",
       "    <tr>\n",
       "      <th>...</th>\n",
       "      <td>...</td>\n",
       "      <td>...</td>\n",
       "      <td>...</td>\n",
       "      <td>...</td>\n",
       "      <td>...</td>\n",
       "      <td>...</td>\n",
       "      <td>...</td>\n",
       "      <td>...</td>\n",
       "    </tr>\n",
       "    <tr>\n",
       "      <th>4335</th>\n",
       "      <td>Hyundai i20 Magna 1.4 CRDi (Diesel)</td>\n",
       "      <td>2014</td>\n",
       "      <td>80000</td>\n",
       "      <td>Diesel</td>\n",
       "      <td>Individual</td>\n",
       "      <td>Manual</td>\n",
       "      <td>Second Owner</td>\n",
       "      <td>409999</td>\n",
       "    </tr>\n",
       "    <tr>\n",
       "      <th>4336</th>\n",
       "      <td>Hyundai i20 Magna 1.4 CRDi</td>\n",
       "      <td>2014</td>\n",
       "      <td>80000</td>\n",
       "      <td>Diesel</td>\n",
       "      <td>Individual</td>\n",
       "      <td>Manual</td>\n",
       "      <td>Second Owner</td>\n",
       "      <td>409999</td>\n",
       "    </tr>\n",
       "    <tr>\n",
       "      <th>4337</th>\n",
       "      <td>Maruti 800 AC BSIII</td>\n",
       "      <td>2009</td>\n",
       "      <td>83000</td>\n",
       "      <td>Petrol</td>\n",
       "      <td>Individual</td>\n",
       "      <td>Manual</td>\n",
       "      <td>Second Owner</td>\n",
       "      <td>110000</td>\n",
       "    </tr>\n",
       "    <tr>\n",
       "      <th>4338</th>\n",
       "      <td>Hyundai Creta 1.6 CRDi SX Option</td>\n",
       "      <td>2016</td>\n",
       "      <td>90000</td>\n",
       "      <td>Diesel</td>\n",
       "      <td>Individual</td>\n",
       "      <td>Manual</td>\n",
       "      <td>First Owner</td>\n",
       "      <td>865000</td>\n",
       "    </tr>\n",
       "    <tr>\n",
       "      <th>4339</th>\n",
       "      <td>Renault KWID RXT</td>\n",
       "      <td>2016</td>\n",
       "      <td>40000</td>\n",
       "      <td>Petrol</td>\n",
       "      <td>Individual</td>\n",
       "      <td>Manual</td>\n",
       "      <td>First Owner</td>\n",
       "      <td>225000</td>\n",
       "    </tr>\n",
       "  </tbody>\n",
       "</table>\n",
       "<p>3577 rows × 8 columns</p>\n",
       "</div>"
      ],
      "text/plain": [
       "                                     name  year  km_driven    fuel  \\\n",
       "0                           Maruti 800 AC  2007      70000  Petrol   \n",
       "1                Maruti Wagon R LXI Minor  2007      50000  Petrol   \n",
       "2                    Hyundai Verna 1.6 SX  2012     100000  Diesel   \n",
       "3                  Datsun RediGO T Option  2017      46000  Petrol   \n",
       "4                   Honda Amaze VX i-DTEC  2014     141000  Diesel   \n",
       "...                                   ...   ...        ...     ...   \n",
       "4335  Hyundai i20 Magna 1.4 CRDi (Diesel)  2014      80000  Diesel   \n",
       "4336           Hyundai i20 Magna 1.4 CRDi  2014      80000  Diesel   \n",
       "4337                  Maruti 800 AC BSIII  2009      83000  Petrol   \n",
       "4338     Hyundai Creta 1.6 CRDi SX Option  2016      90000  Diesel   \n",
       "4339                     Renault KWID RXT  2016      40000  Petrol   \n",
       "\n",
       "     seller_type transmission         owner  selling_price  \n",
       "0     Individual       Manual   First Owner          60000  \n",
       "1     Individual       Manual   First Owner         135000  \n",
       "2     Individual       Manual   First Owner         600000  \n",
       "3     Individual       Manual   First Owner         250000  \n",
       "4     Individual       Manual  Second Owner         450000  \n",
       "...          ...          ...           ...            ...  \n",
       "4335  Individual       Manual  Second Owner         409999  \n",
       "4336  Individual       Manual  Second Owner         409999  \n",
       "4337  Individual       Manual  Second Owner         110000  \n",
       "4338  Individual       Manual   First Owner         865000  \n",
       "4339  Individual       Manual   First Owner         225000  \n",
       "\n",
       "[3577 rows x 8 columns]"
      ]
     },
     "execution_count": 306,
     "metadata": {},
     "output_type": "execute_result"
    }
   ],
   "source": [
    "car1"
   ]
  },
  {
   "cell_type": "markdown",
   "id": "7147a15b",
   "metadata": {},
   "source": [
    "checking outlier in km_driven"
   ]
  },
  {
   "cell_type": "code",
   "execution_count": 307,
   "id": "56aebd95",
   "metadata": {},
   "outputs": [],
   "source": [
    "car1_petrol = car1[car1['fuel']=='Petrol']"
   ]
  },
  {
   "cell_type": "code",
   "execution_count": 308,
   "id": "36f9d605",
   "metadata": {},
   "outputs": [
    {
     "data": {
      "text/html": [
       "<div>\n",
       "<style scoped>\n",
       "    .dataframe tbody tr th:only-of-type {\n",
       "        vertical-align: middle;\n",
       "    }\n",
       "\n",
       "    .dataframe tbody tr th {\n",
       "        vertical-align: top;\n",
       "    }\n",
       "\n",
       "    .dataframe thead th {\n",
       "        text-align: right;\n",
       "    }\n",
       "</style>\n",
       "<table border=\"1\" class=\"dataframe\">\n",
       "  <thead>\n",
       "    <tr style=\"text-align: right;\">\n",
       "      <th></th>\n",
       "      <th>name</th>\n",
       "      <th>year</th>\n",
       "      <th>km_driven</th>\n",
       "      <th>fuel</th>\n",
       "      <th>seller_type</th>\n",
       "      <th>transmission</th>\n",
       "      <th>owner</th>\n",
       "      <th>selling_price</th>\n",
       "    </tr>\n",
       "  </thead>\n",
       "  <tbody>\n",
       "    <tr>\n",
       "      <th>0</th>\n",
       "      <td>Maruti 800 AC</td>\n",
       "      <td>2007</td>\n",
       "      <td>70000</td>\n",
       "      <td>Petrol</td>\n",
       "      <td>Individual</td>\n",
       "      <td>Manual</td>\n",
       "      <td>First Owner</td>\n",
       "      <td>60000</td>\n",
       "    </tr>\n",
       "    <tr>\n",
       "      <th>1</th>\n",
       "      <td>Maruti Wagon R LXI Minor</td>\n",
       "      <td>2007</td>\n",
       "      <td>50000</td>\n",
       "      <td>Petrol</td>\n",
       "      <td>Individual</td>\n",
       "      <td>Manual</td>\n",
       "      <td>First Owner</td>\n",
       "      <td>135000</td>\n",
       "    </tr>\n",
       "    <tr>\n",
       "      <th>3</th>\n",
       "      <td>Datsun RediGO T Option</td>\n",
       "      <td>2017</td>\n",
       "      <td>46000</td>\n",
       "      <td>Petrol</td>\n",
       "      <td>Individual</td>\n",
       "      <td>Manual</td>\n",
       "      <td>First Owner</td>\n",
       "      <td>250000</td>\n",
       "    </tr>\n",
       "    <tr>\n",
       "      <th>5</th>\n",
       "      <td>Maruti Alto LX BSIII</td>\n",
       "      <td>2007</td>\n",
       "      <td>125000</td>\n",
       "      <td>Petrol</td>\n",
       "      <td>Individual</td>\n",
       "      <td>Manual</td>\n",
       "      <td>First Owner</td>\n",
       "      <td>140000</td>\n",
       "    </tr>\n",
       "    <tr>\n",
       "      <th>6</th>\n",
       "      <td>Hyundai Xcent 1.2 Kappa S</td>\n",
       "      <td>2016</td>\n",
       "      <td>25000</td>\n",
       "      <td>Petrol</td>\n",
       "      <td>Individual</td>\n",
       "      <td>Manual</td>\n",
       "      <td>First Owner</td>\n",
       "      <td>550000</td>\n",
       "    </tr>\n",
       "    <tr>\n",
       "      <th>...</th>\n",
       "      <td>...</td>\n",
       "      <td>...</td>\n",
       "      <td>...</td>\n",
       "      <td>...</td>\n",
       "      <td>...</td>\n",
       "      <td>...</td>\n",
       "      <td>...</td>\n",
       "      <td>...</td>\n",
       "    </tr>\n",
       "    <tr>\n",
       "      <th>4326</th>\n",
       "      <td>Honda City 1.5 GXI</td>\n",
       "      <td>2005</td>\n",
       "      <td>150000</td>\n",
       "      <td>Petrol</td>\n",
       "      <td>Individual</td>\n",
       "      <td>Manual</td>\n",
       "      <td>Third Owner</td>\n",
       "      <td>65000</td>\n",
       "    </tr>\n",
       "    <tr>\n",
       "      <th>4327</th>\n",
       "      <td>Tata Nano XM</td>\n",
       "      <td>2015</td>\n",
       "      <td>60000</td>\n",
       "      <td>Petrol</td>\n",
       "      <td>Individual</td>\n",
       "      <td>Manual</td>\n",
       "      <td>Second Owner</td>\n",
       "      <td>190000</td>\n",
       "    </tr>\n",
       "    <tr>\n",
       "      <th>4329</th>\n",
       "      <td>Tata Manza Aura Safire BS IV</td>\n",
       "      <td>2010</td>\n",
       "      <td>60000</td>\n",
       "      <td>Petrol</td>\n",
       "      <td>Individual</td>\n",
       "      <td>Manual</td>\n",
       "      <td>Second Owner</td>\n",
       "      <td>160000</td>\n",
       "    </tr>\n",
       "    <tr>\n",
       "      <th>4337</th>\n",
       "      <td>Maruti 800 AC BSIII</td>\n",
       "      <td>2009</td>\n",
       "      <td>83000</td>\n",
       "      <td>Petrol</td>\n",
       "      <td>Individual</td>\n",
       "      <td>Manual</td>\n",
       "      <td>Second Owner</td>\n",
       "      <td>110000</td>\n",
       "    </tr>\n",
       "    <tr>\n",
       "      <th>4339</th>\n",
       "      <td>Renault KWID RXT</td>\n",
       "      <td>2016</td>\n",
       "      <td>40000</td>\n",
       "      <td>Petrol</td>\n",
       "      <td>Individual</td>\n",
       "      <td>Manual</td>\n",
       "      <td>First Owner</td>\n",
       "      <td>225000</td>\n",
       "    </tr>\n",
       "  </tbody>\n",
       "</table>\n",
       "<p>1717 rows × 8 columns</p>\n",
       "</div>"
      ],
      "text/plain": [
       "                              name  year  km_driven    fuel seller_type  \\\n",
       "0                    Maruti 800 AC  2007      70000  Petrol  Individual   \n",
       "1         Maruti Wagon R LXI Minor  2007      50000  Petrol  Individual   \n",
       "3           Datsun RediGO T Option  2017      46000  Petrol  Individual   \n",
       "5             Maruti Alto LX BSIII  2007     125000  Petrol  Individual   \n",
       "6        Hyundai Xcent 1.2 Kappa S  2016      25000  Petrol  Individual   \n",
       "...                            ...   ...        ...     ...         ...   \n",
       "4326            Honda City 1.5 GXI  2005     150000  Petrol  Individual   \n",
       "4327                  Tata Nano XM  2015      60000  Petrol  Individual   \n",
       "4329  Tata Manza Aura Safire BS IV  2010      60000  Petrol  Individual   \n",
       "4337           Maruti 800 AC BSIII  2009      83000  Petrol  Individual   \n",
       "4339              Renault KWID RXT  2016      40000  Petrol  Individual   \n",
       "\n",
       "     transmission         owner  selling_price  \n",
       "0          Manual   First Owner          60000  \n",
       "1          Manual   First Owner         135000  \n",
       "3          Manual   First Owner         250000  \n",
       "5          Manual   First Owner         140000  \n",
       "6          Manual   First Owner         550000  \n",
       "...           ...           ...            ...  \n",
       "4326       Manual   Third Owner          65000  \n",
       "4327       Manual  Second Owner         190000  \n",
       "4329       Manual  Second Owner         160000  \n",
       "4337       Manual  Second Owner         110000  \n",
       "4339       Manual   First Owner         225000  \n",
       "\n",
       "[1717 rows x 8 columns]"
      ]
     },
     "execution_count": 308,
     "metadata": {},
     "output_type": "execute_result"
    }
   ],
   "source": [
    "car1_petrol"
   ]
  },
  {
   "cell_type": "code",
   "execution_count": 309,
   "id": "18dc6aaa",
   "metadata": {},
   "outputs": [],
   "source": [
    "car1_diesel = car1[car1['fuel']=='Diesel']"
   ]
  },
  {
   "cell_type": "code",
   "execution_count": 310,
   "id": "6ea65981",
   "metadata": {},
   "outputs": [
    {
     "data": {
      "text/html": [
       "<div>\n",
       "<style scoped>\n",
       "    .dataframe tbody tr th:only-of-type {\n",
       "        vertical-align: middle;\n",
       "    }\n",
       "\n",
       "    .dataframe tbody tr th {\n",
       "        vertical-align: top;\n",
       "    }\n",
       "\n",
       "    .dataframe thead th {\n",
       "        text-align: right;\n",
       "    }\n",
       "</style>\n",
       "<table border=\"1\" class=\"dataframe\">\n",
       "  <thead>\n",
       "    <tr style=\"text-align: right;\">\n",
       "      <th></th>\n",
       "      <th>name</th>\n",
       "      <th>year</th>\n",
       "      <th>km_driven</th>\n",
       "      <th>fuel</th>\n",
       "      <th>seller_type</th>\n",
       "      <th>transmission</th>\n",
       "      <th>owner</th>\n",
       "      <th>selling_price</th>\n",
       "    </tr>\n",
       "  </thead>\n",
       "  <tbody>\n",
       "    <tr>\n",
       "      <th>2</th>\n",
       "      <td>Hyundai Verna 1.6 SX</td>\n",
       "      <td>2012</td>\n",
       "      <td>100000</td>\n",
       "      <td>Diesel</td>\n",
       "      <td>Individual</td>\n",
       "      <td>Manual</td>\n",
       "      <td>First Owner</td>\n",
       "      <td>600000</td>\n",
       "    </tr>\n",
       "    <tr>\n",
       "      <th>4</th>\n",
       "      <td>Honda Amaze VX i-DTEC</td>\n",
       "      <td>2014</td>\n",
       "      <td>141000</td>\n",
       "      <td>Diesel</td>\n",
       "      <td>Individual</td>\n",
       "      <td>Manual</td>\n",
       "      <td>Second Owner</td>\n",
       "      <td>450000</td>\n",
       "    </tr>\n",
       "    <tr>\n",
       "      <th>27</th>\n",
       "      <td>Hyundai Venue SX Opt Diesel</td>\n",
       "      <td>2019</td>\n",
       "      <td>5000</td>\n",
       "      <td>Diesel</td>\n",
       "      <td>Dealer</td>\n",
       "      <td>Manual</td>\n",
       "      <td>First Owner</td>\n",
       "      <td>1195000</td>\n",
       "    </tr>\n",
       "    <tr>\n",
       "      <th>28</th>\n",
       "      <td>Chevrolet Enjoy TCDi LTZ 7 Seater</td>\n",
       "      <td>2013</td>\n",
       "      <td>33000</td>\n",
       "      <td>Diesel</td>\n",
       "      <td>Individual</td>\n",
       "      <td>Manual</td>\n",
       "      <td>Second Owner</td>\n",
       "      <td>390000</td>\n",
       "    </tr>\n",
       "    <tr>\n",
       "      <th>29</th>\n",
       "      <td>Jaguar XF 2.2 Litre Luxury</td>\n",
       "      <td>2014</td>\n",
       "      <td>28000</td>\n",
       "      <td>Diesel</td>\n",
       "      <td>Dealer</td>\n",
       "      <td>Automatic</td>\n",
       "      <td>First Owner</td>\n",
       "      <td>1964999</td>\n",
       "    </tr>\n",
       "    <tr>\n",
       "      <th>...</th>\n",
       "      <td>...</td>\n",
       "      <td>...</td>\n",
       "      <td>...</td>\n",
       "      <td>...</td>\n",
       "      <td>...</td>\n",
       "      <td>...</td>\n",
       "      <td>...</td>\n",
       "      <td>...</td>\n",
       "    </tr>\n",
       "    <tr>\n",
       "      <th>4333</th>\n",
       "      <td>Maruti Ritz VDi</td>\n",
       "      <td>2012</td>\n",
       "      <td>90000</td>\n",
       "      <td>Diesel</td>\n",
       "      <td>Individual</td>\n",
       "      <td>Manual</td>\n",
       "      <td>Second Owner</td>\n",
       "      <td>225000</td>\n",
       "    </tr>\n",
       "    <tr>\n",
       "      <th>4334</th>\n",
       "      <td>Toyota Innova 2.5 VX (Diesel) 8 Seater BS IV</td>\n",
       "      <td>2012</td>\n",
       "      <td>170000</td>\n",
       "      <td>Diesel</td>\n",
       "      <td>Individual</td>\n",
       "      <td>Manual</td>\n",
       "      <td>First Owner</td>\n",
       "      <td>600000</td>\n",
       "    </tr>\n",
       "    <tr>\n",
       "      <th>4335</th>\n",
       "      <td>Hyundai i20 Magna 1.4 CRDi (Diesel)</td>\n",
       "      <td>2014</td>\n",
       "      <td>80000</td>\n",
       "      <td>Diesel</td>\n",
       "      <td>Individual</td>\n",
       "      <td>Manual</td>\n",
       "      <td>Second Owner</td>\n",
       "      <td>409999</td>\n",
       "    </tr>\n",
       "    <tr>\n",
       "      <th>4336</th>\n",
       "      <td>Hyundai i20 Magna 1.4 CRDi</td>\n",
       "      <td>2014</td>\n",
       "      <td>80000</td>\n",
       "      <td>Diesel</td>\n",
       "      <td>Individual</td>\n",
       "      <td>Manual</td>\n",
       "      <td>Second Owner</td>\n",
       "      <td>409999</td>\n",
       "    </tr>\n",
       "    <tr>\n",
       "      <th>4338</th>\n",
       "      <td>Hyundai Creta 1.6 CRDi SX Option</td>\n",
       "      <td>2016</td>\n",
       "      <td>90000</td>\n",
       "      <td>Diesel</td>\n",
       "      <td>Individual</td>\n",
       "      <td>Manual</td>\n",
       "      <td>First Owner</td>\n",
       "      <td>865000</td>\n",
       "    </tr>\n",
       "  </tbody>\n",
       "</table>\n",
       "<p>1800 rows × 8 columns</p>\n",
       "</div>"
      ],
      "text/plain": [
       "                                              name  year  km_driven    fuel  \\\n",
       "2                             Hyundai Verna 1.6 SX  2012     100000  Diesel   \n",
       "4                            Honda Amaze VX i-DTEC  2014     141000  Diesel   \n",
       "27                     Hyundai Venue SX Opt Diesel  2019       5000  Diesel   \n",
       "28               Chevrolet Enjoy TCDi LTZ 7 Seater  2013      33000  Diesel   \n",
       "29                      Jaguar XF 2.2 Litre Luxury  2014      28000  Diesel   \n",
       "...                                            ...   ...        ...     ...   \n",
       "4333                               Maruti Ritz VDi  2012      90000  Diesel   \n",
       "4334  Toyota Innova 2.5 VX (Diesel) 8 Seater BS IV  2012     170000  Diesel   \n",
       "4335           Hyundai i20 Magna 1.4 CRDi (Diesel)  2014      80000  Diesel   \n",
       "4336                    Hyundai i20 Magna 1.4 CRDi  2014      80000  Diesel   \n",
       "4338              Hyundai Creta 1.6 CRDi SX Option  2016      90000  Diesel   \n",
       "\n",
       "     seller_type transmission         owner  selling_price  \n",
       "2     Individual       Manual   First Owner         600000  \n",
       "4     Individual       Manual  Second Owner         450000  \n",
       "27        Dealer       Manual   First Owner        1195000  \n",
       "28    Individual       Manual  Second Owner         390000  \n",
       "29        Dealer    Automatic   First Owner        1964999  \n",
       "...          ...          ...           ...            ...  \n",
       "4333  Individual       Manual  Second Owner         225000  \n",
       "4334  Individual       Manual   First Owner         600000  \n",
       "4335  Individual       Manual  Second Owner         409999  \n",
       "4336  Individual       Manual  Second Owner         409999  \n",
       "4338  Individual       Manual   First Owner         865000  \n",
       "\n",
       "[1800 rows x 8 columns]"
      ]
     },
     "execution_count": 310,
     "metadata": {},
     "output_type": "execute_result"
    }
   ],
   "source": [
    "car1_diesel"
   ]
  },
  {
   "cell_type": "code",
   "execution_count": 311,
   "id": "89e302ba",
   "metadata": {},
   "outputs": [],
   "source": [
    "x=car1_petrol['km_driven']"
   ]
  },
  {
   "cell_type": "code",
   "execution_count": 312,
   "id": "d9d25d7a",
   "metadata": {},
   "outputs": [],
   "source": [
    "y = car1_petrol['selling_price']"
   ]
  },
  {
   "cell_type": "code",
   "execution_count": 313,
   "id": "b08c13d7",
   "metadata": {},
   "outputs": [
    {
     "data": {
      "text/plain": [
       "0        70000\n",
       "1        50000\n",
       "3        46000\n",
       "5       125000\n",
       "6        25000\n",
       "         ...  \n",
       "4326    150000\n",
       "4327     60000\n",
       "4329     60000\n",
       "4337     83000\n",
       "4339     40000\n",
       "Name: km_driven, Length: 1717, dtype: int64"
      ]
     },
     "execution_count": 313,
     "metadata": {},
     "output_type": "execute_result"
    }
   ],
   "source": [
    "x"
   ]
  },
  {
   "cell_type": "code",
   "execution_count": 314,
   "id": "303ab880",
   "metadata": {},
   "outputs": [],
   "source": [
    "p_x=x.to_numpy()"
   ]
  },
  {
   "cell_type": "code",
   "execution_count": 315,
   "id": "ede01f3e",
   "metadata": {},
   "outputs": [],
   "source": [
    "p_y=y.to_numpy()"
   ]
  },
  {
   "cell_type": "code",
   "execution_count": 316,
   "id": "e8227af8",
   "metadata": {},
   "outputs": [],
   "source": [
    "z1_x=np.sort(p_x)\n",
    "z1_y=np.sort(p_y)\n"
   ]
  },
  {
   "cell_type": "code",
   "execution_count": 317,
   "id": "c5410d34",
   "metadata": {},
   "outputs": [],
   "source": [
    "Q1_x=np.percentile(z1_x,25)\n",
    "Q1_y=np.percentile(z1_y,25)"
   ]
  },
  {
   "cell_type": "code",
   "execution_count": 318,
   "id": "133cc0a7",
   "metadata": {},
   "outputs": [],
   "source": [
    "Q3_x=np.percentile(z1_x,75)\n",
    "Q3_y=np.percentile(z1_y,75)"
   ]
  },
  {
   "cell_type": "code",
   "execution_count": 319,
   "id": "3ea44bbd",
   "metadata": {},
   "outputs": [],
   "source": [
    "IQR_x =Q3_x-Q1_x\n",
    "IQR_y =Q3_y-Q1_y"
   ]
  },
  {
   "cell_type": "code",
   "execution_count": 320,
   "id": "fcfdc7ce",
   "metadata": {},
   "outputs": [],
   "source": [
    "lower_fence_x1 =Q1_x-(1.5*IQR_x)\n",
    "higher_fence_x1 =Q3_x+(1.5*IQR_x)\n",
    "lower_fence_y1 =Q1_y-(1.5*IQR_y)\n",
    "higher_fence_y1 =Q3_y+(1.5*IQR_y)"
   ]
  },
  {
   "cell_type": "code",
   "execution_count": 321,
   "id": "b53b253e",
   "metadata": {},
   "outputs": [
    {
     "data": {
      "text/plain": [
       "-44050.0"
      ]
     },
     "execution_count": 321,
     "metadata": {},
     "output_type": "execute_result"
    }
   ],
   "source": [
    "lower_fence_x1"
   ]
  },
  {
   "cell_type": "code",
   "execution_count": 322,
   "id": "b4456604",
   "metadata": {},
   "outputs": [
    {
     "data": {
      "text/plain": [
       "142430.0"
      ]
     },
     "execution_count": 322,
     "metadata": {},
     "output_type": "execute_result"
    }
   ],
   "source": [
    "higher_fence_x1 "
   ]
  },
  {
   "cell_type": "code",
   "execution_count": 323,
   "id": "dd72dd3d",
   "metadata": {},
   "outputs": [
    {
     "data": {
      "text/plain": [
       "-282500.0"
      ]
     },
     "execution_count": 323,
     "metadata": {},
     "output_type": "execute_result"
    }
   ],
   "source": [
    "lower_fence_y1"
   ]
  },
  {
   "cell_type": "code",
   "execution_count": 324,
   "id": "0cc8c7ba",
   "metadata": {},
   "outputs": [
    {
     "data": {
      "text/plain": [
       "857500.0"
      ]
     },
     "execution_count": 324,
     "metadata": {},
     "output_type": "execute_result"
    }
   ],
   "source": [
    "higher_fence_y1 "
   ]
  },
  {
   "cell_type": "code",
   "execution_count": 325,
   "id": "37213dae",
   "metadata": {},
   "outputs": [
    {
     "data": {
      "image/png": "[encoded data removed]",
      "text/plain": [
       "<Figure size 432x288 with 1 Axes>"
      ]
     },
     "metadata": {
      "needs_background": "light"
     },
     "output_type": "display_data"
    }
   ],
   "source": [
    "plt.hist(z1_x,bins=30)\n",
    "plt.show()"
   ]
  },
  {
   "cell_type": "code",
   "execution_count": 326,
   "id": "5395be78",
   "metadata": {},
   "outputs": [
    {
     "data": {
      "image/png": "[encoded data removed]",
      "text/plain": [
       "<Figure size 432x288 with 1 Axes>"
      ]
     },
     "metadata": {
      "needs_background": "light"
     },
     "output_type": "display_data"
    }
   ],
   "source": [
    "plt.hist(z1_y,bins=30)\n",
    "plt.show()"
   ]
  },
  {
   "cell_type": "code",
   "execution_count": 327,
   "id": "b2fbda21",
   "metadata": {},
   "outputs": [
    {
     "data": {
      "text/html": [
       "<div>\n",
       "<style scoped>\n",
       "    .dataframe tbody tr th:only-of-type {\n",
       "        vertical-align: middle;\n",
       "    }\n",
       "\n",
       "    .dataframe tbody tr th {\n",
       "        vertical-align: top;\n",
       "    }\n",
       "\n",
       "    .dataframe thead th {\n",
       "        text-align: right;\n",
       "    }\n",
       "</style>\n",
       "<table border=\"1\" class=\"dataframe\">\n",
       "  <thead>\n",
       "    <tr style=\"text-align: right;\">\n",
       "      <th></th>\n",
       "      <th>name</th>\n",
       "      <th>year</th>\n",
       "      <th>km_driven</th>\n",
       "      <th>fuel</th>\n",
       "      <th>seller_type</th>\n",
       "      <th>transmission</th>\n",
       "      <th>owner</th>\n",
       "      <th>selling_price</th>\n",
       "    </tr>\n",
       "  </thead>\n",
       "  <tbody>\n",
       "    <tr>\n",
       "      <th>0</th>\n",
       "      <td>Maruti 800 AC</td>\n",
       "      <td>2007</td>\n",
       "      <td>70000</td>\n",
       "      <td>Petrol</td>\n",
       "      <td>Individual</td>\n",
       "      <td>Manual</td>\n",
       "      <td>First Owner</td>\n",
       "      <td>60000</td>\n",
       "    </tr>\n",
       "    <tr>\n",
       "      <th>1</th>\n",
       "      <td>Maruti Wagon R LXI Minor</td>\n",
       "      <td>2007</td>\n",
       "      <td>50000</td>\n",
       "      <td>Petrol</td>\n",
       "      <td>Individual</td>\n",
       "      <td>Manual</td>\n",
       "      <td>First Owner</td>\n",
       "      <td>135000</td>\n",
       "    </tr>\n",
       "    <tr>\n",
       "      <th>3</th>\n",
       "      <td>Datsun RediGO T Option</td>\n",
       "      <td>2017</td>\n",
       "      <td>46000</td>\n",
       "      <td>Petrol</td>\n",
       "      <td>Individual</td>\n",
       "      <td>Manual</td>\n",
       "      <td>First Owner</td>\n",
       "      <td>250000</td>\n",
       "    </tr>\n",
       "    <tr>\n",
       "      <th>5</th>\n",
       "      <td>Maruti Alto LX BSIII</td>\n",
       "      <td>2007</td>\n",
       "      <td>125000</td>\n",
       "      <td>Petrol</td>\n",
       "      <td>Individual</td>\n",
       "      <td>Manual</td>\n",
       "      <td>First Owner</td>\n",
       "      <td>140000</td>\n",
       "    </tr>\n",
       "    <tr>\n",
       "      <th>6</th>\n",
       "      <td>Hyundai Xcent 1.2 Kappa S</td>\n",
       "      <td>2016</td>\n",
       "      <td>25000</td>\n",
       "      <td>Petrol</td>\n",
       "      <td>Individual</td>\n",
       "      <td>Manual</td>\n",
       "      <td>First Owner</td>\n",
       "      <td>550000</td>\n",
       "    </tr>\n",
       "    <tr>\n",
       "      <th>...</th>\n",
       "      <td>...</td>\n",
       "      <td>...</td>\n",
       "      <td>...</td>\n",
       "      <td>...</td>\n",
       "      <td>...</td>\n",
       "      <td>...</td>\n",
       "      <td>...</td>\n",
       "      <td>...</td>\n",
       "    </tr>\n",
       "    <tr>\n",
       "      <th>4325</th>\n",
       "      <td>Maruti Alto LXi</td>\n",
       "      <td>2000</td>\n",
       "      <td>90000</td>\n",
       "      <td>Petrol</td>\n",
       "      <td>Individual</td>\n",
       "      <td>Manual</td>\n",
       "      <td>Second Owner</td>\n",
       "      <td>65000</td>\n",
       "    </tr>\n",
       "    <tr>\n",
       "      <th>4327</th>\n",
       "      <td>Tata Nano XM</td>\n",
       "      <td>2015</td>\n",
       "      <td>60000</td>\n",
       "      <td>Petrol</td>\n",
       "      <td>Individual</td>\n",
       "      <td>Manual</td>\n",
       "      <td>Second Owner</td>\n",
       "      <td>190000</td>\n",
       "    </tr>\n",
       "    <tr>\n",
       "      <th>4329</th>\n",
       "      <td>Tata Manza Aura Safire BS IV</td>\n",
       "      <td>2010</td>\n",
       "      <td>60000</td>\n",
       "      <td>Petrol</td>\n",
       "      <td>Individual</td>\n",
       "      <td>Manual</td>\n",
       "      <td>Second Owner</td>\n",
       "      <td>160000</td>\n",
       "    </tr>\n",
       "    <tr>\n",
       "      <th>4337</th>\n",
       "      <td>Maruti 800 AC BSIII</td>\n",
       "      <td>2009</td>\n",
       "      <td>83000</td>\n",
       "      <td>Petrol</td>\n",
       "      <td>Individual</td>\n",
       "      <td>Manual</td>\n",
       "      <td>Second Owner</td>\n",
       "      <td>110000</td>\n",
       "    </tr>\n",
       "    <tr>\n",
       "      <th>4339</th>\n",
       "      <td>Renault KWID RXT</td>\n",
       "      <td>2016</td>\n",
       "      <td>40000</td>\n",
       "      <td>Petrol</td>\n",
       "      <td>Individual</td>\n",
       "      <td>Manual</td>\n",
       "      <td>First Owner</td>\n",
       "      <td>225000</td>\n",
       "    </tr>\n",
       "  </tbody>\n",
       "</table>\n",
       "<p>1636 rows × 8 columns</p>\n",
       "</div>"
      ],
      "text/plain": [
       "                              name  year  km_driven    fuel seller_type  \\\n",
       "0                    Maruti 800 AC  2007      70000  Petrol  Individual   \n",
       "1         Maruti Wagon R LXI Minor  2007      50000  Petrol  Individual   \n",
       "3           Datsun RediGO T Option  2017      46000  Petrol  Individual   \n",
       "5             Maruti Alto LX BSIII  2007     125000  Petrol  Individual   \n",
       "6        Hyundai Xcent 1.2 Kappa S  2016      25000  Petrol  Individual   \n",
       "...                            ...   ...        ...     ...         ...   \n",
       "4325               Maruti Alto LXi  2000      90000  Petrol  Individual   \n",
       "4327                  Tata Nano XM  2015      60000  Petrol  Individual   \n",
       "4329  Tata Manza Aura Safire BS IV  2010      60000  Petrol  Individual   \n",
       "4337           Maruti 800 AC BSIII  2009      83000  Petrol  Individual   \n",
       "4339              Renault KWID RXT  2016      40000  Petrol  Individual   \n",
       "\n",
       "     transmission         owner  selling_price  \n",
       "0          Manual   First Owner          60000  \n",
       "1          Manual   First Owner         135000  \n",
       "3          Manual   First Owner         250000  \n",
       "5          Manual   First Owner         140000  \n",
       "6          Manual   First Owner         550000  \n",
       "...           ...           ...            ...  \n",
       "4325       Manual  Second Owner          65000  \n",
       "4327       Manual  Second Owner         190000  \n",
       "4329       Manual  Second Owner         160000  \n",
       "4337       Manual  Second Owner         110000  \n",
       "4339       Manual   First Owner         225000  \n",
       "\n",
       "[1636 rows x 8 columns]"
      ]
     },
     "execution_count": 327,
     "metadata": {},
     "output_type": "execute_result"
    }
   ],
   "source": [
    "car1_petrol=car1_petrol[car1_petrol.km_driven < higher_fence_x1]\n",
    "car1_petrol=car1_petrol[car1_petrol.selling_price< higher_fence_y1]\n",
    "car1_petrol"
   ]
  },
  {
   "cell_type": "code",
   "execution_count": 328,
   "id": "93ea3360",
   "metadata": {},
   "outputs": [
    {
     "data": {
      "image/png": "[encoded data removed]",
      "text/plain": [
       "<Figure size 432x288 with 1 Axes>"
      ]
     },
     "metadata": {
      "needs_background": "light"
     },
     "output_type": "display_data"
    }
   ],
   "source": [
    "plt.scatter(car1_petrol['km_driven'],car1_petrol['selling_price'])\n",
    "\n",
    "plt.show()"
   ]
  },
  {
   "cell_type": "code",
   "execution_count": 329,
   "id": "75e0449f",
   "metadata": {},
   "outputs": [
    {
     "data": {
      "text/plain": [
       "2       100000\n",
       "4       141000\n",
       "27        5000\n",
       "28       33000\n",
       "29       28000\n",
       "         ...  \n",
       "4333     90000\n",
       "4334    170000\n",
       "4335     80000\n",
       "4336     80000\n",
       "4338     90000\n",
       "Name: km_driven, Length: 1800, dtype: int64"
      ]
     },
     "execution_count": 329,
     "metadata": {},
     "output_type": "execute_result"
    }
   ],
   "source": [
    "x=car1_diesel['km_driven']\n",
    "x"
   ]
  },
  {
   "cell_type": "code",
   "execution_count": 330,
   "id": "efc5350c",
   "metadata": {},
   "outputs": [],
   "source": [
    "y=car1_diesel['selling_price']"
   ]
  },
  {
   "cell_type": "code",
   "execution_count": 331,
   "id": "6765dcb9",
   "metadata": {},
   "outputs": [],
   "source": [
    "p_x=x.to_numpy()\n",
    "p_y=y.to_numpy()"
   ]
  },
  {
   "cell_type": "code",
   "execution_count": 332,
   "id": "af9ef2ca",
   "metadata": {},
   "outputs": [],
   "source": [
    "z2_x=np.sort(p_x)\n",
    "z2_y=np.sort(p_y)"
   ]
  },
  {
   "cell_type": "code",
   "execution_count": 333,
   "id": "99ff436f",
   "metadata": {},
   "outputs": [],
   "source": [
    "Q1_x=np.percentile(z2_x,25)\n",
    "Q1_y=np.percentile(z2_y,25)"
   ]
  },
  {
   "cell_type": "code",
   "execution_count": 334,
   "id": "36ac2d3d",
   "metadata": {},
   "outputs": [],
   "source": [
    "Q3_x=np.percentile(z2_x,75)\n",
    "Q3_y=np.percentile(z2_y,75)"
   ]
  },
  {
   "cell_type": "code",
   "execution_count": 335,
   "id": "574f6f8e",
   "metadata": {},
   "outputs": [],
   "source": [
    "IQR_x =Q3_x-Q1_x\n",
    "IQR_y=Q3_y-Q1_y"
   ]
  },
  {
   "cell_type": "code",
   "execution_count": 336,
   "id": "9e1b5f09",
   "metadata": {},
   "outputs": [],
   "source": [
    "lower_fence_x2 =Q1_x-(1.5*IQR_x)\n",
    "higher_fence_x2 =Q3_x+(1.5*IQR_x)\n",
    "lower_fence_y2 =Q1_y-(1.5*IQR_y)\n",
    "higher_fence_y2 =Q3_y+(1.5*IQR_y)"
   ]
  },
  {
   "cell_type": "code",
   "execution_count": 337,
   "id": "8b01dba8",
   "metadata": {},
   "outputs": [
    {
     "data": {
      "text/plain": [
       "-40000.0"
      ]
     },
     "execution_count": 337,
     "metadata": {},
     "output_type": "execute_result"
    }
   ],
   "source": [
    "lower_fence_x2"
   ]
  },
  {
   "cell_type": "code",
   "execution_count": 338,
   "id": "89bd3dad",
   "metadata": {},
   "outputs": [
    {
     "data": {
      "text/plain": [
       "200000.0"
      ]
     },
     "execution_count": 338,
     "metadata": {},
     "output_type": "execute_result"
    }
   ],
   "source": [
    "higher_fence_x2"
   ]
  },
  {
   "cell_type": "code",
   "execution_count": 339,
   "id": "6ffbf0f8",
   "metadata": {},
   "outputs": [
    {
     "data": {
      "text/plain": [
       "-362500.0"
      ]
     },
     "execution_count": 339,
     "metadata": {},
     "output_type": "execute_result"
    }
   ],
   "source": [
    "lower_fence_y2"
   ]
  },
  {
   "cell_type": "code",
   "execution_count": 340,
   "id": "4600b015",
   "metadata": {},
   "outputs": [
    {
     "data": {
      "text/plain": [
       "1377500.0"
      ]
     },
     "execution_count": 340,
     "metadata": {},
     "output_type": "execute_result"
    }
   ],
   "source": [
    "higher_fence_y2"
   ]
  },
  {
   "cell_type": "code",
   "execution_count": 341,
   "id": "04db45bb",
   "metadata": {},
   "outputs": [
    {
     "data": {
      "image/png": "[encoded data removed]",
      "text/plain": [
       "<Figure size 432x288 with 1 Axes>"
      ]
     },
     "metadata": {
      "needs_background": "light"
     },
     "output_type": "display_data"
    }
   ],
   "source": [
    "plt.hist(z2_x,bins=30)\n",
    "plt.show()"
   ]
  },
  {
   "cell_type": "code",
   "execution_count": 342,
   "id": "b538cf50",
   "metadata": {},
   "outputs": [
    {
     "data": {
      "image/png": "[encoded data removed]",
      "text/plain": [
       "<Figure size 432x288 with 1 Axes>"
      ]
     },
     "metadata": {
      "needs_background": "light"
     },
     "output_type": "display_data"
    }
   ],
   "source": [
    "plt.hist(z2_y,bins=30)\n",
    "plt.show()"
   ]
  },
  {
   "cell_type": "code",
   "execution_count": 343,
   "id": "f8557670",
   "metadata": {},
   "outputs": [
    {
     "data": {
      "text/html": [
       "<div>\n",
       "<style scoped>\n",
       "    .dataframe tbody tr th:only-of-type {\n",
       "        vertical-align: middle;\n",
       "    }\n",
       "\n",
       "    .dataframe tbody tr th {\n",
       "        vertical-align: top;\n",
       "    }\n",
       "\n",
       "    .dataframe thead th {\n",
       "        text-align: right;\n",
       "    }\n",
       "</style>\n",
       "<table border=\"1\" class=\"dataframe\">\n",
       "  <thead>\n",
       "    <tr style=\"text-align: right;\">\n",
       "      <th></th>\n",
       "      <th>name</th>\n",
       "      <th>year</th>\n",
       "      <th>km_driven</th>\n",
       "      <th>fuel</th>\n",
       "      <th>seller_type</th>\n",
       "      <th>transmission</th>\n",
       "      <th>owner</th>\n",
       "      <th>selling_price</th>\n",
       "    </tr>\n",
       "  </thead>\n",
       "  <tbody>\n",
       "    <tr>\n",
       "      <th>2</th>\n",
       "      <td>Hyundai Verna 1.6 SX</td>\n",
       "      <td>2012</td>\n",
       "      <td>100000</td>\n",
       "      <td>Diesel</td>\n",
       "      <td>Individual</td>\n",
       "      <td>Manual</td>\n",
       "      <td>First Owner</td>\n",
       "      <td>600000</td>\n",
       "    </tr>\n",
       "    <tr>\n",
       "      <th>4</th>\n",
       "      <td>Honda Amaze VX i-DTEC</td>\n",
       "      <td>2014</td>\n",
       "      <td>141000</td>\n",
       "      <td>Diesel</td>\n",
       "      <td>Individual</td>\n",
       "      <td>Manual</td>\n",
       "      <td>Second Owner</td>\n",
       "      <td>450000</td>\n",
       "    </tr>\n",
       "    <tr>\n",
       "      <th>27</th>\n",
       "      <td>Hyundai Venue SX Opt Diesel</td>\n",
       "      <td>2019</td>\n",
       "      <td>5000</td>\n",
       "      <td>Diesel</td>\n",
       "      <td>Dealer</td>\n",
       "      <td>Manual</td>\n",
       "      <td>First Owner</td>\n",
       "      <td>1195000</td>\n",
       "    </tr>\n",
       "    <tr>\n",
       "      <th>28</th>\n",
       "      <td>Chevrolet Enjoy TCDi LTZ 7 Seater</td>\n",
       "      <td>2013</td>\n",
       "      <td>33000</td>\n",
       "      <td>Diesel</td>\n",
       "      <td>Individual</td>\n",
       "      <td>Manual</td>\n",
       "      <td>Second Owner</td>\n",
       "      <td>390000</td>\n",
       "    </tr>\n",
       "    <tr>\n",
       "      <th>31</th>\n",
       "      <td>Maruti Vitara Brezza ZDi Plus AMT</td>\n",
       "      <td>2018</td>\n",
       "      <td>4500</td>\n",
       "      <td>Diesel</td>\n",
       "      <td>Dealer</td>\n",
       "      <td>Automatic</td>\n",
       "      <td>First Owner</td>\n",
       "      <td>975000</td>\n",
       "    </tr>\n",
       "    <tr>\n",
       "      <th>...</th>\n",
       "      <td>...</td>\n",
       "      <td>...</td>\n",
       "      <td>...</td>\n",
       "      <td>...</td>\n",
       "      <td>...</td>\n",
       "      <td>...</td>\n",
       "      <td>...</td>\n",
       "      <td>...</td>\n",
       "    </tr>\n",
       "    <tr>\n",
       "      <th>4333</th>\n",
       "      <td>Maruti Ritz VDi</td>\n",
       "      <td>2012</td>\n",
       "      <td>90000</td>\n",
       "      <td>Diesel</td>\n",
       "      <td>Individual</td>\n",
       "      <td>Manual</td>\n",
       "      <td>Second Owner</td>\n",
       "      <td>225000</td>\n",
       "    </tr>\n",
       "    <tr>\n",
       "      <th>4334</th>\n",
       "      <td>Toyota Innova 2.5 VX (Diesel) 8 Seater BS IV</td>\n",
       "      <td>2012</td>\n",
       "      <td>170000</td>\n",
       "      <td>Diesel</td>\n",
       "      <td>Individual</td>\n",
       "      <td>Manual</td>\n",
       "      <td>First Owner</td>\n",
       "      <td>600000</td>\n",
       "    </tr>\n",
       "    <tr>\n",
       "      <th>4335</th>\n",
       "      <td>Hyundai i20 Magna 1.4 CRDi (Diesel)</td>\n",
       "      <td>2014</td>\n",
       "      <td>80000</td>\n",
       "      <td>Diesel</td>\n",
       "      <td>Individual</td>\n",
       "      <td>Manual</td>\n",
       "      <td>Second Owner</td>\n",
       "      <td>409999</td>\n",
       "    </tr>\n",
       "    <tr>\n",
       "      <th>4336</th>\n",
       "      <td>Hyundai i20 Magna 1.4 CRDi</td>\n",
       "      <td>2014</td>\n",
       "      <td>80000</td>\n",
       "      <td>Diesel</td>\n",
       "      <td>Individual</td>\n",
       "      <td>Manual</td>\n",
       "      <td>Second Owner</td>\n",
       "      <td>409999</td>\n",
       "    </tr>\n",
       "    <tr>\n",
       "      <th>4338</th>\n",
       "      <td>Hyundai Creta 1.6 CRDi SX Option</td>\n",
       "      <td>2016</td>\n",
       "      <td>90000</td>\n",
       "      <td>Diesel</td>\n",
       "      <td>Individual</td>\n",
       "      <td>Manual</td>\n",
       "      <td>First Owner</td>\n",
       "      <td>865000</td>\n",
       "    </tr>\n",
       "  </tbody>\n",
       "</table>\n",
       "<p>1629 rows × 8 columns</p>\n",
       "</div>"
      ],
      "text/plain": [
       "                                              name  year  km_driven    fuel  \\\n",
       "2                             Hyundai Verna 1.6 SX  2012     100000  Diesel   \n",
       "4                            Honda Amaze VX i-DTEC  2014     141000  Diesel   \n",
       "27                     Hyundai Venue SX Opt Diesel  2019       5000  Diesel   \n",
       "28               Chevrolet Enjoy TCDi LTZ 7 Seater  2013      33000  Diesel   \n",
       "31               Maruti Vitara Brezza ZDi Plus AMT  2018       4500  Diesel   \n",
       "...                                            ...   ...        ...     ...   \n",
       "4333                               Maruti Ritz VDi  2012      90000  Diesel   \n",
       "4334  Toyota Innova 2.5 VX (Diesel) 8 Seater BS IV  2012     170000  Diesel   \n",
       "4335           Hyundai i20 Magna 1.4 CRDi (Diesel)  2014      80000  Diesel   \n",
       "4336                    Hyundai i20 Magna 1.4 CRDi  2014      80000  Diesel   \n",
       "4338              Hyundai Creta 1.6 CRDi SX Option  2016      90000  Diesel   \n",
       "\n",
       "     seller_type transmission         owner  selling_price  \n",
       "2     Individual       Manual   First Owner         600000  \n",
       "4     Individual       Manual  Second Owner         450000  \n",
       "27        Dealer       Manual   First Owner        1195000  \n",
       "28    Individual       Manual  Second Owner         390000  \n",
       "31        Dealer    Automatic   First Owner         975000  \n",
       "...          ...          ...           ...            ...  \n",
       "4333  Individual       Manual  Second Owner         225000  \n",
       "4334  Individual       Manual   First Owner         600000  \n",
       "4335  Individual       Manual  Second Owner         409999  \n",
       "4336  Individual       Manual  Second Owner         409999  \n",
       "4338  Individual       Manual   First Owner         865000  \n",
       "\n",
       "[1629 rows x 8 columns]"
      ]
     },
     "execution_count": 343,
     "metadata": {},
     "output_type": "execute_result"
    }
   ],
   "source": [
    "car1_diesel=car1_diesel[car1_diesel['km_driven']< higher_fence_x2]\n",
    "car1_diesel=car1_diesel[car1_diesel['selling_price']< higher_fence_y2]\n",
    "car1_diesel"
   ]
  },
  {
   "cell_type": "code",
   "execution_count": 344,
   "id": "a4624b73",
   "metadata": {},
   "outputs": [
    {
     "data": {
      "image/png": "[encoded data removed]",
      "text/plain": [
       "<Figure size 432x288 with 1 Axes>"
      ]
     },
     "metadata": {
      "needs_background": "light"
     },
     "output_type": "display_data"
    }
   ],
   "source": [
    "plt.scatter(car1_diesel['km_driven'],car1_diesel['selling_price'])\n",
    "\n",
    "plt.show()"
   ]
  },
  {
   "cell_type": "code",
   "execution_count": 345,
   "id": "d45a51d6",
   "metadata": {},
   "outputs": [
    {
     "data": {
      "text/html": [
       "<div>\n",
       "<style scoped>\n",
       "    .dataframe tbody tr th:only-of-type {\n",
       "        vertical-align: middle;\n",
       "    }\n",
       "\n",
       "    .dataframe tbody tr th {\n",
       "        vertical-align: top;\n",
       "    }\n",
       "\n",
       "    .dataframe thead th {\n",
       "        text-align: right;\n",
       "    }\n",
       "</style>\n",
       "<table border=\"1\" class=\"dataframe\">\n",
       "  <thead>\n",
       "    <tr style=\"text-align: right;\">\n",
       "      <th></th>\n",
       "      <th>fuel</th>\n",
       "      <th>km_driven</th>\n",
       "      <th>name</th>\n",
       "      <th>owner</th>\n",
       "      <th>seller_type</th>\n",
       "      <th>selling_price</th>\n",
       "      <th>transmission</th>\n",
       "      <th>year</th>\n",
       "    </tr>\n",
       "  </thead>\n",
       "  <tbody>\n",
       "    <tr>\n",
       "      <th>0</th>\n",
       "      <td>Petrol</td>\n",
       "      <td>70000</td>\n",
       "      <td>Maruti 800 AC</td>\n",
       "      <td>First Owner</td>\n",
       "      <td>Individual</td>\n",
       "      <td>60000</td>\n",
       "      <td>Manual</td>\n",
       "      <td>2007</td>\n",
       "    </tr>\n",
       "    <tr>\n",
       "      <th>1</th>\n",
       "      <td>Petrol</td>\n",
       "      <td>50000</td>\n",
       "      <td>Maruti Wagon R LXI Minor</td>\n",
       "      <td>First Owner</td>\n",
       "      <td>Individual</td>\n",
       "      <td>135000</td>\n",
       "      <td>Manual</td>\n",
       "      <td>2007</td>\n",
       "    </tr>\n",
       "    <tr>\n",
       "      <th>3</th>\n",
       "      <td>Petrol</td>\n",
       "      <td>46000</td>\n",
       "      <td>Datsun RediGO T Option</td>\n",
       "      <td>First Owner</td>\n",
       "      <td>Individual</td>\n",
       "      <td>250000</td>\n",
       "      <td>Manual</td>\n",
       "      <td>2017</td>\n",
       "    </tr>\n",
       "    <tr>\n",
       "      <th>5</th>\n",
       "      <td>Petrol</td>\n",
       "      <td>125000</td>\n",
       "      <td>Maruti Alto LX BSIII</td>\n",
       "      <td>First Owner</td>\n",
       "      <td>Individual</td>\n",
       "      <td>140000</td>\n",
       "      <td>Manual</td>\n",
       "      <td>2007</td>\n",
       "    </tr>\n",
       "    <tr>\n",
       "      <th>6</th>\n",
       "      <td>Petrol</td>\n",
       "      <td>25000</td>\n",
       "      <td>Hyundai Xcent 1.2 Kappa S</td>\n",
       "      <td>First Owner</td>\n",
       "      <td>Individual</td>\n",
       "      <td>550000</td>\n",
       "      <td>Manual</td>\n",
       "      <td>2016</td>\n",
       "    </tr>\n",
       "    <tr>\n",
       "      <th>...</th>\n",
       "      <td>...</td>\n",
       "      <td>...</td>\n",
       "      <td>...</td>\n",
       "      <td>...</td>\n",
       "      <td>...</td>\n",
       "      <td>...</td>\n",
       "      <td>...</td>\n",
       "      <td>...</td>\n",
       "    </tr>\n",
       "    <tr>\n",
       "      <th>4333</th>\n",
       "      <td>Diesel</td>\n",
       "      <td>90000</td>\n",
       "      <td>Maruti Ritz VDi</td>\n",
       "      <td>Second Owner</td>\n",
       "      <td>Individual</td>\n",
       "      <td>225000</td>\n",
       "      <td>Manual</td>\n",
       "      <td>2012</td>\n",
       "    </tr>\n",
       "    <tr>\n",
       "      <th>4334</th>\n",
       "      <td>Diesel</td>\n",
       "      <td>170000</td>\n",
       "      <td>Toyota Innova 2.5 VX (Diesel) 8 Seater BS IV</td>\n",
       "      <td>First Owner</td>\n",
       "      <td>Individual</td>\n",
       "      <td>600000</td>\n",
       "      <td>Manual</td>\n",
       "      <td>2012</td>\n",
       "    </tr>\n",
       "    <tr>\n",
       "      <th>4335</th>\n",
       "      <td>Diesel</td>\n",
       "      <td>80000</td>\n",
       "      <td>Hyundai i20 Magna 1.4 CRDi (Diesel)</td>\n",
       "      <td>Second Owner</td>\n",
       "      <td>Individual</td>\n",
       "      <td>409999</td>\n",
       "      <td>Manual</td>\n",
       "      <td>2014</td>\n",
       "    </tr>\n",
       "    <tr>\n",
       "      <th>4336</th>\n",
       "      <td>Diesel</td>\n",
       "      <td>80000</td>\n",
       "      <td>Hyundai i20 Magna 1.4 CRDi</td>\n",
       "      <td>Second Owner</td>\n",
       "      <td>Individual</td>\n",
       "      <td>409999</td>\n",
       "      <td>Manual</td>\n",
       "      <td>2014</td>\n",
       "    </tr>\n",
       "    <tr>\n",
       "      <th>4338</th>\n",
       "      <td>Diesel</td>\n",
       "      <td>90000</td>\n",
       "      <td>Hyundai Creta 1.6 CRDi SX Option</td>\n",
       "      <td>First Owner</td>\n",
       "      <td>Individual</td>\n",
       "      <td>865000</td>\n",
       "      <td>Manual</td>\n",
       "      <td>2016</td>\n",
       "    </tr>\n",
       "  </tbody>\n",
       "</table>\n",
       "<p>3265 rows × 8 columns</p>\n",
       "</div>"
      ],
      "text/plain": [
       "        fuel  km_driven                                          name  \\\n",
       "0     Petrol      70000                                 Maruti 800 AC   \n",
       "1     Petrol      50000                      Maruti Wagon R LXI Minor   \n",
       "3     Petrol      46000                        Datsun RediGO T Option   \n",
       "5     Petrol     125000                          Maruti Alto LX BSIII   \n",
       "6     Petrol      25000                     Hyundai Xcent 1.2 Kappa S   \n",
       "...      ...        ...                                           ...   \n",
       "4333  Diesel      90000                               Maruti Ritz VDi   \n",
       "4334  Diesel     170000  Toyota Innova 2.5 VX (Diesel) 8 Seater BS IV   \n",
       "4335  Diesel      80000           Hyundai i20 Magna 1.4 CRDi (Diesel)   \n",
       "4336  Diesel      80000                    Hyundai i20 Magna 1.4 CRDi   \n",
       "4338  Diesel      90000              Hyundai Creta 1.6 CRDi SX Option   \n",
       "\n",
       "             owner seller_type  selling_price transmission  year  \n",
       "0      First Owner  Individual          60000       Manual  2007  \n",
       "1      First Owner  Individual         135000       Manual  2007  \n",
       "3      First Owner  Individual         250000       Manual  2017  \n",
       "5      First Owner  Individual         140000       Manual  2007  \n",
       "6      First Owner  Individual         550000       Manual  2016  \n",
       "...            ...         ...            ...          ...   ...  \n",
       "4333  Second Owner  Individual         225000       Manual  2012  \n",
       "4334   First Owner  Individual         600000       Manual  2012  \n",
       "4335  Second Owner  Individual         409999       Manual  2014  \n",
       "4336  Second Owner  Individual         409999       Manual  2014  \n",
       "4338   First Owner  Individual         865000       Manual  2016  \n",
       "\n",
       "[3265 rows x 8 columns]"
      ]
     },
     "execution_count": 345,
     "metadata": {},
     "output_type": "execute_result"
    }
   ],
   "source": [
    "car1 = pd.concat([car1_petrol,car1_diesel],sort = True)\n",
    "car1"
   ]
  },
  {
   "cell_type": "code",
   "execution_count": 346,
   "id": "d0bc0a64",
   "metadata": {},
   "outputs": [
    {
     "data": {
      "text/html": [
       "<div>\n",
       "<style scoped>\n",
       "    .dataframe tbody tr th:only-of-type {\n",
       "        vertical-align: middle;\n",
       "    }\n",
       "\n",
       "    .dataframe tbody tr th {\n",
       "        vertical-align: top;\n",
       "    }\n",
       "\n",
       "    .dataframe thead th {\n",
       "        text-align: right;\n",
       "    }\n",
       "</style>\n",
       "<table border=\"1\" class=\"dataframe\">\n",
       "  <thead>\n",
       "    <tr style=\"text-align: right;\">\n",
       "      <th></th>\n",
       "      <th>fuel</th>\n",
       "      <th>km_driven</th>\n",
       "      <th>name</th>\n",
       "      <th>owner</th>\n",
       "      <th>seller_type</th>\n",
       "      <th>selling_price</th>\n",
       "      <th>transmission</th>\n",
       "      <th>year</th>\n",
       "    </tr>\n",
       "  </thead>\n",
       "  <tbody>\n",
       "    <tr>\n",
       "      <th>672</th>\n",
       "      <td>Diesel</td>\n",
       "      <td>110000</td>\n",
       "      <td>Hyundai Verna CRDi</td>\n",
       "      <td>Second Owner</td>\n",
       "      <td>Individual</td>\n",
       "      <td>250000</td>\n",
       "      <td>Manual</td>\n",
       "      <td>2008</td>\n",
       "    </tr>\n",
       "    <tr>\n",
       "      <th>2469</th>\n",
       "      <td>Petrol</td>\n",
       "      <td>70000</td>\n",
       "      <td>Maruti Wagon R VXI BS IV</td>\n",
       "      <td>Third Owner</td>\n",
       "      <td>Individual</td>\n",
       "      <td>210000</td>\n",
       "      <td>Manual</td>\n",
       "      <td>2014</td>\n",
       "    </tr>\n",
       "    <tr>\n",
       "      <th>3373</th>\n",
       "      <td>Diesel</td>\n",
       "      <td>41000</td>\n",
       "      <td>Maruti S-Cross Sigma DDiS 200 SH</td>\n",
       "      <td>First Owner</td>\n",
       "      <td>Individual</td>\n",
       "      <td>690000</td>\n",
       "      <td>Manual</td>\n",
       "      <td>2017</td>\n",
       "    </tr>\n",
       "    <tr>\n",
       "      <th>42</th>\n",
       "      <td>Petrol</td>\n",
       "      <td>60000</td>\n",
       "      <td>Hyundai i10 Magna 1.1L</td>\n",
       "      <td>Fourth &amp; Above Owner</td>\n",
       "      <td>Individual</td>\n",
       "      <td>229999</td>\n",
       "      <td>Manual</td>\n",
       "      <td>2014</td>\n",
       "    </tr>\n",
       "    <tr>\n",
       "      <th>482</th>\n",
       "      <td>Diesel</td>\n",
       "      <td>109000</td>\n",
       "      <td>Maruti Swift VDI</td>\n",
       "      <td>First Owner</td>\n",
       "      <td>Individual</td>\n",
       "      <td>352000</td>\n",
       "      <td>Manual</td>\n",
       "      <td>2012</td>\n",
       "    </tr>\n",
       "    <tr>\n",
       "      <th>...</th>\n",
       "      <td>...</td>\n",
       "      <td>...</td>\n",
       "      <td>...</td>\n",
       "      <td>...</td>\n",
       "      <td>...</td>\n",
       "      <td>...</td>\n",
       "      <td>...</td>\n",
       "      <td>...</td>\n",
       "    </tr>\n",
       "    <tr>\n",
       "      <th>1221</th>\n",
       "      <td>Petrol</td>\n",
       "      <td>60000</td>\n",
       "      <td>Chevrolet Spark 1.0 LT</td>\n",
       "      <td>First Owner</td>\n",
       "      <td>Individual</td>\n",
       "      <td>165000</td>\n",
       "      <td>Manual</td>\n",
       "      <td>2011</td>\n",
       "    </tr>\n",
       "    <tr>\n",
       "      <th>670</th>\n",
       "      <td>Diesel</td>\n",
       "      <td>100000</td>\n",
       "      <td>Hyundai Verna 1.6 SX</td>\n",
       "      <td>Second Owner</td>\n",
       "      <td>Individual</td>\n",
       "      <td>495000</td>\n",
       "      <td>Manual</td>\n",
       "      <td>2013</td>\n",
       "    </tr>\n",
       "    <tr>\n",
       "      <th>658</th>\n",
       "      <td>Diesel</td>\n",
       "      <td>80000</td>\n",
       "      <td>Tata Venture EX</td>\n",
       "      <td>First Owner</td>\n",
       "      <td>Individual</td>\n",
       "      <td>110000</td>\n",
       "      <td>Manual</td>\n",
       "      <td>2012</td>\n",
       "    </tr>\n",
       "    <tr>\n",
       "      <th>1076</th>\n",
       "      <td>Diesel</td>\n",
       "      <td>35000</td>\n",
       "      <td>Renault Lodgy 85PS RxL</td>\n",
       "      <td>First Owner</td>\n",
       "      <td>Individual</td>\n",
       "      <td>715000</td>\n",
       "      <td>Manual</td>\n",
       "      <td>2015</td>\n",
       "    </tr>\n",
       "    <tr>\n",
       "      <th>3913</th>\n",
       "      <td>Petrol</td>\n",
       "      <td>90000</td>\n",
       "      <td>Fiat Linea T Jet Emotion</td>\n",
       "      <td>Second Owner</td>\n",
       "      <td>Individual</td>\n",
       "      <td>215000</td>\n",
       "      <td>Manual</td>\n",
       "      <td>2010</td>\n",
       "    </tr>\n",
       "  </tbody>\n",
       "</table>\n",
       "<p>3157 rows × 8 columns</p>\n",
       "</div>"
      ],
      "text/plain": [
       "        fuel  km_driven                              name  \\\n",
       "672   Diesel     110000                Hyundai Verna CRDi   \n",
       "2469  Petrol      70000          Maruti Wagon R VXI BS IV   \n",
       "3373  Diesel      41000  Maruti S-Cross Sigma DDiS 200 SH   \n",
       "42    Petrol      60000            Hyundai i10 Magna 1.1L   \n",
       "482   Diesel     109000                  Maruti Swift VDI   \n",
       "...      ...        ...                               ...   \n",
       "1221  Petrol      60000            Chevrolet Spark 1.0 LT   \n",
       "670   Diesel     100000              Hyundai Verna 1.6 SX   \n",
       "658   Diesel      80000                   Tata Venture EX   \n",
       "1076  Diesel      35000            Renault Lodgy 85PS RxL   \n",
       "3913  Petrol      90000          Fiat Linea T Jet Emotion   \n",
       "\n",
       "                     owner seller_type  selling_price transmission  year  \n",
       "672           Second Owner  Individual         250000       Manual  2008  \n",
       "2469           Third Owner  Individual         210000       Manual  2014  \n",
       "3373           First Owner  Individual         690000       Manual  2017  \n",
       "42    Fourth & Above Owner  Individual         229999       Manual  2014  \n",
       "482            First Owner  Individual         352000       Manual  2012  \n",
       "...                    ...         ...            ...          ...   ...  \n",
       "1221           First Owner  Individual         165000       Manual  2011  \n",
       "670           Second Owner  Individual         495000       Manual  2013  \n",
       "658            First Owner  Individual         110000       Manual  2012  \n",
       "1076           First Owner  Individual         715000       Manual  2015  \n",
       "3913          Second Owner  Individual         215000       Manual  2010  \n",
       "\n",
       "[3157 rows x 8 columns]"
      ]
     },
     "execution_count": 346,
     "metadata": {},
     "output_type": "execute_result"
    }
   ],
   "source": [
    "car1 =car1.sample(3157)\n",
    "car1"
   ]
  },
  {
   "cell_type": "code",
   "execution_count": 347,
   "id": "557dfdf6",
   "metadata": {},
   "outputs": [],
   "source": [
    "car1.reset_index(inplace=True)"
   ]
  },
  {
   "cell_type": "code",
   "execution_count": 348,
   "id": "8a6771dd",
   "metadata": {},
   "outputs": [
    {
     "data": {
      "text/html": [
       "<div>\n",
       "<style scoped>\n",
       "    .dataframe tbody tr th:only-of-type {\n",
       "        vertical-align: middle;\n",
       "    }\n",
       "\n",
       "    .dataframe tbody tr th {\n",
       "        vertical-align: top;\n",
       "    }\n",
       "\n",
       "    .dataframe thead th {\n",
       "        text-align: right;\n",
       "    }\n",
       "</style>\n",
       "<table border=\"1\" class=\"dataframe\">\n",
       "  <thead>\n",
       "    <tr style=\"text-align: right;\">\n",
       "      <th></th>\n",
       "      <th>fuel</th>\n",
       "      <th>km_driven</th>\n",
       "      <th>name</th>\n",
       "      <th>owner</th>\n",
       "      <th>seller_type</th>\n",
       "      <th>selling_price</th>\n",
       "      <th>transmission</th>\n",
       "      <th>year</th>\n",
       "    </tr>\n",
       "  </thead>\n",
       "  <tbody>\n",
       "    <tr>\n",
       "      <th>0</th>\n",
       "      <td>Diesel</td>\n",
       "      <td>110000</td>\n",
       "      <td>Hyundai Verna CRDi</td>\n",
       "      <td>Second Owner</td>\n",
       "      <td>Individual</td>\n",
       "      <td>250000</td>\n",
       "      <td>Manual</td>\n",
       "      <td>2008</td>\n",
       "    </tr>\n",
       "    <tr>\n",
       "      <th>1</th>\n",
       "      <td>Petrol</td>\n",
       "      <td>70000</td>\n",
       "      <td>Maruti Wagon R VXI BS IV</td>\n",
       "      <td>Third Owner</td>\n",
       "      <td>Individual</td>\n",
       "      <td>210000</td>\n",
       "      <td>Manual</td>\n",
       "      <td>2014</td>\n",
       "    </tr>\n",
       "    <tr>\n",
       "      <th>2</th>\n",
       "      <td>Diesel</td>\n",
       "      <td>41000</td>\n",
       "      <td>Maruti S-Cross Sigma DDiS 200 SH</td>\n",
       "      <td>First Owner</td>\n",
       "      <td>Individual</td>\n",
       "      <td>690000</td>\n",
       "      <td>Manual</td>\n",
       "      <td>2017</td>\n",
       "    </tr>\n",
       "    <tr>\n",
       "      <th>3</th>\n",
       "      <td>Petrol</td>\n",
       "      <td>60000</td>\n",
       "      <td>Hyundai i10 Magna 1.1L</td>\n",
       "      <td>Fourth &amp; Above Owner</td>\n",
       "      <td>Individual</td>\n",
       "      <td>229999</td>\n",
       "      <td>Manual</td>\n",
       "      <td>2014</td>\n",
       "    </tr>\n",
       "    <tr>\n",
       "      <th>4</th>\n",
       "      <td>Diesel</td>\n",
       "      <td>109000</td>\n",
       "      <td>Maruti Swift VDI</td>\n",
       "      <td>First Owner</td>\n",
       "      <td>Individual</td>\n",
       "      <td>352000</td>\n",
       "      <td>Manual</td>\n",
       "      <td>2012</td>\n",
       "    </tr>\n",
       "    <tr>\n",
       "      <th>...</th>\n",
       "      <td>...</td>\n",
       "      <td>...</td>\n",
       "      <td>...</td>\n",
       "      <td>...</td>\n",
       "      <td>...</td>\n",
       "      <td>...</td>\n",
       "      <td>...</td>\n",
       "      <td>...</td>\n",
       "    </tr>\n",
       "    <tr>\n",
       "      <th>3152</th>\n",
       "      <td>Petrol</td>\n",
       "      <td>60000</td>\n",
       "      <td>Chevrolet Spark 1.0 LT</td>\n",
       "      <td>First Owner</td>\n",
       "      <td>Individual</td>\n",
       "      <td>165000</td>\n",
       "      <td>Manual</td>\n",
       "      <td>2011</td>\n",
       "    </tr>\n",
       "    <tr>\n",
       "      <th>3153</th>\n",
       "      <td>Diesel</td>\n",
       "      <td>100000</td>\n",
       "      <td>Hyundai Verna 1.6 SX</td>\n",
       "      <td>Second Owner</td>\n",
       "      <td>Individual</td>\n",
       "      <td>495000</td>\n",
       "      <td>Manual</td>\n",
       "      <td>2013</td>\n",
       "    </tr>\n",
       "    <tr>\n",
       "      <th>3154</th>\n",
       "      <td>Diesel</td>\n",
       "      <td>80000</td>\n",
       "      <td>Tata Venture EX</td>\n",
       "      <td>First Owner</td>\n",
       "      <td>Individual</td>\n",
       "      <td>110000</td>\n",
       "      <td>Manual</td>\n",
       "      <td>2012</td>\n",
       "    </tr>\n",
       "    <tr>\n",
       "      <th>3155</th>\n",
       "      <td>Diesel</td>\n",
       "      <td>35000</td>\n",
       "      <td>Renault Lodgy 85PS RxL</td>\n",
       "      <td>First Owner</td>\n",
       "      <td>Individual</td>\n",
       "      <td>715000</td>\n",
       "      <td>Manual</td>\n",
       "      <td>2015</td>\n",
       "    </tr>\n",
       "    <tr>\n",
       "      <th>3156</th>\n",
       "      <td>Petrol</td>\n",
       "      <td>90000</td>\n",
       "      <td>Fiat Linea T Jet Emotion</td>\n",
       "      <td>Second Owner</td>\n",
       "      <td>Individual</td>\n",
       "      <td>215000</td>\n",
       "      <td>Manual</td>\n",
       "      <td>2010</td>\n",
       "    </tr>\n",
       "  </tbody>\n",
       "</table>\n",
       "<p>3157 rows × 8 columns</p>\n",
       "</div>"
      ],
      "text/plain": [
       "        fuel  km_driven                              name  \\\n",
       "0     Diesel     110000                Hyundai Verna CRDi   \n",
       "1     Petrol      70000          Maruti Wagon R VXI BS IV   \n",
       "2     Diesel      41000  Maruti S-Cross Sigma DDiS 200 SH   \n",
       "3     Petrol      60000            Hyundai i10 Magna 1.1L   \n",
       "4     Diesel     109000                  Maruti Swift VDI   \n",
       "...      ...        ...                               ...   \n",
       "3152  Petrol      60000            Chevrolet Spark 1.0 LT   \n",
       "3153  Diesel     100000              Hyundai Verna 1.6 SX   \n",
       "3154  Diesel      80000                   Tata Venture EX   \n",
       "3155  Diesel      35000            Renault Lodgy 85PS RxL   \n",
       "3156  Petrol      90000          Fiat Linea T Jet Emotion   \n",
       "\n",
       "                     owner seller_type  selling_price transmission  year  \n",
       "0             Second Owner  Individual         250000       Manual  2008  \n",
       "1              Third Owner  Individual         210000       Manual  2014  \n",
       "2              First Owner  Individual         690000       Manual  2017  \n",
       "3     Fourth & Above Owner  Individual         229999       Manual  2014  \n",
       "4              First Owner  Individual         352000       Manual  2012  \n",
       "...                    ...         ...            ...          ...   ...  \n",
       "3152           First Owner  Individual         165000       Manual  2011  \n",
       "3153          Second Owner  Individual         495000       Manual  2013  \n",
       "3154           First Owner  Individual         110000       Manual  2012  \n",
       "3155           First Owner  Individual         715000       Manual  2015  \n",
       "3156          Second Owner  Individual         215000       Manual  2010  \n",
       "\n",
       "[3157 rows x 8 columns]"
      ]
     },
     "execution_count": 348,
     "metadata": {},
     "output_type": "execute_result"
    }
   ],
   "source": [
    "car1.drop('index',axis=1,inplace=True)\n",
    "car1"
   ]
  },
  {
   "cell_type": "code",
   "execution_count": 349,
   "id": "150d710b",
   "metadata": {},
   "outputs": [
    {
     "data": {
      "text/html": [
       "<div>\n",
       "<style scoped>\n",
       "    .dataframe tbody tr th:only-of-type {\n",
       "        vertical-align: middle;\n",
       "    }\n",
       "\n",
       "    .dataframe tbody tr th {\n",
       "        vertical-align: top;\n",
       "    }\n",
       "\n",
       "    .dataframe thead th {\n",
       "        text-align: right;\n",
       "    }\n",
       "</style>\n",
       "<table border=\"1\" class=\"dataframe\">\n",
       "  <thead>\n",
       "    <tr style=\"text-align: right;\">\n",
       "      <th></th>\n",
       "      <th>fuel</th>\n",
       "      <th>km_driven</th>\n",
       "      <th>selling_price</th>\n",
       "    </tr>\n",
       "  </thead>\n",
       "  <tbody>\n",
       "    <tr>\n",
       "      <th>0</th>\n",
       "      <td>Diesel</td>\n",
       "      <td>110000</td>\n",
       "      <td>250000</td>\n",
       "    </tr>\n",
       "    <tr>\n",
       "      <th>1</th>\n",
       "      <td>Petrol</td>\n",
       "      <td>70000</td>\n",
       "      <td>210000</td>\n",
       "    </tr>\n",
       "    <tr>\n",
       "      <th>2</th>\n",
       "      <td>Diesel</td>\n",
       "      <td>41000</td>\n",
       "      <td>690000</td>\n",
       "    </tr>\n",
       "    <tr>\n",
       "      <th>3</th>\n",
       "      <td>Petrol</td>\n",
       "      <td>60000</td>\n",
       "      <td>229999</td>\n",
       "    </tr>\n",
       "    <tr>\n",
       "      <th>4</th>\n",
       "      <td>Diesel</td>\n",
       "      <td>109000</td>\n",
       "      <td>352000</td>\n",
       "    </tr>\n",
       "    <tr>\n",
       "      <th>...</th>\n",
       "      <td>...</td>\n",
       "      <td>...</td>\n",
       "      <td>...</td>\n",
       "    </tr>\n",
       "    <tr>\n",
       "      <th>3152</th>\n",
       "      <td>Petrol</td>\n",
       "      <td>60000</td>\n",
       "      <td>165000</td>\n",
       "    </tr>\n",
       "    <tr>\n",
       "      <th>3153</th>\n",
       "      <td>Diesel</td>\n",
       "      <td>100000</td>\n",
       "      <td>495000</td>\n",
       "    </tr>\n",
       "    <tr>\n",
       "      <th>3154</th>\n",
       "      <td>Diesel</td>\n",
       "      <td>80000</td>\n",
       "      <td>110000</td>\n",
       "    </tr>\n",
       "    <tr>\n",
       "      <th>3155</th>\n",
       "      <td>Diesel</td>\n",
       "      <td>35000</td>\n",
       "      <td>715000</td>\n",
       "    </tr>\n",
       "    <tr>\n",
       "      <th>3156</th>\n",
       "      <td>Petrol</td>\n",
       "      <td>90000</td>\n",
       "      <td>215000</td>\n",
       "    </tr>\n",
       "  </tbody>\n",
       "</table>\n",
       "<p>3157 rows × 3 columns</p>\n",
       "</div>"
      ],
      "text/plain": [
       "        fuel  km_driven  selling_price\n",
       "0     Diesel     110000         250000\n",
       "1     Petrol      70000         210000\n",
       "2     Diesel      41000         690000\n",
       "3     Petrol      60000         229999\n",
       "4     Diesel     109000         352000\n",
       "...      ...        ...            ...\n",
       "3152  Petrol      60000         165000\n",
       "3153  Diesel     100000         495000\n",
       "3154  Diesel      80000         110000\n",
       "3155  Diesel      35000         715000\n",
       "3156  Petrol      90000         215000\n",
       "\n",
       "[3157 rows x 3 columns]"
      ]
     },
     "execution_count": 349,
     "metadata": {},
     "output_type": "execute_result"
    }
   ],
   "source": [
    "p1=car1[['fuel','km_driven','selling_price']]\n",
    "p1"
   ]
  },
  {
   "cell_type": "code",
   "execution_count": 350,
   "id": "56276acc",
   "metadata": {},
   "outputs": [
    {
     "data": {
      "text/plain": [
       "array(['Diesel', 'Petrol'], dtype=object)"
      ]
     },
     "execution_count": 350,
     "metadata": {},
     "output_type": "execute_result"
    }
   ],
   "source": [
    "p1['fuel'].unique()"
   ]
  },
  {
   "cell_type": "code",
   "execution_count": 351,
   "id": "9d448904",
   "metadata": {},
   "outputs": [],
   "source": [
    "from sklearn.preprocessing import LabelEncoder"
   ]
  },
  {
   "cell_type": "code",
   "execution_count": 352,
   "id": "aeeaf533",
   "metadata": {},
   "outputs": [
    {
     "name": "stderr",
     "output_type": "stream",
     "text": [
      "C:\\Users\\LENOVO\\AppData\\Local\\Temp\\ipykernel_5920\\3014737678.py:2: SettingWithCopyWarning: \n",
      "A value is trying to be set on a copy of a slice from a DataFrame.\n",
      "Try using .loc[row_indexer,col_indexer] = value instead\n",
      "\n",
      "See the caveats in the documentation: https://pandas.pydata.org/pandas-docs/stable/user_guide/indexing.html#returning-a-view-versus-a-copy\n",
      "  p1['fuel']=label_encoder.fit_transform(p1['fuel'])\n"
     ]
    }
   ],
   "source": [
    "label_encoder =LabelEncoder()\n",
    "p1['fuel']=label_encoder.fit_transform(p1['fuel'])"
   ]
  },
  {
   "cell_type": "code",
   "execution_count": 353,
   "id": "c31e62c3",
   "metadata": {},
   "outputs": [
    {
     "data": {
      "text/html": [
       "<div>\n",
       "<style scoped>\n",
       "    .dataframe tbody tr th:only-of-type {\n",
       "        vertical-align: middle;\n",
       "    }\n",
       "\n",
       "    .dataframe tbody tr th {\n",
       "        vertical-align: top;\n",
       "    }\n",
       "\n",
       "    .dataframe thead th {\n",
       "        text-align: right;\n",
       "    }\n",
       "</style>\n",
       "<table border=\"1\" class=\"dataframe\">\n",
       "  <thead>\n",
       "    <tr style=\"text-align: right;\">\n",
       "      <th></th>\n",
       "      <th>fuel</th>\n",
       "      <th>km_driven</th>\n",
       "      <th>selling_price</th>\n",
       "    </tr>\n",
       "  </thead>\n",
       "  <tbody>\n",
       "    <tr>\n",
       "      <th>0</th>\n",
       "      <td>0</td>\n",
       "      <td>110000</td>\n",
       "      <td>250000</td>\n",
       "    </tr>\n",
       "    <tr>\n",
       "      <th>1</th>\n",
       "      <td>1</td>\n",
       "      <td>70000</td>\n",
       "      <td>210000</td>\n",
       "    </tr>\n",
       "    <tr>\n",
       "      <th>2</th>\n",
       "      <td>0</td>\n",
       "      <td>41000</td>\n",
       "      <td>690000</td>\n",
       "    </tr>\n",
       "    <tr>\n",
       "      <th>3</th>\n",
       "      <td>1</td>\n",
       "      <td>60000</td>\n",
       "      <td>229999</td>\n",
       "    </tr>\n",
       "    <tr>\n",
       "      <th>4</th>\n",
       "      <td>0</td>\n",
       "      <td>109000</td>\n",
       "      <td>352000</td>\n",
       "    </tr>\n",
       "  </tbody>\n",
       "</table>\n",
       "</div>"
      ],
      "text/plain": [
       "   fuel  km_driven  selling_price\n",
       "0     0     110000         250000\n",
       "1     1      70000         210000\n",
       "2     0      41000         690000\n",
       "3     1      60000         229999\n",
       "4     0     109000         352000"
      ]
     },
     "execution_count": 353,
     "metadata": {},
     "output_type": "execute_result"
    }
   ],
   "source": [
    "p1.head()"
   ]
  },
  {
   "cell_type": "code",
   "execution_count": 354,
   "id": "15d71b32",
   "metadata": {},
   "outputs": [],
   "source": [
    "X = p1.drop(['selling_price'],axis=1)\n",
    "y= p1.selling_price"
   ]
  },
  {
   "cell_type": "code",
   "execution_count": 355,
   "id": "c929a5ae",
   "metadata": {},
   "outputs": [],
   "source": [
    "from sklearn.model_selection import train_test_split"
   ]
  },
  {
   "cell_type": "code",
   "execution_count": 356,
   "id": "bd3b41cd",
   "metadata": {},
   "outputs": [],
   "source": [
    " X_train, X_test, y_train, y_test = train_test_split(X, y, test_size=0.33, random_state=42)"
   ]
  },
  {
   "cell_type": "code",
   "execution_count": 357,
   "id": "98d962a8",
   "metadata": {},
   "outputs": [],
   "source": [
    "from sklearn.linear_model import LinearRegression"
   ]
  },
  {
   "cell_type": "code",
   "execution_count": 358,
   "id": "02b2281d",
   "metadata": {},
   "outputs": [
    {
     "data": {
      "text/plain": [
       "LinearRegression()"
      ]
     },
     "execution_count": 358,
     "metadata": {},
     "output_type": "execute_result"
    }
   ],
   "source": [
    "model=LinearRegression()\n",
    "model.fit( X_train, y_train)"
   ]
  },
  {
   "cell_type": "code",
   "execution_count": 359,
   "id": "9f4c1dfe",
   "metadata": {},
   "outputs": [
    {
     "data": {
      "text/plain": [
       "array([-2.83649339e+05, -3.02018862e+00])"
      ]
     },
     "execution_count": 359,
     "metadata": {},
     "output_type": "execute_result"
    }
   ],
   "source": [
    "coefficient =model.coef_\n",
    "coefficient"
   ]
  },
  {
   "cell_type": "code",
   "execution_count": 360,
   "id": "86a4a52a",
   "metadata": {},
   "outputs": [],
   "source": [
    "intercept = model.intercept_"
   ]
  },
  {
   "cell_type": "code",
   "execution_count": 361,
   "id": "236149c3",
   "metadata": {},
   "outputs": [
    {
     "data": {
      "text/plain": [
       "738202.1350701803"
      ]
     },
     "execution_count": 361,
     "metadata": {},
     "output_type": "execute_result"
    }
   ],
   "source": [
    "intercept"
   ]
  },
  {
   "cell_type": "code",
   "execution_count": 362,
   "id": "e73a014a",
   "metadata": {},
   "outputs": [
    {
     "data": {
      "text/plain": [
       "0.3180969073561215"
      ]
     },
     "execution_count": 362,
     "metadata": {},
     "output_type": "execute_result"
    }
   ],
   "source": [
    "model.score(X_test,y_test)"
   ]
  },
  {
   "cell_type": "code",
   "execution_count": 363,
   "id": "fa0820d0",
   "metadata": {},
   "outputs": [],
   "source": [
    "y_pred =model.predict(X_test)"
   ]
  },
  {
   "cell_type": "code",
   "execution_count": 364,
   "id": "b381bc74",
   "metadata": {},
   "outputs": [
    {
     "data": {
      "text/plain": [
       "array([466385.15971704, 243139.59257759, 436183.27356669, ...,\n",
       "       492485.62972817, 375779.50126599, 526788.93201774])"
      ]
     },
     "execution_count": 364,
     "metadata": {},
     "output_type": "execute_result"
    }
   ],
   "source": [
    "y_pred"
   ]
  },
  {
   "cell_type": "code",
   "execution_count": null,
   "id": "a9e8d667",
   "metadata": {},
   "outputs": [],
   "source": []
  }
 ],
 "metadata": {
  "kernelspec": {
   "display_name": "Python 3.11.0 64-bit",
   "language": "python",
   "name": "python3"
  },
  "language_info": {
   "codemirror_mode": {
    "name": "ipython",
    "version": 3
   },
   "file_extension": ".py",
   "mimetype": "text/x-python",
   "name": "python",
   "nbconvert_exporter": "python",
   "pygments_lexer": "ipython3",
   "version": "3.11.0"
  },
  "vscode": {
   "interpreter": {
    "hash": "edbdea8d1ce63b4da6b42a663b31f068b3e5f2a8e9628512d9624ef21f90c848"
   }
  }
 },
 "nbformat": 4,
 "nbformat_minor": 5
}

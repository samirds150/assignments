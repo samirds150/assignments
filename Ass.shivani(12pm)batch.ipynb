{
 "cells": [
  {
   "cell_type": "markdown",
   "id": "801bf442",
   "metadata": {},
   "source": [
    "Name:Shivani Borhade"
   ]
  },
  {
   "cell_type": "markdown",
   "id": "30537cf5",
   "metadata": {},
   "source": [
    "# List"
   ]
  },
  {
   "cell_type": "code",
   "execution_count": 4,
   "id": "9ae8fb3b",
   "metadata": {},
   "outputs": [],
   "source": [
    "A =[34,21,9.2,762,'python']\n"
   ]
  },
  {
   "cell_type": "code",
   "execution_count": 5,
   "id": "ed94f0c2",
   "metadata": {},
   "outputs": [
    {
     "data": {
      "text/plain": [
       "list"
      ]
     },
     "execution_count": 5,
     "metadata": {},
     "output_type": "execute_result"
    }
   ],
   "source": [
    "type(A)"
   ]
  },
  {
   "cell_type": "code",
   "execution_count": 10,
   "id": "4e4402a5",
   "metadata": {},
   "outputs": [
    {
     "name": "stdout",
     "output_type": "stream",
     "text": [
      "[34, 21, 9.2, 762, 'python']\n"
     ]
    }
   ],
   "source": [
    "A =[34,21,9.2,762,'python']\n",
    "print(A)"
   ]
  },
  {
   "cell_type": "code",
   "execution_count": 11,
   "id": "63175c7c",
   "metadata": {},
   "outputs": [
    {
     "name": "stdout",
     "output_type": "stream",
     "text": [
      "[34, 21, 9.2, 762, 'python']\n"
     ]
    }
   ],
   "source": [
    "#then for same code we can use the try and except\n",
    "try:\n",
    "    print(A)\n",
    "except Exception as e:\n",
    "    print(e)"
   ]
  },
  {
   "cell_type": "code",
   "execution_count": 12,
   "id": "ba4c740c",
   "metadata": {},
   "outputs": [
    {
     "name": "stdout",
     "output_type": "stream",
     "text": [
      "[34, 21, 9.2, 762, 'python']\n"
     ]
    }
   ],
   "source": [
    "#call the element\n",
    "def list(name):\n",
    "    try:\n",
    "        print(A)\n",
    "    except Exception as e:\n",
    "        print(e)\n",
    "list(A)"
   ]
  },
  {
   "cell_type": "code",
   "execution_count": 9,
   "id": "61f36935",
   "metadata": {},
   "outputs": [
    {
     "name": "stdout",
     "output_type": "stream",
     "text": [
      "name 'a' is not defined\n"
     ]
    }
   ],
   "source": [
    "try:\n",
    "    def output(name):\n",
    "        try:\n",
    "            print(A)\n",
    "        except Exception as e:\n",
    "            print(e)\n",
    "    output(a)\n",
    "except Exception as e:\n",
    "    print(e)"
   ]
  },
  {
   "cell_type": "markdown",
   "id": "ffa8f727",
   "metadata": {},
   "source": [
    "# Min()"
   ]
  },
  {
   "cell_type": "code",
   "execution_count": 16,
   "id": "2089949a",
   "metadata": {},
   "outputs": [
    {
     "name": "stdout",
     "output_type": "stream",
     "text": [
      "2\n"
     ]
    }
   ],
   "source": [
    "list=[12,76,982,21,7,3,2,98]\n",
    "print(min(list))"
   ]
  },
  {
   "cell_type": "code",
   "execution_count": 17,
   "id": "c8f7f2bd",
   "metadata": {},
   "outputs": [
    {
     "name": "stdout",
     "output_type": "stream",
     "text": [
      "2\n"
     ]
    }
   ],
   "source": [
    "try:\n",
    "    print(min(list))\n",
    "except Exception as e:\n",
    "    print(e)"
   ]
  },
  {
   "cell_type": "code",
   "execution_count": 19,
   "id": "d7d089c9",
   "metadata": {},
   "outputs": [
    {
     "name": "stdout",
     "output_type": "stream",
     "text": [
      "2\n"
     ]
    }
   ],
   "source": [
    "#can use the try and except\n",
    "try:\n",
    "    def min_no(list):\n",
    "        try:\n",
    "            print(min(list))\n",
    "        except Exception as e:\n",
    "            print(e)\n",
    "min_no(list)"
   ]
  },
  {
   "cell_type": "code",
   "execution_count": 21,
   "id": "717a689b",
   "metadata": {},
   "outputs": [
    {
     "name": "stdout",
     "output_type": "stream",
     "text": [
      "2\n"
     ]
    }
   ],
   "source": [
    "try:\n",
    "    def min_no(list):\n",
    "        try:\n",
    "            print(min(list))\n",
    "        except Exception as e:\n",
    "            print(e)\n",
    "    min_no(list)            \n",
    "except Exception as e:\n",
    "    print(e)"
   ]
  },
  {
   "cell_type": "markdown",
   "id": "8155c72a",
   "metadata": {},
   "source": [
    "# max()"
   ]
  },
  {
   "cell_type": "code",
   "execution_count": 23,
   "id": "0682c78c",
   "metadata": {},
   "outputs": [
    {
     "name": "stdout",
     "output_type": "stream",
     "text": [
      "987\n"
     ]
    }
   ],
   "source": [
    "l=(65,87,987,7,98,4.8,32)\n",
    "print(max(l))"
   ]
  },
  {
   "cell_type": "code",
   "execution_count": 24,
   "id": "20a9a1cb",
   "metadata": {},
   "outputs": [
    {
     "name": "stdout",
     "output_type": "stream",
     "text": [
      "987\n"
     ]
    }
   ],
   "source": [
    "try:\n",
    "    print(max(l))\n",
    "except Exception as e:\n",
    "    print(e)"
   ]
  },
  {
   "cell_type": "code",
   "execution_count": 25,
   "id": "289fbb21",
   "metadata": {},
   "outputs": [
    {
     "name": "stdout",
     "output_type": "stream",
     "text": [
      "987\n"
     ]
    }
   ],
   "source": [
    "def max_no(num):\n",
    "        try:\n",
    "            print(max(l))\n",
    "        except Exception as e:\n",
    "            print(e)\n",
    "max_no(l)"
   ]
  },
  {
   "cell_type": "code",
   "execution_count": 26,
   "id": "45253654",
   "metadata": {},
   "outputs": [
    {
     "name": "stdout",
     "output_type": "stream",
     "text": [
      "name 'nam' is not defined\n"
     ]
    }
   ],
   "source": [
    "try:\n",
    "    def max_no(l):\n",
    "        try:\n",
    "            print(max(l))\n",
    "        except Exception as e:\n",
    "            print(e)\n",
    "    max_no(nam)    \n",
    "except Exception as e:\n",
    "    print(e)"
   ]
  },
  {
   "cell_type": "markdown",
   "id": "23e590c1",
   "metadata": {},
   "source": [
    "# len()"
   ]
  },
  {
   "cell_type": "code",
   "execution_count": 27,
   "id": "2398032c",
   "metadata": {},
   "outputs": [
    {
     "name": "stdout",
     "output_type": "stream",
     "text": [
      "9\n"
     ]
    }
   ],
   "source": [
    "name = \"chemistry\"\n",
    "print(len(name))"
   ]
  },
  {
   "cell_type": "code",
   "execution_count": 28,
   "id": "589586d3",
   "metadata": {},
   "outputs": [
    {
     "name": "stdout",
     "output_type": "stream",
     "text": [
      "9\n"
     ]
    }
   ],
   "source": [
    "try:\n",
    "    print(len(name))\n",
    "except Exception as e:\n",
    "    print(e)"
   ]
  },
  {
   "cell_type": "code",
   "execution_count": 29,
   "id": "9942232b",
   "metadata": {},
   "outputs": [
    {
     "name": "stdout",
     "output_type": "stream",
     "text": [
      "9\n"
     ]
    }
   ],
   "source": [
    "def variable(name):\n",
    "        try:\n",
    "            print(len(name))\n",
    "        except Exception as e:\n",
    "            print(e)\n",
    "variable(name)"
   ]
  },
  {
   "cell_type": "code",
   "execution_count": 30,
   "id": "1cd2613f",
   "metadata": {},
   "outputs": [
    {
     "name": "stdout",
     "output_type": "stream",
     "text": [
      "name 'n' is not defined\n"
     ]
    }
   ],
   "source": [
    "try:\n",
    "    def variable(name):\n",
    "            try:\n",
    "                print(len(name))\n",
    "            except Exception as e:\n",
    "                print(e)\n",
    "    variable(n)    \n",
    "except Exception as e:\n",
    "    print(e)\n"
   ]
  },
  {
   "cell_type": "markdown",
   "id": "75675aba",
   "metadata": {},
   "source": [
    "# insert()"
   ]
  },
  {
   "cell_type": "code",
   "execution_count": 31,
   "id": "60fed34c",
   "metadata": {},
   "outputs": [
    {
     "name": "stdout",
     "output_type": "stream",
     "text": [
      "[45, True, 18, 6, 9, 543, 'java']\n"
     ]
    }
   ],
   "source": [
    "List=[45,True,6,9,543,'java']\n",
    "List.insert(2,18)\n",
    "print(List)"
   ]
  },
  {
   "cell_type": "code",
   "execution_count": 34,
   "id": "47c33aa2",
   "metadata": {},
   "outputs": [
    {
     "name": "stdout",
     "output_type": "stream",
     "text": [
      "[45, True, 18, 6, 43, 543, 9, 543, 'java', 543]\n"
     ]
    }
   ],
   "source": [
    "try:\n",
    "    List.insert(4,43)\n",
    "    print(List)\n",
    "except Exception as e:\n",
    "    print(e)"
   ]
  },
  {
   "cell_type": "code",
   "execution_count": 1,
   "id": "44fd2bca",
   "metadata": {},
   "outputs": [
    {
     "ename": "NameError",
     "evalue": "name 'List' is not defined",
     "output_type": "error",
     "traceback": [
      "\u001b[1;31m---------------------------------------------------------------------------\u001b[0m",
      "\u001b[1;31mNameError\u001b[0m                                 Traceback (most recent call last)",
      "Input \u001b[1;32mIn [1]\u001b[0m, in \u001b[0;36m<cell line: 7>\u001b[1;34m()\u001b[0m\n\u001b[0;32m      5\u001b[0m         \u001b[38;5;28;01mexcept\u001b[39;00m exception \u001b[38;5;28;01mas\u001b[39;00m e:\n\u001b[0;32m      6\u001b[0m             \u001b[38;5;28mprint\u001b[39m(e)\n\u001b[1;32m----> 7\u001b[0m insertfunc(\u001b[43mList\u001b[49m)\n",
      "\u001b[1;31mNameError\u001b[0m: name 'List' is not defined"
     ]
    }
   ],
   "source": [
    "def insertfunc(List):\n",
    "        try:\n",
    "            List.insert(4,43)\n",
    "            print(List)\n",
    "        except exception as e:\n",
    "            print(e)\n",
    "insertfunc(List)"
   ]
  },
  {
   "cell_type": "code",
   "execution_count": 51,
   "id": "d00eabc8",
   "metadata": {},
   "outputs": [
    {
     "name": "stdout",
     "output_type": "stream",
     "text": [
      "name 'add' is not defined\n"
     ]
    }
   ],
   "source": [
    "try:\n",
    "    def insertfunc(List):\n",
    "        try:\n",
    "            List.insert(4,43)\n",
    "            print(List)\n",
    "        except exception as e:\n",
    "            print(e)\n",
    "    insertfunc(add)            \n",
    "except Exception as e:\n",
    "    print(e)"
   ]
  },
  {
   "cell_type": "markdown",
   "id": "f2a509e6",
   "metadata": {},
   "source": [
    "# append"
   ]
  },
  {
   "cell_type": "code",
   "execution_count": 39,
   "id": "6c4ca85d",
   "metadata": {},
   "outputs": [
    {
     "data": {
      "text/plain": [
       "[76, 64, 'java', 33, True, [8, 43, 8.5, 'html', False]]"
      ]
     },
     "execution_count": 39,
     "metadata": {},
     "output_type": "execute_result"
    }
   ],
   "source": [
    "l = [76,64,'java',33,True]\n",
    "l1=[8,43,8.5,'html',False]\n",
    "l.append(l1)\n",
    "l"
   ]
  },
  {
   "cell_type": "code",
   "execution_count": 40,
   "id": "5043237d",
   "metadata": {},
   "outputs": [
    {
     "name": "stdout",
     "output_type": "stream",
     "text": [
      "[76, 64, 'java', 33, True, [8, 43, 8.5, 'html', False], [8, 43, 8.5, 'html', False]]\n"
     ]
    }
   ],
   "source": [
    "try:\n",
    "    l.append(l1)\n",
    "    print(l)\n",
    "except Exception as e:\n",
    "    print(e)"
   ]
  },
  {
   "cell_type": "code",
   "execution_count": 43,
   "id": "c69e780a",
   "metadata": {},
   "outputs": [
    {
     "name": "stdout",
     "output_type": "stream",
     "text": [
      "[76, 64, 'java', 33, True, [8, 43, 8.5, 'html', False], [8, 43, 8.5, 'html', False], [8, 43, 8.5, 'html', False], [8, 43, 8.5, 'html', False], [8, 43, 8.5, 'html', False]]\n"
     ]
    }
   ],
   "source": [
    "\n",
    "def append_list(num2):\n",
    "        try:\n",
    "            l.append(l1)\n",
    "            print(l)\n",
    "        except Exception as e:\n",
    "            print(e)\n",
    "append_list(l)\n"
   ]
  },
  {
   "cell_type": "code",
   "execution_count": 50,
   "id": "6d7e9517",
   "metadata": {},
   "outputs": [
    {
     "name": "stdout",
     "output_type": "stream",
     "text": [
      "name 'react' is not defined\n"
     ]
    }
   ],
   "source": [
    "try:\n",
    "    def append_list(num2):\n",
    "        try:\n",
    "            l.append(l1)\n",
    "            print(l)\n",
    "        except Exception as e:\n",
    "            print(e)\n",
    "    append_list(react)           \n",
    "except Exception as e:\n",
    "    print(e)"
   ]
  },
  {
   "cell_type": "markdown",
   "id": "5fdad7c1",
   "metadata": {},
   "source": [
    "# extend"
   ]
  },
  {
   "cell_type": "code",
   "execution_count": 45,
   "id": "a45756e9",
   "metadata": {},
   "outputs": [
    {
     "name": "stdout",
     "output_type": "stream",
     "text": [
      "['shivani', 'rutuja', 'vaishnavi', 'sumit', 'j', 'y', 'o', 't', 'i']\n"
     ]
    }
   ],
   "source": [
    "names = [\"shivani\",\"rutuja\",\"vaishnavi\",'sumit']\n",
    "names.extend(\"jyoti\")\n",
    "print(names)"
   ]
  },
  {
   "cell_type": "code",
   "execution_count": 46,
   "id": "16885bb1",
   "metadata": {},
   "outputs": [
    {
     "name": "stdout",
     "output_type": "stream",
     "text": [
      "['shivani', 'rutuja', 'vaishnavi', 'sumit', 'j', 'y', 'o', 't', 'i', 'j', 'y', 'o', 't', 'i']\n"
     ]
    }
   ],
   "source": [
    "try:\n",
    "    names.extend(\"jyoti\")\n",
    "    print(names)\n",
    "except Exception as e:\n",
    "    print(e)"
   ]
  },
  {
   "cell_type": "code",
   "execution_count": 49,
   "id": "5fda7a7d",
   "metadata": {},
   "outputs": [
    {
     "name": "stdout",
     "output_type": "stream",
     "text": [
      "name 'namert' is not defined\n"
     ]
    }
   ],
   "source": [
    "try:\n",
    "    def extend_name(nam):\n",
    "        try:\n",
    "            names.extend(\"jyoti\")\n",
    "            print(names)\n",
    "        except Exception as e:\n",
    "            print(e)\n",
    "    extend_name(namert)\n",
    "except Exception as e:\n",
    "    print(e)"
   ]
  },
  {
   "cell_type": "markdown",
   "id": "20fd5ef3",
   "metadata": {},
   "source": [
    "# pop()"
   ]
  },
  {
   "cell_type": "markdown",
   "id": "ca620c22",
   "metadata": {},
   "source": [
    "remove the element"
   ]
  },
  {
   "cell_type": "code",
   "execution_count": 52,
   "id": "3d73c119",
   "metadata": {},
   "outputs": [
    {
     "data": {
      "text/plain": [
       "67"
      ]
     },
     "execution_count": 52,
     "metadata": {},
     "output_type": "execute_result"
    }
   ],
   "source": [
    "l = [43,98,90,\"shiv\",6.4,False,67]\n",
    "l.pop()"
   ]
  },
  {
   "cell_type": "code",
   "execution_count": 53,
   "id": "b014dff1",
   "metadata": {},
   "outputs": [
    {
     "name": "stdout",
     "output_type": "stream",
     "text": [
      "[43, 98, 90, 'shiv', 6.4]\n"
     ]
    }
   ],
   "source": [
    "try:\n",
    "    l.pop()\n",
    "    print(l)\n",
    "except Exception as e:\n",
    "    print(e)"
   ]
  },
  {
   "cell_type": "code",
   "execution_count": 55,
   "id": "3ebe69fc",
   "metadata": {},
   "outputs": [
    {
     "name": "stdout",
     "output_type": "stream",
     "text": [
      "[43, 98, 90]\n"
     ]
    }
   ],
   "source": [
    "def remove_last(number):\n",
    "    try:\n",
    "        l.pop()\n",
    "        print(l)\n",
    "    except Exception as e:\n",
    "        print(e)\n",
    "remove_last(l)"
   ]
  },
  {
   "cell_type": "code",
   "execution_count": 56,
   "id": "b6b8019c",
   "metadata": {},
   "outputs": [
    {
     "name": "stdout",
     "output_type": "stream",
     "text": [
      "name 'remove' is not defined\n"
     ]
    }
   ],
   "source": [
    "try:\n",
    "    def remove_last(number):\n",
    "        try:\n",
    "            l.pop()\n",
    "            print(l)\n",
    "        except Exception as e:\n",
    "            print(e)\n",
    "    remove(90)\n",
    "except Exception as e:\n",
    "    print(e)"
   ]
  },
  {
   "cell_type": "markdown",
   "id": "2b35cab7",
   "metadata": {},
   "source": [
    "# reverse"
   ]
  },
  {
   "cell_type": "code",
   "execution_count": 57,
   "id": "cd732c49",
   "metadata": {},
   "outputs": [
    {
     "data": {
      "text/plain": [
       "['zoology', 7.9, 37, 35, 81]"
      ]
     },
     "execution_count": 57,
     "metadata": {},
     "output_type": "execute_result"
    }
   ],
   "source": [
    "List = [81,35,37,7.9,\"zoology\"]\n",
    "List.reverse()\n",
    "List"
   ]
  },
  {
   "cell_type": "code",
   "execution_count": 58,
   "id": "eeaaf70c",
   "metadata": {},
   "outputs": [
    {
     "name": "stdout",
     "output_type": "stream",
     "text": [
      "[81, 35, 37, 7.9, 'zoology']\n"
     ]
    }
   ],
   "source": [
    "try:\n",
    "    List.reverse()\n",
    "    print(List)\n",
    "except Exception as e:\n",
    "    print(e)"
   ]
  },
  {
   "cell_type": "code",
   "execution_count": 59,
   "id": "9e7eda5f",
   "metadata": {},
   "outputs": [
    {
     "name": "stdout",
     "output_type": "stream",
     "text": [
      "['zoology', 7.9, 37, 35, 81]\n"
     ]
    }
   ],
   "source": [
    "def reverse_list(L):\n",
    "    try:\n",
    "        List.reverse()\n",
    "        print(List)\n",
    "    except Exception as e:\n",
    "        print(e)\n",
    "reverse_list(List)"
   ]
  },
  {
   "cell_type": "code",
   "execution_count": 69,
   "id": "c5b55032",
   "metadata": {},
   "outputs": [
    {
     "name": "stdout",
     "output_type": "stream",
     "text": [
      "name 'something' is not defined\n"
     ]
    }
   ],
   "source": [
    "try:\n",
    "    def reverse_list(L):\n",
    "        try:\n",
    "            List.reverse()\n",
    "            print(List)\n",
    "        except Exception as e:\n",
    "            print(e)\n",
    "    reverse_list(something)\n",
    "except Exception as e:\n",
    "    print(e)\n"
   ]
  },
  {
   "cell_type": "markdown",
   "id": "db65d1ee",
   "metadata": {},
   "source": [
    "# sort"
   ]
  },
  {
   "cell_type": "markdown",
   "id": "dc2aeca2",
   "metadata": {},
   "source": [
    "sort the list alphabetically(in ascending order)"
   ]
  },
  {
   "cell_type": "code",
   "execution_count": 72,
   "id": "8ca1796b",
   "metadata": {},
   "outputs": [
    {
     "name": "stdout",
     "output_type": "stream",
     "text": [
      "['IT', 'biology', 'chemistry', 'mathematics', 'physics']\n"
     ]
    }
   ],
   "source": [
    "list = ['physics','chemistry','biology','mathematics','IT']\n",
    "list.sort()\n",
    "print(list)"
   ]
  },
  {
   "cell_type": "code",
   "execution_count": 74,
   "id": "adf79c3b",
   "metadata": {},
   "outputs": [
    {
     "name": "stdout",
     "output_type": "stream",
     "text": [
      "['IT', 'biology', 'chemistry', 'mathematics', 'physics']\n"
     ]
    }
   ],
   "source": [
    "try:\n",
    "    list.sort()\n",
    "    print(list)\n",
    "except Exception as e:\n",
    "    print(e)"
   ]
  },
  {
   "cell_type": "code",
   "execution_count": 75,
   "id": "bccf8615",
   "metadata": {},
   "outputs": [
    {
     "name": "stdout",
     "output_type": "stream",
     "text": [
      "['IT', 'biology', 'chemistry', 'mathematics', 'physics']\n"
     ]
    }
   ],
   "source": [
    "def sequence(sort): \n",
    "    try:\n",
    "        list.sort()\n",
    "        print(list)\n",
    "    except Exception as e:\n",
    "        print(e)\n",
    "sequence(list)"
   ]
  },
  {
   "cell_type": "code",
   "execution_count": 77,
   "id": "6b3eecec",
   "metadata": {},
   "outputs": [
    {
     "name": "stdout",
     "output_type": "stream",
     "text": [
      "name 'subjects' is not defined\n"
     ]
    }
   ],
   "source": [
    "try:\n",
    "    def sequence(sort): \n",
    "        try:\n",
    "            list.sort()\n",
    "            print(list)\n",
    "        except Exception as e:\n",
    "            print(e)\n",
    "    sequence(subjects)        \n",
    "except Exception as e:\n",
    "    print(e)"
   ]
  },
  {
   "cell_type": "markdown",
   "id": "d499e89d",
   "metadata": {},
   "source": [
    "# delete"
   ]
  },
  {
   "cell_type": "code",
   "execution_count": 82,
   "id": "c9c44081",
   "metadata": {},
   "outputs": [
    {
     "data": {
      "text/plain": [
       "[43, 73, 654, 21, 12]"
      ]
     },
     "execution_count": 82,
     "metadata": {},
     "output_type": "execute_result"
    }
   ],
   "source": [
    "l= [43,73,654,32,21,12]\n",
    "\n",
    "del l[3]\n",
    "l"
   ]
  },
  {
   "cell_type": "code",
   "execution_count": 84,
   "id": "cf057d3b",
   "metadata": {},
   "outputs": [
    {
     "name": "stdout",
     "output_type": "stream",
     "text": [
      "[43, 73, 21]\n"
     ]
    }
   ],
   "source": [
    "try:\n",
    "    del l[2]\n",
    "    print(l)\n",
    "except Exception as e:\n",
    "    print(e)"
   ]
  },
  {
   "cell_type": "code",
   "execution_count": 89,
   "id": "c5a79207",
   "metadata": {},
   "outputs": [
    {
     "name": "stdout",
     "output_type": "stream",
     "text": [
      "[]\n"
     ]
    }
   ],
   "source": [
    "def remove_num(num):\n",
    "    try:\n",
    "        del l[0]\n",
    "        print(l)\n",
    "    except Exception as e:\n",
    "        print(e)\n",
    "remove_num(l)"
   ]
  },
  {
   "cell_type": "markdown",
   "id": "8f70413b",
   "metadata": {},
   "source": []
  },
  {
   "cell_type": "code",
   "execution_count": null,
   "id": "bc24be6e",
   "metadata": {},
   "outputs": [],
   "source": []
  }
 ],
 "metadata": {
  "kernelspec": {
   "display_name": "Python 3 (ipykernel)",
   "language": "python",
   "name": "python3"
  },
  "language_info": {
   "codemirror_mode": {
    "name": "ipython",
    "version": 3
   },
   "file_extension": ".py",
   "mimetype": "text/x-python",
   "name": "python",
   "nbconvert_exporter": "python",
   "pygments_lexer": "ipython3",
   "version": "3.10.8"
  },
  "vscode": {
   "interpreter": {
    "hash": "edbdea8d1ce63b4da6b42a663b31f068b3e5f2a8e9628512d9624ef21f90c848"
   }
  }
 },
 "nbformat": 4,
 "nbformat_minor": 5
}

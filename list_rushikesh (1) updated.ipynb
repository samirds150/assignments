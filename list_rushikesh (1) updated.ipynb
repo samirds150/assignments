{
 "cells": [
  {
   "cell_type": "raw",
   "id": "ce24611f",
   "metadata": {},
   "source": [
    "Name = [Rushikesh Ramling Khekade]\n",
    "Batch = [Data science-3pm-4pm(2022)]"
   ]
  },
  {
   "cell_type": "code",
   "execution_count": null,
   "id": "260bc64d",
   "metadata": {},
   "outputs": [],
   "source": []
  },
  {
   "cell_type": "raw",
   "id": "098c3cb7",
   "metadata": {},
   "source": [
    "# list :-\n",
    "  - List is a collection which is ordered and changeable & It Allows duplicate members.\n",
    "  - A list can contain different data types:"
   ]
  },
  {
   "cell_type": "code",
   "execution_count": 68,
   "id": "7e2fc711",
   "metadata": {},
   "outputs": [
    {
     "name": "stdout",
     "output_type": "stream",
     "text": [
      "[1, 3, 4, 5.5, 'rushi']\n"
     ]
    }
   ],
   "source": [
    "b = [1,3,4,5.5,\"rushi\"]\n",
    "# A list with strings, integers and float values:\n",
    "print(A)"
   ]
  },
  {
   "cell_type": "code",
   "execution_count": 69,
   "id": "56dab800",
   "metadata": {},
   "outputs": [
    {
     "name": "stdout",
     "output_type": "stream",
     "text": [
      "[1, 3, 4, 5.5, 'rushi']\n"
     ]
    }
   ],
   "source": [
    "# you can use the try and except to handle errors as exceptions\n",
    "try:\n",
    "    print(A)\n",
    "except Exception as e:\n",
    "    print(e)"
   ]
  },
  {
   "cell_type": "code",
   "execution_count": 70,
   "id": "0c93040c",
   "metadata": {},
   "outputs": [
    {
     "name": "stdout",
     "output_type": "stream",
     "text": [
      "[1, 3, 4, 5.5, 'rushi']\n"
     ]
    }
   ],
   "source": [
    "# using def() to call the element\n",
    "def output(name):\n",
    "    try:\n",
    "        print(A)\n",
    "    except Exception as e:\n",
    "        print(e)\n",
    "output(A)    "
   ]
  },
  {
   "cell_type": "code",
   "execution_count": 71,
   "id": "08da5fdf",
   "metadata": {},
   "outputs": [
    {
     "name": "stdout",
     "output_type": "stream",
     "text": [
      "name 'a' is not defined\n"
     ]
    }
   ],
   "source": [
    "try:\n",
    "    def output(name):\n",
    "        try:\n",
    "            print(A)\n",
    "        except exception as e:\n",
    "            print(e)\n",
    "    output(a)\n",
    "except Exception as e:\n",
    "    print(e)"
   ]
  },
  {
   "cell_type": "markdown",
   "id": "033b88f5",
   "metadata": {},
   "source": []
  },
  {
   "cell_type": "markdown",
   "id": "cca93f57",
   "metadata": {},
   "source": [
    "# len() :\n",
    "      - Python list method len() returns the number of elements in the list."
   ]
  },
  {
   "cell_type": "code",
   "execution_count": 72,
   "id": "018269b2",
   "metadata": {},
   "outputs": [
    {
     "name": "stdout",
     "output_type": "stream",
     "text": [
      "9\n"
     ]
    }
   ],
   "source": [
    "name = \"Rushikesh\"\n",
    "print(len(name))\n"
   ]
  },
  {
   "cell_type": "code",
   "execution_count": 73,
   "id": "63ae3e4d",
   "metadata": {},
   "outputs": [
    {
     "name": "stdout",
     "output_type": "stream",
     "text": [
      "9\n"
     ]
    }
   ],
   "source": [
    "try:\n",
    "    print(len(name))\n",
    "except Exception as e:\n",
    "    print(e)"
   ]
  },
  {
   "cell_type": "code",
   "execution_count": 74,
   "id": "67a419f5",
   "metadata": {},
   "outputs": [
    {
     "name": "stdout",
     "output_type": "stream",
     "text": [
      "9\n"
     ]
    }
   ],
   "source": [
    "def variable(name):\n",
    "        try:\n",
    "            print(len(name))\n",
    "        except Exception as e:\n",
    "            print(e)\n",
    "variable(name)    "
   ]
  },
  {
   "cell_type": "code",
   "execution_count": 75,
   "id": "d86ecb42",
   "metadata": {},
   "outputs": [
    {
     "name": "stdout",
     "output_type": "stream",
     "text": [
      "name 'n' is not defined\n"
     ]
    }
   ],
   "source": [
    "try:\n",
    "    def variable(name):\n",
    "            try:\n",
    "                print(len(name))\n",
    "            except Exception as e:\n",
    "                print(e)\n",
    "    variable(n)    \n",
    "except Exception as e:\n",
    "    print(e)\n",
    "    "
   ]
  },
  {
   "cell_type": "markdown",
   "id": "15a089be",
   "metadata": {},
   "source": [
    "# min():\n",
    "   - Python list method min() returns the elements from the list with minimum value."
   ]
  },
  {
   "cell_type": "code",
   "execution_count": 76,
   "id": "8682a440",
   "metadata": {},
   "outputs": [
    {
     "name": "stdout",
     "output_type": "stream",
     "text": [
      "1\n"
     ]
    }
   ],
   "source": [
    "numbers = [1,99,74,24,45]\n",
    "print(min(numbers))\n",
    " "
   ]
  },
  {
   "cell_type": "code",
   "execution_count": 132,
   "id": "c0b9efff",
   "metadata": {},
   "outputs": [
    {
     "name": "stdout",
     "output_type": "stream",
     "text": [
      "1\n"
     ]
    }
   ],
   "source": [
    "try:\n",
    "    print(min(numbers))\n",
    "except Exception as e:\n",
    "    print(e)\n",
    "    \n",
    "    "
   ]
  },
  {
   "cell_type": "code",
   "execution_count": 136,
   "id": "859110f2",
   "metadata": {},
   "outputs": [
    {
     "name": "stdout",
     "output_type": "stream",
     "text": [
      "1\n"
     ]
    }
   ],
   "source": [
    "def min_no(num):\n",
    "        try:\n",
    "            print(min(numbers))\n",
    "        except Exception as e:\n",
    "             print(e)\n",
    "min_no(numbers)            "
   ]
  },
  {
   "cell_type": "code",
   "execution_count": 79,
   "id": "631f1ce5",
   "metadata": {},
   "outputs": [
    {
     "name": "stdout",
     "output_type": "stream",
     "text": [
      "name 'number' is not defined\n"
     ]
    }
   ],
   "source": [
    "try:\n",
    "    def min_no(num):\n",
    "        try:\n",
    "            print(min(numbers))\n",
    "        except Exception as e:\n",
    "            print(e)\n",
    "    min_no(number)            \n",
    "except Exception as e:\n",
    "    print(e)\n",
    "    \n",
    "    "
   ]
  },
  {
   "cell_type": "markdown",
   "id": "aa3f7757",
   "metadata": {},
   "source": [
    "# max():\n",
    "   - Python list method max returns the elements from the list with maximum value."
   ]
  },
  {
   "cell_type": "code",
   "execution_count": 80,
   "id": "addbd58c",
   "metadata": {},
   "outputs": [
    {
     "name": "stdout",
     "output_type": "stream",
     "text": [
      "shubham\n"
     ]
    }
   ],
   "source": [
    "names = [\"rushi\",\"shubham\",\"prathmesh\",\"nitin\"]\n",
    "print(max(names))"
   ]
  },
  {
   "cell_type": "code",
   "execution_count": 81,
   "id": "60c06dd0",
   "metadata": {},
   "outputs": [
    {
     "name": "stdout",
     "output_type": "stream",
     "text": [
      "shubham\n"
     ]
    }
   ],
   "source": [
    "try:\n",
    "    print(max(names))\n",
    "except Exception as e:\n",
    "    print(e)"
   ]
  },
  {
   "cell_type": "code",
   "execution_count": 82,
   "id": "db44908c",
   "metadata": {},
   "outputs": [
    {
     "name": "stdout",
     "output_type": "stream",
     "text": [
      "shubham\n"
     ]
    }
   ],
   "source": [
    "def max_no(num):\n",
    "        try:\n",
    "            print(max(names))\n",
    "        except Exception as e:\n",
    "            print(e)\n",
    "max_no(names)    "
   ]
  },
  {
   "cell_type": "code",
   "execution_count": 83,
   "id": "74c6cb36",
   "metadata": {},
   "outputs": [
    {
     "name": "stdout",
     "output_type": "stream",
     "text": [
      "name 'nam' is not defined\n"
     ]
    }
   ],
   "source": [
    "try:\n",
    "    def max_no(name):\n",
    "        try:\n",
    "            print(max(names))\n",
    "        except Exception as e:\n",
    "            print(e)\n",
    "    max_no(nam)    \n",
    "except Exception as e:\n",
    "    print(e)"
   ]
  },
  {
   "cell_type": "markdown",
   "id": "a838d0d8",
   "metadata": {},
   "source": [
    "# insert():\n",
    "   - Adds an element at the specified position"
   ]
  },
  {
   "cell_type": "code",
   "execution_count": 138,
   "id": "ca89a648",
   "metadata": {},
   "outputs": [
    {
     "name": "stdout",
     "output_type": "stream",
     "text": [
      "[1, 5, 18, 3, 'rushi', 2.4]\n"
     ]
    }
   ],
   "source": [
    "List=[1,5,3,\"rushi\",2.4]\n",
    "List.insert(2,18)\n",
    "print(List)"
   ]
  },
  {
   "cell_type": "code",
   "execution_count": 139,
   "id": "7eece8e7",
   "metadata": {},
   "outputs": [
    {
     "name": "stdout",
     "output_type": "stream",
     "text": [
      "[1, 5, 18, 45, 3, 'rushi', 2.4]\n"
     ]
    }
   ],
   "source": [
    "try:\n",
    "    List.insert(3,45)\n",
    "    print(List)\n",
    "except exception as e:\n",
    "    print(e)"
   ]
  },
  {
   "cell_type": "code",
   "execution_count": 166,
   "id": "2246bc7a",
   "metadata": {},
   "outputs": [
    {
     "name": "stdout",
     "output_type": "stream",
     "text": [
      "[1, 5, 18, 45, 45, 45, 45, 45, 3, 'rushi', 2.4]\n"
     ]
    }
   ],
   "source": [
    "def insert_func(List=list,index=int,objects=int):\n",
    "        try:\n",
    "            List.insert(index,objects)\n",
    "            print(List)\n",
    "        except Exception as e:\n",
    "            print(e)\n",
    "insert_func(List,3,45)            "
   ]
  },
  {
   "cell_type": "code",
   "execution_count": 210,
   "id": "47d836b4",
   "metadata": {},
   "outputs": [
    {
     "name": "stdout",
     "output_type": "stream",
     "text": [
      "[1, 5, 18, 45, 45, 45, 45, 45, 3, 45, 'rushi', 2.4]\n"
     ]
    }
   ],
   "source": [
    "try:\n",
    "    def insert_func(List:list,index:int,objects:int):\n",
    "        try:\n",
    "            List.insert(index,objects)\n",
    "            print(List)\n",
    "        except Exception as e:\n",
    "            print(e)\n",
    "    insert_func(List,9,45)                      \n",
    "except Exception as e:\n",
    "    print(e)"
   ]
  },
  {
   "cell_type": "markdown",
   "id": "bfbdbbc4",
   "metadata": {},
   "source": [
    "# index():\n",
    "   - Returns the index of the element with the specified value\n"
   ]
  },
  {
   "cell_type": "code",
   "execution_count": 88,
   "id": "c80fc5d2",
   "metadata": {},
   "outputs": [
    {
     "data": {
      "text/plain": [
       "2"
      ]
     },
     "execution_count": 88,
     "metadata": {},
     "output_type": "execute_result"
    }
   ],
   "source": [
    "l = [1,5,45,18,24,7,\"rushi\"]\n",
    "l.index(45)"
   ]
  },
  {
   "cell_type": "code",
   "execution_count": 89,
   "id": "c006208d",
   "metadata": {},
   "outputs": [
    {
     "name": "stdout",
     "output_type": "stream",
     "text": [
      "6\n"
     ]
    }
   ],
   "source": [
    "l = [1,5,45,18,24,7,\"rushi\"]\n",
    "try:\n",
    "    print(l.index(\"rushi\"))\n",
    "except Exception as e:\n",
    "    print(e)"
   ]
  },
  {
   "cell_type": "code",
   "execution_count": 90,
   "id": "51f764c7",
   "metadata": {},
   "outputs": [
    {
     "name": "stdout",
     "output_type": "stream",
     "text": [
      "6\n",
      "4\n"
     ]
    }
   ],
   "source": [
    "def index_no(num,num1):\n",
    "    try:\n",
    "        print(l.index(num))\n",
    "        print(l.index(num1))\n",
    "    except Exception as e:\n",
    "        print(e)\n",
    "index_no(\"rushi\",24)"
   ]
  },
  {
   "cell_type": "code",
   "execution_count": 91,
   "id": "d336682c",
   "metadata": {},
   "outputs": [
    {
     "name": "stdout",
     "output_type": "stream",
     "text": [
      "0\n",
      "3\n"
     ]
    }
   ],
   "source": [
    "try:\n",
    "    def index_no(num,num1):\n",
    "        try:\n",
    "            print(l.index(num))\n",
    "            print(l.index(num1))\n",
    "        except Exception as e:\n",
    "            print(e)\n",
    "    index_no(1,18)\n",
    "except Exception as e:\n",
    "    print(e)"
   ]
  },
  {
   "cell_type": "markdown",
   "id": "a4bf60bf",
   "metadata": {},
   "source": [
    "# count():\n",
    "   - Returns the number of elements with the specified value"
   ]
  },
  {
   "cell_type": "code",
   "execution_count": 92,
   "id": "b59ca7ae",
   "metadata": {},
   "outputs": [
    {
     "data": {
      "text/plain": [
       "3"
      ]
     },
     "execution_count": 92,
     "metadata": {},
     "output_type": "execute_result"
    }
   ],
   "source": [
    "l = [1,5,45,45,5,5,5.8,\"rushi\"]\n",
    "l.count(5)"
   ]
  },
  {
   "cell_type": "code",
   "execution_count": 93,
   "id": "70139a4d",
   "metadata": {},
   "outputs": [
    {
     "name": "stdout",
     "output_type": "stream",
     "text": [
      "1\n"
     ]
    }
   ],
   "source": [
    "try:\n",
    "    print(l.count(5.8))\n",
    "except Exception as e:\n",
    "    print(e)\n",
    "    "
   ]
  },
  {
   "cell_type": "code",
   "execution_count": 94,
   "id": "1ef302f2",
   "metadata": {},
   "outputs": [
    {
     "name": "stdout",
     "output_type": "stream",
     "text": [
      "2\n",
      "1\n"
     ]
    }
   ],
   "source": [
    "def count_no(num,num1):\n",
    "    try:\n",
    "        print(l.count(num))\n",
    "        print(l.count(num1))\n",
    "    except Exception as e:\n",
    "        print(e)\n",
    "count_no(45,\"rushi\")        "
   ]
  },
  {
   "cell_type": "code",
   "execution_count": 95,
   "id": "9f5922a0",
   "metadata": {},
   "outputs": [
    {
     "name": "stdout",
     "output_type": "stream",
     "text": [
      "3\n",
      "0\n"
     ]
    }
   ],
   "source": [
    "try:\n",
    "    def count_no(num,num1):\n",
    "        try:\n",
    "            print(l.count(num))\n",
    "            print(l.count(num1))\n",
    "        except Exception as e:\n",
    "            print(e)\n",
    "    count_no(5,4)               \n",
    "except Exception as e:\n",
    "    print(e)\n",
    "    \n",
    "    "
   ]
  },
  {
   "cell_type": "markdown",
   "id": "a0869ecd",
   "metadata": {},
   "source": [
    "# append():\n",
    "   - Adds an element at the end of the list"
   ]
  },
  {
   "cell_type": "code",
   "execution_count": 96,
   "id": "8326e3ec",
   "metadata": {},
   "outputs": [
    {
     "data": {
      "text/plain": [
       "[1, 5, 'rushi', 2.4, [2, 5, 6, 'khekade']]"
      ]
     },
     "execution_count": 96,
     "metadata": {},
     "output_type": "execute_result"
    }
   ],
   "source": [
    "l = [1,5,\"rushi\",2.4]\n",
    "l1=[2,5,6,\"khekade\"]\n",
    "l.append(l1)\n",
    "l"
   ]
  },
  {
   "cell_type": "code",
   "execution_count": 97,
   "id": "a3913d04",
   "metadata": {},
   "outputs": [
    {
     "name": "stdout",
     "output_type": "stream",
     "text": [
      "[1, 5, 'rushi', 2.4, [2, 5, 6, 'khekade'], [2, 5, 6, 'khekade']]\n"
     ]
    }
   ],
   "source": [
    "try:\n",
    "    l.append(l1)\n",
    "    print(l)\n",
    "except Exception as e:\n",
    "    print(e)"
   ]
  },
  {
   "cell_type": "code",
   "execution_count": 98,
   "id": "e00a4d9c",
   "metadata": {},
   "outputs": [
    {
     "name": "stdout",
     "output_type": "stream",
     "text": [
      "[1, 5, 'rushi', 2.4, [2, 5, 6, 'khekade'], [2, 5, 6, 'khekade'], [2, 5, 6, 'khekade']]\n"
     ]
    }
   ],
   "source": [
    "def append_list(num2):\n",
    "        try:\n",
    "            l.append(l1)\n",
    "            print(l)\n",
    "        except Exception as e:\n",
    "            print(e)\n",
    "append_list(l)            "
   ]
  },
  {
   "cell_type": "code",
   "execution_count": 99,
   "id": "c6a9e4a6",
   "metadata": {},
   "outputs": [
    {
     "name": "stdout",
     "output_type": "stream",
     "text": [
      "name 'lost' is not defined\n"
     ]
    }
   ],
   "source": [
    "try:\n",
    "    def append_list(num2):\n",
    "        try:\n",
    "            l.append(l1)\n",
    "            print(l)\n",
    "        except Exception as e:\n",
    "            print(e)\n",
    "    append_list(lost)           \n",
    "except Exception as e:\n",
    "    print(e)\n",
    "            "
   ]
  },
  {
   "cell_type": "markdown",
   "id": "3951384c",
   "metadata": {},
   "source": [
    "# extend():\n",
    "  - Add the elements of a list (or any iterable), to the end of the current list\n"
   ]
  },
  {
   "cell_type": "code",
   "execution_count": 100,
   "id": "8716a10a",
   "metadata": {},
   "outputs": [
    {
     "name": "stdout",
     "output_type": "stream",
     "text": [
      "['rushi', 'shubham', 'prathmesh', 's', 'a', 'm', 'i', 'r', 's', 'i', 'r']\n"
     ]
    }
   ],
   "source": [
    "names = [\"rushi\",\"shubham\",\"prathmesh\"]\n",
    "names.extend(\"samirsir\")\n",
    "print(names)"
   ]
  },
  {
   "cell_type": "code",
   "execution_count": 101,
   "id": "c4ee37fe",
   "metadata": {},
   "outputs": [
    {
     "name": "stdout",
     "output_type": "stream",
     "text": [
      "['rushi', 'shubham', 'prathmesh', 's', 'a', 'm', 'i', 'r', 's', 'i', 'r', 's', 'a', 'm', 'i', 'r', 's', 'i', 'r']\n"
     ]
    }
   ],
   "source": [
    "try:\n",
    "    names.extend(\"samirsir\")\n",
    "    print(names)\n",
    "except Exception as e:\n",
    "    print(e)"
   ]
  },
  {
   "cell_type": "code",
   "execution_count": 102,
   "id": "a847b500",
   "metadata": {},
   "outputs": [
    {
     "name": "stdout",
     "output_type": "stream",
     "text": [
      "['rushi', 'shubham', 'prathmesh', 's', 'a', 'm', 'i', 'r', 's', 'i', 'r', 's', 'a', 'm', 'i', 'r', 's', 'i', 'r', 'r', 'u', 's', 'h', 'i', 's', 'h', 'u', 'b', 'h', 'a', 'm']\n"
     ]
    }
   ],
   "source": [
    "def extend_name(name,name1):\n",
    "    try:\n",
    "        names.extend(name)\n",
    "        names.extend(name1)\n",
    "        print(names)\n",
    "    except Exception as e:\n",
    "        print(e)\n",
    "extend_name(\"rushi\",\"shubham\")        "
   ]
  },
  {
   "cell_type": "code",
   "execution_count": 103,
   "id": "174520a6",
   "metadata": {},
   "outputs": [
    {
     "name": "stdout",
     "output_type": "stream",
     "text": [
      "['rushi', 'shubham', 'prathmesh', 's', 'a', 'm', 'i', 'r', 's', 'i', 'r', 's', 'a', 'm', 'i', 'r', 's', 'i', 'r', 'r', 'u', 's', 'h', 'i', 's', 'h', 'u', 'b', 'h', 'a', 'm', 'r', 'u', 's', 'h', 'i', 'p', 'r', 'a', 't', 'h', 'm', 'e', 's', 'h']\n"
     ]
    }
   ],
   "source": [
    "try:\n",
    "    def extend_name(name,name1):\n",
    "        try:\n",
    "            names.extend(name)\n",
    "            names.extend(name1)\n",
    "            print(names)\n",
    "        except Exception as e:\n",
    "            print(e)\n",
    "    extend_name(\"rushi\",\"prathmesh\")\n",
    "except Exception as e:\n",
    "        print(e)"
   ]
  },
  {
   "cell_type": "markdown",
   "id": "2790d222",
   "metadata": {},
   "source": [
    "# remove():\n",
    "   - Removes the item with the specified value"
   ]
  },
  {
   "cell_type": "code",
   "execution_count": 104,
   "id": "866297aa",
   "metadata": {},
   "outputs": [
    {
     "data": {
      "text/plain": [
       "[45, 24, 18, 10]"
      ]
     },
     "execution_count": 104,
     "metadata": {},
     "output_type": "execute_result"
    }
   ],
   "source": [
    "l = [99,45,24,18,10]\n",
    "l.remove(99)\n",
    "l"
   ]
  },
  {
   "cell_type": "code",
   "execution_count": 105,
   "id": "bfb74890",
   "metadata": {},
   "outputs": [
    {
     "name": "stdout",
     "output_type": "stream",
     "text": [
      "list.remove(x): x not in list\n"
     ]
    }
   ],
   "source": [
    "try: \n",
    "    l.remove(100)\n",
    "    print(l)\n",
    "except Exception as e:\n",
    "    print(e)"
   ]
  },
  {
   "cell_type": "code",
   "execution_count": 106,
   "id": "a1043cda",
   "metadata": {},
   "outputs": [
    {
     "name": "stdout",
     "output_type": "stream",
     "text": [
      "[45, 18]\n"
     ]
    }
   ],
   "source": [
    "def remove_no(num,num1):\n",
    "    try:\n",
    "        l.remove(num)\n",
    "        l.remove(num1)\n",
    "        print(l)\n",
    "    except Exception as e:\n",
    "        print(e)\n",
    "remove_no(24,10)        "
   ]
  },
  {
   "cell_type": "code",
   "execution_count": 107,
   "id": "50e25069",
   "metadata": {},
   "outputs": [
    {
     "name": "stdout",
     "output_type": "stream",
     "text": [
      "[]\n"
     ]
    }
   ],
   "source": [
    "try:\n",
    "    def remove_no(num,num1):\n",
    "        try:\n",
    "            l.remove(num)\n",
    "            l.remove(num1)\n",
    "            print(l)\n",
    "        except Exception as e:\n",
    "            print(e)\n",
    "    remove_no(45,18)        \n",
    "except Exception as e:\n",
    "    print(e)"
   ]
  },
  {
   "cell_type": "markdown",
   "id": "022319ab",
   "metadata": {},
   "source": [
    "# pop():\n",
    "  - Removes the element at the specified position"
   ]
  },
  {
   "cell_type": "code",
   "execution_count": 108,
   "id": "edc829ff",
   "metadata": {},
   "outputs": [
    {
     "data": {
      "text/plain": [
       "4.2"
      ]
     },
     "execution_count": 108,
     "metadata": {},
     "output_type": "execute_result"
    }
   ],
   "source": [
    "l = [1,3,5,\"rushi\",4.2]\n",
    "l.pop()"
   ]
  },
  {
   "cell_type": "code",
   "execution_count": 109,
   "id": "57d93436",
   "metadata": {},
   "outputs": [
    {
     "name": "stdout",
     "output_type": "stream",
     "text": [
      "[1, 3, 5]\n"
     ]
    }
   ],
   "source": [
    "try:\n",
    "    l.pop()\n",
    "    print(l)\n",
    "except Exception as e:\n",
    "    print(e)"
   ]
  },
  {
   "cell_type": "code",
   "execution_count": 110,
   "id": "6151e754",
   "metadata": {},
   "outputs": [
    {
     "name": "stdout",
     "output_type": "stream",
     "text": [
      "[1, 3]\n"
     ]
    }
   ],
   "source": [
    "def remove_last(num):\n",
    "    try:\n",
    "        l.pop()\n",
    "        print(l)\n",
    "    except Exception as e:\n",
    "        print(e)\n",
    "remove_last(l)        "
   ]
  },
  {
   "cell_type": "code",
   "execution_count": 111,
   "id": "7fbcae5d",
   "metadata": {},
   "outputs": [
    {
     "name": "stdout",
     "output_type": "stream",
     "text": [
      "name 'remove' is not defined\n"
     ]
    }
   ],
   "source": [
    "try:\n",
    "    def remove_last(num):\n",
    "        try:\n",
    "            l.pop()\n",
    "            print(l)\n",
    "        except Exception as e:\n",
    "            print(e)\n",
    "    remove(rushi)\n",
    "except Exception as e:\n",
    "    print(e)"
   ]
  },
  {
   "cell_type": "markdown",
   "id": "8c0fc303",
   "metadata": {},
   "source": [
    "# del(): \n",
    "  - Removes element from the list"
   ]
  },
  {
   "cell_type": "code",
   "execution_count": 204,
   "id": "176f53a8",
   "metadata": {},
   "outputs": [
    {
     "data": {
      "text/plain": [
       "[7, 6, 1, 3, 5, 9, 3, 7]"
      ]
     },
     "execution_count": 204,
     "metadata": {},
     "output_type": "execute_result"
    }
   ],
   "source": [
    "L = [7,6,1,4,3,5,9,3,7]\n",
    "\n",
    "del L[3]\n",
    "L"
   ]
  },
  {
   "cell_type": "code",
   "execution_count": 205,
   "id": "6885eee6",
   "metadata": {},
   "outputs": [
    {
     "name": "stdout",
     "output_type": "stream",
     "text": [
      "[7, 6, 1, 5, 9, 3, 7]\n"
     ]
    }
   ],
   "source": [
    "try:\n",
    "    del L[3]\n",
    "    print(L)\n",
    "except Exception as e:\n",
    "    print(e)"
   ]
  },
  {
   "cell_type": "code",
   "execution_count": 206,
   "id": "49b4ea04",
   "metadata": {},
   "outputs": [
    {
     "name": "stdout",
     "output_type": "stream",
     "text": [
      "[6, 1, 5, 9, 7]\n"
     ]
    }
   ],
   "source": [
    "def remove_num(L,num,num1):\n",
    "    try:\n",
    "        del L[num]\n",
    "        del L[num1]\n",
    "        print(L)\n",
    "    except Exception as e:\n",
    "        print(e)\n",
    "remove_num(L,0,-2)        "
   ]
  },
  {
   "cell_type": "code",
   "execution_count": 209,
   "id": "4de92621",
   "metadata": {},
   "outputs": [
    {
     "name": "stdout",
     "output_type": "stream",
     "text": [
      "[1, 5, 7]\n"
     ]
    }
   ],
   "source": [
    "try:\n",
    "    def remove_num(L,num,num1):\n",
    "        try:\n",
    "            del L[num]\n",
    "            del L[num1]\n",
    "            print(L)\n",
    "        except Exception as e:\n",
    "            print(e)\n",
    "    remove_num(L,0,-2)        \n",
    "except Exception as e:\n",
    "        print(e)"
   ]
  },
  {
   "cell_type": "markdown",
   "id": "60196aa4",
   "metadata": {},
   "source": [
    "# reverse():\n",
    "   - Reverses the order of the list"
   ]
  },
  {
   "cell_type": "code",
   "execution_count": 116,
   "id": "fa7e01f3",
   "metadata": {},
   "outputs": [
    {
     "data": {
      "text/plain": [
       "['samirsir', 4.5, 3, 5, 1]"
      ]
     },
     "execution_count": 116,
     "metadata": {},
     "output_type": "execute_result"
    }
   ],
   "source": [
    "List = [1,5,3,4.5,\"samirsir\"]\n",
    "List.reverse()\n",
    "List"
   ]
  },
  {
   "cell_type": "code",
   "execution_count": 117,
   "id": "419c9930",
   "metadata": {},
   "outputs": [
    {
     "name": "stdout",
     "output_type": "stream",
     "text": [
      "[1, 5, 3, 4.5, 'samirsir']\n"
     ]
    }
   ],
   "source": [
    "try:\n",
    "    List.reverse()\n",
    "    print(List)\n",
    "except Exception as e:\n",
    "    print(e)"
   ]
  },
  {
   "cell_type": "code",
   "execution_count": 118,
   "id": "3d5134cf",
   "metadata": {},
   "outputs": [
    {
     "name": "stdout",
     "output_type": "stream",
     "text": [
      "['samirsir', 4.5, 3, 5, 1]\n"
     ]
    }
   ],
   "source": [
    "def reverse_list(L):\n",
    "    try:\n",
    "        List.reverse()\n",
    "        print(List)\n",
    "    except Exception as e:\n",
    "        print(e)\n",
    "reverse_list(List)        "
   ]
  },
  {
   "cell_type": "code",
   "execution_count": 119,
   "id": "e20f351f",
   "metadata": {},
   "outputs": [
    {
     "name": "stdout",
     "output_type": "stream",
     "text": [
      "name 'file' is not defined\n"
     ]
    }
   ],
   "source": [
    "try:\n",
    "    def reverse_list(L):\n",
    "        try:\n",
    "            List.reverse()\n",
    "            print(List)\n",
    "        except Exception as e:\n",
    "            print(e)\n",
    "    reverse_list(file)\n",
    "except Exception as e:\n",
    "    print(e)"
   ]
  },
  {
   "cell_type": "markdown",
   "id": "1e189e70",
   "metadata": {},
   "source": [
    "# sort():\n",
    "   - this will sort the list alphanumerically, ascending"
   ]
  },
  {
   "cell_type": "code",
   "execution_count": 120,
   "id": "fce8994e",
   "metadata": {},
   "outputs": [
    {
     "name": "stdout",
     "output_type": "stream",
     "text": [
      "['c', 'html', 'java', 'python', 'sql']\n"
     ]
    }
   ],
   "source": [
    "lang = [\"python\",\"sql\",\"c\",\"html\",\"java\"]\n",
    "lang.sort()\n",
    "print(lang)"
   ]
  },
  {
   "cell_type": "code",
   "execution_count": 121,
   "id": "40a31cef",
   "metadata": {},
   "outputs": [
    {
     "name": "stdout",
     "output_type": "stream",
     "text": [
      "['c', 'html', 'java', 'python', 'sql']\n"
     ]
    }
   ],
   "source": [
    "try:\n",
    "    lang.sort()\n",
    "    print(lang)\n",
    "except Exception as e:\n",
    "    print(e)"
   ]
  },
  {
   "cell_type": "code",
   "execution_count": 122,
   "id": "cf1b3411",
   "metadata": {},
   "outputs": [
    {
     "name": "stdout",
     "output_type": "stream",
     "text": [
      "['c', 'html', 'java', 'python', 'sql']\n"
     ]
    }
   ],
   "source": [
    "def sequence(sort): \n",
    "    try:\n",
    "        lang.sort()\n",
    "        print(lang)\n",
    "    except Exception as e:\n",
    "        print(e)\n",
    "sequence(lang)        "
   ]
  },
  {
   "cell_type": "code",
   "execution_count": 123,
   "id": "ca41953f",
   "metadata": {},
   "outputs": [
    {
     "name": "stdout",
     "output_type": "stream",
     "text": [
      "name 'language' is not defined\n"
     ]
    }
   ],
   "source": [
    "try:\n",
    "    def sequence(sort): \n",
    "        try:\n",
    "            lang.sort()\n",
    "            print(lang)\n",
    "        except Exception as e:\n",
    "            print(e)\n",
    "    sequence(language)        \n",
    "except Exception as e:\n",
    "    print(e)"
   ]
  },
  {
   "cell_type": "markdown",
   "id": "d19ea551",
   "metadata": {},
   "source": [
    "# copy():\n",
    "   - this will copy the same list into another list"
   ]
  },
  {
   "cell_type": "code",
   "execution_count": 124,
   "id": "28c782fe",
   "metadata": {},
   "outputs": [
    {
     "name": "stdout",
     "output_type": "stream",
     "text": [
      "['apple', 'banana', 'cherry']\n"
     ]
    }
   ],
   "source": [
    "thislist = [\"apple\", \"banana\", \"cherry\"]\n",
    "mylist = thislist.copy()\n",
    "print(mylist)"
   ]
  },
  {
   "cell_type": "code",
   "execution_count": 125,
   "id": "466de763",
   "metadata": {},
   "outputs": [
    {
     "name": "stdout",
     "output_type": "stream",
     "text": [
      "['apple', 'banana', 'mango']\n"
     ]
    }
   ],
   "source": [
    "# list comprehension\n",
    "# With list comprehension you can do all that with only one line of code:\n",
    "\n",
    "fruits = [\"apple\", \"banana\", \"cherry\", \"kiwi\", \"mango\"]\n",
    "newlist = [i for i in fruits if \"a\" in i]\n",
    "print(newlist)"
   ]
  },
  {
   "cell_type": "code",
   "execution_count": 126,
   "id": "9b63a533",
   "metadata": {},
   "outputs": [
    {
     "name": "stdout",
     "output_type": "stream",
     "text": [
      "['apple']\n",
      "['apple', 'banana']\n",
      "['apple', 'banana', 'mango']\n"
     ]
    }
   ],
   "source": [
    "fruits = [\"apple\", \"banana\", \"cherry\", \"kiwi\", \"mango\"]\n",
    "newlist = []\n",
    "\n",
    "for x in fruits:\n",
    "     if \"a\" in x:\n",
    "            newlist.append(x)\n",
    "            print(newlist)\n"
   ]
  },
  {
   "cell_type": "code",
   "execution_count": 127,
   "id": "f9d9d0f3",
   "metadata": {},
   "outputs": [
    {
     "name": "stdout",
     "output_type": "stream",
     "text": [
      "apple\n",
      "banana\n",
      "cherry\n"
     ]
    }
   ],
   "source": [
    "# loop list\n",
    "thislist = [\"apple\", \"banana\", \"cherry\"]\n",
    "for i in range(len(thislist)):\n",
    "      print(thislist[i])"
   ]
  },
  {
   "cell_type": "code",
   "execution_count": 128,
   "id": "c3b718e9",
   "metadata": {},
   "outputs": [
    {
     "name": "stdout",
     "output_type": "stream",
     "text": [
      "apple\n",
      "banana\n",
      "cherry\n"
     ]
    }
   ],
   "source": [
    "try:\n",
    "    def forloop(list):\n",
    "        thislist = [\"apple\", \"banana\", \"cherry\"]\n",
    "        for i in range(len(thislist)):\n",
    "            print(thislist[i])\n",
    "    forloop(thislist)\n",
    "except Exception as e:\n",
    "    print(e)\n",
    "            "
   ]
  },
  {
   "cell_type": "code",
   "execution_count": 129,
   "id": "1b8b4b5f",
   "metadata": {},
   "outputs": [
    {
     "name": "stdout",
     "output_type": "stream",
     "text": [
      "apple\n",
      ": 1\n",
      "banana\n",
      ": 2\n",
      "cherry\n",
      ": 3\n"
     ]
    }
   ],
   "source": [
    "# while loop\n",
    "# using a while loop to go through all the index numbers\n",
    "\n",
    "thislist = [\"apple\", \"banana\", \"cherry\"]\n",
    "i = 0\n",
    "while i < len(thislist):\n",
    "        print(thislist[i])\n",
    "        i = i + 1\n",
    "        print(\":\",i)  "
   ]
  },
  {
   "cell_type": "code",
   "execution_count": 130,
   "id": "ed91f47d",
   "metadata": {},
   "outputs": [
    {
     "name": "stdout",
     "output_type": "stream",
     "text": [
      "apple\n",
      ": 1\n",
      "banana\n",
      ": 2\n",
      "cherry\n",
      ": 3\n"
     ]
    }
   ],
   "source": [
    "try:\n",
    "    def All_Index(name):\n",
    "        try:\n",
    "            \n",
    "            thislist = [\"apple\", \"banana\", \"cherry\"]\n",
    "            i = 0\n",
    "            while i < len(thislist):\n",
    "                print(thislist[i])\n",
    "                i = i + 1\n",
    "                print(\":\",i) \n",
    "        except Exception as e:\n",
    "            print(e)\n",
    "    All_Index(thislist)\n",
    "except Exception as e:\n",
    "        print(e)\n",
    "        "
   ]
  }
 ],
 "metadata": {
  "kernelspec": {
   "display_name": "Python 3 (ipykernel)",
   "language": "python",
   "name": "python3"
  },
  "language_info": {
   "codemirror_mode": {
    "name": "ipython",
    "version": 3
   },
   "file_extension": ".py",
   "mimetype": "text/x-python",
   "name": "python",
   "nbconvert_exporter": "python",
   "pygments_lexer": "ipython3",
   "version": "3.9.12"
  }
 },
 "nbformat": 4,
 "nbformat_minor": 5
}

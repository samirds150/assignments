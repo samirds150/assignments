{
 "cells": [
  {
   "cell_type": "raw",
   "id": "f72794e9",
   "metadata": {},
   "source": [
    "1. What exactly is []?\n",
    "Ans=\n",
    "   we can accesss list items in[]\n",
    "   e.g- l=[1,2,3,4]"
   ]
  },
  {
   "cell_type": "code",
   "execution_count": 11,
   "id": "3aed2f94",
   "metadata": {
    "scrolled": true
   },
   "outputs": [
    {
     "data": {
      "text/plain": [
       "[2, 4, 'hello', 6, 8, 10]"
      ]
     },
     "execution_count": 11,
     "metadata": {},
     "output_type": "execute_result"
    }
   ],
   "source": [
    "2. In a list of values stored in a variable called spam, how would you assign the value 'hello' as the third value? (Assume [2, 4, 6, 8, 10] are in spam.)\n",
    "Let's pretend the spam includes the list ['a', 'b', 'c', 'd'] for the next three queries.\n",
    "#Ans=\n",
    "spam=[2,4,6,8,10]\n",
    "spam\n",
    "spam.insert(2,'hello')\n",
    "spam"
   ]
  },
  {
   "cell_type": "code",
   "execution_count": 1,
   "id": "3b4d856a",
   "metadata": {},
   "outputs": [
    {
     "data": {
      "text/plain": [
       "'d'"
      ]
     },
     "execution_count": 1,
     "metadata": {},
     "output_type": "execute_result"
    }
   ],
   "source": [
    "#3. What is the value of spam[int(int('3' * 2) / 11)]?\n",
    "#Ans=\n",
    "spam=['a','b','c','d']\n",
    "spam[int(int('3' * 2) / 11)]\n"
   ]
  },
  {
   "cell_type": "code",
   "execution_count": 2,
   "id": "94b34231",
   "metadata": {},
   "outputs": [
    {
     "data": {
      "text/plain": [
       "'d'"
      ]
     },
     "execution_count": 2,
     "metadata": {},
     "output_type": "execute_result"
    }
   ],
   "source": [
    "#4. What is the value of spam[-1]?\n",
    "#Ans=\n",
    "spam[-1]"
   ]
  },
  {
   "cell_type": "code",
   "execution_count": 3,
   "id": "5d8a88a0",
   "metadata": {},
   "outputs": [
    {
     "data": {
      "text/plain": [
       "['a', 'b']"
      ]
     },
     "execution_count": 3,
     "metadata": {},
     "output_type": "execute_result"
    }
   ],
   "source": [
    "#5. What is the value of spam[:2]?\n",
    "#Ans=\n",
    "spam[:2]"
   ]
  },
  {
   "cell_type": "raw",
   "id": "6f2e9d39",
   "metadata": {},
   "source": [
    "Let's pretend bacon has the list [3.14, 'cat,' 11, 'cat,' True] for the next three questions.\n"
   ]
  },
  {
   "cell_type": "code",
   "execution_count": 12,
   "id": "3f4c86d5",
   "metadata": {},
   "outputs": [
    {
     "data": {
      "text/plain": [
       "[3.14, 'cat', 11, 'cat', True]"
      ]
     },
     "execution_count": 12,
     "metadata": {},
     "output_type": "execute_result"
    }
   ],
   "source": [
    "#6. What is the value of bacon.index('cat')?\n",
    "#Ans=\n",
    "bacon= [3.14, 'cat', 11 , 'cat', True] \n",
    "bacon"
   ]
  },
  {
   "cell_type": "code",
   "execution_count": 13,
   "id": "4d9dc77d",
   "metadata": {},
   "outputs": [
    {
     "data": {
      "text/plain": [
       "1"
      ]
     },
     "execution_count": 13,
     "metadata": {},
     "output_type": "execute_result"
    }
   ],
   "source": [
    "bacon.index('cat')"
   ]
  },
  {
   "cell_type": "code",
   "execution_count": 20,
   "id": "dbfae0c0",
   "metadata": {
    "scrolled": false
   },
   "outputs": [
    {
     "data": {
      "text/plain": [
       "[3.14, 'cat', 11, 'cat', True, 99, 99, 99, 99, 99, 99]"
      ]
     },
     "execution_count": 20,
     "metadata": {},
     "output_type": "execute_result"
    }
   ],
   "source": [
    "#7. How does bacon.append(99) change the look of the list value in bacon?\n",
    "#Ans=\n",
    "bacon= [3.14, 'cat', 11 , 'cat', True] \n",
    "bacon.append(99)\n",
    "bacon"
   ]
  },
  {
   "cell_type": "code",
   "execution_count": 25,
   "id": "5db93f55",
   "metadata": {},
   "outputs": [
    {
     "data": {
      "text/plain": [
       "[3.14, 11, 'cat', True]"
      ]
     },
     "execution_count": 25,
     "metadata": {},
     "output_type": "execute_result"
    }
   ],
   "source": [
    "#8. How does bacon.remove('cat') change the look of the list in bacon?\n",
    "#Ans=\n",
    "bacon= [3.14, 'cat', 11 , 'cat', True] \n",
    "bacon.remove('cat')\n",
    "bacon"
   ]
  },
  {
   "cell_type": "raw",
   "id": "2abf2d20",
   "metadata": {},
   "source": [
    "9. What are the list concatenation and list replication operators?\n",
    "Ans=\n",
    "   1.concatenation operator is +\n",
    "   2.replication operator is *\n",
    "   "
   ]
  },
  {
   "cell_type": "raw",
   "id": "bb78b9c2",
   "metadata": {},
   "source": [
    "10. What is difference between the list methods append() and insert()?\n",
    "Ans=\n",
    "   1.Append() method add elements to end of list\n",
    "   2.insert() method add elements in list anywhere"
   ]
  },
  {
   "cell_type": "raw",
   "id": "00e9da80",
   "metadata": {},
   "source": [
    "11. What are the two methods for removing items from a list?\n",
    "Ans=\n",
    "   1.l.remove()\n",
    "   2.l.pop()"
   ]
  },
  {
   "cell_type": "raw",
   "id": "cebcac3d",
   "metadata": {},
   "source": [
    "12. Describe how list values and string values are identical.\n",
    "Ans=\n",
    "    list and string values can be concatenated\n",
    "    both have indexes\n",
    "    list and string uses in and not in operator\n"
   ]
  },
  {
   "cell_type": "raw",
   "id": "6b1f8162",
   "metadata": {},
   "source": [
    "13. What's the difference between tuples and lists?\n",
    "Ans=\n",
    "   1.list are mutable i.e.we can change ans written in []\n",
    "   2.tuple is immutable i.e.we cant change it and written in ()\n",
    "   "
   ]
  },
  {
   "cell_type": "code",
   "execution_count": 30,
   "id": "2f6be9ab",
   "metadata": {},
   "outputs": [
    {
     "data": {
      "text/plain": [
       "42"
      ]
     },
     "execution_count": 30,
     "metadata": {},
     "output_type": "execute_result"
    }
   ],
   "source": [
    "#14. How do you type a tuple value that only contains the integer 42?\n",
    "#Ans=\n",
    "t=(42)\n",
    "t"
   ]
  },
  {
   "cell_type": "raw",
   "id": "c73a1dc2",
   "metadata": {},
   "source": [
    "15. How do you get a list value's tuple form? How do you get a tuple value's list form?\n",
    "Ans=\n",
    "   list()\n",
    "   tuple()\n"
   ]
  },
  {
   "cell_type": "raw",
   "id": "a7fc3f65",
   "metadata": {},
   "source": [
    "16. Variables that \"contain\" list values are not necessarily lists themselves. Instead, what do they contain?\n",
    "Ans=\n",
    "     contain references to list values.\n",
    "\n"
   ]
  },
  {
   "cell_type": "raw",
   "id": "ac851f3a",
   "metadata": {},
   "source": [
    "17. How do you distinguish between copy.copy() and copy.deepcopy()?\n",
    "Ans=\n",
    "    The copy.copy() function will do a shallow copy of a list, while the copy.deepcopy() function will do a deep copy of a list. "
   ]
  },
  {
   "cell_type": "code",
   "execution_count": null,
   "id": "a263077c",
   "metadata": {},
   "outputs": [],
   "source": []
  }
 ],
 "metadata": {
  "kernelspec": {
   "display_name": "Python 3.10.0 64-bit",
   "language": "python",
   "name": "python3"
  },
  "language_info": {
   "codemirror_mode": {
    "name": "ipython",
    "version": 3
   },
   "file_extension": ".py",
   "mimetype": "text/x-python",
   "name": "python",
   "nbconvert_exporter": "python",
   "pygments_lexer": "ipython3",
   "version": "3.10.0"
  },
  "vscode": {
   "interpreter": {
    "hash": "a8b48e5a87b19713dae21e36e2c109792c9c38efbdbf35194f3b31522719caf4"
   }
  }
 },
 "nbformat": 4,
 "nbformat_minor": 5
}

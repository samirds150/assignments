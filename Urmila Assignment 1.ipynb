{
 "cells": [
  {
   "cell_type": "markdown",
   "id": "04747da0",
   "metadata": {},
   "source": [
    "# What are the two values of the boolean data type? How do you write them?"
   ]
  },
  {
   "cell_type": "code",
   "execution_count": null,
   "id": "1a890ab5",
   "metadata": {},
   "outputs": [],
   "source": [
    "ANS\n",
    "True and False, using capital T and F,\n",
    "with the rest of the word oin lowercase.\n"
   ]
  },
  {
   "cell_type": "markdown",
   "id": "998aff50",
   "metadata": {},
   "source": [
    "# What are the three different types of boolean operators?"
   ]
  },
  {
   "cell_type": "code",
   "execution_count": null,
   "id": "b00d3934",
   "metadata": {},
   "outputs": [],
   "source": [
    "ANS\n",
    "and, or,and not. "
   ]
  },
  {
   "cell_type": "markdown",
   "id": "2b41c05e",
   "metadata": {},
   "source": [
    "# Make a list of each boolean operators truth tables(i.e every possible combination of boolean values for the operator and what it evalute)."
   ]
  },
  {
   "cell_type": "markdown",
   "id": "9d597092",
   "metadata": {},
   "source": [
    "ANS\n",
    "True and True is True.\n",
    "True and False is False.\n",
    "False and True is False.\n",
    "False and False is False.\n",
    "True or True is True.\n",
    "True or False is True.\n",
    "False or True is True.\n",
    "False or False is False.\n",
    "not True is False.\n",
    "not False is True."
   ]
  },
  {
   "cell_type": "markdown",
   "id": "60d2809b",
   "metadata": {},
   "source": [
    "# What are the values of the following expressions?\n",
    "(5>4)and(3==5)\n",
    "not(5>4)\n",
    "(5>4)or(3==5)\n",
    "not((5>4)or(3==5))\n",
    "(True and True)and(True==False)\n",
    "(not False)or(not True)W"
   ]
  },
  {
   "cell_type": "code",
   "execution_count": null,
   "id": "8df3f68a",
   "metadata": {},
   "outputs": [],
   "source": [
    "ANS\n",
    "False\n",
    "False\n",
    "True\n",
    "False\n",
    "False\n",
    "True"
   ]
  },
  {
   "cell_type": "markdown",
   "id": "a3fcc99a",
   "metadata": {},
   "source": [
    "# What are the six comparison operators? "
   ]
  },
  {
   "cell_type": "code",
   "execution_count": null,
   "id": "7eb5334a",
   "metadata": {},
   "outputs": [],
   "source": [
    "ANS\n",
    "==,!=,<,>,<=,and>=."
   ]
  },
  {
   "cell_type": "markdown",
   "id": "c3359e57",
   "metadata": {},
   "source": [
    "# How do you tell the difference between the equal to and assignment operators?describe a condition and when use one."
   ]
  },
  {
   "cell_type": "code",
   "execution_count": null,
   "id": "639ba158",
   "metadata": {},
   "outputs": [],
   "source": [
    "ANS\n",
    "==is the equal to operator that compares two values and evalutes to a boolean, \n",
    "while = is the assignment operator that stores a value in a variable.\n",
    "A condition is an expression used in a flow control statement that evalutes to a boolean value."
   ]
  },
  {
   "cell_type": "markdown",
   "id": "e14e9f35",
   "metadata": {},
   "source": [
    "# Identify the three blocks in the code:\n",
    "spam=0\n",
    "if spam==10:\n",
    "print('eggs')\n",
    "if spam>5:\n",
    "print('bacon')\n",
    "else:\n",
    "print('ham')\n",
    "print('spam')\n",
    "print('spam')"
   ]
  },
  {
   "cell_type": "code",
   "execution_count": null,
   "id": "2bf8704c",
   "metadata": {},
   "outputs": [],
   "source": [
    "ANS\n",
    "The three blocks are everthing inside the if statement and the lines \n",
    "print('bacon')and print('ham').\n",
    "\n",
    "print('eggs')\n",
    "if spam>5:\n",
    "print('bacon') \n",
    "else:\n",
    "print('ham')\n",
    "print('spam')"
   ]
  },
  {
   "cell_type": "markdown",
   "id": "e225c010",
   "metadata": {},
   "source": [
    "# What code thatprints Hello if 1 is stored in spam , prints Howdy if 2 is stored in spam , and prints Greetings! if anything else is stored in spam."
   ]
  },
  {
   "cell_type": "code",
   "execution_count": null,
   "id": "974a9b2c",
   "metadata": {},
   "outputs": [],
   "source": [
    "ANS\n",
    "The code:\n",
    "    if spam==1:\n",
    "        print('Hello')\n",
    "elif spam==2\n",
    "print('Howdy')\n",
    "else:\n",
    "    print('Greetings!')"
   ]
  },
  {
   "cell_type": "markdown",
   "id": "bf7f1708",
   "metadata": {},
   "source": [
    "# If your programme is stuck in an endless loop, what keys you'll press?"
   ]
  },
  {
   "cell_type": "code",
   "execution_count": null,
   "id": "2c5dfeed",
   "metadata": {},
   "outputs": [],
   "source": [
    "ANS\n",
    "Press CTRL-C to stop a program stuck in an endless loop."
   ]
  },
  {
   "cell_type": "markdown",
   "id": "f130136f",
   "metadata": {},
   "source": [
    "# How can you tell the difference between break and continue?"
   ]
  },
  {
   "cell_type": "code",
   "execution_count": null,
   "id": "c1ceae8e",
   "metadata": {},
   "outputs": [],
   "source": [
    "ANS\n",
    "The break statement will move the execution outside and just after a loop.\n",
    "The continue statement will move the execution tu the start of the loop."
   ]
  },
  {
   "cell_type": "markdown",
   "id": "9fde552a",
   "metadata": {},
   "source": [
    "# In a for loop, What is the difference between range (10),range(0,10),and range (0,10,1)?"
   ]
  },
  {
   "cell_type": "code",
   "execution_count": null,
   "id": "945d4491",
   "metadata": {},
   "outputs": [],
   "source": [
    "ANS\n",
    "They all do the same thing.\n",
    "The range(10)call ranges from 0 up to(but not including)10,range(0,10)\n",
    "explicitly tells the loop to start at 0, and range(0,10,1) explicitly tells theloop\n",
    "to increase the variable by 1on each iteration."
   ]
  },
  {
   "cell_type": "markdown",
   "id": "dd898fb0",
   "metadata": {},
   "source": [
    "# Write a short program that prints the numbers 1 to 10 using a for loop . then  write an equivalent program that prints the numbers 1 to 10 using a while loop."
   ]
  },
  {
   "cell_type": "code",
   "execution_count": null,
   "id": "6c6bfdbf",
   "metadata": {},
   "outputs": [],
   "source": [
    "ANS\n",
    "The code:\n",
    "  for i in range(1,11):\n",
    "    print(i)\n",
    "  and:\n",
    "   i=1\n",
    "while i<=10:\n",
    "    print (i)\n",
    "    i=i+1"
   ]
  },
  {
   "cell_type": "markdown",
   "id": "e34a5292",
   "metadata": {},
   "source": [
    "# If you had a function named bacon() inside a module named spam , how would you call it after importing spam? "
   ]
  },
  {
   "cell_type": "code",
   "execution_count": null,
   "id": "a0136d7a",
   "metadata": {},
   "outputs": [],
   "source": [
    "ANS\n",
    "This function can be called with sapm.bacon()."
   ]
  }
 ],
 "metadata": {
  "kernelspec": {
   "display_name": "Python 3 (ipykernel)",
   "language": "python",
   "name": "python3"
  },
  "language_info": {
   "codemirror_mode": {
    "name": "ipython",
    "version": 3
   },
   "file_extension": ".py",
   "mimetype": "text/x-python",
   "name": "python",
   "nbconvert_exporter": "python",
   "pygments_lexer": "ipython3",
   "version": "3.9.12"
  }
 },
 "nbformat": 4,
 "nbformat_minor": 5
}

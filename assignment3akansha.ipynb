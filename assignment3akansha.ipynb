{
 "cells": [
  {
   "cell_type": "code",
   "execution_count": null,
   "id": "1642f695",
   "metadata": {},
   "outputs": [],
   "source": [
    "1. Why are functions advantageous to have in your programs?\n",
    "ans:  functions reduce the need for duplicate code."
   ]
  },
  {
   "cell_type": "code",
   "execution_count": null,
   "id": "a71a57f5",
   "metadata": {},
   "outputs": [],
   "source": [
    "2. When does the code in a function run: when it's specified or when it's called?\n",
    "    ans:to carry out the specific task  the function not need multiple inputs."
   ]
  },
  {
   "cell_type": "code",
   "execution_count": null,
   "id": "77e1d345",
   "metadata": {},
   "outputs": [],
   "source": [
    "3. What statement creates a function?\n",
    "ans: the \"def\" keyword is the statement for creates a function."
   ]
  },
  {
   "cell_type": "code",
   "execution_count": null,
   "id": "cc218d23",
   "metadata": {},
   "outputs": [],
   "source": [
    "4. What is the difference between a function and a function call?\n",
    "ans: function:\n",
    "    A function is a block of code that does a particular operation and returns a result.\n",
    "   \n",
    " function call:\n",
    "        A function call is the code used to pass control to a function."
   ]
  },
  {
   "cell_type": "code",
   "execution_count": null,
   "id": "fe517db8",
   "metadata": {},
   "outputs": [],
   "source": [
    "5. How many global scopes are there in a Python program? How many local scopes?\n",
    "ans:  There is  only one global python scope per program execution.\n",
    "    there may be any number of local python scope per program execution."
   ]
  },
  {
   "cell_type": "markdown",
   "id": "f5d4a6ec",
   "metadata": {},
   "source": [
    "6. What happens to variables in a local scope when the function call returns?\n",
    "ans:  the local variable can be used ouside the function any time after the function call completes."
   ]
  },
  {
   "cell_type": "code",
   "execution_count": null,
   "id": "75982850",
   "metadata": {},
   "outputs": [],
   "source": [
    "7. What is the concept of a return value? Is it possible to have a return value in an expression?\n",
    "ans: the return statement to make your function send python object back to the caller code.\n",
    "yes it is possible to have a return value in an expression"
   ]
  },
  {
   "cell_type": "code",
   "execution_count": null,
   "id": "6faabece",
   "metadata": {},
   "outputs": [],
   "source": [
    "8. If a function does not have a return statement, what is the return value of a call to that function?\n",
    " ans: if no return statement appears in a function definition control automatically return to the calling function after the last statement of the called function is executed."
   ]
  },
  {
   "cell_type": "markdown",
   "id": "903467bd",
   "metadata": {},
   "source": [
    "9. How do you make a function variable refer to the global variable?\n",
    "ans: to create a global variable inside a function, we can use the global keyword."
   ]
  },
  {
   "cell_type": "markdown",
   "id": "fa618ec8",
   "metadata": {},
   "source": [
    "10. What is the data type of None?\n",
    "ans: the none is the data type of its own(NoneType)."
   ]
  },
  {
   "cell_type": "code",
   "execution_count": null,
   "id": "403a98b1",
   "metadata": {},
   "outputs": [],
   "source": [
    "11. What does the sentence import areallyourpetsnamederic do?\n",
    "ans:It will import the libaray name areallyourpetsnamederic."
   ]
  },
  {
   "cell_type": "code",
   "execution_count": null,
   "id": "94ab9252",
   "metadata": {},
   "outputs": [],
   "source": [
    "12. If you had a bacon() feature in a spam module, what would you call it after importing spam?\n",
    "ans:This function can be called with spam.bacon().\n",
    "    \n",
    "    \n"
   ]
  }
 ],
 "metadata": {
  "kernelspec": {
   "display_name": "Python 3 (ipykernel)",
   "language": "python",
   "name": "python3"
  },
  "language_info": {
   "codemirror_mode": {
    "name": "ipython",
    "version": 3
   },
   "file_extension": ".py",
   "mimetype": "text/x-python",
   "name": "python",
   "nbconvert_exporter": "python",
   "pygments_lexer": "ipython3",
   "version": "3.9.12"
  }
 },
 "nbformat": 4,
 "nbformat_minor": 5
}

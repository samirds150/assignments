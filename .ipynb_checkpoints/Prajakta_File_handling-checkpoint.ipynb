{
 "cells": [
  {
   "cell_type": "markdown",
   "id": "3df86bd0",
   "metadata": {},
   "source": [
    "# File Handling\n"
   ]
  },
  {
   "cell_type": "markdown",
   "id": "ebbd90aa",
   "metadata": {},
   "source": [
    "There are certain functions and mode in file handling\n",
    "File functions :\n",
    "1. open() :\n",
    "    There are four different methods (modes) for opening a file:\n",
    "    \n",
    "    \"r\" - Read - Default value. Opens a file for reading, error if the file does not exist.\n",
    "\n",
    "    \"a\" - Append - Opens a file for appending, creates the file if it does not exist.\n",
    "\n",
    "    \"w\" - Write - Opens a file for writing, creates the file if it does not exist.\n",
    "\n",
    "    \"x\" - Create - Creates the specified file, returns an error if the file exists.\n",
    "\n",
    "2. read() : \n",
    "    It include some methods\n",
    "    \n",
    "    read() - Which read complete file.\n",
    "    \n",
    "    read(no.) -  which read file upto specified character number.\n",
    "    \n",
    "    readline() - Which return only one line from file.\n",
    "    \n",
    "\n",
    "3. close()"
   ]
  },
  {
   "cell_type": "markdown",
   "id": "ab4cc57f",
   "metadata": {},
   "source": [
    "# 1. open() :"
   ]
  },
  {
   "cell_type": "markdown",
   "id": "a00f6189",
   "metadata": {},
   "source": [
    "This function open file in different modes"
   ]
  },
  {
   "cell_type": "markdown",
   "id": "fd04f4ee",
   "metadata": {},
   "source": [
    "# * read mode :"
   ]
  },
  {
   "cell_type": "markdown",
   "id": "15258dc6",
   "metadata": {},
   "source": [
    "This is default mode of any file.. It open file only for read . Gives error if file does not exist."
   ]
  },
  {
   "cell_type": "code",
   "execution_count": 2,
   "id": "04909a19",
   "metadata": {},
   "outputs": [
    {
     "name": "stdout",
     "output_type": "stream",
     "text": [
      "name 'abc' is not defined\n"
     ]
    }
   ],
   "source": [
    "try:\n",
    "    def opening_new_file(filename, mode):\n",
    "        \"This function open the file if it exist otherwise it gives error\"\n",
    "        try:\n",
    "            file = open(filename, mode)\n",
    "        except Exception as e:\n",
    "            print(e)\n",
    "\n",
    "    opening_new_file(abc.txt, r)\n",
    "            \n",
    "except Exception as e:\n",
    "            print(e)"
   ]
  },
  {
   "cell_type": "code",
   "execution_count": 17,
   "id": "c800fd22",
   "metadata": {},
   "outputs": [
    {
     "name": "stdout",
     "output_type": "stream",
     "text": [
      "Your file is open now in reding method\n"
     ]
    }
   ],
   "source": [
    "try:\n",
    "    def opening_existed_file():\n",
    "        \"This function open existed file\"\n",
    "        try:\n",
    "            file = open(\"motivation.txt\", 'r')\n",
    "            print(\"Your file is open now in reding method\")\n",
    "        except Exception as e:\n",
    "            print(e)\n",
    "\n",
    "    opening_existed_file()\n",
    "            \n",
    "except Exception as e:\n",
    "            print(e)"
   ]
  },
  {
   "cell_type": "markdown",
   "id": "f554cef2",
   "metadata": {},
   "source": [
    "# * write mode :"
   ]
  },
  {
   "cell_type": "markdown",
   "id": "72282d66",
   "metadata": {},
   "source": [
    "This mode open file for writing and create if not exist."
   ]
  },
  {
   "cell_type": "code",
   "execution_count": 60,
   "id": "7b934ef5",
   "metadata": {},
   "outputs": [
    {
     "name": "stdout",
     "output_type": "stream",
     "text": [
      "Your file is ready to write\n"
     ]
    }
   ],
   "source": [
    "try:\n",
    "    def write_to_file():\n",
    "        \"This function open file for writing\"\n",
    "        try:\n",
    "            file = open(\"motivation.txt\", 'w')\n",
    "            print(\"Your file is ready to write\")\n",
    "            file.write(\"It does not matter how slowly you go as long as you do not stop.\\n\")\n",
    "            file.write(\"Life is 10% what happens to you and 90% how you react to it.\\n\")\n",
    "            file.write(\"All our dreams can come true, if we have the courage to pursue them.\")\n",
    "            file.close()\n",
    "        except Exception as e:\n",
    "            print(e)\n",
    "\n",
    "    write_to_file()\n",
    "            \n",
    "except Exception as e:\n",
    "            print(e)"
   ]
  },
  {
   "cell_type": "markdown",
   "id": "2cdaa893",
   "metadata": {},
   "source": [
    "# * append mode :"
   ]
  },
  {
   "cell_type": "markdown",
   "id": "a13d78a7",
   "metadata": {},
   "source": [
    "This mode open existing file for appending operation and create file if not exist"
   ]
  },
  {
   "cell_type": "code",
   "execution_count": 19,
   "id": "5c560681",
   "metadata": {},
   "outputs": [
    {
     "name": "stdout",
     "output_type": "stream",
     "text": [
      "Your file is ready to append\n"
     ]
    }
   ],
   "source": [
    "try:\n",
    "    def append_file():\n",
    "        \"This function perform append operation in existed file\"\n",
    "        try:\n",
    "            file = open(\"motivation.txt\", 'a')\n",
    "            print(\"Your file is ready to append\")\n",
    "            file.write(\"It always seems impossible until it's done.\")\n",
    "            file.close()\n",
    "        except Exception as e:\n",
    "            print(e)\n",
    "\n",
    "    append_file()\n",
    "            \n",
    "except Exception as e:\n",
    "            print(e)"
   ]
  },
  {
   "cell_type": "markdown",
   "id": "bfccb31a",
   "metadata": {},
   "source": [
    "# * create mode :"
   ]
  },
  {
   "cell_type": "markdown",
   "id": "ade5edde",
   "metadata": {},
   "source": [
    "This mode Create new file, gives error if file already exist."
   ]
  },
  {
   "cell_type": "code",
   "execution_count": 26,
   "id": "70d59893",
   "metadata": {},
   "outputs": [
    {
     "name": "stdout",
     "output_type": "stream",
     "text": [
      "[Errno 17] File exists: 'motivation.txt'\n"
     ]
    }
   ],
   "source": [
    "try:\n",
    "    def create_file():\n",
    "        \"This function try to create new file\"\n",
    "        try:\n",
    "            file = open(\"motivation.txt\", 'x')\n",
    "        except Exception as e:\n",
    "            print(e)\n",
    "\n",
    "    create_file()\n",
    "            \n",
    "except Exception as e:\n",
    "            print(e)"
   ]
  },
  {
   "cell_type": "code",
   "execution_count": 27,
   "id": "ac60c59b",
   "metadata": {},
   "outputs": [
    {
     "name": "stdout",
     "output_type": "stream",
     "text": [
      "Your new text file is created.\n"
     ]
    }
   ],
   "source": [
    "try:\n",
    "    def create_new_file():\n",
    "        \"This function create new file\"\n",
    "        try:\n",
    "            file = open(\"python.txt\", 'x')\n",
    "            print(\"Your new text file is created.\")\n",
    "        except Exception as e:\n",
    "            print(e)\n",
    "\n",
    "    create_new_file()\n",
    "            \n",
    "except Exception as e:\n",
    "            print(e)"
   ]
  },
  {
   "cell_type": "markdown",
   "id": "70f8aa5e",
   "metadata": {},
   "source": [
    "# 2. read() :"
   ]
  },
  {
   "cell_type": "markdown",
   "id": "c33b48a2",
   "metadata": {},
   "source": [
    "This function read file. Bydefault it read complete file"
   ]
  },
  {
   "cell_type": "code",
   "execution_count": 30,
   "id": "635596fa",
   "metadata": {},
   "outputs": [
    {
     "name": "stdout",
     "output_type": "stream",
     "text": [
      "Your file open to read.\n",
      "\n",
      "It does not matter how slowly you go as long as you do not stop.\n",
      "Life is 10% what happens to you and 90% how you react to it.\n",
      "All our dreams can come true, if we have the courage to pursue them.It always seems impossible until it's done.\n"
     ]
    }
   ],
   "source": [
    "try:\n",
    "    def read_file():\n",
    "        \"This function open to read file\"\n",
    "        try:\n",
    "            file = open(\"motivation.txt\", 'r')\n",
    "            print(\"Your file open to read.\\n\")\n",
    "            print(file.read())\n",
    "        except Exception as e:\n",
    "            print(e)\n",
    "\n",
    "    read_file()\n",
    "            \n",
    "except Exception as e:\n",
    "            print(e)"
   ]
  },
  {
   "cell_type": "markdown",
   "id": "f78ca523",
   "metadata": {},
   "source": [
    "Below function read only specify how many characters you want to return"
   ]
  },
  {
   "cell_type": "code",
   "execution_count": 33,
   "id": "8df895d2",
   "metadata": {},
   "outputs": [
    {
     "name": "stdout",
     "output_type": "stream",
     "text": [
      "Your file open to read.\n",
      "\n",
      "It does not matter how slowly \n"
     ]
    }
   ],
   "source": [
    "try:\n",
    "    def read_file():\n",
    "        \"This function open to read specified characters from file\"\n",
    "        try:\n",
    "            file = open(\"motivation.txt\", 'r')\n",
    "            print(\"Your file open to read.\\n\")\n",
    "            print(file.read(30))\n",
    "        except Exception as e:\n",
    "            print(e)\n",
    "\n",
    "    read_file()\n",
    "            \n",
    "except Exception as e:\n",
    "            print(e)"
   ]
  },
  {
   "cell_type": "markdown",
   "id": "28165993",
   "metadata": {},
   "source": [
    "# * readline() method : "
   ]
  },
  {
   "cell_type": "markdown",
   "id": "82151deb",
   "metadata": {},
   "source": [
    "This method read single line of the file"
   ]
  },
  {
   "cell_type": "code",
   "execution_count": 35,
   "id": "d0e2d9d2",
   "metadata": {},
   "outputs": [
    {
     "name": "stdout",
     "output_type": "stream",
     "text": [
      "This function print only first line of file.\n",
      "\n",
      "It does not matter how slowly you go as long as you do not stop.\n",
      "\n"
     ]
    }
   ],
   "source": [
    "try:\n",
    "    def read_single_line_file():\n",
    "        \"This function read only first line from file\"\n",
    "        try:\n",
    "            file = open(\"motivation.txt\", 'r')\n",
    "            print(\"This function print only first line of file.\\n\")\n",
    "            print(file.readline())\n",
    "        except Exception as e:\n",
    "            print(e)\n",
    "\n",
    "    read_single_line_file()\n",
    "            \n",
    "except Exception as e:\n",
    "            print(e)"
   ]
  },
  {
   "cell_type": "markdown",
   "id": "e7e8fa44",
   "metadata": {},
   "source": [
    "If we call readline() method two time then it return 2 lines from the file."
   ]
  },
  {
   "cell_type": "code",
   "execution_count": 38,
   "id": "4ccc9744",
   "metadata": {},
   "outputs": [
    {
     "name": "stdout",
     "output_type": "stream",
     "text": [
      "This function print two lines of file.\n",
      "\n",
      "It does not matter how slowly you go as long as you do not stop.\n",
      "\n",
      "Life is 10% what happens to you and 90% how you react to it.\n",
      "\n"
     ]
    }
   ],
   "source": [
    "try:\n",
    "    def read_multiple_line_file():\n",
    "        \"This function read only first line from file\"\n",
    "        try:\n",
    "            file = open(\"motivation.txt\", 'r')\n",
    "            print(\"This function print two lines of file.\\n\")\n",
    "            print(file.readline())\n",
    "            print(file.readline())\n",
    "            file.close()\n",
    "        except Exception as e:\n",
    "            print(e)\n",
    "\n",
    "    read_multiple_line_file()\n",
    "            \n",
    "except Exception as e:\n",
    "            print(e)"
   ]
  },
  {
   "cell_type": "markdown",
   "id": "0ab652e8",
   "metadata": {},
   "source": [
    "# 3. close() : "
   ]
  },
  {
   "cell_type": "markdown",
   "id": "644f02a4",
   "metadata": {},
   "source": [
    "This function close the file"
   ]
  },
  {
   "cell_type": "code",
   "execution_count": 43,
   "id": "3efeaf1f",
   "metadata": {},
   "outputs": [
    {
     "name": "stdout",
     "output_type": "stream",
     "text": [
      "Your file is closed now.\n"
     ]
    }
   ],
   "source": [
    "try:\n",
    "    def closing_file():\n",
    "        \"This function closes the open file\"\n",
    "        try:\n",
    "            file = open(\"motivation.txt\", 'r')\n",
    "            file.close()\n",
    "            print(\"Your file is closed now.\")\n",
    "        except Exception as e:\n",
    "            print(e)\n",
    "\n",
    "    closing_file()\n",
    "            \n",
    "except Exception as e:\n",
    "            print(e)"
   ]
  },
  {
   "cell_type": "markdown",
   "id": "2822f48a",
   "metadata": {},
   "source": [
    "We can not perform any operation on closed file"
   ]
  },
  {
   "cell_type": "code",
   "execution_count": 45,
   "id": "ec398c46",
   "metadata": {},
   "outputs": [
    {
     "name": "stdout",
     "output_type": "stream",
     "text": [
      "I/O operation on closed file.\n"
     ]
    }
   ],
   "source": [
    "try:\n",
    "    def operation_on_closed_file():\n",
    "        \"This function perform operation on closed file\"\n",
    "        try:\n",
    "            file = open(\"motivation.txt\", 'w')\n",
    "            file.close()\n",
    "            file.write(\"Inspiration does exist, but it must find you working.\")\n",
    "        except Exception as e:\n",
    "            print(e)\n",
    "\n",
    "    operation_on_closed_file()\n",
    "            \n",
    "except Exception as e:\n",
    "            print(e)"
   ]
  },
  {
   "cell_type": "markdown",
   "id": "7ab5edc1",
   "metadata": {},
   "source": [
    "# * File pointer position"
   ]
  },
  {
   "cell_type": "markdown",
   "id": "1d5ee71d",
   "metadata": {},
   "source": [
    "# * tell() : "
   ]
  },
  {
   "cell_type": "markdown",
   "id": "41d119d8",
   "metadata": {},
   "source": [
    " This method gives the cursor current position"
   ]
  },
  {
   "cell_type": "code",
   "execution_count": 65,
   "id": "ed6e7c8d",
   "metadata": {},
   "outputs": [
    {
     "name": "stdout",
     "output_type": "stream",
     "text": [
      "The filepointer is at byte :  0 \n",
      "\n",
      "It does not matter how slowly you go as long as you do not stop.\n",
      "Life is 10% what happens to you and 90% how you react to it.\n",
      "All our dreams can come true, if we have the courage to pursue them.\n",
      "\n",
      "After reading, the file pointer is at :  196\n"
     ]
    }
   ],
   "source": [
    "try:\n",
    "    def position_of_cursor_in_file():\n",
    "        \"This function gives position of cursor\"\n",
    "        try:\n",
    "            file = open(\"motivation.txt\", 'r')\n",
    "            print(\"The filepointer is at byte : \", file.tell(), \"\\n\")\n",
    "    \n",
    "            print(file.read())\n",
    "            print(\"\\nAfter reading, the file pointer is at : \", file.tell())\n",
    "        except Exception as e:\n",
    "            print(e)\n",
    "\n",
    "    position_of_cursor_in_file()\n",
    "            \n",
    "except Exception as e:\n",
    "            print(e)"
   ]
  },
  {
   "cell_type": "markdown",
   "id": "6643b53c",
   "metadata": {},
   "source": [
    "# * seek() :"
   ]
  },
  {
   "cell_type": "markdown",
   "id": "b706ae0e",
   "metadata": {},
   "source": [
    " This method refers to the new postion of cursor"
   ]
  },
  {
   "cell_type": "code",
   "execution_count": 69,
   "id": "80982e91",
   "metadata": {},
   "outputs": [
    {
     "name": "stdout",
     "output_type": "stream",
     "text": [
      "The filepointer is at byte :  0 \n",
      "\n",
      "It does not matter how slowly you go as long as you do not stop.\n",
      "Life is 10% what happens to you and 90% how you react to it.\n",
      "All our dreams can come true, if we have the courage to pursue them.\n",
      "\n",
      "After reading, the file pointer is at :  196 \n",
      "\n",
      "as you do not stop.\n",
      "Life is 10% what happens to you and 90% how you react to it.\n",
      "All our dreams can come true, if we have the courage to pursue them.\n"
     ]
    }
   ],
   "source": [
    "try:\n",
    "    def specific_position_in_file():\n",
    "        \"This function move cursor to specified position\"\n",
    "        try:\n",
    "            file = open(\"motivation.txt\", 'r')\n",
    "            print(\"The filepointer is at byte : \", file.tell(), \"\\n\")\n",
    "    \n",
    "            print(file.read())\n",
    "            print(\"\\nAfter reading, the file pointer is at : \", file.tell(), \"\\n\")\n",
    "            \n",
    "            file.seek(45)\n",
    "            print(file.read())\n",
    "        except Exception as e:\n",
    "            print(e)\n",
    "\n",
    "    specific_position_in_file()\n",
    "            \n",
    "except Exception as e:\n",
    "            print(e)"
   ]
  },
  {
   "cell_type": "code",
   "execution_count": null,
   "id": "ede6af77",
   "metadata": {},
   "outputs": [],
   "source": []
  }
 ],
 "metadata": {
  "kernelspec": {
   "display_name": "Python 3 (ipykernel)",
   "language": "python",
   "name": "python3"
  },
  "language_info": {
   "codemirror_mode": {
    "name": "ipython",
    "version": 3
   },
   "file_extension": ".py",
   "mimetype": "text/x-python",
   "name": "python",
   "nbconvert_exporter": "python",
   "pygments_lexer": "ipython3",
   "version": "3.10.8"
  }
 },
 "nbformat": 4,
 "nbformat_minor": 5
}

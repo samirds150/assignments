{
 "cells": [
  {
   "cell_type": "markdown",
   "id": "e4e8502a",
   "metadata": {},
   "source": [
    "# Assignment 4."
   ]
  },
  {
   "cell_type": "raw",
   "id": "72046e94",
   "metadata": {},
   "source": [
    "1. What exactly is []?\n",
    "ans:\n",
    " The empty list value, which is a list value that contains no items. This is similar to how '' is the empty string value."
   ]
  },
  {
   "cell_type": "code",
   "execution_count": 9,
   "id": "970c103f",
   "metadata": {},
   "outputs": [],
   "source": [
    "l=['a', 'b', 'c', 'd'] \n"
   ]
  },
  {
   "cell_type": "code",
   "execution_count": 10,
   "id": "b9eae9bd",
   "metadata": {},
   "outputs": [
    {
     "data": {
      "text/plain": [
       "8"
      ]
     },
     "execution_count": 10,
     "metadata": {},
     "output_type": "execute_result"
    }
   ],
   "source": [
    "spam[int(int('3' * 2) / 11)]"
   ]
  },
  {
   "cell_type": "code",
   "execution_count": 11,
   "id": "1e77a10c",
   "metadata": {},
   "outputs": [
    {
     "data": {
      "text/plain": [
       "10"
      ]
     },
     "execution_count": 11,
     "metadata": {},
     "output_type": "execute_result"
    }
   ],
   "source": [
    "spam[-1]"
   ]
  },
  {
   "cell_type": "code",
   "execution_count": 15,
   "id": "ceff2855",
   "metadata": {},
   "outputs": [
    {
     "data": {
      "text/plain": [
       "[2, 4]"
      ]
     },
     "execution_count": 15,
     "metadata": {},
     "output_type": "execute_result"
    }
   ],
   "source": [
    "spam[:2]"
   ]
  },
  {
   "cell_type": "raw",
   "id": "42014dcf",
   "metadata": {},
   "source": [
    "l= [3.14, 'cat,' 11,  True] "
   ]
  },
  {
   "cell_type": "raw",
   "id": "e559c153",
   "metadata": {},
   "source": [
    "l.index('cat')"
   ]
  },
  {
   "cell_type": "code",
   "execution_count": null,
   "id": "85f6d974",
   "metadata": {},
   "outputs": [],
   "source": []
  }
 ],
 "metadata": {
  "kernelspec": {
   "display_name": "Python 3 (ipykernel)",
   "language": "python",
   "name": "python3"
  },
  "language_info": {
   "codemirror_mode": {
    "name": "ipython",
    "version": 3
   },
   "file_extension": ".py",
   "mimetype": "text/x-python",
   "name": "python",
   "nbconvert_exporter": "python",
   "pygments_lexer": "ipython3",
   "version": "3.9.7"
  }
 },
 "nbformat": 4,
 "nbformat_minor": 5
}

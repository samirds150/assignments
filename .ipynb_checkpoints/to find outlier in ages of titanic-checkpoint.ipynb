{
 "cells": [
  {
   "cell_type": "markdown",
   "id": "adc1a2d6",
   "metadata": {},
   "source": [
    "importing libraries"
   ]
  },
  {
   "cell_type": "code",
   "execution_count": 1,
   "id": "95522b17",
   "metadata": {},
   "outputs": [],
   "source": [
    "import pandas as pd\n",
    "import numpy as np\n",
    "from scipy import stats\n",
    "import matplotlib.pyplot as plt"
   ]
  },
  {
   "cell_type": "code",
   "execution_count": 2,
   "id": "0db056bc",
   "metadata": {},
   "outputs": [],
   "source": [
    "tit=pd.read_excel(\"C:\\\\Users\\\\LENOVO\\\\Titanic.xlsx\")"
   ]
  },
  {
   "cell_type": "code",
   "execution_count": 3,
   "id": "864d75f5",
   "metadata": {},
   "outputs": [],
   "source": [
    "tit1 =pd.read_excel(\"C:\\\\Users\\\\LENOVO\\\\Titanic.xlsx\")\n",
    "tit2 = pd.read_excel(\"C:\\\\Users\\\\LENOVO\\\\Titanic.xlsx\")"
   ]
  },
  {
   "cell_type": "code",
   "execution_count": 4,
   "id": "fdea397a",
   "metadata": {},
   "outputs": [
    {
     "data": {
      "text/plain": [
       "(891, 12)"
      ]
     },
     "execution_count": 4,
     "metadata": {},
     "output_type": "execute_result"
    }
   ],
   "source": [
    "tit1.shape"
   ]
  },
  {
   "cell_type": "code",
   "execution_count": 5,
   "id": "37a50414",
   "metadata": {},
   "outputs": [
    {
     "data": {
      "text/html": [
       "<div>\n",
       "<style scoped>\n",
       "    .dataframe tbody tr th:only-of-type {\n",
       "        vertical-align: middle;\n",
       "    }\n",
       "\n",
       "    .dataframe tbody tr th {\n",
       "        vertical-align: top;\n",
       "    }\n",
       "\n",
       "    .dataframe thead th {\n",
       "        text-align: right;\n",
       "    }\n",
       "</style>\n",
       "<table border=\"1\" class=\"dataframe\">\n",
       "  <thead>\n",
       "    <tr style=\"text-align: right;\">\n",
       "      <th></th>\n",
       "      <th>PassengerId</th>\n",
       "      <th>Name</th>\n",
       "      <th>Pclass</th>\n",
       "      <th>Sex</th>\n",
       "      <th>Age</th>\n",
       "      <th>SibSp</th>\n",
       "      <th>Parch</th>\n",
       "      <th>Ticket</th>\n",
       "      <th>Fare</th>\n",
       "      <th>Cabin</th>\n",
       "      <th>Embarked</th>\n",
       "      <th>Survived</th>\n",
       "    </tr>\n",
       "  </thead>\n",
       "  <tbody>\n",
       "    <tr>\n",
       "      <th>0</th>\n",
       "      <td>1</td>\n",
       "      <td>Braund, Mr. Owen Harris</td>\n",
       "      <td>3</td>\n",
       "      <td>male</td>\n",
       "      <td>22.0</td>\n",
       "      <td>1</td>\n",
       "      <td>0</td>\n",
       "      <td>A/5 21171</td>\n",
       "      <td>7.2500</td>\n",
       "      <td>NaN</td>\n",
       "      <td>S</td>\n",
       "      <td>0</td>\n",
       "    </tr>\n",
       "    <tr>\n",
       "      <th>1</th>\n",
       "      <td>2</td>\n",
       "      <td>Cumings, Mrs. John Bradley (Florence Briggs Th...</td>\n",
       "      <td>1</td>\n",
       "      <td>female</td>\n",
       "      <td>38.0</td>\n",
       "      <td>1</td>\n",
       "      <td>0</td>\n",
       "      <td>PC 17599</td>\n",
       "      <td>71.2833</td>\n",
       "      <td>C85</td>\n",
       "      <td>C</td>\n",
       "      <td>1</td>\n",
       "    </tr>\n",
       "    <tr>\n",
       "      <th>2</th>\n",
       "      <td>3</td>\n",
       "      <td>Heikkinen, Miss. Laina</td>\n",
       "      <td>3</td>\n",
       "      <td>female</td>\n",
       "      <td>26.0</td>\n",
       "      <td>0</td>\n",
       "      <td>0</td>\n",
       "      <td>STON/O2. 3101282</td>\n",
       "      <td>7.9250</td>\n",
       "      <td>NaN</td>\n",
       "      <td>S</td>\n",
       "      <td>1</td>\n",
       "    </tr>\n",
       "    <tr>\n",
       "      <th>3</th>\n",
       "      <td>4</td>\n",
       "      <td>Futrelle, Mrs. Jacques Heath (Lily May Peel)</td>\n",
       "      <td>1</td>\n",
       "      <td>female</td>\n",
       "      <td>35.0</td>\n",
       "      <td>1</td>\n",
       "      <td>0</td>\n",
       "      <td>113803</td>\n",
       "      <td>53.1000</td>\n",
       "      <td>C123</td>\n",
       "      <td>S</td>\n",
       "      <td>1</td>\n",
       "    </tr>\n",
       "    <tr>\n",
       "      <th>4</th>\n",
       "      <td>5</td>\n",
       "      <td>Allen, Mr. William Henry</td>\n",
       "      <td>3</td>\n",
       "      <td>male</td>\n",
       "      <td>35.0</td>\n",
       "      <td>0</td>\n",
       "      <td>0</td>\n",
       "      <td>373450</td>\n",
       "      <td>8.0500</td>\n",
       "      <td>NaN</td>\n",
       "      <td>S</td>\n",
       "      <td>0</td>\n",
       "    </tr>\n",
       "  </tbody>\n",
       "</table>\n",
       "</div>"
      ],
      "text/plain": [
       "   PassengerId                                               Name  Pclass  \\\n",
       "0            1                            Braund, Mr. Owen Harris       3   \n",
       "1            2  Cumings, Mrs. John Bradley (Florence Briggs Th...       1   \n",
       "2            3                             Heikkinen, Miss. Laina       3   \n",
       "3            4       Futrelle, Mrs. Jacques Heath (Lily May Peel)       1   \n",
       "4            5                           Allen, Mr. William Henry       3   \n",
       "\n",
       "      Sex   Age  SibSp  Parch            Ticket     Fare Cabin Embarked  \\\n",
       "0    male  22.0      1      0         A/5 21171   7.2500   NaN        S   \n",
       "1  female  38.0      1      0          PC 17599  71.2833   C85        C   \n",
       "2  female  26.0      0      0  STON/O2. 3101282   7.9250   NaN        S   \n",
       "3  female  35.0      1      0            113803  53.1000  C123        S   \n",
       "4    male  35.0      0      0            373450   8.0500   NaN        S   \n",
       "\n",
       "   Survived  \n",
       "0         0  \n",
       "1         1  \n",
       "2         1  \n",
       "3         1  \n",
       "4         0  "
      ]
     },
     "execution_count": 5,
     "metadata": {},
     "output_type": "execute_result"
    }
   ],
   "source": [
    "tit1.head()"
   ]
  },
  {
   "cell_type": "code",
   "execution_count": 6,
   "id": "c4e6dc78",
   "metadata": {},
   "outputs": [
    {
     "name": "stdout",
     "output_type": "stream",
     "text": [
      "<class 'pandas.core.frame.DataFrame'>\n",
      "RangeIndex: 891 entries, 0 to 890\n",
      "Data columns (total 12 columns):\n",
      " #   Column       Non-Null Count  Dtype  \n",
      "---  ------       --------------  -----  \n",
      " 0   PassengerId  891 non-null    int64  \n",
      " 1   Name         891 non-null    object \n",
      " 2   Pclass       891 non-null    int64  \n",
      " 3   Sex          891 non-null    object \n",
      " 4   Age          714 non-null    float64\n",
      " 5   SibSp        891 non-null    int64  \n",
      " 6   Parch        891 non-null    int64  \n",
      " 7   Ticket       891 non-null    object \n",
      " 8   Fare         891 non-null    float64\n",
      " 9   Cabin        204 non-null    object \n",
      " 10  Embarked     889 non-null    object \n",
      " 11  Survived     891 non-null    int64  \n",
      "dtypes: float64(2), int64(5), object(5)\n",
      "memory usage: 83.7+ KB\n"
     ]
    }
   ],
   "source": [
    "tit1.info()"
   ]
  },
  {
   "cell_type": "code",
   "execution_count": 7,
   "id": "f986db27",
   "metadata": {},
   "outputs": [
    {
     "data": {
      "text/html": [
       "<div>\n",
       "<style scoped>\n",
       "    .dataframe tbody tr th:only-of-type {\n",
       "        vertical-align: middle;\n",
       "    }\n",
       "\n",
       "    .dataframe tbody tr th {\n",
       "        vertical-align: top;\n",
       "    }\n",
       "\n",
       "    .dataframe thead th {\n",
       "        text-align: right;\n",
       "    }\n",
       "</style>\n",
       "<table border=\"1\" class=\"dataframe\">\n",
       "  <thead>\n",
       "    <tr style=\"text-align: right;\">\n",
       "      <th></th>\n",
       "      <th>PassengerId</th>\n",
       "      <th>Pclass</th>\n",
       "      <th>Age</th>\n",
       "      <th>SibSp</th>\n",
       "      <th>Parch</th>\n",
       "      <th>Fare</th>\n",
       "      <th>Survived</th>\n",
       "    </tr>\n",
       "  </thead>\n",
       "  <tbody>\n",
       "    <tr>\n",
       "      <th>count</th>\n",
       "      <td>891.000000</td>\n",
       "      <td>891.000000</td>\n",
       "      <td>714.000000</td>\n",
       "      <td>891.000000</td>\n",
       "      <td>891.000000</td>\n",
       "      <td>891.000000</td>\n",
       "      <td>891.000000</td>\n",
       "    </tr>\n",
       "    <tr>\n",
       "      <th>mean</th>\n",
       "      <td>446.000000</td>\n",
       "      <td>2.308642</td>\n",
       "      <td>29.699118</td>\n",
       "      <td>0.523008</td>\n",
       "      <td>0.381594</td>\n",
       "      <td>32.204208</td>\n",
       "      <td>0.383838</td>\n",
       "    </tr>\n",
       "    <tr>\n",
       "      <th>std</th>\n",
       "      <td>257.353842</td>\n",
       "      <td>0.836071</td>\n",
       "      <td>14.526497</td>\n",
       "      <td>1.102743</td>\n",
       "      <td>0.806057</td>\n",
       "      <td>49.693429</td>\n",
       "      <td>0.486592</td>\n",
       "    </tr>\n",
       "    <tr>\n",
       "      <th>min</th>\n",
       "      <td>1.000000</td>\n",
       "      <td>1.000000</td>\n",
       "      <td>0.420000</td>\n",
       "      <td>0.000000</td>\n",
       "      <td>0.000000</td>\n",
       "      <td>0.000000</td>\n",
       "      <td>0.000000</td>\n",
       "    </tr>\n",
       "    <tr>\n",
       "      <th>25%</th>\n",
       "      <td>223.500000</td>\n",
       "      <td>2.000000</td>\n",
       "      <td>20.125000</td>\n",
       "      <td>0.000000</td>\n",
       "      <td>0.000000</td>\n",
       "      <td>7.910400</td>\n",
       "      <td>0.000000</td>\n",
       "    </tr>\n",
       "    <tr>\n",
       "      <th>50%</th>\n",
       "      <td>446.000000</td>\n",
       "      <td>3.000000</td>\n",
       "      <td>28.000000</td>\n",
       "      <td>0.000000</td>\n",
       "      <td>0.000000</td>\n",
       "      <td>14.454200</td>\n",
       "      <td>0.000000</td>\n",
       "    </tr>\n",
       "    <tr>\n",
       "      <th>75%</th>\n",
       "      <td>668.500000</td>\n",
       "      <td>3.000000</td>\n",
       "      <td>38.000000</td>\n",
       "      <td>1.000000</td>\n",
       "      <td>0.000000</td>\n",
       "      <td>31.000000</td>\n",
       "      <td>1.000000</td>\n",
       "    </tr>\n",
       "    <tr>\n",
       "      <th>max</th>\n",
       "      <td>891.000000</td>\n",
       "      <td>3.000000</td>\n",
       "      <td>80.000000</td>\n",
       "      <td>8.000000</td>\n",
       "      <td>6.000000</td>\n",
       "      <td>512.329200</td>\n",
       "      <td>1.000000</td>\n",
       "    </tr>\n",
       "  </tbody>\n",
       "</table>\n",
       "</div>"
      ],
      "text/plain": [
       "       PassengerId      Pclass         Age       SibSp       Parch  \\\n",
       "count   891.000000  891.000000  714.000000  891.000000  891.000000   \n",
       "mean    446.000000    2.308642   29.699118    0.523008    0.381594   \n",
       "std     257.353842    0.836071   14.526497    1.102743    0.806057   \n",
       "min       1.000000    1.000000    0.420000    0.000000    0.000000   \n",
       "25%     223.500000    2.000000   20.125000    0.000000    0.000000   \n",
       "50%     446.000000    3.000000   28.000000    0.000000    0.000000   \n",
       "75%     668.500000    3.000000   38.000000    1.000000    0.000000   \n",
       "max     891.000000    3.000000   80.000000    8.000000    6.000000   \n",
       "\n",
       "             Fare    Survived  \n",
       "count  891.000000  891.000000  \n",
       "mean    32.204208    0.383838  \n",
       "std     49.693429    0.486592  \n",
       "min      0.000000    0.000000  \n",
       "25%      7.910400    0.000000  \n",
       "50%     14.454200    0.000000  \n",
       "75%     31.000000    1.000000  \n",
       "max    512.329200    1.000000  "
      ]
     },
     "execution_count": 7,
     "metadata": {},
     "output_type": "execute_result"
    }
   ],
   "source": [
    "tit1.describe()"
   ]
  },
  {
   "cell_type": "code",
   "execution_count": 8,
   "id": "c63edbde",
   "metadata": {},
   "outputs": [
    {
     "data": {
      "text/html": [
       "<div>\n",
       "<style scoped>\n",
       "    .dataframe tbody tr th:only-of-type {\n",
       "        vertical-align: middle;\n",
       "    }\n",
       "\n",
       "    .dataframe tbody tr th {\n",
       "        vertical-align: top;\n",
       "    }\n",
       "\n",
       "    .dataframe thead th {\n",
       "        text-align: right;\n",
       "    }\n",
       "</style>\n",
       "<table border=\"1\" class=\"dataframe\">\n",
       "  <thead>\n",
       "    <tr style=\"text-align: right;\">\n",
       "      <th></th>\n",
       "      <th>PassengerId</th>\n",
       "      <th>Name</th>\n",
       "      <th>Pclass</th>\n",
       "      <th>Sex</th>\n",
       "      <th>Age</th>\n",
       "      <th>SibSp</th>\n",
       "      <th>Parch</th>\n",
       "      <th>Ticket</th>\n",
       "      <th>Fare</th>\n",
       "      <th>Cabin</th>\n",
       "      <th>Embarked</th>\n",
       "      <th>Survived</th>\n",
       "    </tr>\n",
       "  </thead>\n",
       "  <tbody>\n",
       "    <tr>\n",
       "      <th>0</th>\n",
       "      <td>False</td>\n",
       "      <td>False</td>\n",
       "      <td>False</td>\n",
       "      <td>False</td>\n",
       "      <td>False</td>\n",
       "      <td>False</td>\n",
       "      <td>False</td>\n",
       "      <td>False</td>\n",
       "      <td>False</td>\n",
       "      <td>True</td>\n",
       "      <td>False</td>\n",
       "      <td>False</td>\n",
       "    </tr>\n",
       "    <tr>\n",
       "      <th>1</th>\n",
       "      <td>False</td>\n",
       "      <td>False</td>\n",
       "      <td>False</td>\n",
       "      <td>False</td>\n",
       "      <td>False</td>\n",
       "      <td>False</td>\n",
       "      <td>False</td>\n",
       "      <td>False</td>\n",
       "      <td>False</td>\n",
       "      <td>False</td>\n",
       "      <td>False</td>\n",
       "      <td>False</td>\n",
       "    </tr>\n",
       "    <tr>\n",
       "      <th>2</th>\n",
       "      <td>False</td>\n",
       "      <td>False</td>\n",
       "      <td>False</td>\n",
       "      <td>False</td>\n",
       "      <td>False</td>\n",
       "      <td>False</td>\n",
       "      <td>False</td>\n",
       "      <td>False</td>\n",
       "      <td>False</td>\n",
       "      <td>True</td>\n",
       "      <td>False</td>\n",
       "      <td>False</td>\n",
       "    </tr>\n",
       "    <tr>\n",
       "      <th>3</th>\n",
       "      <td>False</td>\n",
       "      <td>False</td>\n",
       "      <td>False</td>\n",
       "      <td>False</td>\n",
       "      <td>False</td>\n",
       "      <td>False</td>\n",
       "      <td>False</td>\n",
       "      <td>False</td>\n",
       "      <td>False</td>\n",
       "      <td>False</td>\n",
       "      <td>False</td>\n",
       "      <td>False</td>\n",
       "    </tr>\n",
       "    <tr>\n",
       "      <th>4</th>\n",
       "      <td>False</td>\n",
       "      <td>False</td>\n",
       "      <td>False</td>\n",
       "      <td>False</td>\n",
       "      <td>False</td>\n",
       "      <td>False</td>\n",
       "      <td>False</td>\n",
       "      <td>False</td>\n",
       "      <td>False</td>\n",
       "      <td>True</td>\n",
       "      <td>False</td>\n",
       "      <td>False</td>\n",
       "    </tr>\n",
       "    <tr>\n",
       "      <th>...</th>\n",
       "      <td>...</td>\n",
       "      <td>...</td>\n",
       "      <td>...</td>\n",
       "      <td>...</td>\n",
       "      <td>...</td>\n",
       "      <td>...</td>\n",
       "      <td>...</td>\n",
       "      <td>...</td>\n",
       "      <td>...</td>\n",
       "      <td>...</td>\n",
       "      <td>...</td>\n",
       "      <td>...</td>\n",
       "    </tr>\n",
       "    <tr>\n",
       "      <th>886</th>\n",
       "      <td>False</td>\n",
       "      <td>False</td>\n",
       "      <td>False</td>\n",
       "      <td>False</td>\n",
       "      <td>False</td>\n",
       "      <td>False</td>\n",
       "      <td>False</td>\n",
       "      <td>False</td>\n",
       "      <td>False</td>\n",
       "      <td>True</td>\n",
       "      <td>False</td>\n",
       "      <td>False</td>\n",
       "    </tr>\n",
       "    <tr>\n",
       "      <th>887</th>\n",
       "      <td>False</td>\n",
       "      <td>False</td>\n",
       "      <td>False</td>\n",
       "      <td>False</td>\n",
       "      <td>False</td>\n",
       "      <td>False</td>\n",
       "      <td>False</td>\n",
       "      <td>False</td>\n",
       "      <td>False</td>\n",
       "      <td>False</td>\n",
       "      <td>False</td>\n",
       "      <td>False</td>\n",
       "    </tr>\n",
       "    <tr>\n",
       "      <th>888</th>\n",
       "      <td>False</td>\n",
       "      <td>False</td>\n",
       "      <td>False</td>\n",
       "      <td>False</td>\n",
       "      <td>True</td>\n",
       "      <td>False</td>\n",
       "      <td>False</td>\n",
       "      <td>False</td>\n",
       "      <td>False</td>\n",
       "      <td>True</td>\n",
       "      <td>False</td>\n",
       "      <td>False</td>\n",
       "    </tr>\n",
       "    <tr>\n",
       "      <th>889</th>\n",
       "      <td>False</td>\n",
       "      <td>False</td>\n",
       "      <td>False</td>\n",
       "      <td>False</td>\n",
       "      <td>False</td>\n",
       "      <td>False</td>\n",
       "      <td>False</td>\n",
       "      <td>False</td>\n",
       "      <td>False</td>\n",
       "      <td>False</td>\n",
       "      <td>False</td>\n",
       "      <td>False</td>\n",
       "    </tr>\n",
       "    <tr>\n",
       "      <th>890</th>\n",
       "      <td>False</td>\n",
       "      <td>False</td>\n",
       "      <td>False</td>\n",
       "      <td>False</td>\n",
       "      <td>False</td>\n",
       "      <td>False</td>\n",
       "      <td>False</td>\n",
       "      <td>False</td>\n",
       "      <td>False</td>\n",
       "      <td>True</td>\n",
       "      <td>False</td>\n",
       "      <td>False</td>\n",
       "    </tr>\n",
       "  </tbody>\n",
       "</table>\n",
       "<p>891 rows × 12 columns</p>\n",
       "</div>"
      ],
      "text/plain": [
       "     PassengerId   Name  Pclass    Sex    Age  SibSp  Parch  Ticket   Fare  \\\n",
       "0          False  False   False  False  False  False  False   False  False   \n",
       "1          False  False   False  False  False  False  False   False  False   \n",
       "2          False  False   False  False  False  False  False   False  False   \n",
       "3          False  False   False  False  False  False  False   False  False   \n",
       "4          False  False   False  False  False  False  False   False  False   \n",
       "..           ...    ...     ...    ...    ...    ...    ...     ...    ...   \n",
       "886        False  False   False  False  False  False  False   False  False   \n",
       "887        False  False   False  False  False  False  False   False  False   \n",
       "888        False  False   False  False   True  False  False   False  False   \n",
       "889        False  False   False  False  False  False  False   False  False   \n",
       "890        False  False   False  False  False  False  False   False  False   \n",
       "\n",
       "     Cabin  Embarked  Survived  \n",
       "0     True     False     False  \n",
       "1    False     False     False  \n",
       "2     True     False     False  \n",
       "3    False     False     False  \n",
       "4     True     False     False  \n",
       "..     ...       ...       ...  \n",
       "886   True     False     False  \n",
       "887  False     False     False  \n",
       "888   True     False     False  \n",
       "889  False     False     False  \n",
       "890   True     False     False  \n",
       "\n",
       "[891 rows x 12 columns]"
      ]
     },
     "execution_count": 8,
     "metadata": {},
     "output_type": "execute_result"
    }
   ],
   "source": [
    "tit1.isnull()"
   ]
  },
  {
   "cell_type": "code",
   "execution_count": 9,
   "id": "06f295af",
   "metadata": {},
   "outputs": [
    {
     "data": {
      "text/plain": [
       "PassengerId      0\n",
       "Name             0\n",
       "Pclass           0\n",
       "Sex              0\n",
       "Age            177\n",
       "SibSp            0\n",
       "Parch            0\n",
       "Ticket           0\n",
       "Fare             0\n",
       "Cabin          687\n",
       "Embarked         2\n",
       "Survived         0\n",
       "dtype: int64"
      ]
     },
     "execution_count": 9,
     "metadata": {},
     "output_type": "execute_result"
    }
   ],
   "source": [
    "tit1.isnull().sum()"
   ]
  },
  {
   "cell_type": "code",
   "execution_count": 10,
   "id": "60f72848",
   "metadata": {},
   "outputs": [
    {
     "data": {
      "text/plain": [
       "0"
      ]
     },
     "execution_count": 10,
     "metadata": {},
     "output_type": "execute_result"
    }
   ],
   "source": [
    "tit1.duplicated().sum()"
   ]
  },
  {
   "cell_type": "code",
   "execution_count": 11,
   "id": "1a30162e",
   "metadata": {},
   "outputs": [],
   "source": [
    "y=tit1['Age']"
   ]
  },
  {
   "cell_type": "code",
   "execution_count": 12,
   "id": "105d1d35",
   "metadata": {},
   "outputs": [],
   "source": [
    "x=tit1['Age']"
   ]
  },
  {
   "cell_type": "code",
   "execution_count": 13,
   "id": "3bd0db41",
   "metadata": {},
   "outputs": [
    {
     "data": {
      "text/plain": [
       "0      22.0\n",
       "1      38.0\n",
       "2      26.0\n",
       "3      35.0\n",
       "4      35.0\n",
       "       ... \n",
       "886    27.0\n",
       "887    19.0\n",
       "888     NaN\n",
       "889    26.0\n",
       "890    32.0\n",
       "Name: Age, Length: 891, dtype: float64"
      ]
     },
     "execution_count": 13,
     "metadata": {},
     "output_type": "execute_result"
    }
   ],
   "source": [
    "x"
   ]
  },
  {
   "cell_type": "code",
   "execution_count": 14,
   "id": "d60269e2",
   "metadata": {},
   "outputs": [],
   "source": [
    "x.dropna(inplace = True)\n"
   ]
  },
  {
   "cell_type": "code",
   "execution_count": 15,
   "id": "d0464a7b",
   "metadata": {},
   "outputs": [
    {
     "data": {
      "text/plain": [
       "0      22.0\n",
       "1      38.0\n",
       "2      26.0\n",
       "3      35.0\n",
       "4      35.0\n",
       "       ... \n",
       "885    39.0\n",
       "886    27.0\n",
       "887    19.0\n",
       "889    26.0\n",
       "890    32.0\n",
       "Name: Age, Length: 714, dtype: float64"
      ]
     },
     "execution_count": 15,
     "metadata": {},
     "output_type": "execute_result"
    }
   ],
   "source": [
    "x"
   ]
  },
  {
   "cell_type": "code",
   "execution_count": 16,
   "id": "4a95d293",
   "metadata": {},
   "outputs": [],
   "source": [
    "p=x.to_numpy()"
   ]
  },
  {
   "cell_type": "code",
   "execution_count": 17,
   "id": "d4842d5b",
   "metadata": {},
   "outputs": [
    {
     "data": {
      "text/plain": [
       "array([22.  , 38.  , 26.  , 35.  , 35.  , 54.  ,  2.  , 27.  , 14.  ,\n",
       "        4.  , 58.  , 20.  , 39.  , 14.  , 55.  ,  2.  , 31.  , 35.  ,\n",
       "       34.  , 15.  , 28.  ,  8.  , 38.  , 19.  , 40.  , 66.  , 28.  ,\n",
       "       42.  , 21.  , 18.  , 14.  , 40.  , 27.  ,  3.  , 19.  , 18.  ,\n",
       "        7.  , 21.  , 49.  , 29.  , 65.  , 21.  , 28.5 ,  5.  , 11.  ,\n",
       "       22.  , 38.  , 45.  ,  4.  , 29.  , 19.  , 17.  , 26.  , 32.  ,\n",
       "       16.  , 21.  , 26.  , 32.  , 25.  ,  0.83, 30.  , 22.  , 29.  ,\n",
       "       28.  , 17.  , 33.  , 16.  , 23.  , 24.  , 29.  , 20.  , 46.  ,\n",
       "       26.  , 59.  , 71.  , 23.  , 34.  , 34.  , 28.  , 21.  , 33.  ,\n",
       "       37.  , 28.  , 21.  , 38.  , 47.  , 14.5 , 22.  , 20.  , 17.  ,\n",
       "       21.  , 70.5 , 29.  , 24.  ,  2.  , 21.  , 32.5 , 32.5 , 54.  ,\n",
       "       12.  , 24.  , 45.  , 33.  , 20.  , 47.  , 29.  , 25.  , 23.  ,\n",
       "       19.  , 37.  , 16.  , 24.  , 22.  , 24.  , 19.  , 18.  , 19.  ,\n",
       "       27.  ,  9.  , 36.5 , 42.  , 51.  , 22.  , 55.5 , 40.5 , 51.  ,\n",
       "       16.  , 30.  , 44.  , 40.  , 26.  , 17.  ,  1.  ,  9.  , 45.  ,\n",
       "       28.  , 61.  ,  4.  ,  1.  , 21.  , 56.  , 18.  , 50.  , 30.  ,\n",
       "       36.  ,  9.  ,  1.  ,  4.  , 45.  , 40.  , 36.  , 32.  , 19.  ,\n",
       "       19.  ,  3.  , 44.  , 58.  , 42.  , 24.  , 28.  , 34.  , 45.5 ,\n",
       "       18.  ,  2.  , 32.  , 26.  , 16.  , 40.  , 24.  , 35.  , 22.  ,\n",
       "       30.  , 31.  , 27.  , 42.  , 32.  , 30.  , 16.  , 27.  , 51.  ,\n",
       "       38.  , 22.  , 19.  , 20.5 , 18.  , 35.  , 29.  , 59.  ,  5.  ,\n",
       "       24.  , 44.  ,  8.  , 19.  , 33.  , 29.  , 22.  , 30.  , 44.  ,\n",
       "       25.  , 24.  , 37.  , 54.  , 29.  , 62.  , 30.  , 41.  , 29.  ,\n",
       "       30.  , 35.  , 50.  ,  3.  , 52.  , 40.  , 36.  , 16.  , 25.  ,\n",
       "       58.  , 35.  , 25.  , 41.  , 37.  , 63.  , 45.  ,  7.  , 35.  ,\n",
       "       65.  , 28.  , 16.  , 19.  , 33.  , 30.  , 22.  , 42.  , 22.  ,\n",
       "       26.  , 19.  , 36.  , 24.  , 24.  , 23.5 ,  2.  , 50.  , 19.  ,\n",
       "        0.92, 17.  , 30.  , 30.  , 24.  , 18.  , 26.  , 28.  , 43.  ,\n",
       "       26.  , 24.  , 54.  , 31.  , 40.  , 22.  , 27.  , 30.  , 22.  ,\n",
       "       36.  , 61.  , 36.  , 31.  , 16.  , 45.5 , 38.  , 16.  , 29.  ,\n",
       "       41.  , 45.  , 45.  ,  2.  , 24.  , 28.  , 25.  , 36.  , 24.  ,\n",
       "       40.  ,  3.  , 42.  , 23.  , 15.  , 25.  , 28.  , 22.  , 38.  ,\n",
       "       40.  , 29.  , 45.  , 35.  , 30.  , 60.  , 24.  , 25.  , 18.  ,\n",
       "       19.  , 22.  ,  3.  , 22.  , 27.  , 20.  , 19.  , 42.  ,  1.  ,\n",
       "       32.  , 35.  , 18.  ,  1.  , 36.  , 17.  , 36.  , 21.  , 28.  ,\n",
       "       23.  , 24.  , 22.  , 31.  , 46.  , 23.  , 28.  , 39.  , 26.  ,\n",
       "       21.  , 28.  , 20.  , 34.  , 51.  ,  3.  , 21.  , 33.  , 44.  ,\n",
       "       34.  , 18.  , 30.  , 10.  , 21.  , 29.  , 28.  , 18.  , 28.  ,\n",
       "       19.  , 32.  , 28.  , 42.  , 17.  , 50.  , 14.  , 21.  , 24.  ,\n",
       "       64.  , 31.  , 45.  , 20.  , 25.  , 28.  ,  4.  , 13.  , 34.  ,\n",
       "        5.  , 52.  , 36.  , 30.  , 49.  , 29.  , 65.  , 50.  , 48.  ,\n",
       "       34.  , 47.  , 48.  , 38.  , 56.  ,  0.75, 38.  , 33.  , 23.  ,\n",
       "       22.  , 34.  , 29.  , 22.  ,  2.  ,  9.  , 50.  , 63.  , 25.  ,\n",
       "       35.  , 58.  , 30.  ,  9.  , 21.  , 55.  , 71.  , 21.  , 54.  ,\n",
       "       25.  , 24.  , 17.  , 21.  , 37.  , 16.  , 18.  , 33.  , 28.  ,\n",
       "       26.  , 29.  , 36.  , 54.  , 24.  , 47.  , 34.  , 36.  , 32.  ,\n",
       "       30.  , 22.  , 44.  , 40.5 , 50.  , 39.  , 23.  ,  2.  , 17.  ,\n",
       "       30.  ,  7.  , 45.  , 30.  , 22.  , 36.  ,  9.  , 11.  , 32.  ,\n",
       "       50.  , 64.  , 19.  , 33.  ,  8.  , 17.  , 27.  , 22.  , 22.  ,\n",
       "       62.  , 48.  , 39.  , 36.  , 40.  , 28.  , 24.  , 19.  , 29.  ,\n",
       "       32.  , 62.  , 53.  , 36.  , 16.  , 19.  , 34.  , 39.  , 32.  ,\n",
       "       25.  , 39.  , 54.  , 36.  , 18.  , 47.  , 60.  , 22.  , 35.  ,\n",
       "       52.  , 47.  , 37.  , 36.  , 49.  , 49.  , 24.  , 44.  , 35.  ,\n",
       "       36.  , 30.  , 27.  , 22.  , 40.  , 39.  , 35.  , 24.  , 34.  ,\n",
       "       26.  ,  4.  , 26.  , 27.  , 42.  , 20.  , 21.  , 21.  , 61.  ,\n",
       "       57.  , 21.  , 26.  , 80.  , 51.  , 32.  ,  9.  , 28.  , 32.  ,\n",
       "       31.  , 41.  , 20.  , 24.  ,  2.  ,  0.75, 48.  , 19.  , 56.  ,\n",
       "       23.  , 18.  , 21.  , 18.  , 24.  , 32.  , 23.  , 58.  , 50.  ,\n",
       "       40.  , 47.  , 36.  , 20.  , 32.  , 25.  , 43.  , 40.  , 31.  ,\n",
       "       70.  , 31.  , 18.  , 24.5 , 18.  , 43.  , 36.  , 27.  , 20.  ,\n",
       "       14.  , 60.  , 25.  , 14.  , 19.  , 18.  , 15.  , 31.  ,  4.  ,\n",
       "       25.  , 60.  , 52.  , 44.  , 49.  , 42.  , 18.  , 35.  , 18.  ,\n",
       "       25.  , 26.  , 39.  , 45.  , 42.  , 22.  , 24.  , 48.  , 29.  ,\n",
       "       52.  , 19.  , 38.  , 27.  , 33.  ,  6.  , 17.  , 34.  , 50.  ,\n",
       "       27.  , 20.  , 30.  , 25.  , 25.  , 29.  , 11.  , 23.  , 23.  ,\n",
       "       28.5 , 48.  , 35.  , 36.  , 21.  , 24.  , 31.  , 70.  , 16.  ,\n",
       "       30.  , 19.  , 31.  ,  4.  ,  6.  , 33.  , 23.  , 48.  ,  0.67,\n",
       "       28.  , 18.  , 34.  , 33.  , 41.  , 20.  , 36.  , 16.  , 51.  ,\n",
       "       30.5 , 32.  , 24.  , 48.  , 57.  , 54.  , 18.  ,  5.  , 43.  ,\n",
       "       13.  , 17.  , 29.  , 25.  , 25.  , 18.  ,  8.  ,  1.  , 46.  ,\n",
       "       16.  , 25.  , 39.  , 49.  , 31.  , 30.  , 30.  , 34.  , 31.  ,\n",
       "       11.  ,  0.42, 27.  , 31.  , 39.  , 18.  , 39.  , 33.  , 26.  ,\n",
       "       39.  , 35.  ,  6.  , 30.5 , 23.  , 31.  , 43.  , 10.  , 52.  ,\n",
       "       27.  , 38.  , 27.  ,  2.  ,  1.  , 62.  , 15.  ,  0.83, 23.  ,\n",
       "       18.  , 39.  , 21.  , 32.  , 20.  , 16.  , 30.  , 34.5 , 17.  ,\n",
       "       42.  , 35.  , 28.  ,  4.  , 74.  ,  9.  , 16.  , 44.  , 18.  ,\n",
       "       45.  , 51.  , 24.  , 41.  , 21.  , 48.  , 24.  , 42.  , 27.  ,\n",
       "       31.  ,  4.  , 26.  , 47.  , 33.  , 47.  , 28.  , 15.  , 20.  ,\n",
       "       19.  , 56.  , 25.  , 33.  , 22.  , 28.  , 25.  , 39.  , 27.  ,\n",
       "       19.  , 26.  , 32.  ])"
      ]
     },
     "execution_count": 17,
     "metadata": {},
     "output_type": "execute_result"
    }
   ],
   "source": [
    "p"
   ]
  },
  {
   "cell_type": "code",
   "execution_count": 18,
   "id": "5523d637",
   "metadata": {},
   "outputs": [
    {
     "data": {
      "text/plain": [
       "array([ 0.42,  0.67,  0.75,  0.75,  0.83,  0.83,  0.92,  1.  ,  1.  ,\n",
       "        1.  ,  1.  ,  1.  ,  1.  ,  1.  ,  2.  ,  2.  ,  2.  ,  2.  ,\n",
       "        2.  ,  2.  ,  2.  ,  2.  ,  2.  ,  2.  ,  3.  ,  3.  ,  3.  ,\n",
       "        3.  ,  3.  ,  3.  ,  4.  ,  4.  ,  4.  ,  4.  ,  4.  ,  4.  ,\n",
       "        4.  ,  4.  ,  4.  ,  4.  ,  5.  ,  5.  ,  5.  ,  5.  ,  6.  ,\n",
       "        6.  ,  6.  ,  7.  ,  7.  ,  7.  ,  8.  ,  8.  ,  8.  ,  8.  ,\n",
       "        9.  ,  9.  ,  9.  ,  9.  ,  9.  ,  9.  ,  9.  ,  9.  , 10.  ,\n",
       "       10.  , 11.  , 11.  , 11.  , 11.  , 12.  , 13.  , 13.  , 14.  ,\n",
       "       14.  , 14.  , 14.  , 14.  , 14.  , 14.5 , 15.  , 15.  , 15.  ,\n",
       "       15.  , 15.  , 16.  , 16.  , 16.  , 16.  , 16.  , 16.  , 16.  ,\n",
       "       16.  , 16.  , 16.  , 16.  , 16.  , 16.  , 16.  , 16.  , 16.  ,\n",
       "       16.  , 17.  , 17.  , 17.  , 17.  , 17.  , 17.  , 17.  , 17.  ,\n",
       "       17.  , 17.  , 17.  , 17.  , 17.  , 18.  , 18.  , 18.  , 18.  ,\n",
       "       18.  , 18.  , 18.  , 18.  , 18.  , 18.  , 18.  , 18.  , 18.  ,\n",
       "       18.  , 18.  , 18.  , 18.  , 18.  , 18.  , 18.  , 18.  , 18.  ,\n",
       "       18.  , 18.  , 18.  , 18.  , 19.  , 19.  , 19.  , 19.  , 19.  ,\n",
       "       19.  , 19.  , 19.  , 19.  , 19.  , 19.  , 19.  , 19.  , 19.  ,\n",
       "       19.  , 19.  , 19.  , 19.  , 19.  , 19.  , 19.  , 19.  , 19.  ,\n",
       "       19.  , 19.  , 20.  , 20.  , 20.  , 20.  , 20.  , 20.  , 20.  ,\n",
       "       20.  , 20.  , 20.  , 20.  , 20.  , 20.  , 20.  , 20.  , 20.5 ,\n",
       "       21.  , 21.  , 21.  , 21.  , 21.  , 21.  , 21.  , 21.  , 21.  ,\n",
       "       21.  , 21.  , 21.  , 21.  , 21.  , 21.  , 21.  , 21.  , 21.  ,\n",
       "       21.  , 21.  , 21.  , 21.  , 21.  , 21.  , 22.  , 22.  , 22.  ,\n",
       "       22.  , 22.  , 22.  , 22.  , 22.  , 22.  , 22.  , 22.  , 22.  ,\n",
       "       22.  , 22.  , 22.  , 22.  , 22.  , 22.  , 22.  , 22.  , 22.  ,\n",
       "       22.  , 22.  , 22.  , 22.  , 22.  , 22.  , 23.  , 23.  , 23.  ,\n",
       "       23.  , 23.  , 23.  , 23.  , 23.  , 23.  , 23.  , 23.  , 23.  ,\n",
       "       23.  , 23.  , 23.  , 23.5 , 24.  , 24.  , 24.  , 24.  , 24.  ,\n",
       "       24.  , 24.  , 24.  , 24.  , 24.  , 24.  , 24.  , 24.  , 24.  ,\n",
       "       24.  , 24.  , 24.  , 24.  , 24.  , 24.  , 24.  , 24.  , 24.  ,\n",
       "       24.  , 24.  , 24.  , 24.  , 24.  , 24.  , 24.  , 24.5 , 25.  ,\n",
       "       25.  , 25.  , 25.  , 25.  , 25.  , 25.  , 25.  , 25.  , 25.  ,\n",
       "       25.  , 25.  , 25.  , 25.  , 25.  , 25.  , 25.  , 25.  , 25.  ,\n",
       "       25.  , 25.  , 25.  , 25.  , 26.  , 26.  , 26.  , 26.  , 26.  ,\n",
       "       26.  , 26.  , 26.  , 26.  , 26.  , 26.  , 26.  , 26.  , 26.  ,\n",
       "       26.  , 26.  , 26.  , 26.  , 27.  , 27.  , 27.  , 27.  , 27.  ,\n",
       "       27.  , 27.  , 27.  , 27.  , 27.  , 27.  , 27.  , 27.  , 27.  ,\n",
       "       27.  , 27.  , 27.  , 27.  , 28.  , 28.  , 28.  , 28.  , 28.  ,\n",
       "       28.  , 28.  , 28.  , 28.  , 28.  , 28.  , 28.  , 28.  , 28.  ,\n",
       "       28.  , 28.  , 28.  , 28.  , 28.  , 28.  , 28.  , 28.  , 28.  ,\n",
       "       28.  , 28.  , 28.5 , 28.5 , 29.  , 29.  , 29.  , 29.  , 29.  ,\n",
       "       29.  , 29.  , 29.  , 29.  , 29.  , 29.  , 29.  , 29.  , 29.  ,\n",
       "       29.  , 29.  , 29.  , 29.  , 29.  , 29.  , 30.  , 30.  , 30.  ,\n",
       "       30.  , 30.  , 30.  , 30.  , 30.  , 30.  , 30.  , 30.  , 30.  ,\n",
       "       30.  , 30.  , 30.  , 30.  , 30.  , 30.  , 30.  , 30.  , 30.  ,\n",
       "       30.  , 30.  , 30.  , 30.  , 30.5 , 30.5 , 31.  , 31.  , 31.  ,\n",
       "       31.  , 31.  , 31.  , 31.  , 31.  , 31.  , 31.  , 31.  , 31.  ,\n",
       "       31.  , 31.  , 31.  , 31.  , 31.  , 32.  , 32.  , 32.  , 32.  ,\n",
       "       32.  , 32.  , 32.  , 32.  , 32.  , 32.  , 32.  , 32.  , 32.  ,\n",
       "       32.  , 32.  , 32.  , 32.  , 32.  , 32.5 , 32.5 , 33.  , 33.  ,\n",
       "       33.  , 33.  , 33.  , 33.  , 33.  , 33.  , 33.  , 33.  , 33.  ,\n",
       "       33.  , 33.  , 33.  , 33.  , 34.  , 34.  , 34.  , 34.  , 34.  ,\n",
       "       34.  , 34.  , 34.  , 34.  , 34.  , 34.  , 34.  , 34.  , 34.  ,\n",
       "       34.  , 34.5 , 35.  , 35.  , 35.  , 35.  , 35.  , 35.  , 35.  ,\n",
       "       35.  , 35.  , 35.  , 35.  , 35.  , 35.  , 35.  , 35.  , 35.  ,\n",
       "       35.  , 35.  , 36.  , 36.  , 36.  , 36.  , 36.  , 36.  , 36.  ,\n",
       "       36.  , 36.  , 36.  , 36.  , 36.  , 36.  , 36.  , 36.  , 36.  ,\n",
       "       36.  , 36.  , 36.  , 36.  , 36.  , 36.  , 36.5 , 37.  , 37.  ,\n",
       "       37.  , 37.  , 37.  , 37.  , 38.  , 38.  , 38.  , 38.  , 38.  ,\n",
       "       38.  , 38.  , 38.  , 38.  , 38.  , 38.  , 39.  , 39.  , 39.  ,\n",
       "       39.  , 39.  , 39.  , 39.  , 39.  , 39.  , 39.  , 39.  , 39.  ,\n",
       "       39.  , 39.  , 40.  , 40.  , 40.  , 40.  , 40.  , 40.  , 40.  ,\n",
       "       40.  , 40.  , 40.  , 40.  , 40.  , 40.  , 40.5 , 40.5 , 41.  ,\n",
       "       41.  , 41.  , 41.  , 41.  , 41.  , 42.  , 42.  , 42.  , 42.  ,\n",
       "       42.  , 42.  , 42.  , 42.  , 42.  , 42.  , 42.  , 42.  , 42.  ,\n",
       "       43.  , 43.  , 43.  , 43.  , 43.  , 44.  , 44.  , 44.  , 44.  ,\n",
       "       44.  , 44.  , 44.  , 44.  , 44.  , 45.  , 45.  , 45.  , 45.  ,\n",
       "       45.  , 45.  , 45.  , 45.  , 45.  , 45.  , 45.  , 45.  , 45.5 ,\n",
       "       45.5 , 46.  , 46.  , 46.  , 47.  , 47.  , 47.  , 47.  , 47.  ,\n",
       "       47.  , 47.  , 47.  , 47.  , 48.  , 48.  , 48.  , 48.  , 48.  ,\n",
       "       48.  , 48.  , 48.  , 48.  , 49.  , 49.  , 49.  , 49.  , 49.  ,\n",
       "       49.  , 50.  , 50.  , 50.  , 50.  , 50.  , 50.  , 50.  , 50.  ,\n",
       "       50.  , 50.  , 51.  , 51.  , 51.  , 51.  , 51.  , 51.  , 51.  ,\n",
       "       52.  , 52.  , 52.  , 52.  , 52.  , 52.  , 53.  , 54.  , 54.  ,\n",
       "       54.  , 54.  , 54.  , 54.  , 54.  , 54.  , 55.  , 55.  , 55.5 ,\n",
       "       56.  , 56.  , 56.  , 56.  , 57.  , 57.  , 58.  , 58.  , 58.  ,\n",
       "       58.  , 58.  , 59.  , 59.  , 60.  , 60.  , 60.  , 60.  , 61.  ,\n",
       "       61.  , 61.  , 62.  , 62.  , 62.  , 62.  , 63.  , 63.  , 64.  ,\n",
       "       64.  , 65.  , 65.  , 65.  , 66.  , 70.  , 70.  , 70.5 , 71.  ,\n",
       "       71.  , 74.  , 80.  ])"
      ]
     },
     "execution_count": 18,
     "metadata": {},
     "output_type": "execute_result"
    }
   ],
   "source": [
    "z=np.sort(p)\n",
    "z"
   ]
  },
  {
   "cell_type": "code",
   "execution_count": 19,
   "id": "fad047f2",
   "metadata": {},
   "outputs": [],
   "source": [
    "Q1=np.percentile(z,25)"
   ]
  },
  {
   "cell_type": "code",
   "execution_count": 20,
   "id": "aed6a7ff",
   "metadata": {},
   "outputs": [
    {
     "data": {
      "text/plain": [
       "20.125"
      ]
     },
     "execution_count": 20,
     "metadata": {},
     "output_type": "execute_result"
    }
   ],
   "source": [
    "Q1"
   ]
  },
  {
   "cell_type": "code",
   "execution_count": 21,
   "id": "c1204d31",
   "metadata": {},
   "outputs": [],
   "source": [
    "Q3=np.percentile(z,75)"
   ]
  },
  {
   "cell_type": "code",
   "execution_count": 22,
   "id": "2c256796",
   "metadata": {},
   "outputs": [
    {
     "data": {
      "text/plain": [
       "38.0"
      ]
     },
     "execution_count": 22,
     "metadata": {},
     "output_type": "execute_result"
    }
   ],
   "source": [
    "Q3"
   ]
  },
  {
   "cell_type": "code",
   "execution_count": 23,
   "id": "2ef1e73d",
   "metadata": {},
   "outputs": [
    {
     "data": {
      "text/plain": [
       "17.875"
      ]
     },
     "execution_count": 23,
     "metadata": {},
     "output_type": "execute_result"
    }
   ],
   "source": [
    "IQR =Q3-Q1\n",
    "IQR"
   ]
  },
  {
   "cell_type": "code",
   "execution_count": 24,
   "id": "86328fa1",
   "metadata": {},
   "outputs": [],
   "source": [
    "lower_fence =Q1-(1.5*IQR)\n",
    "higher_fence =Q3+(1.5*IQR)\n"
   ]
  },
  {
   "cell_type": "code",
   "execution_count": 25,
   "id": "8747ae09",
   "metadata": {},
   "outputs": [
    {
     "data": {
      "text/plain": [
       "-6.6875"
      ]
     },
     "execution_count": 25,
     "metadata": {},
     "output_type": "execute_result"
    }
   ],
   "source": [
    "lower_fence"
   ]
  },
  {
   "cell_type": "code",
   "execution_count": 26,
   "id": "e3e886ab",
   "metadata": {},
   "outputs": [
    {
     "data": {
      "text/plain": [
       "64.8125"
      ]
     },
     "execution_count": 26,
     "metadata": {},
     "output_type": "execute_result"
    }
   ],
   "source": [
    "higher_fence"
   ]
  },
  {
   "cell_type": "code",
   "execution_count": 27,
   "id": "f1153b68",
   "metadata": {},
   "outputs": [
    {
     "data": {
      "text/plain": [
       "28.0"
      ]
     },
     "execution_count": 27,
     "metadata": {},
     "output_type": "execute_result"
    }
   ],
   "source": [
    "np.median(z)"
   ]
  },
  {
   "cell_type": "code",
   "execution_count": 28,
   "id": "7f3f5816",
   "metadata": {},
   "outputs": [
    {
     "data": {
      "text/plain": [
       "ModeResult(mode=array([24.]), count=array([30]))"
      ]
     },
     "execution_count": 28,
     "metadata": {},
     "output_type": "execute_result"
    }
   ],
   "source": [
    "stats.mode(z)"
   ]
  },
  {
   "cell_type": "markdown",
   "id": "c0b24b6e",
   "metadata": {},
   "source": [
    "data visualization"
   ]
  },
  {
   "cell_type": "code",
   "execution_count": 29,
   "id": "6fad8097",
   "metadata": {},
   "outputs": [
    {
     "data": {
      "image/png": "[encoded data removed]",
      "text/plain": [
       "<Figure size 432x288 with 1 Axes>"
      ]
     },
     "metadata": {
      "needs_background": "light"
     },
     "output_type": "display_data"
    }
   ],
   "source": [
    "plt.hist(z,bins=30)\n",
    "plt.show()"
   ]
  },
  {
   "cell_type": "code",
   "execution_count": 30,
   "id": "c114cfdd",
   "metadata": {},
   "outputs": [],
   "source": [
    "tit1=tit1[tit1['Age']< higher_fence]"
   ]
  },
  {
   "cell_type": "code",
   "execution_count": 31,
   "id": "53006002",
   "metadata": {},
   "outputs": [
    {
     "data": {
      "text/html": [
       "<div>\n",
       "<style scoped>\n",
       "    .dataframe tbody tr th:only-of-type {\n",
       "        vertical-align: middle;\n",
       "    }\n",
       "\n",
       "    .dataframe tbody tr th {\n",
       "        vertical-align: top;\n",
       "    }\n",
       "\n",
       "    .dataframe thead th {\n",
       "        text-align: right;\n",
       "    }\n",
       "</style>\n",
       "<table border=\"1\" class=\"dataframe\">\n",
       "  <thead>\n",
       "    <tr style=\"text-align: right;\">\n",
       "      <th></th>\n",
       "      <th>PassengerId</th>\n",
       "      <th>Name</th>\n",
       "      <th>Pclass</th>\n",
       "      <th>Sex</th>\n",
       "      <th>Age</th>\n",
       "      <th>SibSp</th>\n",
       "      <th>Parch</th>\n",
       "      <th>Ticket</th>\n",
       "      <th>Fare</th>\n",
       "      <th>Cabin</th>\n",
       "      <th>Embarked</th>\n",
       "      <th>Survived</th>\n",
       "    </tr>\n",
       "  </thead>\n",
       "  <tbody>\n",
       "    <tr>\n",
       "      <th>0</th>\n",
       "      <td>1</td>\n",
       "      <td>Braund, Mr. Owen Harris</td>\n",
       "      <td>3</td>\n",
       "      <td>male</td>\n",
       "      <td>22.0</td>\n",
       "      <td>1</td>\n",
       "      <td>0</td>\n",
       "      <td>A/5 21171</td>\n",
       "      <td>7.2500</td>\n",
       "      <td>NaN</td>\n",
       "      <td>S</td>\n",
       "      <td>0</td>\n",
       "    </tr>\n",
       "    <tr>\n",
       "      <th>1</th>\n",
       "      <td>2</td>\n",
       "      <td>Cumings, Mrs. John Bradley (Florence Briggs Th...</td>\n",
       "      <td>1</td>\n",
       "      <td>female</td>\n",
       "      <td>38.0</td>\n",
       "      <td>1</td>\n",
       "      <td>0</td>\n",
       "      <td>PC 17599</td>\n",
       "      <td>71.2833</td>\n",
       "      <td>C85</td>\n",
       "      <td>C</td>\n",
       "      <td>1</td>\n",
       "    </tr>\n",
       "    <tr>\n",
       "      <th>2</th>\n",
       "      <td>3</td>\n",
       "      <td>Heikkinen, Miss. Laina</td>\n",
       "      <td>3</td>\n",
       "      <td>female</td>\n",
       "      <td>26.0</td>\n",
       "      <td>0</td>\n",
       "      <td>0</td>\n",
       "      <td>STON/O2. 3101282</td>\n",
       "      <td>7.9250</td>\n",
       "      <td>NaN</td>\n",
       "      <td>S</td>\n",
       "      <td>1</td>\n",
       "    </tr>\n",
       "    <tr>\n",
       "      <th>3</th>\n",
       "      <td>4</td>\n",
       "      <td>Futrelle, Mrs. Jacques Heath (Lily May Peel)</td>\n",
       "      <td>1</td>\n",
       "      <td>female</td>\n",
       "      <td>35.0</td>\n",
       "      <td>1</td>\n",
       "      <td>0</td>\n",
       "      <td>113803</td>\n",
       "      <td>53.1000</td>\n",
       "      <td>C123</td>\n",
       "      <td>S</td>\n",
       "      <td>1</td>\n",
       "    </tr>\n",
       "    <tr>\n",
       "      <th>4</th>\n",
       "      <td>5</td>\n",
       "      <td>Allen, Mr. William Henry</td>\n",
       "      <td>3</td>\n",
       "      <td>male</td>\n",
       "      <td>35.0</td>\n",
       "      <td>0</td>\n",
       "      <td>0</td>\n",
       "      <td>373450</td>\n",
       "      <td>8.0500</td>\n",
       "      <td>NaN</td>\n",
       "      <td>S</td>\n",
       "      <td>0</td>\n",
       "    </tr>\n",
       "    <tr>\n",
       "      <th>...</th>\n",
       "      <td>...</td>\n",
       "      <td>...</td>\n",
       "      <td>...</td>\n",
       "      <td>...</td>\n",
       "      <td>...</td>\n",
       "      <td>...</td>\n",
       "      <td>...</td>\n",
       "      <td>...</td>\n",
       "      <td>...</td>\n",
       "      <td>...</td>\n",
       "      <td>...</td>\n",
       "      <td>...</td>\n",
       "    </tr>\n",
       "    <tr>\n",
       "      <th>885</th>\n",
       "      <td>886</td>\n",
       "      <td>Rice, Mrs. William (Margaret Norton)</td>\n",
       "      <td>3</td>\n",
       "      <td>female</td>\n",
       "      <td>39.0</td>\n",
       "      <td>0</td>\n",
       "      <td>5</td>\n",
       "      <td>382652</td>\n",
       "      <td>29.1250</td>\n",
       "      <td>NaN</td>\n",
       "      <td>Q</td>\n",
       "      <td>0</td>\n",
       "    </tr>\n",
       "    <tr>\n",
       "      <th>886</th>\n",
       "      <td>887</td>\n",
       "      <td>Montvila, Rev. Juozas</td>\n",
       "      <td>2</td>\n",
       "      <td>male</td>\n",
       "      <td>27.0</td>\n",
       "      <td>0</td>\n",
       "      <td>0</td>\n",
       "      <td>211536</td>\n",
       "      <td>13.0000</td>\n",
       "      <td>NaN</td>\n",
       "      <td>S</td>\n",
       "      <td>0</td>\n",
       "    </tr>\n",
       "    <tr>\n",
       "      <th>887</th>\n",
       "      <td>888</td>\n",
       "      <td>Graham, Miss. Margaret Edith</td>\n",
       "      <td>1</td>\n",
       "      <td>female</td>\n",
       "      <td>19.0</td>\n",
       "      <td>0</td>\n",
       "      <td>0</td>\n",
       "      <td>112053</td>\n",
       "      <td>30.0000</td>\n",
       "      <td>B42</td>\n",
       "      <td>S</td>\n",
       "      <td>1</td>\n",
       "    </tr>\n",
       "    <tr>\n",
       "      <th>889</th>\n",
       "      <td>890</td>\n",
       "      <td>Behr, Mr. Karl Howell</td>\n",
       "      <td>1</td>\n",
       "      <td>male</td>\n",
       "      <td>26.0</td>\n",
       "      <td>0</td>\n",
       "      <td>0</td>\n",
       "      <td>111369</td>\n",
       "      <td>30.0000</td>\n",
       "      <td>C148</td>\n",
       "      <td>C</td>\n",
       "      <td>1</td>\n",
       "    </tr>\n",
       "    <tr>\n",
       "      <th>890</th>\n",
       "      <td>891</td>\n",
       "      <td>Dooley, Mr. Patrick</td>\n",
       "      <td>3</td>\n",
       "      <td>male</td>\n",
       "      <td>32.0</td>\n",
       "      <td>0</td>\n",
       "      <td>0</td>\n",
       "      <td>370376</td>\n",
       "      <td>7.7500</td>\n",
       "      <td>NaN</td>\n",
       "      <td>Q</td>\n",
       "      <td>0</td>\n",
       "    </tr>\n",
       "  </tbody>\n",
       "</table>\n",
       "<p>703 rows × 12 columns</p>\n",
       "</div>"
      ],
      "text/plain": [
       "     PassengerId                                               Name  Pclass  \\\n",
       "0              1                            Braund, Mr. Owen Harris       3   \n",
       "1              2  Cumings, Mrs. John Bradley (Florence Briggs Th...       1   \n",
       "2              3                             Heikkinen, Miss. Laina       3   \n",
       "3              4       Futrelle, Mrs. Jacques Heath (Lily May Peel)       1   \n",
       "4              5                           Allen, Mr. William Henry       3   \n",
       "..           ...                                                ...     ...   \n",
       "885          886               Rice, Mrs. William (Margaret Norton)       3   \n",
       "886          887                              Montvila, Rev. Juozas       2   \n",
       "887          888                       Graham, Miss. Margaret Edith       1   \n",
       "889          890                              Behr, Mr. Karl Howell       1   \n",
       "890          891                                Dooley, Mr. Patrick       3   \n",
       "\n",
       "        Sex   Age  SibSp  Parch            Ticket     Fare Cabin Embarked  \\\n",
       "0      male  22.0      1      0         A/5 21171   7.2500   NaN        S   \n",
       "1    female  38.0      1      0          PC 17599  71.2833   C85        C   \n",
       "2    female  26.0      0      0  STON/O2. 3101282   7.9250   NaN        S   \n",
       "3    female  35.0      1      0            113803  53.1000  C123        S   \n",
       "4      male  35.0      0      0            373450   8.0500   NaN        S   \n",
       "..      ...   ...    ...    ...               ...      ...   ...      ...   \n",
       "885  female  39.0      0      5            382652  29.1250   NaN        Q   \n",
       "886    male  27.0      0      0            211536  13.0000   NaN        S   \n",
       "887  female  19.0      0      0            112053  30.0000   B42        S   \n",
       "889    male  26.0      0      0            111369  30.0000  C148        C   \n",
       "890    male  32.0      0      0            370376   7.7500   NaN        Q   \n",
       "\n",
       "     Survived  \n",
       "0           0  \n",
       "1           1  \n",
       "2           1  \n",
       "3           1  \n",
       "4           0  \n",
       "..        ...  \n",
       "885         0  \n",
       "886         0  \n",
       "887         1  \n",
       "889         1  \n",
       "890         0  \n",
       "\n",
       "[703 rows x 12 columns]"
      ]
     },
     "execution_count": 31,
     "metadata": {},
     "output_type": "execute_result"
    }
   ],
   "source": [
    "tit1"
   ]
  },
  {
   "cell_type": "markdown",
   "id": "ddab2992",
   "metadata": {},
   "source": [
    "trying to find a class"
   ]
  },
  {
   "cell_type": "code",
   "execution_count": 32,
   "id": "2111d78e",
   "metadata": {},
   "outputs": [],
   "source": [
    "x=tit2.iloc[:,4]"
   ]
  },
  {
   "cell_type": "code",
   "execution_count": 59,
   "id": "056bdd95",
   "metadata": {},
   "outputs": [],
   "source": [
    "class titanic_cleaning :\n",
    "    def __init__(self,dataframe):\n",
    "        self.dataframe =dataframe \n",
    "        \n",
    "    def display(self):\n",
    "        print('cleaning')\n",
    "class Age(titanic_cleaning):\n",
    "    def __init__(self,dataframe,X):\n",
    "        titanic_cleaning.__init__(self,dataframe)\n",
    "        self.X=X\n",
    "        x=self.X\n",
    "        x.dropna(inplace = True)\n",
    "        y=x.to_numpy()\n",
    "        z=np.sort(y)\n",
    "        Q1=np.percentile(z,25)\n",
    "        Q3=np.percentile(z,75)\n",
    "        IQR =Q3-Q1\n",
    "        lower_fence =Q1-(1.5*IQR)\n",
    "        higher_fence =Q3+(1.5*IQR)\n",
    "        self.dataframe=self.dataframe[self.dataframe['Age']< higher_fence]\n",
    "        plt.hist(z,bins=30)\n",
    "        plt.show()\n",
    "                \n",
    "    def  display(self):\n",
    "        titanic_cleaning.display(self)\n",
    "        print(self.dataframe)\n",
    "        \n",
    "        "
   ]
  },
  {
   "cell_type": "code",
   "execution_count": 60,
   "id": "3d98d038",
   "metadata": {},
   "outputs": [
    {
     "data": {
      "image/png": "[encoded data removed]",
      "text/plain": [
       "<Figure size 432x288 with 1 Axes>"
      ]
     },
     "metadata": {
      "needs_background": "light"
     },
     "output_type": "display_data"
    },
    {
     "name": "stdout",
     "output_type": "stream",
     "text": [
      "cleaning\n",
      "     PassengerId                                               Name  Pclass  \\\n",
      "0              1                            Braund, Mr. Owen Harris       3   \n",
      "1              2  Cumings, Mrs. John Bradley (Florence Briggs Th...       1   \n",
      "2              3                             Heikkinen, Miss. Laina       3   \n",
      "3              4       Futrelle, Mrs. Jacques Heath (Lily May Peel)       1   \n",
      "4              5                           Allen, Mr. William Henry       3   \n",
      "..           ...                                                ...     ...   \n",
      "885          886               Rice, Mrs. William (Margaret Norton)       3   \n",
      "886          887                              Montvila, Rev. Juozas       2   \n",
      "887          888                       Graham, Miss. Margaret Edith       1   \n",
      "889          890                              Behr, Mr. Karl Howell       1   \n",
      "890          891                                Dooley, Mr. Patrick       3   \n",
      "\n",
      "        Sex   Age  SibSp  Parch            Ticket     Fare Cabin Embarked  \\\n",
      "0      male  22.0      1      0         A/5 21171   7.2500   NaN        S   \n",
      "1    female  38.0      1      0          PC 17599  71.2833   C85        C   \n",
      "2    female  26.0      0      0  STON/O2. 3101282   7.9250   NaN        S   \n",
      "3    female  35.0      1      0            113803  53.1000  C123        S   \n",
      "4      male  35.0      0      0            373450   8.0500   NaN        S   \n",
      "..      ...   ...    ...    ...               ...      ...   ...      ...   \n",
      "885  female  39.0      0      5            382652  29.1250   NaN        Q   \n",
      "886    male  27.0      0      0            211536  13.0000   NaN        S   \n",
      "887  female  19.0      0      0            112053  30.0000   B42        S   \n",
      "889    male  26.0      0      0            111369  30.0000  C148        C   \n",
      "890    male  32.0      0      0            370376   7.7500   NaN        Q   \n",
      "\n",
      "     Survived  \n",
      "0           0  \n",
      "1           1  \n",
      "2           1  \n",
      "3           1  \n",
      "4           0  \n",
      "..        ...  \n",
      "885         0  \n",
      "886         0  \n",
      "887         1  \n",
      "889         1  \n",
      "890         0  \n",
      "\n",
      "[703 rows x 12 columns]\n"
     ]
    }
   ],
   "source": [
    "s = Age(tit,x)\n",
    "s.display()"
   ]
  },
  {
   "cell_type": "code",
   "execution_count": null,
   "id": "adcba8ca",
   "metadata": {},
   "outputs": [],
   "source": []
  }
 ],
 "metadata": {
  "kernelspec": {
   "display_name": "Python 3 (ipykernel)",
   "language": "python",
   "name": "python3"
  },
  "language_info": {
   "codemirror_mode": {
    "name": "ipython",
    "version": 3
   },
   "file_extension": ".py",
   "mimetype": "text/x-python",
   "name": "python",
   "nbconvert_exporter": "python",
   "pygments_lexer": "ipython3",
   "version": "3.10.8"
  }
 },
 "nbformat": 4,
 "nbformat_minor": 5
}

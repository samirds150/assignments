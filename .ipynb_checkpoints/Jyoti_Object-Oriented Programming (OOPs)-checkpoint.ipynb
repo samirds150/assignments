{
 "cells": [
  {
   "cell_type": "raw",
   "id": "0a54ae35",
   "metadata": {},
   "source": [
    "What is object and classes?\n",
    "classes is having multiple functions with multi vairables which avoids calling of single-single vairable.\n",
    "\n",
    "\n",
    "class==Vehicle\n",
    "auto,bike,car,truck,train,metro,laptop=object of vehicle\n",
    "--features like--fuel capacity,engine working,seat capacity,number of typers\n",
    "\n",
    "s=\"jyothi\" --- class(string,list,tuple,set,dictionary)\n",
    "s.strip() --- s is object-- .strip is method\n",
    "HERE string is CLASS\n",
    "s. is object/ blue print of class\n",
    ".strip is method\n",
    "\n",
    "len() is function without/outside class.\n",
    "\n",
    "function in class is called as a method like strip."
   ]
  },
  {
   "cell_type": "raw",
   "id": "0a1a0e4d",
   "metadata": {},
   "source": [
    "TYPES OF CLASSES?\n",
    "1.classes with parameter\n",
    "2.classes with default parameter\n",
    "3.classes with no parameter\n",
    "4.\n"
   ]
  },
  {
   "cell_type": "code",
   "execution_count": 1,
   "id": "62f7d643",
   "metadata": {},
   "outputs": [
    {
     "name": "stdout",
     "output_type": "stream",
     "text": [
      "this is a function\n"
     ]
    }
   ],
   "source": [
    "def func_name(): # function without parameter\n",
    "    print(\"this is a function\")\n",
    "func_name()"
   ]
  },
  {
   "cell_type": "raw",
   "id": "31139e6f",
   "metadata": {},
   "source": [
    "SYNTAX FOR CLASS:\n",
    "create class with object ,make sure that class name is capital letter\n",
    "then create/define a function\n",
    "call (print) \n",
    "self is default parameter"
   ]
  },
  {
   "cell_type": "code",
   "execution_count": 2,
   "id": "5c456f68",
   "metadata": {},
   "outputs": [],
   "source": [
    "class Myclass(): # () is optional first letter must in capital \n",
    "    def func_name(self): # function without parameter-- self vairable\n",
    "        print(\"this is a function\")\n",
    "    def func_name1(self): # function without parameter-- function created\n",
    "        print(\"this is second function\")\n",
    "    def name1(self,first,last):\n",
    "        self.first=first\n",
    "        self.last=last\n",
    "        print(\"enter your first name:  \",self.first)\n",
    "        print(\"enter your last name:   \",self.last)\n",
    "        "
   ]
  },
  {
   "cell_type": "code",
   "execution_count": 3,
   "id": "88927eae",
   "metadata": {},
   "outputs": [
    {
     "name": "stdout",
     "output_type": "stream",
     "text": [
      "this is a function\n",
      "this is second function\n",
      "enter your first name:   jyothi\n",
      "enter your last name:    hande\n"
     ]
    }
   ],
   "source": [
    "c=Myclass() # C is vairble and stores all data and act as  object of class my_class\n",
    "c.func_name() #function call\n",
    "c.func_name1()\n",
    "c.name1(\"jyothi\",\"hande\")"
   ]
  },
  {
   "cell_type": "raw",
   "id": "3d676f3b",
   "metadata": {},
   "source": [
    "--Default function in classes in python\n",
    "__init__ initialiasation  double under score\n",
    "_init_ single underscore normal function"
   ]
  },
  {
   "cell_type": "code",
   "execution_count": 4,
   "id": "7d5886a7",
   "metadata": {},
   "outputs": [
    {
     "name": "stdout",
     "output_type": "stream",
     "text": [
      "successfully logged in \n"
     ]
    }
   ],
   "source": [
    "class customer_information():\n",
    "    \"This class is used to get customer info \"\n",
    "    def __init__(self,name,contact,email):\n",
    "        self.name=name\n",
    "        self.contact=contact\n",
    "        self.email=email\n",
    "        print(\"successfully logged in \")\n",
    "    def name_contact(self):\n",
    "        \"this function gives name and contact\"\n",
    "        print(\"enter your name:  \",self.name)\n",
    "        print(\"enter your contact:   \",self.contact)\n",
    "    def email(self):\n",
    "        \"this functin gives email\"\n",
    "        print(\"enter your email:  \",self.email)\n",
    "        \n",
    "info=customer_information(\"jyothi\",563214,\"abc@gmail.com\")\n",
    "        \n",
    "        \n",
    "        "
   ]
  },
  {
   "cell_type": "code",
   "execution_count": 5,
   "id": "eab23a9f",
   "metadata": {},
   "outputs": [
    {
     "data": {
      "text/plain": [
       "'abc@gmail.com'"
      ]
     },
     "execution_count": 5,
     "metadata": {},
     "output_type": "execute_result"
    }
   ],
   "source": [
    "info.email"
   ]
  },
  {
   "cell_type": "code",
   "execution_count": 6,
   "id": "46fb725e",
   "metadata": {},
   "outputs": [
    {
     "data": {
      "text/plain": [
       "'jyothi'"
      ]
     },
     "execution_count": 6,
     "metadata": {},
     "output_type": "execute_result"
    }
   ],
   "source": [
    "info.name"
   ]
  },
  {
   "cell_type": "code",
   "execution_count": 7,
   "id": "76a3732c",
   "metadata": {},
   "outputs": [
    {
     "name": "stdout",
     "output_type": "stream",
     "text": [
      "enter your name:   jyothi\n",
      "enter your contact:    563214\n"
     ]
    }
   ],
   "source": [
    "info.name_contact()"
   ]
  },
  {
   "cell_type": "code",
   "execution_count": 8,
   "id": "bab14738",
   "metadata": {},
   "outputs": [
    {
     "name": "stdout",
     "output_type": "stream",
     "text": [
      "enter your name:   jyothi\n",
      "enter your contact:    563214\n"
     ]
    }
   ],
   "source": [
    "info.name_contact()\n"
   ]
  },
  {
   "cell_type": "code",
   "execution_count": 9,
   "id": "f202858b",
   "metadata": {},
   "outputs": [
    {
     "data": {
      "text/plain": [
       "'hande'"
      ]
     },
     "execution_count": 9,
     "metadata": {},
     "output_type": "execute_result"
    }
   ],
   "source": [
    "c.last"
   ]
  },
  {
   "cell_type": "code",
   "execution_count": 10,
   "id": "b870d1af",
   "metadata": {},
   "outputs": [
    {
     "name": "stdout",
     "output_type": "stream",
     "text": [
      "enter your first name:   yjoy\n",
      "enter your last name:    iherg\n"
     ]
    }
   ],
   "source": [
    "c.name1(\"yjoy\",\"iherg\")"
   ]
  },
  {
   "cell_type": "raw",
   "id": "5c827d52",
   "metadata": {},
   "source": [
    "--CLASSES with parameter"
   ]
  },
  {
   "cell_type": "code",
   "execution_count": 11,
   "id": "ec41786a",
   "metadata": {},
   "outputs": [],
   "source": [
    "class Rectangle():\n",
    "    def __init__(self,length,breadth):\n",
    "        self.length=length\n",
    "        self.breadth=breadth\n",
    "    def output(self):\n",
    "        print(\"Length of the rectangle is : \",self.length)\n",
    "        print(\"breadth of the rectangle is: \",self.breadth)\n",
    "        print(\"area of rectangle =\",self.length*self.breadth)\n",
    "        print(\"parameter of rectangle = \",self.length+self.breadth+self.length+self.breadth)\n",
    "    \n",
    "    "
   ]
  },
  {
   "cell_type": "code",
   "execution_count": 12,
   "id": "28d33f8b",
   "metadata": {},
   "outputs": [],
   "source": [
    "r=Rectangle(20,4)"
   ]
  },
  {
   "cell_type": "code",
   "execution_count": 13,
   "id": "309f6d41",
   "metadata": {},
   "outputs": [
    {
     "name": "stdout",
     "output_type": "stream",
     "text": [
      "Length of the rectangle is :  20\n",
      "breadth of the rectangle is:  4\n",
      "area of rectangle = 80\n",
      "parameter of rectangle =  48\n"
     ]
    }
   ],
   "source": [
    "r.output()"
   ]
  },
  {
   "cell_type": "raw",
   "id": "df63b7cb",
   "metadata": {},
   "source": [
    "--CLASSES with default parameter"
   ]
  },
  {
   "cell_type": "code",
   "execution_count": 14,
   "id": "294c45e3",
   "metadata": {},
   "outputs": [],
   "source": [
    "class Rectangle():\n",
    "    def __init__(self,length=20,breadth=2):\n",
    "        self.length=length\n",
    "        self.breadth=breadth\n",
    "    def output(self):\n",
    "        print(\"Length of the rectangle is : \",self.length)\n",
    "        print(\"breadth of the rectangle is: \",self.breadth)\n",
    "        print(\"area of rectangle =\",self.length*self.breadth)\n",
    "        print(\"parameter of rectangle = \",self.length+self.breadth+self.length+self.breadth)\n",
    "    \n",
    "    "
   ]
  },
  {
   "cell_type": "code",
   "execution_count": 15,
   "id": "2fad681d",
   "metadata": {},
   "outputs": [],
   "source": [
    "r=Rectangle()"
   ]
  },
  {
   "cell_type": "code",
   "execution_count": 16,
   "id": "52b11683",
   "metadata": {},
   "outputs": [
    {
     "name": "stdout",
     "output_type": "stream",
     "text": [
      "Length of the rectangle is :  20\n",
      "breadth of the rectangle is:  2\n",
      "area of rectangle = 40\n",
      "parameter of rectangle =  44\n"
     ]
    }
   ],
   "source": [
    "r.output()"
   ]
  },
  {
   "cell_type": "code",
   "execution_count": 17,
   "id": "272bb301",
   "metadata": {},
   "outputs": [
    {
     "data": {
      "text/plain": [
       "20"
      ]
     },
     "execution_count": 17,
     "metadata": {},
     "output_type": "execute_result"
    }
   ],
   "source": [
    "r.length"
   ]
  },
  {
   "cell_type": "code",
   "execution_count": 18,
   "id": "981057ea",
   "metadata": {},
   "outputs": [
    {
     "data": {
      "text/plain": [
       "2"
      ]
     },
     "execution_count": 18,
     "metadata": {},
     "output_type": "execute_result"
    }
   ],
   "source": [
    "r.breadth"
   ]
  },
  {
   "cell_type": "raw",
   "id": "fc6c2779",
   "metadata": {},
   "source": [
    "--default parameter"
   ]
  },
  {
   "cell_type": "code",
   "execution_count": 19,
   "id": "d4ff79a6",
   "metadata": {},
   "outputs": [],
   "source": [
    "class Rectangle():\n",
    "    def __init__(self,length,breadth,):\n",
    "        self.length=length\n",
    "        self.breadth=breadth\n",
    "    def output(self):\n",
    "        print(\"Length of the rectangle is : \",self.length,\"m\")\n",
    "        print(\"breadth of the rectangle is: \",self.breadth,\"m\")\n",
    "        print(\"area of rectangle =\",self.length*self.breadth,\"m^2\")\n",
    "        print(\"parameter of rectangle = \",self.length+self.breadth+self.length+self.breadth,\"m\")\n",
    "       # print(\"parameter of rectangle =\",(int(2)(self.length+self.breadth)))\n",
    "              \n",
    "r=Rectangle(10,50)  \n",
    "    # checks value BOTTOM UP APPROACH"
   ]
  },
  {
   "cell_type": "code",
   "execution_count": 20,
   "id": "518af53d",
   "metadata": {},
   "outputs": [
    {
     "name": "stdout",
     "output_type": "stream",
     "text": [
      "Length of the rectangle is :  10 m\n",
      "breadth of the rectangle is:  50 m\n",
      "area of rectangle = 500 m^2\n",
      "parameter of rectangle =  120 m\n"
     ]
    }
   ],
   "source": [
    "r.output()"
   ]
  },
  {
   "cell_type": "raw",
   "id": "7b0d94a2",
   "metadata": {},
   "source": [
    "--The four pillars of OOP are \n",
    "1.Encapsulation,\n",
    "2.Abstraction, \n",
    "3.Inheritance, \n",
    "4.Polymorphism."
   ]
  },
  {
   "cell_type": "raw",
   "id": "ca593e1b",
   "metadata": {},
   "source": [
    " 1.Polymorphism\n",
    "-- same functions with various meanings according to its use.\n",
    "--eg: a*b \n",
    "     from random import *\n",
    "--eg:pop() removes items \n",
    "     s.pop() removes first item in set\n",
    "     l.pop() removes last item in list\n",
    "     d.pop() removes \n",
    "set 1st value remove\n",
    "list last value removed by default\n",
    "in dict POP function removes which is mentioned inside bracket\n"
   ]
  },
  {
   "cell_type": "code",
   "execution_count": 21,
   "id": "e934661b",
   "metadata": {},
   "outputs": [],
   "source": [
    "class Intergers():\n",
    "    def __init__(self,positive_numbers,negative_numbers):\n",
    "        self.positive_numbers=positive_numbers\n",
    "        self.negative_numbers=negative_numbers\n",
    "    def display(self):\n",
    "        print(\"list of positive numbers =\",self.positive_numbers)\n",
    "        print(\"list of negative number =\",self.negative_numbers)\n",
    "I=Intergers(4,-52)       "
   ]
  },
  {
   "cell_type": "code",
   "execution_count": 22,
   "id": "de7d4473",
   "metadata": {},
   "outputs": [
    {
     "name": "stdout",
     "output_type": "stream",
     "text": [
      "list of positive numbers = 4\n",
      "list of negative number = -52\n"
     ]
    }
   ],
   "source": [
    "I.display()"
   ]
  },
  {
   "cell_type": "code",
   "execution_count": 23,
   "id": "b128e39e",
   "metadata": {},
   "outputs": [
    {
     "data": {
      "text/plain": [
       "-52"
      ]
     },
     "execution_count": 23,
     "metadata": {},
     "output_type": "execute_result"
    }
   ],
   "source": [
    "I.negative_numbers"
   ]
  },
  {
   "cell_type": "code",
   "execution_count": 24,
   "id": "1d3ebf8a",
   "metadata": {},
   "outputs": [
    {
     "data": {
      "text/plain": [
       "4"
      ]
     },
     "execution_count": 24,
     "metadata": {},
     "output_type": "execute_result"
    }
   ],
   "source": [
    "I.positive_numbers"
   ]
  },
  {
   "cell_type": "code",
   "execution_count": 26,
   "id": "9afb4673",
   "metadata": {},
   "outputs": [
    {
     "ename": "TypeError",
     "evalue": "__init__() missing 1 required positional argument: 'lists'",
     "output_type": "error",
     "traceback": [
      "\u001b[1;31m---------------------------------------------------------------------------\u001b[0m",
      "\u001b[1;31mTypeError\u001b[0m                                 Traceback (most recent call last)",
      "Input \u001b[1;32mIn [26]\u001b[0m, in \u001b[0;36m<cell line: 14>\u001b[1;34m()\u001b[0m\n\u001b[0;32m     11\u001b[0m             l\u001b[38;5;241m.\u001b[39mappend(\u001b[38;5;28mself\u001b[39m\u001b[38;5;241m.\u001b[39mpositive_numbers)\n\u001b[0;32m     12\u001b[0m             \u001b[38;5;28mprint\u001b[39m(\u001b[38;5;124m\"\u001b[39m\u001b[38;5;124mlist of positive numbers =\u001b[39m\u001b[38;5;124m\"\u001b[39m,\u001b[38;5;28mself\u001b[39m\u001b[38;5;241m.\u001b[39mlists)\n\u001b[1;32m---> 14\u001b[0m P\u001b[38;5;241m=\u001b[39m\u001b[43mPositive\u001b[49m\u001b[43m(\u001b[49m\u001b[38;5;241;43m45\u001b[39;49m\u001b[43m)\u001b[49m\n\u001b[0;32m     15\u001b[0m P\u001b[38;5;241m.\u001b[39mdisplay(\u001b[38;5;241m45\u001b[39m,\u001b[38;5;241m5\u001b[39m)\n",
      "\u001b[1;31mTypeError\u001b[0m: __init__() missing 1 required positional argument: 'lists'"
     ]
    }
   ],
   "source": [
    "class Positive():\n",
    "    l=[]\n",
    "    \n",
    "    def __init__(self,positive_numbers,lists):\n",
    "        self.positive_numbers=positive_numbers\n",
    "        self.lists=lists\n",
    "    def display(self):\n",
    "       # a=print(\"enter number: \",a)\n",
    "        l=[]\n",
    "        if self.positive_numbers>0==True:\n",
    "            l.append(self.positive_numbers)\n",
    "            print(\"list of positive numbers =\",self.lists)\n",
    "    \n",
    "P=Positive(45)\n",
    "P.display(45,5)"
   ]
  },
  {
   "cell_type": "code",
   "execution_count": 27,
   "id": "2b63e2d0",
   "metadata": {},
   "outputs": [
    {
     "ename": "NameError",
     "evalue": "name 'P' is not defined",
     "output_type": "error",
     "traceback": [
      "\u001b[1;31m---------------------------------------------------------------------------\u001b[0m",
      "\u001b[1;31mNameError\u001b[0m                                 Traceback (most recent call last)",
      "Input \u001b[1;32mIn [27]\u001b[0m, in \u001b[0;36m<cell line: 1>\u001b[1;34m()\u001b[0m\n\u001b[1;32m----> 1\u001b[0m \u001b[43mP\u001b[49m\u001b[38;5;241m.\u001b[39ml\n",
      "\u001b[1;31mNameError\u001b[0m: name 'P' is not defined"
     ]
    }
   ],
   "source": [
    "P.l"
   ]
  },
  {
   "cell_type": "code",
   "execution_count": 28,
   "id": "e37ab61a",
   "metadata": {},
   "outputs": [
    {
     "ename": "NameError",
     "evalue": "name 'P' is not defined",
     "output_type": "error",
     "traceback": [
      "\u001b[1;31m---------------------------------------------------------------------------\u001b[0m",
      "\u001b[1;31mNameError\u001b[0m                                 Traceback (most recent call last)",
      "Input \u001b[1;32mIn [28]\u001b[0m, in \u001b[0;36m<cell line: 1>\u001b[1;34m()\u001b[0m\n\u001b[1;32m----> 1\u001b[0m \u001b[43mP\u001b[49m\u001b[38;5;241m.\u001b[39ml\n",
      "\u001b[1;31mNameError\u001b[0m: name 'P' is not defined"
     ]
    }
   ],
   "source": [
    "P.l"
   ]
  },
  {
   "cell_type": "code",
   "execution_count": 29,
   "id": "1e0a4013",
   "metadata": {},
   "outputs": [
    {
     "ename": "NameError",
     "evalue": "name 'P' is not defined",
     "output_type": "error",
     "traceback": [
      "\u001b[1;31m---------------------------------------------------------------------------\u001b[0m",
      "\u001b[1;31mNameError\u001b[0m                                 Traceback (most recent call last)",
      "Input \u001b[1;32mIn [29]\u001b[0m, in \u001b[0;36m<cell line: 1>\u001b[1;34m()\u001b[0m\n\u001b[1;32m----> 1\u001b[0m \u001b[43mP\u001b[49m\u001b[38;5;241m.\u001b[39mpositive_numbers\n",
      "\u001b[1;31mNameError\u001b[0m: name 'P' is not defined"
     ]
    }
   ],
   "source": [
    "P.positive_numbers"
   ]
  },
  {
   "cell_type": "code",
   "execution_count": 30,
   "id": "14e08210",
   "metadata": {},
   "outputs": [
    {
     "ename": "NameError",
     "evalue": "name 'l' is not defined",
     "output_type": "error",
     "traceback": [
      "\u001b[1;31m---------------------------------------------------------------------------\u001b[0m",
      "\u001b[1;31mNameError\u001b[0m                                 Traceback (most recent call last)",
      "Input \u001b[1;32mIn [30]\u001b[0m, in \u001b[0;36m<cell line: 1>\u001b[1;34m()\u001b[0m\n\u001b[1;32m----> 1\u001b[0m \u001b[43ml\u001b[49m\n",
      "\u001b[1;31mNameError\u001b[0m: name 'l' is not defined"
     ]
    }
   ],
   "source": [
    "l"
   ]
  },
  {
   "cell_type": "code",
   "execution_count": 31,
   "id": "0cc0269a",
   "metadata": {},
   "outputs": [],
   "source": [
    "class Cat():\n",
    "    def __init__(self,name):\n",
    "        self.name=name\n",
    "    def display(self):\n",
    "        print(\"type of the cat is:\",self.name)\n",
    "c=Cat(\"tiger\")\n",
    "class Dog():\n",
    "    def __init__(self,name):\n",
    "        self.name=name\n",
    "    def display(self):\n",
    "        print(\"name of the Dog is:\",self.name)\n",
    "d=Dog(\"lolo\")"
   ]
  },
  {
   "cell_type": "code",
   "execution_count": 32,
   "id": "9b44f189",
   "metadata": {},
   "outputs": [
    {
     "name": "stdout",
     "output_type": "stream",
     "text": [
      "type of the cat is: tiger\n"
     ]
    }
   ],
   "source": [
    "c.display()"
   ]
  },
  {
   "cell_type": "code",
   "execution_count": 33,
   "id": "d01bf559",
   "metadata": {},
   "outputs": [
    {
     "data": {
      "text/plain": [
       "'tiger'"
      ]
     },
     "execution_count": 33,
     "metadata": {},
     "output_type": "execute_result"
    }
   ],
   "source": [
    "c.name"
   ]
  },
  {
   "cell_type": "code",
   "execution_count": 34,
   "id": "8384dc8f",
   "metadata": {},
   "outputs": [
    {
     "name": "stdout",
     "output_type": "stream",
     "text": [
      "name of the Dog is: lolo\n"
     ]
    }
   ],
   "source": [
    "d.display()"
   ]
  },
  {
   "cell_type": "code",
   "execution_count": 35,
   "id": "a4bb71ad",
   "metadata": {},
   "outputs": [],
   "source": [
    "def abc(a):\n",
    "    a.display()"
   ]
  },
  {
   "cell_type": "code",
   "execution_count": 36,
   "id": "e404330b",
   "metadata": {},
   "outputs": [
    {
     "name": "stdout",
     "output_type": "stream",
     "text": [
      "type of the cat is: tiger\n"
     ]
    }
   ],
   "source": [
    "abc(c)"
   ]
  },
  {
   "cell_type": "code",
   "execution_count": 37,
   "id": "9d0b59d4",
   "metadata": {},
   "outputs": [
    {
     "name": "stdout",
     "output_type": "stream",
     "text": [
      "name of the Dog is: lolo\n"
     ]
    }
   ],
   "source": [
    "abc(d)"
   ]
  },
  {
   "cell_type": "raw",
   "id": "8ce34f46",
   "metadata": {},
   "source": [
    "--TYPE IS ALSO EXAMPLE OF polymorphism"
   ]
  },
  {
   "cell_type": "code",
   "execution_count": 38,
   "id": "426df28a",
   "metadata": {},
   "outputs": [
    {
     "data": {
      "text/plain": [
       "str"
      ]
     },
     "execution_count": 38,
     "metadata": {},
     "output_type": "execute_result"
    }
   ],
   "source": [
    "type(\"jyothi\")# is example of polymorphism\n"
   ]
  },
  {
   "cell_type": "code",
   "execution_count": 39,
   "id": "c2c531a5",
   "metadata": {},
   "outputs": [
    {
     "data": {
      "text/plain": [
       "int"
      ]
     },
     "execution_count": 39,
     "metadata": {},
     "output_type": "execute_result"
    }
   ],
   "source": [
    "type(45)"
   ]
  },
  {
   "cell_type": "code",
   "execution_count": 40,
   "id": "d2afe7a9",
   "metadata": {},
   "outputs": [
    {
     "data": {
      "text/plain": [
       "float"
      ]
     },
     "execution_count": 40,
     "metadata": {},
     "output_type": "execute_result"
    }
   ],
   "source": [
    "type(4.3)"
   ]
  },
  {
   "cell_type": "raw",
   "id": "43b8c255",
   "metadata": {},
   "source": [
    "2.Inheritence\n",
    "carry forward the property of one class to another not all properties but few of them\n",
    "--Types of Inheritance in Python\n",
    "1.Single inheritance \n",
    "2.Multiple Inheritance\n",
    "3.multilevel inheritance\n",
    "4.Hierarchical Inheritance\n",
    "5.Hybrid Inheritance"
   ]
  },
  {
   "cell_type": "raw",
   "id": "62d5cd70",
   "metadata": {},
   "source": [
    "1.Single inheritance \n"
   ]
  },
  {
   "cell_type": "code",
   "execution_count": 41,
   "id": "eb8ccba8",
   "metadata": {},
   "outputs": [],
   "source": [
    "class Numbers():\n",
    "    \"base class for odd even numbers\"\n",
    "    def __init__(self,numbers):\n",
    "        self.numbers=numbers\n",
    "    def show_numbers(self):\n",
    "        \"shows numbers availble\"\n",
    "        print(\"numbers are : \",self.numbers)\n",
    "#n=Numbers(25)\n",
    "#n.show_numbers()"
   ]
  },
  {
   "cell_type": "code",
   "execution_count": 42,
   "id": "9eae2fef",
   "metadata": {},
   "outputs": [],
   "source": [
    "#n.numbers"
   ]
  },
  {
   "cell_type": "code",
   "execution_count": 43,
   "id": "7e46c94f",
   "metadata": {},
   "outputs": [],
   "source": [
    "class Odd_even(Numbers):\n",
    "    \"this is derived class of odd even numbers\"\n",
    "    def __init__(self,numbers,even,odd):\n",
    "        Numbers.__init__(self,numbers)\n",
    "        self.even=even\n",
    "        self.odd=odd\n",
    "    def show_evenodd(self):\n",
    "        \"gives odd even numbers\"\n",
    "        Numbers.show_numbers(self)\n",
    "        print(\"number is even\",self.numbers%2==0,self.even)\n",
    "        print(\"number is odd\",self.numbers%2!=0,self.odd)\n",
    "    "
   ]
  },
  {
   "cell_type": "code",
   "execution_count": 44,
   "id": "139c4dab",
   "metadata": {},
   "outputs": [],
   "source": [
    "o=Odd_even(12,6,3)\n"
   ]
  },
  {
   "cell_type": "code",
   "execution_count": 45,
   "id": "af421cd1",
   "metadata": {},
   "outputs": [
    {
     "name": "stdout",
     "output_type": "stream",
     "text": [
      "numbers are :  12\n",
      "number is even True 6\n",
      "number is odd False 3\n"
     ]
    }
   ],
   "source": [
    "o.show_evenodd()"
   ]
  },
  {
   "cell_type": "code",
   "execution_count": 46,
   "id": "fe5c9b9b",
   "metadata": {},
   "outputs": [
    {
     "name": "stdout",
     "output_type": "stream",
     "text": [
      "numbers are :  12\n"
     ]
    }
   ],
   "source": [
    "o.show_numbers()"
   ]
  },
  {
   "cell_type": "raw",
   "id": "8b7ba533",
   "metadata": {},
   "source": [
    "class A ----> class B == single inheritance \n",
    "so that not to create again again."
   ]
  },
  {
   "cell_type": "code",
   "execution_count": 47,
   "id": "37abac3f",
   "metadata": {},
   "outputs": [],
   "source": [
    "class Student_info():\n",
    "    def __init__(self,name2,standard,birth_date,address):\n",
    "        self.name2=name2\n",
    "        self.standard=standard\n",
    "      #  self.blood_group=blood_group\n",
    "        self.birth_date=birth_date\n",
    "        self.address=address\n",
    "    def info(self):\n",
    "        print(\"name of the student\",self.name2)\n",
    "        print(\"standard of the student\",self.standard)\n",
    "        #print(\"blood group of the student\",self.blood_group)\n",
    "        print(\"DOB of student\",self.birth_date)\n",
    "        print(\"Address of the student\",self.address)\n",
    "    \n",
    "    "
   ]
  },
  {
   "cell_type": "code",
   "execution_count": 48,
   "id": "11d7d438",
   "metadata": {},
   "outputs": [],
   "source": [
    "s=Student_info(\"jyothi\",\"3rd\",\"298\",\"XYZ\")"
   ]
  },
  {
   "cell_type": "code",
   "execution_count": 49,
   "id": "9e44f5c7",
   "metadata": {},
   "outputs": [
    {
     "name": "stdout",
     "output_type": "stream",
     "text": [
      "name of the student jyothi\n",
      "standard of the student 3rd\n",
      "DOB of student 298\n",
      "Address of the student XYZ\n"
     ]
    }
   ],
   "source": [
    "s.info()"
   ]
  },
  {
   "cell_type": "code",
   "execution_count": 50,
   "id": "78a4a118",
   "metadata": {},
   "outputs": [],
   "source": [
    "class Student(Student_info): #\n",
    "    \"inheritence of class\"   \n",
    "    def __init__(self,name2,standard,birth_date,address,blood_group):\n",
    "        \"new data blood group of student\"\n",
    "        Student_info.__init__(self,name2,standard,birth_date,address)\n",
    "        self.blood_group=blood_group\n",
    "    def info(self):\n",
    "        Student_info.info(self)\n",
    "        print(\"blood group of the student\",self.blood_group)"
   ]
  },
  {
   "cell_type": "code",
   "execution_count": 51,
   "id": "9807dce6",
   "metadata": {},
   "outputs": [],
   "source": [
    "x=Student(\"jyothi\",\"3rd\",\"298\",\"XYZ\",\"AB\")\n"
   ]
  },
  {
   "cell_type": "code",
   "execution_count": 52,
   "id": "953c030b",
   "metadata": {},
   "outputs": [
    {
     "name": "stdout",
     "output_type": "stream",
     "text": [
      "name of the student jyothi\n",
      "standard of the student 3rd\n",
      "DOB of student 298\n",
      "Address of the student XYZ\n",
      "blood group of the student AB\n"
     ]
    }
   ],
   "source": [
    "x.info()"
   ]
  },
  {
   "cell_type": "raw",
   "id": "882463b8",
   "metadata": {},
   "source": [
    "2.Multilevel plimorphism"
   ]
  },
  {
   "cell_type": "raw",
   "id": "b4f79692",
   "metadata": {},
   "source": [
    "class A--> class B-->class c"
   ]
  },
  {
   "cell_type": "code",
   "execution_count": 53,
   "id": "d1e9cd76",
   "metadata": {},
   "outputs": [],
   "source": [
    "class Subjects(Student):\n",
    "    def __init__(self,name2,standard,birth_date,address,blood_group,subjects):\n",
    "        Student_info.__init__(self,name2,standard,birth_date,address)\n",
    "        self.subjects=subjects\n",
    "    def show_subjects(self):\n",
    "        Student.info(self)\n",
    "        print(\"Subjects of the student are: \",self.subjects)\n",
    "        \n"
   ]
  },
  {
   "cell_type": "code",
   "execution_count": 54,
   "id": "a9eb9a7d",
   "metadata": {},
   "outputs": [],
   "source": [
    "y=Subjects(\"jyothi\",\"3rd\",\"298\",\"XYZ\",\"AB\",\"arts\")"
   ]
  },
  {
   "cell_type": "code",
   "execution_count": 55,
   "id": "add90703",
   "metadata": {},
   "outputs": [
    {
     "data": {
      "text/plain": [
       "'arts'"
      ]
     },
     "execution_count": 55,
     "metadata": {},
     "output_type": "execute_result"
    }
   ],
   "source": [
    "y.subjects"
   ]
  },
  {
   "cell_type": "code",
   "execution_count": 56,
   "id": "68b772d1",
   "metadata": {},
   "outputs": [
    {
     "data": {
      "text/plain": [
       "'3rd'"
      ]
     },
     "execution_count": 56,
     "metadata": {},
     "output_type": "execute_result"
    }
   ],
   "source": [
    "y.standard"
   ]
  },
  {
   "cell_type": "code",
   "execution_count": 57,
   "id": "f1a954f4",
   "metadata": {},
   "outputs": [
    {
     "data": {
      "text/plain": [
       "'298'"
      ]
     },
     "execution_count": 57,
     "metadata": {},
     "output_type": "execute_result"
    }
   ],
   "source": [
    "y.birth_date"
   ]
  },
  {
   "cell_type": "raw",
   "id": "92f77004",
   "metadata": {},
   "source": [
    "3.Multiple Inheritance\n"
   ]
  },
  {
   "cell_type": "raw",
   "id": "87db66b7",
   "metadata": {},
   "source": [
    "A+B --> C"
   ]
  },
  {
   "cell_type": "code",
   "execution_count": 58,
   "id": "7bb55082",
   "metadata": {},
   "outputs": [],
   "source": [
    "class Positive_numbers:\n",
    "    def __init__(self,positive_integers):\n",
    "        self.positive_integers=positive_integers\n",
    "    def info(self):\n",
    "        print(\"positives numbers are: \",self.positive_integers)"
   ]
  },
  {
   "cell_type": "code",
   "execution_count": 59,
   "id": "0dad1a82",
   "metadata": {},
   "outputs": [],
   "source": [
    "class Negative_numbers:\n",
    "    def __init__(self,negative_integers):\n",
    "        self.negative_integers=negative_integers\n",
    "    def info(self):\n",
    "        print(\"negative numbers are: \",self.negative_integers)"
   ]
  },
  {
   "cell_type": "code",
   "execution_count": 60,
   "id": "e979aebe",
   "metadata": {},
   "outputs": [],
   "source": [
    "class Integers(Positive_numbers,Negative_numbers):\n",
    "    def __init__(self,positive_integers,negative_integers,zero):\n",
    "        Positive_numbers.__init__(self,positive_integers)\n",
    "        Negative_numbers.__init__(self,negative_integers)\n",
    "        self.zero=zero\n",
    "    def info(self):\n",
    "        Positive_numbers.info(self)\n",
    "        Negative_numbers.info(self)\n",
    "        print(self.zero,\"is also a integer\")\n",
    "        print(\"set of intergers is \",self.zero,self.positive_integers,self.negative_integers)\n",
    "              "
   ]
  },
  {
   "cell_type": "code",
   "execution_count": 61,
   "id": "2cebef40",
   "metadata": {},
   "outputs": [],
   "source": [
    "i=Integers(2,-2,0)"
   ]
  },
  {
   "cell_type": "code",
   "execution_count": 62,
   "id": "421af021",
   "metadata": {},
   "outputs": [
    {
     "name": "stdout",
     "output_type": "stream",
     "text": [
      "positives numbers are:  2\n",
      "negative numbers are:  -2\n",
      "0 is also a integer\n",
      "set of intergers is  0 2 -2\n"
     ]
    }
   ],
   "source": [
    "i.info()"
   ]
  },
  {
   "cell_type": "raw",
   "id": "810450b8",
   "metadata": {},
   "source": [
    "==EXAMPLE OF multiple polymorphism:"
   ]
  },
  {
   "cell_type": "code",
   "execution_count": 167,
   "id": "fc8df73f",
   "metadata": {},
   "outputs": [],
   "source": [
    "class Father:\n",
    "    def __init__(self,eyes,hair):\n",
    "        self.eyes=eyes\n",
    "        self.hair=hair\n",
    "    def display(self):\n",
    "        print(\"colour of\",self.eyes,\"brown of father\")\n",
    "        print(\"texture of\",self.hair,\"thin and silky\")\n",
    "class Mother:\n",
    "    def __init__(self,height,nature):\n",
    "        self.height=height\n",
    "        self.nature=nature\n",
    "    def dispaly(self):\n",
    "        print(self.height,\"of mother is tall\")\n",
    "        print(self.nature,\"of mother is good\")\n",
    "class Child(Father,Mother):\n",
    "    def __init__(self,eyes,hair,height,nature,weight):\n",
    "        Father.__init__(self,eyes,hair)\n",
    "        Mother.__init__(self,height,nature)\n",
    "        self.weight=weight\n",
    "    def display(self):\n",
    "        Father.display(self)\n",
    "        Mother.display(self)\n",
    "        print(self.weight,\"of the child is normal\")\n",
    "        print(self.nature,\"of the child is cranky\")\n",
    "        \n",
    "        "
   ]
  },
  {
   "cell_type": "code",
   "execution_count": 171,
   "id": "2cf5fc58",
   "metadata": {},
   "outputs": [],
   "source": [
    "c=Child(\"eyes\",\"hair\",\"height\",\"nature\",\"weight\")"
   ]
  },
  {
   "cell_type": "code",
   "execution_count": 172,
   "id": "e46958c1",
   "metadata": {},
   "outputs": [
    {
     "name": "stdout",
     "output_type": "stream",
     "text": [
      "height of mother is tall\n",
      "nature of mother is good\n"
     ]
    }
   ],
   "source": [
    "c.dispaly()"
   ]
  },
  {
   "cell_type": "code",
   "execution_count": 173,
   "id": "276d018b",
   "metadata": {},
   "outputs": [
    {
     "name": "stdout",
     "output_type": "stream",
     "text": [
      "colour of eyes brown of father\n",
      "texture of hair thin and silky\n"
     ]
    },
    {
     "ename": "AttributeError",
     "evalue": "type object 'Mother' has no attribute 'display'",
     "output_type": "error",
     "traceback": [
      "\u001b[1;31m---------------------------------------------------------------------------\u001b[0m",
      "\u001b[1;31mAttributeError\u001b[0m                            Traceback (most recent call last)",
      "Input \u001b[1;32mIn [173]\u001b[0m, in \u001b[0;36m<cell line: 1>\u001b[1;34m()\u001b[0m\n\u001b[1;32m----> 1\u001b[0m \u001b[43mc\u001b[49m\u001b[38;5;241;43m.\u001b[39;49m\u001b[43mdisplay\u001b[49m\u001b[43m(\u001b[49m\u001b[43m)\u001b[49m\n",
      "Input \u001b[1;32mIn [167]\u001b[0m, in \u001b[0;36mChild.display\u001b[1;34m(self)\u001b[0m\n\u001b[0;32m     20\u001b[0m \u001b[38;5;28;01mdef\u001b[39;00m \u001b[38;5;21mdisplay\u001b[39m(\u001b[38;5;28mself\u001b[39m):\n\u001b[0;32m     21\u001b[0m     Father\u001b[38;5;241m.\u001b[39mdisplay(\u001b[38;5;28mself\u001b[39m)\n\u001b[1;32m---> 22\u001b[0m     \u001b[43mMother\u001b[49m\u001b[38;5;241;43m.\u001b[39;49m\u001b[43mdisplay\u001b[49m(\u001b[38;5;28mself\u001b[39m)\n\u001b[0;32m     23\u001b[0m     \u001b[38;5;28mprint\u001b[39m(\u001b[38;5;28mself\u001b[39m\u001b[38;5;241m.\u001b[39mweight,\u001b[38;5;124m\"\u001b[39m\u001b[38;5;124mof the child is normal\u001b[39m\u001b[38;5;124m\"\u001b[39m)\n\u001b[0;32m     24\u001b[0m     \u001b[38;5;28mprint\u001b[39m(\u001b[38;5;28mself\u001b[39m\u001b[38;5;241m.\u001b[39mnature,\u001b[38;5;124m\"\u001b[39m\u001b[38;5;124mof the child is cranky\u001b[39m\u001b[38;5;124m\"\u001b[39m)\n",
      "\u001b[1;31mAttributeError\u001b[0m: type object 'Mother' has no attribute 'display'"
     ]
    }
   ],
   "source": [
    "c.display()"
   ]
  },
  {
   "cell_type": "raw",
   "id": "7b249577",
   "metadata": {},
   "source": [
    "3.Encapsulation inheritence\n",
    "private vairables used with__a double underscore"
   ]
  },
  {
   "cell_type": "raw",
   "id": "ae8186e2",
   "metadata": {},
   "source": [
    "Two types of vairable public and private:\n",
    "    "
   ]
  },
  {
   "cell_type": "code",
   "execution_count": 63,
   "id": "47ba71d1",
   "metadata": {},
   "outputs": [],
   "source": [
    "class Encap:\n",
    "    def __init__(self,x):\n",
    "        #self.x=x # here x is public vairable\n",
    "        self.__x=x # double underscore to make private\n",
    "    def display(self):\n",
    "        print(\"value of x is \",self.__x)\n",
    "        print(\"ID of x is \",id(self.__x))       "
   ]
  },
  {
   "cell_type": "code",
   "execution_count": 64,
   "id": "d324c8cd",
   "metadata": {},
   "outputs": [
    {
     "name": "stdout",
     "output_type": "stream",
     "text": [
      "value of x is  25\n",
      "ID of x is  2505529715760\n"
     ]
    }
   ],
   "source": [
    "e=Encap(25)\n",
    "e.display()"
   ]
  },
  {
   "cell_type": "code",
   "execution_count": 65,
   "id": "c7bdf1af",
   "metadata": {},
   "outputs": [
    {
     "name": "stdout",
     "output_type": "stream",
     "text": [
      "value of x is  25\n",
      "ID of x is  2505529715760\n"
     ]
    }
   ],
   "source": [
    "e.display()"
   ]
  },
  {
   "cell_type": "code",
   "execution_count": 66,
   "id": "f74338dd",
   "metadata": {},
   "outputs": [
    {
     "ename": "AttributeError",
     "evalue": "'Encap' object has no attribute 'x'",
     "output_type": "error",
     "traceback": [
      "\u001b[1;31m---------------------------------------------------------------------------\u001b[0m",
      "\u001b[1;31mAttributeError\u001b[0m                            Traceback (most recent call last)",
      "Input \u001b[1;32mIn [66]\u001b[0m, in \u001b[0;36m<cell line: 1>\u001b[1;34m()\u001b[0m\n\u001b[1;32m----> 1\u001b[0m \u001b[43me\u001b[49m\u001b[38;5;241;43m.\u001b[39;49m\u001b[43mx\u001b[49m\n",
      "\u001b[1;31mAttributeError\u001b[0m: 'Encap' object has no attribute 'x'"
     ]
    }
   ],
   "source": [
    "e.x"
   ]
  },
  {
   "cell_type": "code",
   "execution_count": 67,
   "id": "ba5119d2",
   "metadata": {},
   "outputs": [],
   "source": [
    "e.x=53 # here tried to change the value of x but could not change as __x is private vairable."
   ]
  },
  {
   "cell_type": "code",
   "execution_count": 68,
   "id": "1f4f149b",
   "metadata": {},
   "outputs": [
    {
     "name": "stdout",
     "output_type": "stream",
     "text": [
      "value of x is  25\n",
      "ID of x is  2505529715760\n"
     ]
    }
   ],
   "source": [
    "e.display()"
   ]
  },
  {
   "cell_type": "raw",
   "id": "8faf479b",
   "metadata": {},
   "source": [
    "--EXAMPLE of encapsulation\n",
    "try with age also"
   ]
  },
  {
   "cell_type": "code",
   "execution_count": 184,
   "id": "07fa5386",
   "metadata": {},
   "outputs": [],
   "source": [
    "class Bank:\n",
    "    def __init__(self,name,acc_no,balance):\n",
    "        self.name=name\n",
    "        self.acc_no=acc_no\n",
    "        self.__balance=balance # private vairable\n",
    "    def data(self):\n",
    "        print(\"account holder name:\",self.name)\n",
    "        print(\"account name of\",self.name,\"is\",self.acc_no)\n",
    "        print(\"account balance is:\",self.__balance)\n",
    "    def deposite(self,amt):\n",
    "        self.__balance+=amt\n",
    "    def withdraw(self,amt):\n",
    "        self.__balance-=amt\n",
    "    def updated_balance(self):\n",
    "        print(\"current balance is : \",self.__balance)"
   ]
  },
  {
   "cell_type": "code",
   "execution_count": 185,
   "id": "87a8a87b",
   "metadata": {},
   "outputs": [],
   "source": [
    "x=Bank(\"jyothi\",\"154863\",50000)"
   ]
  },
  {
   "cell_type": "code",
   "execution_count": 186,
   "id": "6346b42c",
   "metadata": {},
   "outputs": [
    {
     "name": "stdout",
     "output_type": "stream",
     "text": [
      "current balance is :  50000\n"
     ]
    }
   ],
   "source": [
    "x.updated_balance()"
   ]
  },
  {
   "cell_type": "code",
   "execution_count": 190,
   "id": "6c90e203",
   "metadata": {
    "scrolled": true
   },
   "outputs": [],
   "source": [
    "x.deposite(250)"
   ]
  },
  {
   "cell_type": "code",
   "execution_count": 191,
   "id": "308e3c98",
   "metadata": {},
   "outputs": [
    {
     "name": "stdout",
     "output_type": "stream",
     "text": [
      "current balance is :  50750\n"
     ]
    }
   ],
   "source": [
    "x.updated_balance()"
   ]
  },
  {
   "cell_type": "code",
   "execution_count": 192,
   "id": "1570c02e",
   "metadata": {},
   "outputs": [],
   "source": [
    "x.withdraw(5000)"
   ]
  },
  {
   "cell_type": "code",
   "execution_count": 193,
   "id": "9f47aabe",
   "metadata": {},
   "outputs": [
    {
     "name": "stdout",
     "output_type": "stream",
     "text": [
      "current balance is :  45750\n"
     ]
    }
   ],
   "source": [
    "x.updated_balance()"
   ]
  },
  {
   "cell_type": "code",
   "execution_count": 194,
   "id": "172f6cce",
   "metadata": {},
   "outputs": [],
   "source": [
    "x.name=\"dkdk\""
   ]
  },
  {
   "cell_type": "code",
   "execution_count": 195,
   "id": "8ee81fef",
   "metadata": {},
   "outputs": [
    {
     "name": "stdout",
     "output_type": "stream",
     "text": [
      "account holder name: dkdk\n",
      "account name of dkdk is 154863\n",
      "account balance is: 45750\n"
     ]
    }
   ],
   "source": [
    "x.data()"
   ]
  },
  {
   "cell_type": "code",
   "execution_count": null,
   "id": "093a2354",
   "metadata": {},
   "outputs": [],
   "source": []
  },
  {
   "cell_type": "raw",
   "id": "827d57ab",
   "metadata": {},
   "source": [
    "4.Hierarchical Inheritance"
   ]
  },
  {
   "cell_type": "code",
   "execution_count": 127,
   "id": "471b89f2",
   "metadata": {},
   "outputs": [],
   "source": [
    "class Transport:\n",
    "    def __init__(self,vehicle):\n",
    "        self.vehicle=vehicle\n",
    "    def display(self):\n",
    "        print(\"modes and different\",self.vehicle,\"with examples\")\n",
    "class Mode1(Transport):\n",
    "    def __init__(self,vehicle,land):\n",
    "        Transport.__init__(self,vehicle)\n",
    "        self.land=land\n",
    "    def display(self):\n",
    "        #Transport.display(self)\n",
    "        print(self.land,\"is a mode of transport\")\n",
    "\n",
    "class Examples1(Mode1,Transport):\n",
    "    def __init__(self,vehicle,land,bus,car):\n",
    "        Transport.__init__(self,vehicle)\n",
    "        Mode1.__init__(self,vehicle,land)\n",
    "        self.bus=bus\n",
    "        self.car=car\n",
    "    def display(self):\n",
    "        Transport.display(self)\n",
    "        Mode1.display(self)\n",
    "        print(\"examples of land mode transport are\",self.bus ,\"and\", self.car)\n",
    "        \n",
    "class Mode2(Transport):\n",
    "    def __init__(self,vehicle,water):\n",
    "        Transport.__init__(self,vehicle)\n",
    "        self.water=water\n",
    "    def display(self):\n",
    "        #Transport.display(self)\n",
    "        print(self.water,\"is a mode of transport\")\n",
    "class Examples2(Mode2,Transport):\n",
    "    def __init__(self,vehicle,water,ship,boat):\n",
    "        #Transport.__init__(self,vehicle)\n",
    "        Mode2.__init__(self,vehicle,water)\n",
    "        self.ship=ship\n",
    "        self.boat=boat\n",
    "    def display(self):\n",
    "        Transport.display(self)\n",
    "        Mode2.display(self)\n",
    "        print(\"examples of WATER mode transport are\",self.ship ,\"and\", self.boat)\n",
    "        \n",
    "        \n",
    "class Mode3(Transport):\n",
    "    def __init__(self,vehicle,air):\n",
    "        Transport.__init__(self,vehicle)\n",
    "        self.air=air\n",
    "    def display(self):\n",
    "        #Transport.display(self)\n",
    "        print(self.air,\"is a mode of transport\")\n",
    "class Examples3(Mode3,Transport):\n",
    "    def __init__(self,vehicle,air,areoplane,helicopter):\n",
    "        Transport.__init__(self,vehicle)\n",
    "        Mode3.__init__(self,vehicle,air)\n",
    "        self.areoplane=areoplane\n",
    "        self.helicopter=helicopter\n",
    "    def display(self):\n",
    "        Transport.display(self)\n",
    "        Mode3.display(self)\n",
    "        print(\"examples of AIR mode transport are\",self.areoplane ,\"and\", self.helicopter)\n",
    "   "
   ]
  },
  {
   "cell_type": "code",
   "execution_count": 128,
   "id": "d17d2b9a",
   "metadata": {},
   "outputs": [],
   "source": [
    "e=Examples1(\"vehicle\",\"land\",\"car\",\"bus\") \n",
    "f=Examples2(\"vehicle\",\"water\",\"ship\",\"boat\") \n",
    "g=Examples3(\"vehicle\",\"air\",\"areoplane\",\"helicopter\")"
   ]
  },
  {
   "cell_type": "code",
   "execution_count": 129,
   "id": "7ca0423f",
   "metadata": {},
   "outputs": [
    {
     "name": "stdout",
     "output_type": "stream",
     "text": [
      "modes and different vehicle with examples\n",
      "land is a mode of transport\n",
      "examples of land mode transport are car and bus\n"
     ]
    }
   ],
   "source": [
    "e.display()"
   ]
  },
  {
   "cell_type": "code",
   "execution_count": 130,
   "id": "24162903",
   "metadata": {},
   "outputs": [
    {
     "name": "stdout",
     "output_type": "stream",
     "text": [
      "modes and different vehicle with examples\n",
      "water is a mode of transport\n",
      "examples of WATER mode transport are ship and boat\n"
     ]
    }
   ],
   "source": [
    "f.display()"
   ]
  },
  {
   "cell_type": "code",
   "execution_count": 131,
   "id": "b2da8da6",
   "metadata": {},
   "outputs": [
    {
     "name": "stdout",
     "output_type": "stream",
     "text": [
      "modes and different vehicle with examples\n",
      "air is a mode of transport\n",
      "examples of AIR mode transport are areoplane and helicopter\n"
     ]
    }
   ],
   "source": [
    "g.display()"
   ]
  },
  {
   "cell_type": "code",
   "execution_count": 144,
   "id": "e779a55c",
   "metadata": {},
   "outputs": [],
   "source": [
    "def abc(e,f,g):\n",
    "    display(e,f,g)"
   ]
  },
  {
   "cell_type": "code",
   "execution_count": 150,
   "id": "b8a106f0",
   "metadata": {},
   "outputs": [
    {
     "name": "stdout",
     "output_type": "stream",
     "text": [
      "modes and different vehicle with examples\n",
      "land is a mode of transport\n",
      "examples of land mode transport are car and bus\n",
      "modes and different vehicle with examples\n",
      "water is a mode of transport\n",
      "examples of WATER mode transport are ship and boat\n",
      "modes and different vehicle with examples\n",
      "air is a mode of transport\n",
      "examples of AIR mode transport are areoplane and helicopter\n"
     ]
    },
    {
     "data": {
      "text/plain": [
       "None"
      ]
     },
     "metadata": {},
     "output_type": "display_data"
    },
    {
     "data": {
      "text/plain": [
       "None"
      ]
     },
     "metadata": {},
     "output_type": "display_data"
    },
    {
     "data": {
      "text/plain": [
       "None"
      ]
     },
     "metadata": {},
     "output_type": "display_data"
    }
   ],
   "source": [
    "abc(e.display(),f.display(),g.display())"
   ]
  },
  {
   "cell_type": "code",
   "execution_count": null,
   "id": "27cb8dc7",
   "metadata": {},
   "outputs": [],
   "source": []
  },
  {
   "cell_type": "code",
   "execution_count": 1,
   "id": "d6dcf808",
   "metadata": {},
   "outputs": [],
   "source": [
    "class Transport():\n",
    "    def __init__(self,vehicle):\n",
    "        self.vehicle=vehicle\n",
    "    def display(self):\n",
    "        print(\"modes and different\",self.vehicle,\"with examples\")\n",
    "class Mode1(Transport):\n",
    "    def __init__(self,vehicle,land):\n",
    "        Transport.__init__(self,vehicle)\n",
    "        self.land=land\n",
    "    def display(self):\n",
    "        #Transport.display(self)\n",
    "        print(self.land,\"is a mode of transport\")\n",
    "class Examples1(Mode1,Transport):\n",
    "    def __init__(self,vehicle,land,bus,car):\n",
    "#         Transport.__init__(self,vehicle)\n",
    "        Mode1.__init__(self,vehicle,land)\n",
    "        self.bus=bus\n",
    "        self.car=car\n",
    "    def display(self):\n",
    "#         Transport.display(self)\n",
    "        Mode1.display(self)\n",
    "        print(\"examples of land mode transport are\", self.bus ,\"and\",self.car)\n"
   ]
  },
  {
   "cell_type": "code",
   "execution_count": 2,
   "id": "7a11e206",
   "metadata": {},
   "outputs": [],
   "source": [
    "t=Examples1(\"vehicle\",\"land\",\"car\",\"bus\")"
   ]
  },
  {
   "cell_type": "code",
   "execution_count": 105,
   "id": "7d953268",
   "metadata": {},
   "outputs": [
    {
     "name": "stdout",
     "output_type": "stream",
     "text": [
      "modes and different vehicle with examples\n",
      "land is a mode of transport\n",
      "examples of land mode transport are car and bus\n"
     ]
    }
   ],
   "source": [
    "t.display()"
   ]
  },
  {
   "cell_type": "raw",
   "id": "e19f5f1e",
   "metadata": {},
   "source": [
    " ---ABSTRACTION: used to hide any method"
   ]
  },
  {
   "cell_type": "code",
   "execution_count": 197,
   "id": "c61cfa52",
   "metadata": {},
   "outputs": [],
   "source": [
    "from abc import ABC"
   ]
  },
  {
   "cell_type": "code",
   "execution_count": 200,
   "id": "3ce23605",
   "metadata": {},
   "outputs": [],
   "source": [
    "class Vegetables(ABC):\n",
    "    def price(self):\n",
    "        pass"
   ]
  },
  {
   "cell_type": "code",
   "execution_count": 217,
   "id": "ce9f60a0",
   "metadata": {},
   "outputs": [],
   "source": [
    "class Potato(Vegetables):\n",
    "    'price of vegetables in japan'\n",
    "    def price(self):\n",
    "        print(\"PRICE of Potato Japan is 1.1$\")\n",
    "class Tomato(Vegetables):\n",
    "    def price(self):\n",
    "        print(\"Tomato is 1.5$\")\n",
    "class Cabbage(Vegetables):\n",
    "    def price(self):\n",
    "        print(\"Cabbage is 0.5$\")\n",
    "class Onion(Vegetables):\n",
    "    def price(self):\n",
    "        print(\"Onion is 2.2$\")\n",
    "        \n",
    "        \n",
    "        \n",
    "        "
   ]
  },
  {
   "cell_type": "code",
   "execution_count": 215,
   "id": "ba408b81",
   "metadata": {},
   "outputs": [],
   "source": [
    "p=Potato()"
   ]
  },
  {
   "cell_type": "code",
   "execution_count": 216,
   "id": "e1196921",
   "metadata": {},
   "outputs": [
    {
     "name": "stdout",
     "output_type": "stream",
     "text": [
      "PRICE of Potato Japan is 1.1$\n"
     ]
    }
   ],
   "source": [
    "p.price()"
   ]
  },
  {
   "cell_type": "code",
   "execution_count": null,
   "id": "79aae2db",
   "metadata": {},
   "outputs": [],
   "source": []
  },
  {
   "cell_type": "code",
   "execution_count": null,
   "id": "e23c079a",
   "metadata": {},
   "outputs": [],
   "source": []
  }
 ],
 "metadata": {
  "kernelspec": {
   "display_name": "Python 3 (ipykernel)",
   "language": "python",
   "name": "python3"
  },
  "language_info": {
   "codemirror_mode": {
    "name": "ipython",
    "version": 3
   },
   "file_extension": ".py",
   "mimetype": "text/x-python",
   "name": "python",
   "nbconvert_exporter": "python",
   "pygments_lexer": "ipython3",
   "version": "3.10.8"
  }
 },
 "nbformat": 4,
 "nbformat_minor": 5
}

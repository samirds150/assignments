{
 "cells": [
  {
   "cell_type": "raw",
   "id": "9b8d6c10",
   "metadata": {},
   "source": [
    "delete last element from the set"
   ]
  },
  {
   "cell_type": "code",
   "execution_count": 2,
   "id": "31397949",
   "metadata": {},
   "outputs": [],
   "source": [
    "x={1,'lol',265.2,101010,True,False}"
   ]
  },
  {
   "cell_type": "code",
   "execution_count": 3,
   "id": "ed6ab87a",
   "metadata": {},
   "outputs": [
    {
     "data": {
      "text/plain": [
       "{1, 101010, 265.2, False, 'lol'}"
      ]
     },
     "execution_count": 3,
     "metadata": {},
     "output_type": "execute_result"
    }
   ],
   "source": [
    "x"
   ]
  },
  {
   "cell_type": "code",
   "execution_count": 4,
   "id": "74dff02e",
   "metadata": {},
   "outputs": [
    {
     "ename": "KeyError",
     "evalue": "'False'",
     "output_type": "error",
     "traceback": [
      "\u001b[1;31m---------------------------------------------------------------------------\u001b[0m",
      "\u001b[1;31mKeyError\u001b[0m                                  Traceback (most recent call last)",
      "Input \u001b[1;32mIn [4]\u001b[0m, in \u001b[0;36m<cell line: 1>\u001b[1;34m()\u001b[0m\n\u001b[1;32m----> 1\u001b[0m \u001b[43mx\u001b[49m\u001b[38;5;241;43m.\u001b[39;49m\u001b[43mremove\u001b[49m\u001b[43m(\u001b[49m\u001b[38;5;124;43m'\u001b[39;49m\u001b[38;5;124;43mFalse\u001b[39;49m\u001b[38;5;124;43m'\u001b[39;49m\u001b[43m)\u001b[49m\n\u001b[0;32m      2\u001b[0m x\n",
      "\u001b[1;31mKeyError\u001b[0m: 'False'"
     ]
    }
   ],
   "source": [
    "x.remove('False')\n",
    "x"
   ]
  },
  {
   "cell_type": "code",
   "execution_count": 5,
   "id": "f8b4e6fe",
   "metadata": {},
   "outputs": [],
   "source": [
    "l=list(x)"
   ]
  },
  {
   "cell_type": "code",
   "execution_count": 6,
   "id": "f25eca82",
   "metadata": {},
   "outputs": [
    {
     "data": {
      "text/plain": [
       "[False, 1, 101010, 'lol', 265.2]"
      ]
     },
     "execution_count": 6,
     "metadata": {},
     "output_type": "execute_result"
    }
   ],
   "source": [
    "list(x)"
   ]
  },
  {
   "cell_type": "code",
   "execution_count": 7,
   "id": "a7eed800",
   "metadata": {},
   "outputs": [
    {
     "data": {
      "text/plain": [
       "265.2"
      ]
     },
     "execution_count": 7,
     "metadata": {},
     "output_type": "execute_result"
    }
   ],
   "source": [
    "l.pop()"
   ]
  },
  {
   "cell_type": "code",
   "execution_count": 8,
   "id": "54ebe64d",
   "metadata": {},
   "outputs": [],
   "source": [
    "m={1,2,222,593,87656,154,101}"
   ]
  },
  {
   "cell_type": "code",
   "execution_count": 9,
   "id": "4caa6a16",
   "metadata": {},
   "outputs": [
    {
     "data": {
      "text/plain": [
       "{1, 2, 101, 154, 222, 593, 87656}"
      ]
     },
     "execution_count": 9,
     "metadata": {},
     "output_type": "execute_result"
    }
   ],
   "source": [
    "m"
   ]
  },
  {
   "cell_type": "code",
   "execution_count": 10,
   "id": "a35927c4",
   "metadata": {},
   "outputs": [
    {
     "data": {
      "text/plain": [
       "[1, 2, 593, 101, 87656, 154, 222]"
      ]
     },
     "execution_count": 10,
     "metadata": {},
     "output_type": "execute_result"
    }
   ],
   "source": [
    "list(m)"
   ]
  },
  {
   "cell_type": "code",
   "execution_count": 11,
   "id": "0bc970ff",
   "metadata": {},
   "outputs": [
    {
     "data": {
      "text/plain": [
       "{1, 2, 101, 154, 222, 593, 87656}"
      ]
     },
     "execution_count": 11,
     "metadata": {},
     "output_type": "execute_result"
    }
   ],
   "source": [
    "m"
   ]
  },
  {
   "cell_type": "code",
   "execution_count": 12,
   "id": "604611a9",
   "metadata": {},
   "outputs": [
    {
     "data": {
      "text/plain": [
       "[1, 2, 593, 101, 87656, 154, 222]"
      ]
     },
     "execution_count": 12,
     "metadata": {},
     "output_type": "execute_result"
    }
   ],
   "source": [
    "list(m)"
   ]
  },
  {
   "cell_type": "code",
   "execution_count": 13,
   "id": "24eae659",
   "metadata": {},
   "outputs": [],
   "source": [
    "q=list(m)"
   ]
  },
  {
   "cell_type": "code",
   "execution_count": 14,
   "id": "34a34489",
   "metadata": {},
   "outputs": [
    {
     "data": {
      "text/plain": [
       "[1, 2, 593, 101, 87656, 154, 222]"
      ]
     },
     "execution_count": 14,
     "metadata": {},
     "output_type": "execute_result"
    }
   ],
   "source": [
    "q"
   ]
  },
  {
   "cell_type": "code",
   "execution_count": 15,
   "id": "1f3dd254",
   "metadata": {},
   "outputs": [
    {
     "data": {
      "text/plain": [
       "222"
      ]
     },
     "execution_count": 15,
     "metadata": {},
     "output_type": "execute_result"
    }
   ],
   "source": [
    "q.pop()"
   ]
  },
  {
   "cell_type": "code",
   "execution_count": 16,
   "id": "c92e0291",
   "metadata": {},
   "outputs": [
    {
     "data": {
      "text/plain": [
       "[1, 2, 593, 101, 87656, 154]"
      ]
     },
     "execution_count": 16,
     "metadata": {},
     "output_type": "execute_result"
    }
   ],
   "source": [
    "q"
   ]
  },
  {
   "cell_type": "markdown",
   "id": "840c6dad",
   "metadata": {},
   "source": [
    "# CONDISTIONAL STATEMENT"
   ]
  },
  {
   "cell_type": "raw",
   "id": "40d8f2d3",
   "metadata": {},
   "source": [
    "1 condition use if\n",
    "2 condition use if else\n",
    "3 condition use if elif else\n",
    "## Indentation is very important in python\n",
    "\n"
   ]
  },
  {
   "cell_type": "raw",
   "id": "825f1eb9",
   "metadata": {},
   "source": [
    "To check the number is positive or not or zero"
   ]
  },
  {
   "cell_type": "code",
   "execution_count": 17,
   "id": "e7cb68ba",
   "metadata": {},
   "outputs": [
    {
     "name": "stdout",
     "output_type": "stream",
     "text": [
      "a is a positive number\n"
     ]
    }
   ],
   "source": [
    "#one condition\n",
    "a=256\n",
    "if a>0:\n",
    "    print('a is a positive number')"
   ]
  },
  {
   "cell_type": "code",
   "execution_count": 18,
   "id": "54673458",
   "metadata": {},
   "outputs": [
    {
     "name": "stdout",
     "output_type": "stream",
     "text": [
      "else a is a negavtive number\n"
     ]
    }
   ],
   "source": [
    "#Two condition\n",
    "a=-12\n",
    "if a>0:\n",
    "    print('a is a positive number')\n",
    "else:\n",
    "    print('else a is a negavtive number')\n",
    "    "
   ]
  },
  {
   "cell_type": "code",
   "execution_count": 19,
   "id": "7b0ed7e9",
   "metadata": {},
   "outputs": [
    {
     "name": "stdout",
     "output_type": "stream",
     "text": [
      "a is a positive number\n"
     ]
    }
   ],
   "source": [
    "#three condition\n",
    "a=100\n",
    "if a>0:\n",
    "    print('a is a positive number')\n",
    "elif a==0:   # condition is imp for elif\n",
    "        print('a is zero')\n",
    "else:\n",
    "    print('else a is a negative number')\n",
    "    "
   ]
  },
  {
   "cell_type": "code",
   "execution_count": 20,
   "id": "fba11de9",
   "metadata": {},
   "outputs": [
    {
     "name": "stdout",
     "output_type": "stream",
     "text": [
      "a is zero\n"
     ]
    }
   ],
   "source": [
    "a=0\n",
    "if a>0:\n",
    "    print('a is a positive number')\n",
    "elif a==0:   # condition is imp for elif\n",
    "        print('a is zero')\n",
    "else:\n",
    "    print('else a is a negative number')\n",
    "    "
   ]
  },
  {
   "cell_type": "code",
   "execution_count": 21,
   "id": "2ecab55b",
   "metadata": {},
   "outputs": [
    {
     "name": "stdout",
     "output_type": "stream",
     "text": [
      "else a is a negative number\n"
     ]
    }
   ],
   "source": [
    "a=-123\n",
    "if a>0:\n",
    "    print('a is a positive number')\n",
    "elif a==0:   # condition is imp for elif\n",
    "        print('a is zero')\n",
    "else:\n",
    "    print('else a is a negative number')\n",
    "    "
   ]
  },
  {
   "cell_type": "code",
   "execution_count": 22,
   "id": "e4439f3d",
   "metadata": {},
   "outputs": [
    {
     "name": "stdout",
     "output_type": "stream",
     "text": [
      "a is a negative number\n"
     ]
    }
   ],
   "source": [
    "a=-1222\n",
    "if a>0:\n",
    "    print('a is a positive number')\n",
    "elif a==0:   # condition is imp for elif\n",
    "        print('a is zero')\n",
    "elif a==12:\n",
    "    print('a is twelve')\n",
    "else:\n",
    "    print('a is a negative number')\n",
    "    "
   ]
  },
  {
   "cell_type": "code",
   "execution_count": 23,
   "id": "32f4d45b",
   "metadata": {},
   "outputs": [
    {
     "name": "stdout",
     "output_type": "stream",
     "text": [
      "Enter the number:  \n"
     ]
    },
    {
     "ename": "ValueError",
     "evalue": "invalid literal for int() with base 10: ''",
     "output_type": "error",
     "traceback": [
      "\u001b[1;31m---------------------------------------------------------------------------\u001b[0m",
      "\u001b[1;31mValueError\u001b[0m                                Traceback (most recent call last)",
      "Input \u001b[1;32mIn [23]\u001b[0m, in \u001b[0;36m<cell line: 1>\u001b[1;34m()\u001b[0m\n\u001b[1;32m----> 1\u001b[0m a\u001b[38;5;241m=\u001b[39m\u001b[38;5;28;43mint\u001b[39;49m\u001b[43m(\u001b[49m\u001b[38;5;28;43minput\u001b[39;49m\u001b[43m(\u001b[49m\u001b[38;5;124;43m\"\u001b[39;49m\u001b[38;5;124;43mEnter the number:  \u001b[39;49m\u001b[38;5;124;43m\"\u001b[39;49m\u001b[43m)\u001b[49m\u001b[43m)\u001b[49m  \u001b[38;5;66;03m#here input function takes string as default\u001b[39;00m\n\u001b[0;32m      2\u001b[0m \u001b[38;5;28;01mif\u001b[39;00m a\u001b[38;5;241m>\u001b[39m\u001b[38;5;241m0\u001b[39m:\n\u001b[0;32m      3\u001b[0m     \u001b[38;5;28mprint\u001b[39m(\u001b[38;5;124m'\u001b[39m\u001b[38;5;124ma is a positive number\u001b[39m\u001b[38;5;124m'\u001b[39m)\n",
      "\u001b[1;31mValueError\u001b[0m: invalid literal for int() with base 10: ''"
     ]
    }
   ],
   "source": [
    "a=int(input(\"Enter the number:  \"))  #here input function takes string as default\n",
    "if a>0:\n",
    "    print('a is a positive number')\n",
    "elif a==0:   # condition is imp for elif\n",
    "        print('a is zero')\n",
    "else:\n",
    "    print('else a is a negavtive number')\n",
    "    "
   ]
  },
  {
   "cell_type": "code",
   "execution_count": 24,
   "id": "9d5f4de3",
   "metadata": {},
   "outputs": [
    {
     "name": "stdout",
     "output_type": "stream",
     "text": [
      "Enter the number:  \n"
     ]
    },
    {
     "ename": "ValueError",
     "evalue": "invalid literal for int() with base 10: ''",
     "output_type": "error",
     "traceback": [
      "\u001b[1;31m---------------------------------------------------------------------------\u001b[0m",
      "\u001b[1;31mValueError\u001b[0m                                Traceback (most recent call last)",
      "Input \u001b[1;32mIn [24]\u001b[0m, in \u001b[0;36m<cell line: 1>\u001b[1;34m()\u001b[0m\n\u001b[1;32m----> 1\u001b[0m a\u001b[38;5;241m=\u001b[39m\u001b[38;5;28;43mint\u001b[39;49m\u001b[43m(\u001b[49m\u001b[38;5;28;43minput\u001b[39;49m\u001b[43m(\u001b[49m\u001b[38;5;124;43m\"\u001b[39;49m\u001b[38;5;124;43mEnter the number:  \u001b[39;49m\u001b[38;5;124;43m\"\u001b[39;49m\u001b[43m)\u001b[49m\u001b[43m)\u001b[49m  \u001b[38;5;66;03m#here input function takes string as default\u001b[39;00m\n\u001b[0;32m      2\u001b[0m \u001b[38;5;28;01mif\u001b[39;00m a\u001b[38;5;241m>\u001b[39m\u001b[38;5;241m0\u001b[39m:\n\u001b[0;32m      3\u001b[0m     \u001b[38;5;28mprint\u001b[39m(\u001b[38;5;124m'\u001b[39m\u001b[38;5;124ma is a positive number\u001b[39m\u001b[38;5;124m'\u001b[39m)\n",
      "\u001b[1;31mValueError\u001b[0m: invalid literal for int() with base 10: ''"
     ]
    }
   ],
   "source": [
    "a=int(input(\"Enter the number:  \"))  #here input function takes string as default\n",
    "if a>0:\n",
    "    print('a is a positive number')\n",
    "elif a==0:   # condition is imp for elif\n",
    "        print('a is zero')\n",
    "else:\n",
    "    print('else a is a negavtive number')\n",
    "    "
   ]
  },
  {
   "cell_type": "code",
   "execution_count": 25,
   "id": "0a37c17e",
   "metadata": {},
   "outputs": [
    {
     "data": {
      "text/plain": [
       "{1, 101010, 265.2, False, 'lol'}"
      ]
     },
     "execution_count": 25,
     "metadata": {},
     "output_type": "execute_result"
    }
   ],
   "source": [
    "x"
   ]
  },
  {
   "cell_type": "code",
   "execution_count": 26,
   "id": "73daeea6",
   "metadata": {},
   "outputs": [
    {
     "data": {
      "text/plain": [
       "{1, 2, 101, 154, 222, 593, 87656}"
      ]
     },
     "execution_count": 26,
     "metadata": {},
     "output_type": "execute_result"
    }
   ],
   "source": [
    "m"
   ]
  },
  {
   "cell_type": "code",
   "execution_count": null,
   "id": "1399bf8e",
   "metadata": {},
   "outputs": [],
   "source": []
  },
  {
   "cell_type": "code",
   "execution_count": null,
   "id": "093224c0",
   "metadata": {},
   "outputs": [],
   "source": []
  }
 ],
 "metadata": {
  "kernelspec": {
   "display_name": "Python 3 (ipykernel)",
   "language": "python",
   "name": "python3"
  },
  "language_info": {
   "codemirror_mode": {
    "name": "ipython",
    "version": 3
   },
   "file_extension": ".py",
   "mimetype": "text/x-python",
   "name": "python",
   "nbconvert_exporter": "python",
   "pygments_lexer": "ipython3",
   "version": "3.10.8"
  }
 },
 "nbformat": 4,
 "nbformat_minor": 5
}

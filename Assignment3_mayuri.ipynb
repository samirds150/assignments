{
 "cells": [
  {
   "cell_type": "raw",
   "id": "303cd80f",
   "metadata": {},
   "source": [
    "1.Why are functions advantageous to have in your programs?\n",
    "Ans=\n",
    "Functions reduce the neeed for duplicate code.\n",
    "This makes programs shorter,easier to read,& easier to update."
   ]
  },
  {
   "cell_type": "raw",
   "id": "b592cd61",
   "metadata": {},
   "source": [
    "2. When does the function code in function run:when it's specified or when it's called?\n",
    "Ans=\n",
    "When a function is \"called\" the program \"leaves\" the current section of code and begins to execute the first line inside\n",
    "the function."
   ]
  },
  {
   "cell_type": "raw",
   "id": "ef5425f2",
   "metadata": {},
   "source": [
    "3.What statement creates a function?\n",
    "Ans=\n",
    "The \"def:\" keyword is a statement for defining a function."
   ]
  },
  {
   "cell_type": "raw",
   "id": "c2ea2640",
   "metadata": {},
   "source": [
    "4.What is the difference between a function and a function call?\n",
    "Ans=\n",
    "A funtion is a block of code that does a particular operation and returns a result.It usually accepts inputs as parameters and \n",
    "returns a result.The parameters are not mandatory.\n",
    "A function call is the code used to pass control to a function."
   ]
  },
  {
   "cell_type": "raw",
   "id": "2b027552",
   "metadata": {},
   "source": [
    "5.How many global scope are there in a python program? how many local scopes.\n",
    "Ans=\n",
    "There is only one global python scope per program execution. This scope remains in existence until the program terminates and \n",
    "all its names are forgotten.\n",
    "If it can't find the name, then you'll get an error.At any given time during execution, you'll have at most four active python \n",
    "scopes-local,enclosing,gobal,and built-in-depending on where you are in the code."
   ]
  },
  {
   "cell_type": "raw",
   "id": "0bc398da",
   "metadata": {},
   "source": [
    "6. What happens to variables in a local scope when the function call return?\n",
    "Ans=\n",
    "When the execution of the function terminates (returns), the local variables are destroyed. \n",
    "Codelens helps you visualize this because the local variables disappear after the function returns."
   ]
  },
  {
   "cell_type": "raw",
   "id": "8ab4b255",
   "metadata": {},
   "source": [
    "7.What is the concept of a return value? Is it possible to have a return value in an expression?\n",
    "Ans=\n",
    "A return value that function returns to the calling script or function when it completes its task."
   ]
  },
  {
   "cell_type": "raw",
   "id": "e62b738e",
   "metadata": {},
   "source": [
    "8.If a function does not have a return statement, what is the return value of a call to that function?\n",
    "Ans=\n",
    "If no return statement appears in a function definition, control automatically returns to the calling function after the last\n",
    "statement of the called function is executed.In this case, the return value of the called function is undefined."
   ]
  },
  {
   "cell_type": "raw",
   "id": "b5631665",
   "metadata": {},
   "source": [
    "9.How do you make a function variable refer to the global variable?\n",
    "Ans=\n",
    "If you want to refer to a global variable in a function, you can use the global keyword to declare which variables are global."
   ]
  },
  {
   "cell_type": "raw",
   "id": "990cfda2",
   "metadata": {},
   "source": [
    "10.What is the datatype of None?\n",
    "Ans=\n",
    "The None keyword is used to define a null value. None is not the same as 0, False, or an empty string. \n",
    "None is a data type of its own (NoneType) and only None can be None."
   ]
  },
  {
   "cell_type": "raw",
   "id": "632051b6",
   "metadata": {},
   "source": [
    "11.What does the sentence import areallyourpetsnamederic do?\n",
    "Ans=\n",
    "That import statement imports a module named areallyourpetsnamederic."
   ]
  },
  {
   "cell_type": "code",
   "execution_count": null,
   "id": "1f5d9545",
   "metadata": {},
   "outputs": [],
   "source": [
    "12.If you had a bacon() feature in a spam module, what would you call it after importing spam?\n",
    "Ans=\n",
    "This function can be called with spam. bacon()."
   ]
  }
 ],
 "metadata": {
  "kernelspec": {
   "display_name": "Python 3 (ipykernel)",
   "language": "python",
   "name": "python3"
  },
  "language_info": {
   "codemirror_mode": {
    "name": "ipython",
    "version": 3
   },
   "file_extension": ".py",
   "mimetype": "text/x-python",
   "name": "python",
   "nbconvert_exporter": "python",
   "pygments_lexer": "ipython3",
   "version": "3.9.12"
  }
 },
 "nbformat": 4,
 "nbformat_minor": 5
}

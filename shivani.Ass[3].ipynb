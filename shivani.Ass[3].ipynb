{
 "cells": [
  {
   "cell_type": "markdown",
   "id": "96f4d042",
   "metadata": {},
   "source": [
    "# assignment[3]"
   ]
  },
  {
   "cell_type": "raw",
   "id": "969ed52a",
   "metadata": {},
   "source": [
    "1. Why are functions advantageous to have in your programs?\n",
    "\n",
    "ans:\n",
    "   Functions reduce the need for duplicate code. This makes programs shorter, easier to read, and easier to update."
   ]
  },
  {
   "cell_type": "raw",
   "id": "797af34d",
   "metadata": {},
   "source": [
    "2.When does the code in a function run: when it's specified or when it's called?\n",
    " \n",
    "ans:\n",
    "  when it is called."
   ]
  },
  {
   "cell_type": "raw",
   "id": "bafbb011",
   "metadata": {},
   "source": [
    "3. What statement creates a function?\n",
    " ans:\n",
    " The “def” call creates the function object and assigns it to the name given.\n",
    " "
   ]
  },
  {
   "cell_type": "raw",
   "id": "4edc5dc6",
   "metadata": {},
   "source": [
    "4. What is the difference between a function and a function call?\n",
    "ans:\n",
    "Function\n",
    "A function is a block of code that does a particular operation and returns a result.\n",
    "\n",
    "function call\n",
    "A function call is the code used to pass control to a function.\n",
    "\n"
   ]
  },
  {
   "cell_type": "raw",
   "id": "10d9705b",
   "metadata": {},
   "source": [
    "5. How many global scopes are there in a Python program? How many local scopes ?\n",
    "ans:\n",
    "there is only one global scope in python programm.\n",
    "\n"
   ]
  },
  {
   "cell_type": "raw",
   "id": "6db052b5",
   "metadata": {},
   "source": [
    "6. What happens to variables in a local scope when the function call returns?\n",
    "ans:\n",
    "\n",
    "When the execution of the function returns, the local variables are destroyed. Code helps to visualize this because the local variables disappear after the function returns."
   ]
  },
  {
   "cell_type": "raw",
   "id": "f068bc99",
   "metadata": {},
   "source": [
    "7.. What is the concept of a return value? Is it possible to have a return value in an expression ?\n",
    "ans:\n",
    "A return is a value that a function returns to the calling script or function when it completes its task.\n",
    "you can use that value in a math expression or any other kind of expression in which the value has a logical or coherent meaning"
   ]
  },
  {
   "cell_type": "raw",
   "id": "5a607c88",
   "metadata": {},
   "source": [
    "8. If a function does not have a return statement, what is the return value of a call to that function?\n",
    "ans:\n",
    "IF a function does not have a return statement,the return value of the called function is undefined.\n",
    "\n"
   ]
  },
  {
   "cell_type": "raw",
   "id": "a05bf2e3",
   "metadata": {},
   "source": [
    "9. How do you make a function variable refer to the global variable?\n",
    "ans:\n",
    "for this,we can use the global keyword to declare which variables are global."
   ]
  },
  {
   "cell_type": "raw",
   "id": "8742d207",
   "metadata": {},
   "source": [
    "10. What is the data type of None?\n",
    "ans:\n",
    "The None keyword is used to define a null value, or no value at all. None is not the same as 0, False, or an empty string. None is a data type of its own  and only None can be None."
   ]
  },
  {
   "cell_type": "raw",
   "id": "2057fac0",
   "metadata": {},
   "source": [
    "11. What does the sentence import areallyourpetsnamederic do?\n",
    "ans:\n",
    "    That import statement imports a module named areallyourpetsnamederic.\n",
    "     by the way,This isn't a real Python module."
   ]
  },
  {
   "cell_type": "raw",
   "id": "be739881",
   "metadata": {},
   "source": [
    "12. If you had a bacon() feature in a spam module, what would you call it after importing spam?\n",
    "ans:\n",
    "This function can be called with spam. bacon().\n"
   ]
  }
 ],
 "metadata": {
  "kernelspec": {
   "display_name": "Python 3 (ipykernel)",
   "language": "python",
   "name": "python3"
  },
  "language_info": {
   "codemirror_mode": {
    "name": "ipython",
    "version": 3
   },
   "file_extension": ".py",
   "mimetype": "text/x-python",
   "name": "python",
   "nbconvert_exporter": "python",
   "pygments_lexer": "ipython3",
   "version": "3.9.12"
  }
 },
 "nbformat": 4,
 "nbformat_minor": 5
}

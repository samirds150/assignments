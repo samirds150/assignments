{
 "cells": [
  {
   "cell_type": "markdown",
   "id": "25f7600f",
   "metadata": {},
   "source": [
    "# String Method "
   ]
  },
  {
   "cell_type": "code",
   "execution_count": 10,
   "id": "6abdd674",
   "metadata": {},
   "outputs": [],
   "source": [
    "name = \"python\""
   ]
  },
  {
   "cell_type": "code",
   "execution_count": 37,
   "id": "74aa4afd",
   "metadata": {},
   "outputs": [
    {
     "name": "stdout",
     "output_type": "stream",
     "text": [
      "python\n"
     ]
    }
   ],
   "source": [
    "def variable (name):\n",
    "    try:\n",
    "        print (name)\n",
    "    except exception as e:\n",
    "        print(e)\n",
    "variable (name)"
   ]
  },
  {
   "cell_type": "code",
   "execution_count": null,
   "id": "222d97be",
   "metadata": {},
   "outputs": [],
   "source": []
  },
  {
   "cell_type": "raw",
   "id": "e3f76bc3",
   "metadata": {},
   "source": [
    " # type : "
   ]
  },
  {
   "cell_type": "code",
   "execution_count": 38,
   "id": "54a62162",
   "metadata": {
    "scrolled": true
   },
   "outputs": [
    {
     "name": "stdout",
     "output_type": "stream",
     "text": [
      "<class 'str'>\n"
     ]
    }
   ],
   "source": [
    "print(type(name))"
   ]
  },
  {
   "cell_type": "code",
   "execution_count": 39,
   "id": "19a5cb1e",
   "metadata": {
    "scrolled": true
   },
   "outputs": [
    {
     "name": "stdout",
     "output_type": "stream",
     "text": [
      "<class 'str'>\n"
     ]
    }
   ],
   "source": [
    "def variable ():\n",
    "    try:\n",
    "        print(type(name)) \n",
    "    except exception as e:\n",
    "        print(e)\n",
    "variable (name)"
   ]
  },
  {
   "cell_type": "code",
   "execution_count": null,
   "id": "44c20b6b",
   "metadata": {},
   "outputs": [],
   "source": []
  },
  {
   "cell_type": "raw",
   "id": "1e220dce",
   "metadata": {},
   "source": [
    "# min : min() method return the lowest  value from the given itreable or multiple  argumennts."
   ]
  },
  {
   "cell_type": "code",
   "execution_count": 33,
   "id": "dc0304bf",
   "metadata": {},
   "outputs": [],
   "source": [
    "abc = ['def','ghi','opq']"
   ]
  },
  {
   "cell_type": "code",
   "execution_count": 34,
   "id": "d78f9cf3",
   "metadata": {},
   "outputs": [
    {
     "name": "stdout",
     "output_type": "stream",
     "text": [
      "def\n"
     ]
    }
   ],
   "source": [
    "print(min(abc))"
   ]
  },
  {
   "cell_type": "code",
   "execution_count": 35,
   "id": "73251551",
   "metadata": {},
   "outputs": [
    {
     "name": "stdout",
     "output_type": "stream",
     "text": [
      "def\n"
     ]
    }
   ],
   "source": [
    "def minimum(num):\n",
    "    try:\n",
    "        print(min(abc))\n",
    "    except Exception as e:\n",
    "            print(e)\n",
    "minimum(samir)\n"
   ]
  },
  {
   "cell_type": "code",
   "execution_count": 14,
   "id": "600b76c2",
   "metadata": {},
   "outputs": [],
   "source": [
    "book = \"thisisclass\""
   ]
  },
  {
   "cell_type": "code",
   "execution_count": 15,
   "id": "d7b5cefe",
   "metadata": {},
   "outputs": [
    {
     "name": "stdout",
     "output_type": "stream",
     "text": [
      "a\n"
     ]
    }
   ],
   "source": [
    "print(min(book))"
   ]
  },
  {
   "cell_type": "code",
   "execution_count": 16,
   "id": "d3269351",
   "metadata": {},
   "outputs": [
    {
     "name": "stdout",
     "output_type": "stream",
     "text": [
      "a\n"
     ]
    }
   ],
   "source": [
    " try:\n",
    "    print(min(book))\n",
    "except Exception as e:\n",
    "    print(e)\n",
    "\n",
    "\n",
    "    "
   ]
  },
  {
   "cell_type": "code",
   "execution_count": 17,
   "id": "4ff387f9",
   "metadata": {},
   "outputs": [
    {
     "name": "stdout",
     "output_type": "stream",
     "text": [
      "a\n"
     ]
    }
   ],
   "source": [
    "def minimum(num):\n",
    "    try:\n",
    "        print(min(book))\n",
    "    except Exception as e:\n",
    "            print(e)\n",
    "minimum(book)\n",
    "\n",
    "    "
   ]
  },
  {
   "cell_type": "code",
   "execution_count": null,
   "id": "f4501487",
   "metadata": {},
   "outputs": [],
   "source": []
  },
  {
   "cell_type": "raw",
   "id": "1e7eec33",
   "metadata": {},
   "source": [
    "# max : the max() method returns the largest value from the specified iterable or multiple arguments."
   ]
  },
  {
   "cell_type": "code",
   "execution_count": 36,
   "id": "09f61f86",
   "metadata": {},
   "outputs": [
    {
     "name": "stdout",
     "output_type": "stream",
     "text": [
      "science\n"
     ]
    }
   ],
   "source": [
    "self = ['data','science','class']\n",
    "print(max(self))"
   ]
  },
  {
   "cell_type": "code",
   "execution_count": 37,
   "id": "408e4902",
   "metadata": {},
   "outputs": [
    {
     "name": "stdout",
     "output_type": "stream",
     "text": [
      "science\n"
     ]
    }
   ],
   "source": [
    "def maximum(num):\n",
    "    try:\n",
    "        print(max(self))\n",
    "    except Exception as e:\n",
    "            print(e)\n",
    "maximum(self)\n",
    "\n",
    "    "
   ]
  },
  {
   "cell_type": "code",
   "execution_count": null,
   "id": "e3122187",
   "metadata": {},
   "outputs": [],
   "source": []
  },
  {
   "cell_type": "raw",
   "id": "4d77bc01",
   "metadata": {},
   "source": [
    "# len : the len() function returns the object. it returns total elements in an iterable or number of chars in a string. "
   ]
  },
  {
   "cell_type": "code",
   "execution_count": 40,
   "id": "c0b28397",
   "metadata": {},
   "outputs": [
    {
     "name": "stdout",
     "output_type": "stream",
     "text": [
      "6\n"
     ]
    }
   ],
   "source": [
    "print(len(name))"
   ]
  },
  {
   "cell_type": "code",
   "execution_count": null,
   "id": "e089339b",
   "metadata": {},
   "outputs": [],
   "source": []
  },
  {
   "cell_type": "code",
   "execution_count": 50,
   "id": "5cb6d34f",
   "metadata": {},
   "outputs": [
    {
     "name": "stdout",
     "output_type": "stream",
     "text": [
      "6\n"
     ]
    }
   ],
   "source": [
    "def string(num):\n",
    "    try:\n",
    "        print(len(name))\n",
    "    except Exception as e:\n",
    "            print(e)\n",
    "string(name)"
   ]
  },
  {
   "cell_type": "code",
   "execution_count": null,
   "id": "810bd21d",
   "metadata": {},
   "outputs": [],
   "source": []
  },
  {
   "cell_type": "raw",
   "id": "60818454",
   "metadata": {},
   "source": []
  },
  {
   "cell_type": "code",
   "execution_count": 26,
   "id": "1f74bfa5",
   "metadata": {},
   "outputs": [
    {
     "name": "stdout",
     "output_type": "stream",
     "text": [
      "2\n"
     ]
    }
   ],
   "source": [
    "name = \"python\"\n",
    "print(name.find(\"th\"))"
   ]
  },
  {
   "cell_type": "code",
   "execution_count": 27,
   "id": "2d5b42db",
   "metadata": {},
   "outputs": [
    {
     "name": "stdout",
     "output_type": "stream",
     "text": [
      "2\n"
     ]
    }
   ],
   "source": [
    "def find(num):\n",
    "    try:\n",
    "        print(name.find(\"th\"))\n",
    "    except Exception as e:\n",
    "            print(e)\n",
    "find(name)"
   ]
  },
  {
   "cell_type": "code",
   "execution_count": null,
   "id": "69aa5b9d",
   "metadata": {},
   "outputs": [],
   "source": []
  },
  {
   "cell_type": "raw",
   "id": "d2b5a95d",
   "metadata": {},
   "source": [
    "# strip() : Returns the string with both leading and trailing characters"
   ]
  },
  {
   "cell_type": "code",
   "execution_count": 7,
   "id": "25dcdae5",
   "metadata": {},
   "outputs": [
    {
     "name": "stdout",
     "output_type": "stream",
     "text": [
      "shraddha\n"
     ]
    }
   ],
   "source": [
    "name = \" shraddha \" \n",
    "print(name.strip())"
   ]
  },
  {
   "cell_type": "code",
   "execution_count": 8,
   "id": "c6140946",
   "metadata": {},
   "outputs": [
    {
     "name": "stdout",
     "output_type": "stream",
     "text": [
      "shraddha\n"
     ]
    }
   ],
   "source": [
    "def string(num):\n",
    "    try:\n",
    "        print(name.strip())        \n",
    "    except Exception as e:\n",
    "            print(e)\n",
    "string(name)"
   ]
  },
  {
   "cell_type": "code",
   "execution_count": null,
   "id": "15145a32",
   "metadata": {},
   "outputs": [],
   "source": []
  },
  {
   "cell_type": "raw",
   "id": "71f618ba",
   "metadata": {},
   "source": [
    "# rstrip() : Removes trailing characters"
   ]
  },
  {
   "cell_type": "code",
   "execution_count": 9,
   "id": "7b6b5315",
   "metadata": {},
   "outputs": [
    {
     "name": "stdout",
     "output_type": "stream",
     "text": [
      "java coding\n"
     ]
    }
   ],
   "source": [
    "name = \"java coding   \" \n",
    "print(name.rstrip())"
   ]
  },
  {
   "cell_type": "code",
   "execution_count": 10,
   "id": "d8d69139",
   "metadata": {
    "scrolled": true
   },
   "outputs": [
    {
     "name": "stdout",
     "output_type": "stream",
     "text": [
      "java coding\n"
     ]
    }
   ],
   "source": [
    "def string(num):\n",
    "    try:\n",
    "        print(name.rstrip())        \n",
    "    except Exception as e:\n",
    "            print(e)\n",
    "string(name)"
   ]
  },
  {
   "cell_type": "code",
   "execution_count": null,
   "id": "a89342b2",
   "metadata": {},
   "outputs": [],
   "source": []
  },
  {
   "cell_type": "raw",
   "id": "85ae2c14",
   "metadata": {},
   "source": [
    "# lstrip() : Returns the string with leading characters removed"
   ]
  },
  {
   "cell_type": "code",
   "execution_count": 6,
   "id": "7d5c9e94",
   "metadata": {},
   "outputs": [
    {
     "name": "stdout",
     "output_type": "stream",
     "text": [
      "science and technology\n"
     ]
    }
   ],
   "source": [
    "l = \"   science and technology\"\n",
    "print(l.lstrip())"
   ]
  },
  {
   "cell_type": "code",
   "execution_count": 7,
   "id": "343e581f",
   "metadata": {},
   "outputs": [
    {
     "name": "stdout",
     "output_type": "stream",
     "text": [
      "science and technology\n"
     ]
    }
   ],
   "source": [
    "def string(num):\n",
    "    try:\n",
    "        print(l.lstrip())        \n",
    "    except Exception as e:\n",
    "            print(e)\n",
    "string(l)"
   ]
  },
  {
   "cell_type": "code",
   "execution_count": null,
   "id": "a06a6c62",
   "metadata": {},
   "outputs": [],
   "source": []
  },
  {
   "cell_type": "raw",
   "id": "489735a9",
   "metadata": {},
   "source": [
    "# count() : Returns the number of occurrences of a substring in the string."
   ]
  },
  {
   "cell_type": "code",
   "execution_count": 70,
   "id": "6a9f319c",
   "metadata": {},
   "outputs": [
    {
     "name": "stdout",
     "output_type": "stream",
     "text": [
      "3\n"
     ]
    }
   ],
   "source": [
    "name1 = (\"pythonpythonpython\")\n",
    "print(name1.count(\"th\"))"
   ]
  },
  {
   "cell_type": "code",
   "execution_count": 2,
   "id": "b73d22a6",
   "metadata": {},
   "outputs": [
    {
     "name": "stdout",
     "output_type": "stream",
     "text": [
      "8\n"
     ]
    }
   ],
   "source": [
    "def function(num,a):\n",
    "    try:\n",
    "        print(num.count(a))\n",
    "    except Exception as e:\n",
    "            print(e)\n",
    "function(\"aaaassssssssaaa\" , \"s\")"
   ]
  },
  {
   "cell_type": "code",
   "execution_count": 18,
   "id": "9af90007",
   "metadata": {},
   "outputs": [],
   "source": [
    "c = \"hello word\""
   ]
  },
  {
   "cell_type": "code",
   "execution_count": 21,
   "id": "b939fa34",
   "metadata": {},
   "outputs": [
    {
     "name": "stdout",
     "output_type": "stream",
     "text": [
      "2\n"
     ]
    }
   ],
   "source": [
    "print(c.count(\"o\"))"
   ]
  },
  {
   "cell_type": "code",
   "execution_count": 22,
   "id": "5aa86438",
   "metadata": {},
   "outputs": [
    {
     "name": "stdout",
     "output_type": "stream",
     "text": [
      "2\n"
     ]
    }
   ],
   "source": [
    "def function(numbers):\n",
    "    try:\n",
    "        print(c.count(\"o\"))\n",
    "    except Exception as e:\n",
    "            print(e)\n",
    "function(c)"
   ]
  },
  {
   "cell_type": "raw",
   "id": "175078ed",
   "metadata": {},
   "source": [
    "# upper() : Converts all lowercase characters in a string into uppercase"
   ]
  },
  {
   "cell_type": "code",
   "execution_count": 39,
   "id": "33f933fd",
   "metadata": {},
   "outputs": [],
   "source": [
    "variable =(\"this is file\")"
   ]
  },
  {
   "cell_type": "code",
   "execution_count": 40,
   "id": "65296b7b",
   "metadata": {},
   "outputs": [
    {
     "name": "stdout",
     "output_type": "stream",
     "text": [
      "THIS IS FILE\n"
     ]
    }
   ],
   "source": [
    "print(variable.upper())"
   ]
  },
  {
   "cell_type": "code",
   "execution_count": 41,
   "id": "1393063d",
   "metadata": {
    "scrolled": true
   },
   "outputs": [
    {
     "name": "stdout",
     "output_type": "stream",
     "text": [
      "THIS IS FILE\n"
     ]
    }
   ],
   "source": [
    "def function(num):\n",
    "    try:\n",
    "        print(variable.upper())\n",
    "    except Exception as e:\n",
    "            print(e)\n",
    "function(variable)"
   ]
  },
  {
   "cell_type": "code",
   "execution_count": null,
   "id": "bd14e7f7",
   "metadata": {},
   "outputs": [],
   "source": []
  },
  {
   "cell_type": "raw",
   "id": "9c2c15d6",
   "metadata": {},
   "source": [
    "# lower(): Converts all uppercase characters in a string into lowercase"
   ]
  },
  {
   "cell_type": "code",
   "execution_count": null,
   "id": "c46f15f3",
   "metadata": {},
   "outputs": [],
   "source": [
    "s = (\"DATA SCIENCE\")"
   ]
  },
  {
   "cell_type": "code",
   "execution_count": 79,
   "id": "676bca29",
   "metadata": {},
   "outputs": [
    {
     "name": "stdout",
     "output_type": "stream",
     "text": [
      "pythonpythonpython\n"
     ]
    }
   ],
   "source": [
    "print(name1.lower())"
   ]
  },
  {
   "cell_type": "code",
   "execution_count": 78,
   "id": "ffda3315",
   "metadata": {},
   "outputs": [
    {
     "name": "stdout",
     "output_type": "stream",
     "text": [
      "pythonpythonpython\n"
     ]
    }
   ],
   "source": [
    "def function(num):\n",
    "    try:\n",
    "        print(name1.lower())\n",
    "    except Exception as e:\n",
    "            print(e)\n",
    "function(name)"
   ]
  },
  {
   "cell_type": "code",
   "execution_count": null,
   "id": "3d644f07",
   "metadata": {},
   "outputs": [],
   "source": []
  },
  {
   "cell_type": "raw",
   "id": "0cb96330",
   "metadata": {},
   "source": [
    "# title(): Convert string to title case"
   ]
  },
  {
   "cell_type": "code",
   "execution_count": 8,
   "id": "d63a4d81",
   "metadata": {},
   "outputs": [
    {
     "name": "stdout",
     "output_type": "stream",
     "text": [
      "Samir\n"
     ]
    }
   ],
   "source": [
    "s = \"samir\"\n",
    "print(s.title())"
   ]
  },
  {
   "cell_type": "code",
   "execution_count": 9,
   "id": "3a02250e",
   "metadata": {},
   "outputs": [
    {
     "name": "stdout",
     "output_type": "stream",
     "text": [
      "Samir\n"
     ]
    }
   ],
   "source": [
    "def function(title):\n",
    "    try:\n",
    "        print(s.title()) \n",
    "    except Exception as e:\n",
    "            print(e)\n",
    "function(s)"
   ]
  },
  {
   "cell_type": "code",
   "execution_count": 23,
   "id": "f10f3930",
   "metadata": {},
   "outputs": [],
   "source": [
    "mystr = \"HELLO JAVA\""
   ]
  },
  {
   "cell_type": "code",
   "execution_count": 24,
   "id": "a190c571",
   "metadata": {},
   "outputs": [
    {
     "name": "stdout",
     "output_type": "stream",
     "text": [
      "Hello Java\n"
     ]
    }
   ],
   "source": [
    "print(mystr.title())"
   ]
  },
  {
   "cell_type": "code",
   "execution_count": 25,
   "id": "e72267a5",
   "metadata": {},
   "outputs": [
    {
     "name": "stdout",
     "output_type": "stream",
     "text": [
      "Hello Java\n"
     ]
    }
   ],
   "source": [
    "def function(title):\n",
    "    try:\n",
    "        print(mystr.title()) \n",
    "    except Exception as e:\n",
    "            print(e)\n",
    "function(mystr)"
   ]
  },
  {
   "cell_type": "code",
   "execution_count": null,
   "id": "f371a8ad",
   "metadata": {},
   "outputs": [],
   "source": []
  },
  {
   "cell_type": "raw",
   "id": "d356e842",
   "metadata": {},
   "source": [
    "#  swapcase() : Converts all uppercase characters to lowercase and vice versa"
   ]
  },
  {
   "cell_type": "code",
   "execution_count": 31,
   "id": "0b9084d8",
   "metadata": {},
   "outputs": [
    {
     "name": "stdout",
     "output_type": "stream",
     "text": [
      "STRING METHOD\n"
     ]
    }
   ],
   "source": [
    "method = \"string method\"\n",
    "print(method.swapcase())"
   ]
  },
  {
   "cell_type": "code",
   "execution_count": 32,
   "id": "9e82ef09",
   "metadata": {},
   "outputs": [
    {
     "name": "stdout",
     "output_type": "stream",
     "text": [
      "STRING METHOD\n"
     ]
    }
   ],
   "source": [
    "def swapcase(case):\n",
    "    try:\n",
    "        print(method.swapcase())\n",
    "    except Exception as e:\n",
    "            print(e)\n",
    "swapcase(method)"
   ]
  },
  {
   "cell_type": "code",
   "execution_count": null,
   "id": "0c5e3ddb",
   "metadata": {},
   "outputs": [],
   "source": []
  },
  {
   "cell_type": "raw",
   "id": "3c4f1e2d",
   "metadata": {},
   "source": [
    "# capitalize () : Converts the first character to uppercase"
   ]
  },
  {
   "cell_type": "code",
   "execution_count": 15,
   "id": "1021e72f",
   "metadata": {},
   "outputs": [],
   "source": [
    "g = \"logged in\""
   ]
  },
  {
   "cell_type": "code",
   "execution_count": 16,
   "id": "4b6568c9",
   "metadata": {},
   "outputs": [
    {
     "name": "stdout",
     "output_type": "stream",
     "text": [
      "Logged in\n"
     ]
    }
   ],
   "source": [
    "print(g.capitalize())"
   ]
  },
  {
   "cell_type": "code",
   "execution_count": 29,
   "id": "a86ee858",
   "metadata": {},
   "outputs": [
    {
     "name": "stdout",
     "output_type": "stream",
     "text": [
      "Logged in\n"
     ]
    }
   ],
   "source": [
    "def capitalize(method):\n",
    "    try:\n",
    "        print(g.capitalize())\n",
    "    except Exception as e:\n",
    "        print(e)\n",
    "capitalize(mystring)"
   ]
  },
  {
   "cell_type": "code",
   "execution_count": null,
   "id": "aac506d1",
   "metadata": {},
   "outputs": [],
   "source": []
  },
  {
   "cell_type": "raw",
   "id": "49bd557d",
   "metadata": {},
   "source": [
    "# replace() : Replaces all occurrences of a substring with another substring"
   ]
  },
  {
   "cell_type": "code",
   "execution_count": 26,
   "id": "9b5b92ec",
   "metadata": {},
   "outputs": [],
   "source": [
    "data = \"Hello Python.Hello Java.Hello C++\""
   ]
  },
  {
   "cell_type": "code",
   "execution_count": 27,
   "id": "4b53f750",
   "metadata": {},
   "outputs": [
    {
     "name": "stdout",
     "output_type": "stream",
     "text": [
      "Bye Python.Bye Java.Bye C++\n"
     ]
    }
   ],
   "source": [
    "print(data.replace(\"Hello\",\"Bye\"))"
   ]
  },
  {
   "cell_type": "code",
   "execution_count": 28,
   "id": "dffbc2f5",
   "metadata": {},
   "outputs": [
    {
     "name": "stdout",
     "output_type": "stream",
     "text": [
      "Bye Python.Bye Java.Bye C++\n"
     ]
    }
   ],
   "source": [
    "def Replace(method):\n",
    "    try:\n",
    "        print(data.replace(\"Hello\",\"Bye\"))\n",
    "    except Exception as e:\n",
    "        print(e)\n",
    "Replace(data)"
   ]
  },
  {
   "cell_type": "code",
   "execution_count": null,
   "id": "0023280a",
   "metadata": {},
   "outputs": [],
   "source": []
  },
  {
   "cell_type": "raw",
   "id": "ebc7d91c",
   "metadata": {},
   "source": [
    "# center () : Returns a centered string"
   ]
  },
  {
   "cell_type": "code",
   "execution_count": 35,
   "id": "72b80dca",
   "metadata": {},
   "outputs": [],
   "source": [
    "file = \"Hello\""
   ]
  },
  {
   "cell_type": "code",
   "execution_count": 37,
   "id": "67aa07ea",
   "metadata": {},
   "outputs": [],
   "source": [
    "x = file.center(10,\"-\")"
   ]
  },
  {
   "cell_type": "code",
   "execution_count": 38,
   "id": "036a09c0",
   "metadata": {},
   "outputs": [
    {
     "name": "stdout",
     "output_type": "stream",
     "text": [
      "--Hello---\n"
     ]
    }
   ],
   "source": [
    "print(x)"
   ]
  },
  {
   "cell_type": "code",
   "execution_count": 39,
   "id": "a4a4b399",
   "metadata": {},
   "outputs": [
    {
     "name": "stdout",
     "output_type": "stream",
     "text": [
      "--Hello---\n"
     ]
    }
   ],
   "source": [
    "def center(method):\n",
    "    try:\n",
    "        print(x)\n",
    "    except Exception as e:\n",
    "        print(e)\n",
    "center(data)"
   ]
  },
  {
   "cell_type": "code",
   "execution_count": null,
   "id": "f596abcf",
   "metadata": {},
   "outputs": [],
   "source": []
  },
  {
   "cell_type": "raw",
   "id": "6c928561",
   "metadata": {},
   "source": [
    "# split : split the string at the specified at the separator,and return a list."
   ]
  },
  {
   "cell_type": "code",
   "execution_count": 22,
   "id": "5ea3ebea",
   "metadata": {},
   "outputs": [
    {
     "name": "stdout",
     "output_type": "stream",
     "text": [
      "['learning', 'python']\n"
     ]
    }
   ],
   "source": [
    "classes = \"learning python\"\n",
    "print(classes.split())"
   ]
  },
  {
   "cell_type": "code",
   "execution_count": 24,
   "id": "55d7e468",
   "metadata": {},
   "outputs": [
    {
     "name": "stdout",
     "output_type": "stream",
     "text": [
      "['learning', 'python']\n"
     ]
    }
   ],
   "source": [
    "def split(method):\n",
    "    try:\n",
    "        print(classes.split()) \n",
    "    except Exception as e:\n",
    "        print(e)\n",
    "split(classes)"
   ]
  },
  {
   "cell_type": "code",
   "execution_count": null,
   "id": "31ed999f",
   "metadata": {},
   "outputs": [],
   "source": []
  },
  {
   "cell_type": "raw",
   "id": "657d84d8",
   "metadata": {},
   "source": [
    "# isspace() : Returns “True” if all characters in the string are whitespace characters"
   ]
  },
  {
   "cell_type": "code",
   "execution_count": 28,
   "id": "cf567a04",
   "metadata": {},
   "outputs": [],
   "source": [
    "txt = \" \""
   ]
  },
  {
   "cell_type": "code",
   "execution_count": 30,
   "id": "bf7eeb68",
   "metadata": {},
   "outputs": [],
   "source": [
    "y = txt.isspace()"
   ]
  },
  {
   "cell_type": "code",
   "execution_count": 31,
   "id": "abc9f81a",
   "metadata": {},
   "outputs": [
    {
     "name": "stdout",
     "output_type": "stream",
     "text": [
      "True\n"
     ]
    }
   ],
   "source": [
    "print(y)"
   ]
  },
  {
   "cell_type": "code",
   "execution_count": 32,
   "id": "05fe18a7",
   "metadata": {},
   "outputs": [
    {
     "name": "stdout",
     "output_type": "stream",
     "text": [
      "True\n"
     ]
    }
   ],
   "source": [
    "def isspace(method):\n",
    "    try:\n",
    "        print(y)\n",
    "    except Exception as e:\n",
    "        print(e)\n",
    "isspace(txt)"
   ]
  },
  {
   "cell_type": "code",
   "execution_count": null,
   "id": "96be2005",
   "metadata": {},
   "outputs": [],
   "source": []
  }
 ],
 "metadata": {
  "kernelspec": {
   "display_name": "Python 3.11.0 64-bit",
   "language": "python",
   "name": "python3"
  },
  "language_info": {
   "codemirror_mode": {
    "name": "ipython",
    "version": 3
   },
   "file_extension": ".py",
   "mimetype": "text/x-python",
   "name": "python",
   "nbconvert_exporter": "python",
   "pygments_lexer": "ipython3",
   "version": "3.11.0"
  },
  "vscode": {
   "interpreter": {
    "hash": "edbdea8d1ce63b4da6b42a663b31f068b3e5f2a8e9628512d9624ef21f90c848"
   }
  }
 },
 "nbformat": 4,
 "nbformat_minor": 5
}

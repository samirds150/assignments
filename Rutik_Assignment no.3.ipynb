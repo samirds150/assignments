{
 "cells": [
  {
   "cell_type": "raw",
   "id": "d7437a94",
   "metadata": {},
   "source": [
    "1. Why are functions advantageous to have in your programs?\n",
    "Ans=\n",
    "   1.function reduces duplication of code\n",
    "   2.it avoids rewriting of code\n",
    "   3.we can call it anywhere in program\n",
    "   "
   ]
  },
  {
   "cell_type": "raw",
   "id": "d42a8e7a",
   "metadata": {},
   "source": [
    "2. When does the code in a function run: when it's specified or when it's called?\n",
    "Ans=\n",
    "    Code in a function run when it is called."
   ]
  },
  {
   "cell_type": "raw",
   "id": "6d01e75e",
   "metadata": {},
   "source": [
    "3. What statement creates a function?\n",
    "Ans=\n",
    "    def function name() creates a function.\n",
    "    "
   ]
  },
  {
   "cell_type": "raw",
   "id": "7fcf6c21",
   "metadata": {},
   "source": [
    "4. What is the difference between a function and a function call?\n",
    "Ans=\n",
    "   1.function is a block of code which is used to perform a specific task and returns a result\n",
    "   2.function call is used this function to perform a task\n",
    "    "
   ]
  },
  {
   "cell_type": "raw",
   "id": "6a652e4f",
   "metadata": {},
   "source": [
    "5. How many global scopes are there in a Python program? How many local scopes?\n",
    "Ans=\n",
    "     in program their is one global scope and local scope is created when function is call\n",
    "    "
   ]
  },
  {
   "cell_type": "raw",
   "id": "82c89ca2",
   "metadata": {},
   "source": [
    "6. What happens to variables in a local scope when the function call returns?\n",
    "Ans=\n",
    "     when a fuction returns the local scope is destroyed and all variables are forgotten.\n",
    "   "
   ]
  },
  {
   "cell_type": "raw",
   "id": "da71d6b3",
   "metadata": {},
   "source": [
    "7. What is the concept of a return value? Is it possible to have a return value in an expression?\n",
    "Ans=\n",
    "    Return value means a specific value is return from function.\n",
    "    return value can be a part of expression\n"
   ]
  },
  {
   "cell_type": "raw",
   "id": "91a682f8",
   "metadata": {},
   "source": [
    "8. If a function does not have a return statement, what is the return value of a call to that function?\n",
    "Ans=\n",
    "    If a function does not have a return statement it return none.\n",
    "   "
   ]
  },
  {
   "cell_type": "raw",
   "id": "74eafada",
   "metadata": {},
   "source": [
    "9. How do you make a function variable refer to the global variable?\n",
    "Ans=\n",
    "   to create a global variable inside a function we can use the global keyword."
   ]
  },
  {
   "cell_type": "raw",
   "id": "91c625ef",
   "metadata": {},
   "source": [
    "10. What is the data type of None?\n",
    "Ans=\n",
    "   The datatype of none is None Type.\n"
   ]
  },
  {
   "cell_type": "code",
   "execution_count": 2,
   "id": "dfd38489",
   "metadata": {},
   "outputs": [
    {
     "ename": "ModuleNotFoundError",
     "evalue": "No module named 'areallyourpetsnamederic'",
     "output_type": "error",
     "traceback": [
      "\u001b[1;31m---------------------------------------------------------------------------\u001b[0m",
      "\u001b[1;31mModuleNotFoundError\u001b[0m                       Traceback (most recent call last)",
      "Input \u001b[1;32mIn [2]\u001b[0m, in \u001b[0;36m<cell line: 4>\u001b[1;34m()\u001b[0m\n\u001b[0;32m      1\u001b[0m \u001b[38;5;66;03m#11. What does the sentence import areallyourpetsnamederic do?\u001b[39;00m\n\u001b[0;32m      2\u001b[0m \u001b[38;5;66;03m#Ans=\u001b[39;00m\n\u001b[0;32m      3\u001b[0m  \u001b[38;5;66;03m#  it import a module areallyourpetsnamederic.\u001b[39;00m\n\u001b[1;32m----> 4\u001b[0m \u001b[38;5;28;01mimport\u001b[39;00m \u001b[38;5;21;01mareallyourpetsnamederic\u001b[39;00m\n",
      "\u001b[1;31mModuleNotFoundError\u001b[0m: No module named 'areallyourpetsnamederic'"
     ]
    }
   ],
   "source": [
    "#11. What does the sentence import areallyourpetsnamederic do?\n",
    "#Ans=\n",
    " #  it import a module areallyourpetsnamederic.\n",
    "import areallyourpetsnamederic"
   ]
  },
  {
   "cell_type": "raw",
   "id": "bb4236be",
   "metadata": {},
   "source": [
    "12. If you had a bacon() feature in a spam module, what would you call it after importing spam?\n",
    "Ans=\n",
    "  spam.bacon()\n",
    "  "
   ]
  }
 ],
 "metadata": {
  "kernelspec": {
   "display_name": "Python 3 (ipykernel)",
   "language": "python",
   "name": "python3"
  },
  "language_info": {
   "codemirror_mode": {
    "name": "ipython",
    "version": 3
   },
   "file_extension": ".py",
   "mimetype": "text/x-python",
   "name": "python",
   "nbconvert_exporter": "python",
   "pygments_lexer": "ipython3",
   "version": "3.9.12"
  }
 },
 "nbformat": 4,
 "nbformat_minor": 5
}

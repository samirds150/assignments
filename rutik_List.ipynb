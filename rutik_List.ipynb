{
 "cells": [
  {
   "cell_type": "markdown",
   "id": "bbd26e26",
   "metadata": {},
   "source": [
    "List:\n",
    "   \n",
    "    "
   ]
  },
  {
   "cell_type": "code",
   "execution_count": 7,
   "id": "bcd2caf3",
   "metadata": {},
   "outputs": [],
   "source": [
    "L=[10,20,30,40,30,50]\n"
   ]
  },
  {
   "cell_type": "code",
   "execution_count": 8,
   "id": "f8473902",
   "metadata": {},
   "outputs": [
    {
     "data": {
      "text/plain": [
       "[10, 20, 30, 40, 30, 50]"
      ]
     },
     "execution_count": 8,
     "metadata": {},
     "output_type": "execute_result"
    }
   ],
   "source": [
    "L"
   ]
  },
  {
   "cell_type": "markdown",
   "id": "689a0ccf",
   "metadata": {},
   "source": [
    "type() function is used to get type of an object."
   ]
  },
  {
   "cell_type": "code",
   "execution_count": 9,
   "id": "f809b69e",
   "metadata": {},
   "outputs": [
    {
     "name": "stdout",
     "output_type": "stream",
     "text": [
      "<class 'list'>\n"
     ]
    }
   ],
   "source": [
    "try:\n",
    "    def type_of_variable(a):\n",
    "        \"this function is used to check datatype of variable \"\n",
    "        try:\n",
    "            print(type(a))\n",
    "        except Exception as e:\n",
    "            print(e)\n",
    "    type_of_variable(L)\n",
    "except Exception as d:\n",
    "    print(d)"
   ]
  },
  {
   "cell_type": "markdown",
   "id": "f2e0816c",
   "metadata": {},
   "source": [
    "min() function is used to get minimum value."
   ]
  },
  {
   "cell_type": "code",
   "execution_count": 10,
   "id": "a7676ac5",
   "metadata": {},
   "outputs": [
    {
     "name": "stdout",
     "output_type": "stream",
     "text": [
      "10\n"
     ]
    }
   ],
   "source": [
    "try:\n",
    "    def min_value(a):\n",
    "        \"this function is used to get minimum value \"\n",
    "        try:\n",
    "            print(min(a))\n",
    "        except Exception as e:\n",
    "            print(e)\n",
    "    min_value(L)\n",
    "except Exception as d:\n",
    "    print(d)"
   ]
  },
  {
   "cell_type": "markdown",
   "id": "cbb54e17",
   "metadata": {},
   "source": [
    "max() function is used to get maximum value."
   ]
  },
  {
   "cell_type": "code",
   "execution_count": 11,
   "id": "5925c790",
   "metadata": {},
   "outputs": [
    {
     "name": "stdout",
     "output_type": "stream",
     "text": [
      "50\n"
     ]
    }
   ],
   "source": [
    "try:\n",
    "    def max_value(a):\n",
    "        \"this function is used to get maximum value \"\n",
    "        try:\n",
    "            print(max(a))\n",
    "        except Exception as e:\n",
    "            print(e)\n",
    "    max_value(L)\n",
    "except Exception as d:\n",
    "    print(d)"
   ]
  },
  {
   "cell_type": "markdown",
   "id": "1fb523a2",
   "metadata": {},
   "source": [
    "insert() function is used to insert value at given index."
   ]
  },
  {
   "cell_type": "code",
   "execution_count": 12,
   "id": "c2f69914",
   "metadata": {},
   "outputs": [
    {
     "name": "stdout",
     "output_type": "stream",
     "text": [
      "[10, 20, 30, 60, 40, 30, 50]\n"
     ]
    }
   ],
   "source": [
    "try:\n",
    "    def insert_value(a):\n",
    "        \"this function is used to insert value at given index\"\n",
    "        try:\n",
    "            L.insert(3,60)\n",
    "            print((a))\n",
    "        except Exception as e:\n",
    "            print(e)\n",
    "    insert_value(L)\n",
    "except Exception as d:\n",
    "    print(d)"
   ]
  },
  {
   "cell_type": "markdown",
   "id": "3a8bfbe4",
   "metadata": {},
   "source": [
    "index() function is used to find index of an element."
   ]
  },
  {
   "cell_type": "code",
   "execution_count": 13,
   "id": "de7e505e",
   "metadata": {},
   "outputs": [
    {
     "name": "stdout",
     "output_type": "stream",
     "text": [
      "4\n"
     ]
    }
   ],
   "source": [
    "try:\n",
    "    def index_value():\n",
    "        \"this function is used to find index of an element\"\n",
    "        try:\n",
    "            print(L.index(40))\n",
    "        except Exception as e:\n",
    "            print(e)\n",
    "    index_value()\n",
    "except Exception as d:\n",
    "    print(d)"
   ]
  },
  {
   "cell_type": "markdown",
   "id": "8409fc43",
   "metadata": {},
   "source": [
    "append() function is used to add element to the end of list."
   ]
  },
  {
   "cell_type": "code",
   "execution_count": 14,
   "id": "0ebbb979",
   "metadata": {},
   "outputs": [
    {
     "name": "stdout",
     "output_type": "stream",
     "text": [
      "[10, 20, 30, 60, 40, 30, 50, 200]\n"
     ]
    }
   ],
   "source": [
    "try:\n",
    "    def append_value(a):\n",
    "        \"this function is used to add element to the end of list \"\n",
    "        try:\n",
    "            L.append(200)\n",
    "            print((a))\n",
    "        except Exception as e:\n",
    "            print(e)\n",
    "    append_value(L)\n",
    "except Exception as d:\n",
    "    print(d)"
   ]
  },
  {
   "cell_type": "markdown",
   "id": "eea686a6",
   "metadata": {},
   "source": [
    "extend() function is used to add one list to the end of current list."
   ]
  },
  {
   "cell_type": "code",
   "execution_count": 15,
   "id": "8eb3bd9a",
   "metadata": {},
   "outputs": [
    {
     "data": {
      "text/plain": [
       "[15, 16, 17, 18, 19, 20]"
      ]
     },
     "execution_count": 15,
     "metadata": {},
     "output_type": "execute_result"
    }
   ],
   "source": [
    "l=[15,16,17,18,19,20]\n",
    "l"
   ]
  },
  {
   "cell_type": "code",
   "execution_count": 16,
   "id": "29b38d95",
   "metadata": {},
   "outputs": [
    {
     "data": {
      "text/plain": [
       "[21, 22, 23, 24, 25, 26]"
      ]
     },
     "execution_count": 16,
     "metadata": {},
     "output_type": "execute_result"
    }
   ],
   "source": [
    "l1=[21,22,23,24,25,26]\n",
    "l1"
   ]
  },
  {
   "cell_type": "code",
   "execution_count": 17,
   "id": "2cd5c58c",
   "metadata": {},
   "outputs": [
    {
     "name": "stdout",
     "output_type": "stream",
     "text": [
      "[15, 16, 17, 18, 19, 20, 21, 22, 23, 24, 25, 26]\n"
     ]
    }
   ],
   "source": [
    "try:\n",
    "    def extend_list(a):\n",
    "        \"this function is used to add one list to the end of current list \"\n",
    "        try:\n",
    "            l.extend(l1)\n",
    "            print((a))\n",
    "        except Exception as e:\n",
    "            print(e)\n",
    "    extend_list(l)\n",
    "except Exception as d:\n",
    "    print(d)"
   ]
  },
  {
   "cell_type": "markdown",
   "id": "c865aaaf",
   "metadata": {},
   "source": [
    "remove() is used to remove particular element in list."
   ]
  },
  {
   "cell_type": "code",
   "execution_count": 24,
   "id": "f82e59ea",
   "metadata": {},
   "outputs": [
    {
     "name": "stdout",
     "output_type": "stream",
     "text": [
      "[22, 23, 24, 25, 26]\n"
     ]
    }
   ],
   "source": [
    "try:\n",
    "    def remove_element(a):\n",
    "        \"this function is used to remove particular element in list \"\n",
    "        try:\n",
    "            l1.remove(21)\n",
    "            print(l1)\n",
    "        except Exception as e:\n",
    "            print(e)\n",
    "    remove_element(l1)\n",
    "except Exception as d:\n",
    "    print(d)"
   ]
  },
  {
   "cell_type": "code",
   "execution_count": null,
   "id": "24977f2a",
   "metadata": {},
   "outputs": [],
   "source": [
    "pop() is used"
   ]
  },
  {
   "cell_type": "code",
   "execution_count": null,
   "id": "7ba991ff",
   "metadata": {},
   "outputs": [],
   "source": []
  }
 ],
 "metadata": {
  "kernelspec": {
   "display_name": "Python 3 (ipykernel)",
   "language": "python",
   "name": "python3"
  },
  "language_info": {
   "codemirror_mode": {
    "name": "ipython",
    "version": 3
   },
   "file_extension": ".py",
   "mimetype": "text/x-python",
   "name": "python",
   "nbconvert_exporter": "python",
   "pygments_lexer": "ipython3",
   "version": "3.9.12"
  }
 },
 "nbformat": 4,
 "nbformat_minor": 5
}

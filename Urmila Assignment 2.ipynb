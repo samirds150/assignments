{
 "cells": [
  {
   "cell_type": "markdown",
   "id": "656c9cbb",
   "metadata": {},
   "source": [
    "# In the below element which of them are values or an expression?\n",
    "eg:- value can be integer or string and expressions will be mathematical operators.\n",
    "*\n",
    "'hello'\n",
    "-87.8\n",
    "-\n",
    "/\n",
    "  +\n",
    "6  "
   ]
  },
  {
   "cell_type": "code",
   "execution_count": null,
   "id": "94ca8460",
   "metadata": {},
   "outputs": [],
   "source": [
    "ANS-\n",
    "Operators:+,-,*,/\n",
    "values:'hello', -87.8, 6.    "
   ]
  },
  {
   "cell_type": "markdown",
   "id": "3e952aad",
   "metadata": {},
   "source": [
    "# what is the difference between string and variable?\n"
   ]
  },
  {
   "cell_type": "code",
   "execution_count": null,
   "id": "8133e5d1",
   "metadata": {},
   "outputs": [],
   "source": [
    "ANS\n",
    "variables are symbols that you can use to store data in a program.\n",
    "you can think of them as an empty box that you fill with some data or value.\n",
    "string are data, so we can use them to fill up a variable.\n",
    "delcaring string as variable can make it easier for us to work with\n",
    "strings throughout our python programs.\n",
    "\n"
   ]
  },
  {
   "cell_type": "markdown",
   "id": "9ba88c2c",
   "metadata": {},
   "source": [
    "#  Describe three different data type."
   ]
  },
  {
   "cell_type": "code",
   "execution_count": null,
   "id": "f8877e8e",
   "metadata": {},
   "outputs": [],
   "source": [
    "ANS\n",
    "Data  Type                 Example\n",
    " 1.string             hello world, Alice, Bob123..\n",
    "                         \n",
    "2.integer                 7,12,999         \n",
    "    \n",
    "3.float                 3.15, 9.0,00.13."
   ]
  },
  {
   "cell_type": "markdown",
   "id": "08ad950e",
   "metadata": {},
   "source": [
    "# What is an expression made up of? What do all expressions do?"
   ]
  },
  {
   "cell_type": "code",
   "execution_count": null,
   "id": "7f4c6ac9",
   "metadata": {},
   "outputs": [],
   "source": [
    "ANS\n",
    "An expression is a combination of operators and values.\n",
    "all expressions evalutes(that is, reduce)to a single value."
   ]
  },
  {
   "cell_type": "markdown",
   "id": "ef538968",
   "metadata": {},
   "source": [
    "# This assignment statements, like spam = 10. what is the difference between an expression and a statement?"
   ]
  },
  {
   "cell_type": "code",
   "execution_count": null,
   "id": "c9a215f1",
   "metadata": {},
   "outputs": [],
   "source": [
    "ANS\n",
    "an expression eveluates to a single value. A statement dose not."
   ]
  },
  {
   "cell_type": "markdown",
   "id": "44188a5a",
   "metadata": {},
   "source": [
    "# After running the following code, What dose the variable bacon contains?\n",
    "bacon = 22\n",
    "bacon +1"
   ]
  },
  {
   "cell_type": "code",
   "execution_count": null,
   "id": "c7c8f05a",
   "metadata": {},
   "outputs": [],
   "source": [
    "ANS\n",
    "The bacon variable is set to 22. \n",
    "The bacon+1 expression dose not reassign the value in bacon (that would need an assignment \n",
    "                                                            statement: bacon = bacon +1)"
   ]
  },
  {
   "cell_type": "markdown",
   "id": "ff77ba8d",
   "metadata": {},
   "source": [
    "# What should the value of the following two terms be?\n",
    "'spam'+'spamspam'\n",
    "'spam'*3"
   ]
  },
  {
   "cell_type": "code",
   "execution_count": null,
   "id": "59950503",
   "metadata": {},
   "outputs": [],
   "source": [
    "ANS\n",
    "Both expressions evalutes to the string 'spamsspamspam'\n"
   ]
  },
  {
   "cell_type": "markdown",
   "id": "5324102f",
   "metadata": {},
   "source": [
    "# Why is egg a valid  variable name while 100 is invalid ?"
   ]
  },
  {
   "cell_type": "code",
   "execution_count": null,
   "id": "93c2b51b",
   "metadata": {},
   "outputs": [],
   "source": [
    "ANS\n",
    "Variable names cannot begin with a number."
   ]
  },
  {
   "cell_type": "markdown",
   "id": "b5ff9cd9",
   "metadata": {},
   "source": [
    "# What three functions can be used to get the integer,floating-point number, or string version of a value?"
   ]
  },
  {
   "cell_type": "code",
   "execution_count": null,
   "id": "12bacbc1",
   "metadata": {},
   "outputs": [],
   "source": [
    "ANS\n",
    "The int(),float(),and str() functions will evalute to the integer,\n",
    "floating-point number,and string versions of the value passed to them."
   ]
  },
  {
   "cell_type": "markdown",
   "id": "7ae3cb47",
   "metadata": {},
   "source": [
    "# Why dose this expression cause an error ? How can you fix it? \n",
    "'I have eaten'+99+'burritos'."
   ]
  },
  {
   "cell_type": "code",
   "execution_count": null,
   "id": "15db1f01",
   "metadata": {},
   "outputs": [],
   "source": [
    "ANS\n",
    "The expression causes an error because 99 is an integer, \n",
    "and only stings can be concatenated to other strings with the + operator.\n",
    "The correct way is I have eaten'+ str(99)+'burritos'. "
   ]
  }
 ],
 "metadata": {
  "kernelspec": {
   "display_name": "Python 3 (ipykernel)",
   "language": "python",
   "name": "python3"
  },
  "language_info": {
   "codemirror_mode": {
    "name": "ipython",
    "version": 3
   },
   "file_extension": ".py",
   "mimetype": "text/x-python",
   "name": "python",
   "nbconvert_exporter": "python",
   "pygments_lexer": "ipython3",
   "version": "3.9.12"
  }
 },
 "nbformat": 4,
 "nbformat_minor": 5
}
